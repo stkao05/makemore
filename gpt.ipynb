{
 "cells": [
  {
   "cell_type": "code",
   "execution_count": 148,
   "id": "ed7f10b8-a29e-41a0-8e63-3197c2da5ac6",
   "metadata": {},
   "outputs": [],
   "source": [
    "import torch\n",
    "import torch.nn as nn\n",
    "import torch.nn.functional as F\n",
    "import math"
   ]
  },
  {
   "cell_type": "code",
   "execution_count": 149,
   "id": "4c129864-d532-4354-b8d1-7932303e93ff",
   "metadata": {},
   "outputs": [
    {
     "data": {
      "text/plain": [
       "device(type='cpu')"
      ]
     },
     "execution_count": 149,
     "metadata": {},
     "output_type": "execute_result"
    }
   ],
   "source": [
    "device = torch.device(\"cpu\")\n",
    "\n",
    "# if torch.backends.mps.is_available() and torch.backends.mps.is_built():\n",
    "#     device = torch.device(\"mps\")\n",
    "\n",
    "device"
   ]
  },
  {
   "cell_type": "code",
   "execution_count": 150,
   "id": "2989a65c-b1f9-4435-9c04-ca6becac1df8",
   "metadata": {},
   "outputs": [
    {
     "data": {
      "text/plain": [
       "5447119"
      ]
     },
     "execution_count": 150,
     "metadata": {},
     "output_type": "execute_result"
    }
   ],
   "source": [
    "txt = open('shakespeare.txt', 'r').read()\n",
    "len(txt)"
   ]
  },
  {
   "cell_type": "code",
   "execution_count": 151,
   "id": "0a7c69b6-e82a-4552-a375-23148322cd4f",
   "metadata": {},
   "outputs": [
    {
     "data": {
      "text/plain": [
       "\"                     1\\n  From fairest creatures we desire increase,\\n  That thereby beauty's rose might never die,\\n  But as the riper should by time decease,\\n  His tender heir might bear his memory:\\n  But thou contracted to thine own bright eyes,\\n  Feed'st thy light's flame with self-substantial fuel,\\n  Making a famine where abundance lies,\\n  Thy self thy foe, to thy sweet self too cruel:\\n  Thou that art now the world's fresh ornament,\\n  And only herald to the gaudy spring,\\n  Within thine own bud\""
      ]
     },
     "execution_count": 151,
     "metadata": {},
     "output_type": "execute_result"
    }
   ],
   "source": [
    "txt[0:500]"
   ]
  },
  {
   "cell_type": "code",
   "execution_count": 152,
   "id": "24b5205e-3f77-4398-95f5-ade916e3aa04",
   "metadata": {},
   "outputs": [
    {
     "name": "stdout",
     "output_type": "stream",
     "text": [
      "\n",
      " !\"&'(),-.0123456789:;<>?ABCDEFGHIJKLMNOPQRSTUVWXYZ[]_`abcdefghijklmnopqrstuvwxyz|}\n",
      "84\n"
     ]
    }
   ],
   "source": [
    "chars = list(set(txt))\n",
    "chars.sort()\n",
    "\n",
    "ctoi = {c:i for i, c in enumerate(chars)}\n",
    "itoc = {i:c for i, c in enumerate(chars)}\n",
    "vocab_size = len(chars)\n",
    "\n",
    "print(\"\".join(chars))\n",
    "print(vocab_size)"
   ]
  },
  {
   "cell_type": "code",
   "execution_count": 153,
   "id": "67005dad-d7b6-49d3-865f-81786ecf25b9",
   "metadata": {},
   "outputs": [
    {
     "data": {
      "text/plain": [
       "(4902407, 544711)"
      ]
     },
     "execution_count": 153,
     "metadata": {},
     "output_type": "execute_result"
    }
   ],
   "source": [
    "i =  math.floor(0.9 * len(txt))\n",
    "train_txt = txt[0:i]\n",
    "valid_txt = txt[i+1:]\n",
    "\n",
    "len(train_txt), len(valid_txt)"
   ]
  },
  {
   "cell_type": "code",
   "execution_count": 154,
   "id": "3c64f857-1ffb-4db0-9020-23912e76b930",
   "metadata": {},
   "outputs": [],
   "source": [
    "train_tkns = [ctoi[c] for c in train_txt]\n",
    "valid_tkns = [ctoi[c] for c in valid_txt]"
   ]
  },
  {
   "cell_type": "code",
   "execution_count": 155,
   "id": "fd1b8340-19fb-4300-9387-334a48a44e5d",
   "metadata": {},
   "outputs": [
    {
     "data": {
      "text/plain": [
       "torch.Size([32, 8])"
      ]
     },
     "execution_count": 155,
     "metadata": {},
     "output_type": "execute_result"
    }
   ],
   "source": [
    "block_size = 8\n",
    "batch_size = 32\n",
    "\n",
    "def txt_to_token(t):\n",
    "    return [ctoi[c] for c in t]\n",
    "    \n",
    "# (B, L)\n",
    "def random_batch():\n",
    "    xi = torch.randint(0, len(train_tkns)-block_size, (batch_size,))\n",
    "    x = torch.tensor([train_tkns[i:i+block_size] for i in xi], device=device)\n",
    "    y = torch.tensor([train_tkns[i+1:i+block_size+1] for i in xi], device=device)\n",
    "    \n",
    "    return x, y\n",
    "\n",
    "x, y = random_batch()\n",
    "x.shape"
   ]
  },
  {
   "cell_type": "code",
   "execution_count": 156,
   "id": "1363b37a-ad7e-4d06-8209-2c6d300d939d",
   "metadata": {},
   "outputs": [
    {
     "data": {
      "text/plain": [
       "tensor([ 1, 56,  1, 58, 67, 70, 78, 69])"
      ]
     },
     "execution_count": 156,
     "metadata": {},
     "output_type": "execute_result"
    }
   ],
   "source": [
    "x[0]"
   ]
  },
  {
   "cell_type": "code",
   "execution_count": 157,
   "id": "693304ce-a986-4098-bfc6-3f2839ca7ffb",
   "metadata": {},
   "outputs": [],
   "source": [
    "@torch.no_grad()\n",
    "def eval_split(split, model):\n",
    "    model.eval()\n",
    "    \n",
    "    tkn = train_tkns if split == \"train\" else valid_tkns\n",
    "    tkn = torch.tensor(tkn)\n",
    "\n",
    "    bsize = len(tkn) // block_size\n",
    "    x = tkn[0:bsize*block_size]\n",
    "    y = tkn[1:bsize*block_size+1]\n",
    "    x = x.view(bsize, block_size) # (B, L)\n",
    "    y = y.view(bsize, block_size) # (B, L)\n",
    "    \n",
    "    x = x.to(device)\n",
    "    y = y.to(device)\n",
    "    \n",
    "    logits = model(x) # (B, L, C)\n",
    "    B, L, C = logits.shape\n",
    "    loss = F.cross_entropy(logits.view(B*L, C), y.view(B*L))\n",
    "    \n",
    "    model.train()\n",
    "    return loss.item()"
   ]
  },
  {
   "cell_type": "code",
   "execution_count": 158,
   "id": "d0aa918a-b6fc-4c73-a2fc-6c87c01450c3",
   "metadata": {},
   "outputs": [],
   "source": [
    "@torch.no_grad()\n",
    "def sample(model):\n",
    "    model.eval()\n",
    "    \n",
    "    max_len = 500\n",
    "    tks = [0]*block_size\n",
    "\n",
    "    for i in range(max_len):\n",
    "        ctx = torch.tensor(tks[i:i+block_size]) # (L)\n",
    "        ctx = ctx.view(1, -1) # (B, L)\n",
    "\n",
    "        logits = model(ctx) # (B, L, C)\n",
    "        probs = F.softmax(logits, dim=2) # (B, L, C)\n",
    "        probs = probs[0,-1,:] # (C), # the last in the sequence is the newly generated\n",
    "        yi = torch.multinomial(probs, 1)\n",
    "        tks.append(yi.item())\n",
    "\n",
    "    chars = [itoc[t] for t in tks]\n",
    "    model.train()\n",
    "    return \"\".join(chars)"
   ]
  },
  {
   "cell_type": "code",
   "execution_count": 159,
   "id": "17306edf-1569-40b2-96f9-6b2e39db2a2a",
   "metadata": {},
   "outputs": [],
   "source": [
    "def fit(model):\n",
    "    optim = torch.optim.Adam(model.parameters())\n",
    "    model.train()\n",
    "    \n",
    "    for i in range(50000):\n",
    "        optim.zero_grad()\n",
    "\n",
    "        xb, yb = random_batch()\n",
    "        logits = model(xb) # (B, L, C)\n",
    "\n",
    "        B, L, C = logits.shape\n",
    "        loss = F.cross_entropy(logits.view(B*L, C), yb.view(B*L))\n",
    "\n",
    "        loss.backward()\n",
    "        optim.step()\n",
    "\n",
    "        if i % 5000 == 0:\n",
    "            print(f\"{loss.item():.4f}\")"
   ]
  },
  {
   "cell_type": "code",
   "execution_count": 160,
   "id": "683fa87d-e2d3-44f4-b02e-2f608cedf936",
   "metadata": {},
   "outputs": [
    {
     "data": {
      "text/plain": [
       "torch.Size([2, 8, 7])"
      ]
     },
     "execution_count": 160,
     "metadata": {},
     "output_type": "execute_result"
    }
   ],
   "source": [
    "class MultiHeadAttension(nn.Module):    \n",
    "    \n",
    "    def __init__(self, head_num, head_size, in_size, out_size):\n",
    "        super().__init__()\n",
    "        \n",
    "        self.head_size = head_size\n",
    "        self.head_num = head_num        \n",
    "        self.attn = nn.Linear(in_size, 3 * head_num * head_size, bias=False)\n",
    "        self.ffn = nn.Linear(head_num * head_size, out_size, bias=False)\n",
    "    \n",
    "        \n",
    "    # x: (B, L, C)  \n",
    "    # return: (B, L, C')\n",
    "    def forward(self, x):\n",
    "        B, L, C = x.shape\n",
    "        \n",
    "        z = self.attn(x) # (B, L, 3 * hn * hs)\n",
    "        k, q, v = torch.split(z, self.head_num * self.head_size, dim=2) # (B, L, hn * hs)\n",
    "        \n",
    "        k = k.view(B, L, self.head_num, self.head_size).permute(0, 2, 1, 3) # (B, hn, L, hs)\n",
    "        q = q.view(B, L, self.head_num, self.head_size).permute(0, 2, 1, 3)\n",
    "        v = v.view(B, L, self.head_num, self.head_size).permute(0, 2, 1, 3)\n",
    "        \n",
    "        q = q.permute(0, 1, 3, 2) # (B, hn, hs, L)\n",
    "        attn = (k @ q) / self.head_size**0.5 # (B, hn, L, L)\n",
    "        mask = torch.tril(torch.ones(L, L)) == 0\n",
    "        mask = mask.to(device)\n",
    "        attn = attn.masked_fill(mask, -float('inf')) # (B, hn, L, L)\n",
    "        attn = F.softmax(attn, dim=3)\n",
    "        \n",
    "        y = attn @ v # (B, hn, L, hs)\n",
    "        y = y.permute(0, 2, 1, 3) # (B, L, hn, hs)\n",
    "        y = y.contiguous().view(B, L, -1) # (B, L, hn * hs)\n",
    "        y = self.ffn(y) # (B, L, C)\n",
    "        \n",
    "        return y \n",
    "    \n",
    "        \n",
    "x = torch.randn(2, block_size, 9) # (B, L, C)\n",
    "x = x.to(device)\n",
    "mh = MultiHeadAttension(5, 3, 9, 7)\n",
    "mh = mh.to(device)\n",
    "mh(x).shape"
   ]
  },
  {
   "cell_type": "code",
   "execution_count": 161,
   "id": "f4a9dc7d-67b8-4560-b673-acb36c69402b",
   "metadata": {},
   "outputs": [],
   "source": [
    "class MLP(nn.Module):\n",
    "    \n",
    "    def __init__(self, in_size, out_size):\n",
    "        super().__init__()\n",
    "        self.linear1 = nn.Linear(in_size, out_size)\n",
    "        self.linear2 = nn.Linear(out_size, out_size)\n",
    "    \n",
    "    # (B, L, C)\n",
    "    def forward(self, x):\n",
    "        y = self.linear1(x)\n",
    "        y = torch.relu(y)\n",
    "        y = self.linear2(y)\n",
    "        \n",
    "        return y"
   ]
  },
  {
   "cell_type": "code",
   "execution_count": 162,
   "id": "a5f8c216-35b6-4cde-94af-781144ea494b",
   "metadata": {},
   "outputs": [],
   "source": [
    "class Block(nn.Module):    \n",
    "    \n",
    "    def __init__(self, emb_size, head_size):\n",
    "        super().__init__()\n",
    "        \n",
    "        assert emb_size % head_size == 0\n",
    "        head_num = emb_size // head_size\n",
    "        \n",
    "        self.mha = MultiHeadAttension(head_num, \n",
    "                                      head_size, \n",
    "                                      in_size=emb_size, \n",
    "                                      out_size=emb_size)\n",
    "        self.lnorm1 = nn.LayerNorm(emb_size)\n",
    "        self.lnorm2 = nn.LayerNorm(emb_size)\n",
    "        self.ffn = MLP(emb_size, emb_size)\n",
    "        \n",
    "        \n",
    "    # x: (B, L, emb)\n",
    "    def forward(self, x):\n",
    "        y = self.mha(x) + x\n",
    "        y = self.lnorm1(y)\n",
    "        y = self.ffn(y) + y\n",
    "        y = self.lnorm2(y)\n",
    "        return y\n",
    "    \n",
    "# x = torch.randn(3, 4, 10)\n",
    "# b = Block(10, 2)\n",
    "# b(x)"
   ]
  },
  {
   "cell_type": "code",
   "execution_count": 163,
   "id": "9c97c14d-131a-4e56-bf3b-51f2ff9bc2c7",
   "metadata": {},
   "outputs": [],
   "source": [
    "# return (L, C)\n",
    "def pos_encoding(x):\n",
    "    B, L, C = x.shape\n",
    "    pos = torch.arange(0, L).view(-1, 1) # (L, 1)\n",
    "    div = 2 * torch.arange(0, C) / C # (C)\n",
    "    div = torch.pow(10000, div) # (C)\n",
    "    e = pos / div\n",
    "    e[1, 1]\n",
    "\n",
    "    pe = torch.zeros(L, C)\n",
    "    pe[:,0::2] = torch.sin(e[:,0::2])\n",
    "    pe[:,1::2] = torch.cos(e[:,1::2])\n",
    "    \n",
    "    pe = pe.to(device)\n",
    "    return pe"
   ]
  },
  {
   "cell_type": "code",
   "execution_count": 164,
   "id": "63d81641-f331-4341-822d-eeada13a50cc",
   "metadata": {},
   "outputs": [],
   "source": [
    "emb_size = 100\n",
    "head_size = 20\n",
    "\n",
    "class Transformer(nn.Module):    \n",
    "    \n",
    "    def __init__(self):\n",
    "        super().__init__()\n",
    "        self.embed = nn.Embedding(vocab_size, emb_size)\n",
    "        self.blocks = nn.Sequential(\n",
    "            Block(emb_size, head_size),\n",
    "            Block(emb_size, head_size)\n",
    "        )\n",
    "        self.linear = nn.Linear(emb_size, vocab_size)\n",
    "\n",
    "    # (B, L) -> (B, L, C)\n",
    "    def forward(self, x):\n",
    "        y = self.embed(x) # (B, L, emb)\n",
    "        y = y + pos_encoding(y) # (B, L, emb)\n",
    "        y = self.blocks(y) # (B, L, emb)\n",
    "        y = self.linear(y) # (B, L, vocab)\n",
    "        \n",
    "        return y"
   ]
  },
  {
   "cell_type": "code",
   "execution_count": 165,
   "id": "e4d0adfe-9fdc-4bba-9ef0-d112cd0b2097",
   "metadata": {},
   "outputs": [
    {
     "name": "stdout",
     "output_type": "stream",
     "text": [
      "total parameter: 138084\n"
     ]
    }
   ],
   "source": [
    "tf_model = Transformer()\n",
    "tf_model = tf_model.to(device)\n",
    "\n",
    "count = sum([p.numel() for p in tf_model.parameters()])\n",
    "print(f\"total parameter: {count}\")"
   ]
  },
  {
   "cell_type": "code",
   "execution_count": 166,
   "id": "6e7174fb-cf10-49b0-b53e-c2f033445b16",
   "metadata": {},
   "outputs": [
    {
     "name": "stdout",
     "output_type": "stream",
     "text": [
      "4.5527\n",
      "1.9368\n",
      "1.9549\n",
      "1.7029\n",
      "1.8572\n",
      "1.6687\n",
      "1.8032\n",
      "1.6225\n",
      "1.7311\n",
      "1.7076\n"
     ]
    }
   ],
   "source": [
    "fit(tf_model)"
   ]
  },
  {
   "cell_type": "code",
   "execution_count": 174,
   "id": "d7f33110-faa7-4140-aa76-5f31d92c1289",
   "metadata": {},
   "outputs": [
    {
     "name": "stdout",
     "output_type": "stream",
     "text": [
      "train: 1.7155\n",
      "valid: 1.7952\n"
     ]
    }
   ],
   "source": [
    "tr_loss = eval_split(\"train\", tf_model)\n",
    "va_loss = eval_split(\"valid\", tf_model)\n",
    "\n",
    "print(f\"train: {tr_loss:.4f}\")\n",
    "print(f\"valid: {va_loss:.4f}\")"
   ]
  },
  {
   "cell_type": "code",
   "execution_count": 173,
   "id": "12c5665e-27df-40e3-8f1c-f6f53a0916da",
   "metadata": {},
   "outputs": [
    {
     "name": "stdout",
     "output_type": "stream",
     "text": [
      "\n",
      "\n",
      "\n",
      "\n",
      "\n",
      "\n",
      "\n",
      "\n",
      "\n",
      "SCENE . Pas what Firchy. This have I for the should no might.\n",
      "  MRS. Rance thrack'd\n",
      "    He to almm your swattly neit will again, wink\n",
      "    Not such 'that\n",
      "    I do thingy your keespech of what is the ford pay; I had bounds his monio couxshould wing.\n",
      "                               Exit Along she keeps him as it is may a bring the weash steek that not, they and time follain tongain! Bart; give of bland.\n",
      "  SIR OR MEMBERSHIP.>>\n",
      "\n",
      "\n",
      "\n",
      "ACT I. Fallowar.\n",
      "  SURLOS. Take to your lives strike ire, Own thee; do\n"
     ]
    }
   ],
   "source": [
    "print(sample(tf_model))"
   ]
  },
  {
   "cell_type": "markdown",
   "id": "1197fd44-c758-4e9f-b9ac-3a3acb19e7ad",
   "metadata": {},
   "source": [
    "## Log\n",
    "\n",
    "- Bi-gram: 2.4716, 2.4755\n",
    "- Single-head attention: 2.3899, 2.4041\n",
    "- Multi-head attention, single layer: 2.0820, 2.1165\n",
    "    - block_size = 8\n",
    "    - hidden_size = 100\n",
    "    - head_size = 20\n",
    "    - head_num = 5\n",
    "    \n",
    "- Multi-head attention, single layer, positional encoding: 1.8575, 1.9216\n",
    "- 2-layer transformer (with everything, MHA, positional encoding, layer norm): 1.7155, 1.7952"
   ]
  },
  {
   "cell_type": "code",
   "execution_count": null,
   "id": "68ea81b5-6297-451a-bf24-77ecfd7b30ec",
   "metadata": {},
   "outputs": [],
   "source": []
  }
 ],
 "metadata": {
  "kernelspec": {
   "display_name": "Python 3 (ipykernel)",
   "language": "python",
   "name": "python3"
  },
  "language_info": {
   "codemirror_mode": {
    "name": "ipython",
    "version": 3
   },
   "file_extension": ".py",
   "mimetype": "text/x-python",
   "name": "python",
   "nbconvert_exporter": "python",
   "pygments_lexer": "ipython3",
   "version": "3.10.8"
  }
 },
 "nbformat": 4,
 "nbformat_minor": 5
}
