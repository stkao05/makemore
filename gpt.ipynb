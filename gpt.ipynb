{
 "cells": [
  {
   "cell_type": "markdown",
   "id": "1197fd44-c758-4e9f-b9ac-3a3acb19e7ad",
   "metadata": {},
   "source": [
    "## Log\n",
    "\n",
    "- Bi-gram: 2.4716, 2.4755\n",
    "- Single-head attention: 2.3899, 2.4041\n",
    "- Multi-head attention, single layer: 2.0820, 2.1165\n",
    "    - block_size = 8\n",
    "    - hidden_size = 100\n",
    "    - head_size = 20\n",
    "    - head_num = 5"
   ]
  },
  {
   "cell_type": "code",
   "execution_count": 1,
   "id": "ed7f10b8-a29e-41a0-8e63-3197c2da5ac6",
   "metadata": {},
   "outputs": [],
   "source": [
    "import torch\n",
    "import torch.nn as nn\n",
    "import torch.nn.functional as F\n",
    "import math"
   ]
  },
  {
   "cell_type": "code",
   "execution_count": 2,
   "id": "2989a65c-b1f9-4435-9c04-ca6becac1df8",
   "metadata": {},
   "outputs": [
    {
     "data": {
      "text/plain": [
       "5447119"
      ]
     },
     "execution_count": 2,
     "metadata": {},
     "output_type": "execute_result"
    }
   ],
   "source": [
    "txt = open('shakespeare.txt', 'r').read()\n",
    "len(txt)"
   ]
  },
  {
   "cell_type": "code",
   "execution_count": 3,
   "id": "0a7c69b6-e82a-4552-a375-23148322cd4f",
   "metadata": {},
   "outputs": [
    {
     "data": {
      "text/plain": [
       "\"                     1\\n  From fairest creatures we desire increase,\\n  That thereby beauty's rose might never die,\\n  But as the riper should by time decease,\\n  His tender heir might bear his memory:\\n  But thou contracted to thine own bright eyes,\\n  Feed'st thy light's flame with self-substantial fuel,\\n  Making a famine where abundance lies,\\n  Thy self thy foe, to thy sweet self too cruel:\\n  Thou that art now the world's fresh ornament,\\n  And only herald to the gaudy spring,\\n  Within thine own bud\""
      ]
     },
     "execution_count": 3,
     "metadata": {},
     "output_type": "execute_result"
    }
   ],
   "source": [
    "txt[0:500]"
   ]
  },
  {
   "cell_type": "code",
   "execution_count": 4,
   "id": "24b5205e-3f77-4398-95f5-ade916e3aa04",
   "metadata": {},
   "outputs": [
    {
     "name": "stdout",
     "output_type": "stream",
     "text": [
      "\n",
      " !\"&'(),-.0123456789:;<>?ABCDEFGHIJKLMNOPQRSTUVWXYZ[]_`abcdefghijklmnopqrstuvwxyz|}\n",
      "84\n"
     ]
    }
   ],
   "source": [
    "chars = list(set(txt))\n",
    "chars.sort()\n",
    "\n",
    "ctoi = {c:i for i, c in enumerate(chars)}\n",
    "itoc = {i:c for i, c in enumerate(chars)}\n",
    "vocab_size = len(chars)\n",
    "\n",
    "print(\"\".join(chars))\n",
    "print(vocab_size)"
   ]
  },
  {
   "cell_type": "code",
   "execution_count": 5,
   "id": "67005dad-d7b6-49d3-865f-81786ecf25b9",
   "metadata": {},
   "outputs": [
    {
     "data": {
      "text/plain": [
       "(4902407, 544711)"
      ]
     },
     "execution_count": 5,
     "metadata": {},
     "output_type": "execute_result"
    }
   ],
   "source": [
    "i =  math.floor(0.9 * len(txt))\n",
    "train_txt = txt[0:i]\n",
    "valid_txt = txt[i+1:]\n",
    "\n",
    "len(train_txt), len(valid_txt)"
   ]
  },
  {
   "cell_type": "code",
   "execution_count": 6,
   "id": "3c64f857-1ffb-4db0-9020-23912e76b930",
   "metadata": {},
   "outputs": [],
   "source": [
    "train_tkns = [ctoi[c] for c in train_txt]\n",
    "valid_tkns = [ctoi[c] for c in valid_txt]"
   ]
  },
  {
   "cell_type": "code",
   "execution_count": 7,
   "id": "fd1b8340-19fb-4300-9387-334a48a44e5d",
   "metadata": {},
   "outputs": [
    {
     "data": {
      "text/plain": [
       "torch.Size([32, 8])"
      ]
     },
     "execution_count": 7,
     "metadata": {},
     "output_type": "execute_result"
    }
   ],
   "source": [
    "block_size = 8\n",
    "batch_size = 32\n",
    "\n",
    "def txt_to_token(t):\n",
    "    return [ctoi[c] for c in t]\n",
    "    \n",
    "# (B, L)\n",
    "def random_batch():\n",
    "    xi = torch.randint(0, len(train_tkns)-block_size, (batch_size,))\n",
    "    x = torch.tensor([train_tkns[i:i+block_size] for i in xi])\n",
    "    y = torch.tensor([train_tkns[i+1:i+block_size+1] for i in xi])\n",
    "    \n",
    "    return x, y\n",
    "\n",
    "x, y = random_batch()\n",
    "x.shape"
   ]
  },
  {
   "cell_type": "code",
   "execution_count": 8,
   "id": "1363b37a-ad7e-4d06-8209-2c6d300d939d",
   "metadata": {},
   "outputs": [
    {
     "data": {
      "text/plain": [
       "tensor([ 1,  1,  1,  1,  1,  1,  1, 26])"
      ]
     },
     "execution_count": 8,
     "metadata": {},
     "output_type": "execute_result"
    }
   ],
   "source": [
    "x[0]"
   ]
  },
  {
   "cell_type": "code",
   "execution_count": 9,
   "id": "693304ce-a986-4098-bfc6-3f2839ca7ffb",
   "metadata": {},
   "outputs": [],
   "source": [
    "def eval_split(split, model):\n",
    "    tkn = train_tkns if split == \"train\" else valid_tkns\n",
    "    tkn = torch.tensor(tkn)\n",
    "\n",
    "    bsize = len(tkn) // block_size\n",
    "    x = tkn[0:bsize*block_size]\n",
    "    y = tkn[1:bsize*block_size+1]\n",
    "    x = x.view(bsize, block_size) # (B, L)\n",
    "    y = y.view(bsize, block_size) # (B, L)\n",
    "    \n",
    "    logits = model(x) # (B, L, C)\n",
    "    B, L, C = logits.shape\n",
    "    loss = F.cross_entropy(logits.view(B*L, C), y.view(B*L))\n",
    "    \n",
    "    return loss.item()"
   ]
  },
  {
   "cell_type": "code",
   "execution_count": 10,
   "id": "d0aa918a-b6fc-4c73-a2fc-6c87c01450c3",
   "metadata": {},
   "outputs": [],
   "source": [
    "def sample(model):\n",
    "    max_len = 500\n",
    "    tks = [0]*block_size\n",
    "\n",
    "    for i in range(max_len):\n",
    "        ctx = torch.tensor(tks[i:i+block_size]) # (L)\n",
    "        ctx = ctx.view(1, -1) # (B, L)\n",
    "\n",
    "        logits = model(ctx) # (B, L, C)\n",
    "        probs = F.softmax(logits, dim=2) # (B, L, C)\n",
    "        probs = probs[0,-1,:] # (C), # the last in the sequence is the newly generated\n",
    "        yi = torch.multinomial(probs, 1)\n",
    "        tks.append(yi.item())\n",
    "\n",
    "    chars = [itoc[t] for t in tks]\n",
    "    return \"\".join(chars)"
   ]
  },
  {
   "cell_type": "code",
   "execution_count": 18,
   "id": "17306edf-1569-40b2-96f9-6b2e39db2a2a",
   "metadata": {},
   "outputs": [],
   "source": [
    "def fit(model):\n",
    "    optim = torch.optim.Adam(model.parameters())\n",
    "    \n",
    "    for i in range(50000):\n",
    "        optim.zero_grad()\n",
    "\n",
    "        xb, yb = random_batch()\n",
    "        logits = model(xb) # (B, L, C)\n",
    "\n",
    "        B, L, C = logits.shape\n",
    "        loss = F.cross_entropy(logits.view(B*L, C), yb.view(B*L))\n",
    "\n",
    "        loss.backward()\n",
    "        optim.step()\n",
    "\n",
    "        if i % 5000 == 0:\n",
    "            print(f\"{loss.item():.4f}\")"
   ]
  },
  {
   "cell_type": "code",
   "execution_count": 19,
   "id": "2088203f-2bd5-44f7-9ee6-f8a66565d49b",
   "metadata": {},
   "outputs": [
    {
     "data": {
      "text/plain": [
       "torch.Size([4, 8, 5])"
      ]
     },
     "execution_count": 19,
     "metadata": {},
     "output_type": "execute_result"
    }
   ],
   "source": [
    "# Attension mechanism\n",
    "\n",
    "head_size = 5\n",
    "x = torch.rand(4, block_size, vocab_size) # (B, L, C)\n",
    "\n",
    "key = nn.Linear(vocab_size, head_size)\n",
    "query = nn.Linear(vocab_size, head_size)\n",
    "value = nn.Linear(vocab_size, head_size)\n",
    "\n",
    "k = key(x)   # (B, L, C)\n",
    "q = query(x) # (B, L, C)\n",
    "v = value(x) # (B, L, C)\n",
    "\n",
    "q = q.permute(0, 2, 1) # (B, C, L)\n",
    "w = k @ q # (B, L, L)\n",
    "\n",
    "B, L, C = k.shape\n",
    "mask = torch.tril(torch.ones(L, L))\n",
    "mask = mask == 0\n",
    "w = w.masked_fill(mask, -float('inf'))\n",
    "\n",
    "prob = F.softmax(w, dim=2) # (B, L, L) TODO: not sure which dimension\n",
    "a = prob @ v # (B, L, L) @ # (B, L, C)\n",
    "a.shape # (B, L, C)"
   ]
  },
  {
   "cell_type": "code",
   "execution_count": 20,
   "id": "2452833d-1393-4264-9116-7baf9c78c298",
   "metadata": {},
   "outputs": [],
   "source": [
    "class Head(nn.Module):    \n",
    "    \n",
    "    def __init__(self, in_size, head_size):\n",
    "        super().__init__()\n",
    "        \n",
    "        self.head_size = head_size\n",
    "        self.key = nn.Linear(in_size, head_size)\n",
    "        self.query = nn.Linear(in_size, head_size)\n",
    "        self.value = nn.Linear(in_size, head_size)\n",
    "        \n",
    "    # (B, L, C)  ->  (B, L, C')  \n",
    "    def forward(self, x):\n",
    "        k = self.key(x)   # (B, L, C')\n",
    "        q = self.query(x) # (B, L, C')\n",
    "        v = self.value(x) # (B, L, C')\n",
    "        \n",
    "        # TODO: other way than permute?\n",
    "        q = q.permute(0, 2, 1) # (B, C', L)\n",
    "        w = k @ q # (B, L, L)\n",
    "        w /= self.head_size**0.5\n",
    "        \n",
    "        B, L, C = k.shape\n",
    "        mask = torch.tril(torch.ones(L, L))\n",
    "        mask = mask == 0\n",
    "        w = w.masked_fill(mask, -float('inf'))\n",
    "\n",
    "        prob = F.softmax(w, dim=2) # (B, L, L)\n",
    "        a = prob @ v # (B, L, C')\n",
    "\n",
    "        return a"
   ]
  },
  {
   "cell_type": "code",
   "execution_count": 21,
   "id": "1231360d-5413-4c1a-a6f5-d30b472635ff",
   "metadata": {},
   "outputs": [
    {
     "data": {
      "text/plain": [
       "torch.Size([2, 4, 7])"
      ]
     },
     "execution_count": 21,
     "metadata": {},
     "output_type": "execute_result"
    }
   ],
   "source": [
    "class MultiHead(nn.Module):    \n",
    "    \n",
    "    def __init__(self, head_num, head_size, in_size, out_size):\n",
    "        super().__init__()\n",
    "        \n",
    "        self.heads = [Head(in_size, head_size) for _ in range(head_num)]\n",
    "        self.linear = nn.Linear(head_num*head_size, out_size, bias=False)\n",
    "\n",
    "    # (B, L, C)  ->  (B, L, C')  \n",
    "    def forward(self, x):\n",
    "        hs = [h(x) for h in self.heads] \n",
    "        hs = torch.concat(hs, dim=2)  # (B, L, C)\n",
    "        \n",
    "        a = self.linear(hs)\n",
    "        return a\n",
    "        \n",
    "\n",
    "x = torch.randn(2, 4, 9) # (B, L, C)\n",
    "mh = MultiHead(5, 3, 9, 7)\n",
    "mh(x).shape"
   ]
  },
  {
   "cell_type": "code",
   "execution_count": 22,
   "id": "9c97c14d-131a-4e56-bf3b-51f2ff9bc2c7",
   "metadata": {},
   "outputs": [],
   "source": [
    "# return (L, C)\n",
    "def pos_encoding(L, C):\n",
    "    pos = torch.arange(0, L).view(-1, 1)\n",
    "    d = torch.pow(10000, 2 * torch.arange(0, C) / C)\n",
    "    u = pos * d\n",
    "\n",
    "    pe[:,0::2] = torch.sin(u[:,0::2])\n",
    "    pe[:,1::2] = torch.cos(u[:,0::2])\n",
    "    return pe"
   ]
  },
  {
   "cell_type": "code",
   "execution_count": 23,
   "id": "63d81641-f331-4341-822d-eeada13a50cc",
   "metadata": {},
   "outputs": [],
   "source": [
    "hidden_size = 100\n",
    "head_size = 20\n",
    "head_num = 5\n",
    "\n",
    "class Transformer(nn.Module):    \n",
    "    \n",
    "    def __init__(self):\n",
    "        super().__init__()\n",
    "        self.embed = nn.Embedding(vocab_size, hidden_size)\n",
    "        self.mheads = MultiHead(head_num, head_size, hidden_size, hidden_size)\n",
    "        self.ffn1 = nn.Linear(hidden_size, hidden_size)\n",
    "        self.ffn2 = nn.Linear(hidden_size, vocab_size)\n",
    "\n",
    "    # (B, L) -> (B, L, C)\n",
    "    def forward(self, x):\n",
    "        y = self.embed(x) # (B, L, C)\n",
    "        y = self.mheads(y) # (B, L, C)\n",
    "        y = self.ffn1(y)\n",
    "        y = torch.relu(y)\n",
    "        y = self.ffn2(y)\n",
    "        \n",
    "        return y"
   ]
  },
  {
   "cell_type": "code",
   "execution_count": 24,
   "id": "e4d0adfe-9fdc-4bba-9ef0-d112cd0b2097",
   "metadata": {},
   "outputs": [],
   "source": [
    "tf_model = Transformer()"
   ]
  },
  {
   "cell_type": "code",
   "execution_count": 25,
   "id": "6e7174fb-cf10-49b0-b53e-c2f033445b16",
   "metadata": {},
   "outputs": [
    {
     "name": "stdout",
     "output_type": "stream",
     "text": [
      "4.4005\n",
      "2.1424\n",
      "2.2108\n",
      "2.0654\n",
      "2.2782\n",
      "2.2726\n",
      "2.0525\n",
      "1.9083\n",
      "2.0148\n",
      "2.0887\n"
     ]
    }
   ],
   "source": [
    "fit(tf_model)"
   ]
  },
  {
   "cell_type": "code",
   "execution_count": null,
   "id": "d7f33110-faa7-4140-aa76-5f31d92c1289",
   "metadata": {},
   "outputs": [],
   "source": [
    "tr_loss = eval_split(\"train\", tf_model)\n",
    "va_loss = eval_split(\"valid\", tf_model)\n",
    "\n",
    "print(f\"train: {tr_loss:.4f}\")\n",
    "print(f\"valid: {va_loss:.4f}\")"
   ]
  },
  {
   "cell_type": "code",
   "execution_count": 42,
   "id": "12c5665e-27df-40e3-8f1c-f6f53a0916da",
   "metadata": {},
   "outputs": [
    {
     "name": "stdout",
     "output_type": "stream",
     "text": [
      "\n",
      "\n",
      "\n",
      "\n",
      "\n",
      "\n",
      "\n",
      "\n",
      "    B >  h.Evganhilrds etl N ld  . c yer lin,  \n",
      "n h,pr     t.vTr\n",
      " sxif\n",
      "H U  y' t! EncTrr uvssr i.o d hr m I o oAtr \n",
      " Tf DJi\n",
      " oawoei aee\n",
      "hcl    yaa\n",
      "ds  w   ,am edn oh ttohmlyhhhmaeethi\n",
      "hteu e\n",
      " ha\n",
      "nwt poerhho c ,etl asaf   hadb  h O cTIth ohgt ergen\n",
      "oibus rta, s n H eerrmJa\n",
      "ce Na, sdecawttuln  a agso rglpth rheerc.ecrsei   tl mmdlwtahI,ata\n",
      "r os i  k Meeksllfm   aaw\n",
      "uwyaidtwe !gyh ose alirl  l b ' oF-d!s  dt    tlhe heeel rdohete n mope B'wERfw p\n",
      "ge  he  fta}dHsrAytae mhee d\n",
      "shgr   Yfu [eoSed wmo a\n"
     ]
    }
   ],
   "source": [
    "print(sample(tf_model))"
   ]
  }
 ],
 "metadata": {
  "kernelspec": {
   "display_name": "Python 3 (ipykernel)",
   "language": "python",
   "name": "python3"
  },
  "language_info": {
   "codemirror_mode": {
    "name": "ipython",
    "version": 3
   },
   "file_extension": ".py",
   "mimetype": "text/x-python",
   "name": "python",
   "nbconvert_exporter": "python",
   "pygments_lexer": "ipython3",
   "version": "3.10.8"
  }
 },
 "nbformat": 4,
 "nbformat_minor": 5
}
