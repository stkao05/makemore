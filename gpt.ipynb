{
 "cells": [
  {
   "cell_type": "markdown",
   "id": "1197fd44-c758-4e9f-b9ac-3a3acb19e7ad",
   "metadata": {},
   "source": [
    "## Log\n",
    "\n",
    "Bigram: train 2.3679\n",
    "\n",
    "\n"
   ]
  },
  {
   "cell_type": "code",
   "execution_count": 70,
   "id": "ed7f10b8-a29e-41a0-8e63-3197c2da5ac6",
   "metadata": {},
   "outputs": [],
   "source": [
    "import torch\n",
    "import torch.nn as nn\n",
    "import torch.nn.functional as F\n",
    "import math"
   ]
  },
  {
   "cell_type": "code",
   "execution_count": 2,
   "id": "2989a65c-b1f9-4435-9c04-ca6becac1df8",
   "metadata": {},
   "outputs": [
    {
     "data": {
      "text/plain": [
       "5447119"
      ]
     },
     "execution_count": 2,
     "metadata": {},
     "output_type": "execute_result"
    }
   ],
   "source": [
    "txt = open('shakespeare.txt', 'r').read()\n",
    "len(txt)"
   ]
  },
  {
   "cell_type": "code",
   "execution_count": 67,
   "id": "0a7c69b6-e82a-4552-a375-23148322cd4f",
   "metadata": {},
   "outputs": [
    {
     "data": {
      "text/plain": [
       "\"                     1\\n  From fairest creatures we desire increase,\\n  That thereby beauty's rose might never die,\\n  But as the riper should by time decease,\\n  His tender heir might bear his memory:\\n  But thou contracted to thine own bright eyes,\\n  Feed'st thy light's flame with self-substantial fuel,\\n  Making a famine where abundance lies,\\n  Thy self thy foe, to thy sweet self too cruel:\\n  Thou that art now the world's fresh ornament,\\n  And only herald to the gaudy spring,\\n  Within thine own bud\""
      ]
     },
     "execution_count": 67,
     "metadata": {},
     "output_type": "execute_result"
    }
   ],
   "source": [
    "txt[0:500]"
   ]
  },
  {
   "cell_type": "code",
   "execution_count": 73,
   "id": "24b5205e-3f77-4398-95f5-ade916e3aa04",
   "metadata": {},
   "outputs": [
    {
     "name": "stdout",
     "output_type": "stream",
     "text": [
      "\n",
      " !\"&'(),-.0123456789:;<>?ABCDEFGHIJKLMNOPQRSTUVWXYZ[]_`abcdefghijklmnopqrstuvwxyz|}\n",
      "84\n"
     ]
    }
   ],
   "source": [
    "chars = list(set(txt))\n",
    "chars.sort()\n",
    "\n",
    "ctoi = {c:i for i, c in enumerate(chars)}\n",
    "itoc = {i:c for i, c in enumerate(chars)}\n",
    "vocab_size = len(chars)\n",
    "\n",
    "print(\"\".join(chars))\n",
    "print(vocab_size)"
   ]
  },
  {
   "cell_type": "code",
   "execution_count": 72,
   "id": "67005dad-d7b6-49d3-865f-81786ecf25b9",
   "metadata": {},
   "outputs": [
    {
     "data": {
      "text/plain": [
       "(4902407, 544711)"
      ]
     },
     "execution_count": 72,
     "metadata": {},
     "output_type": "execute_result"
    }
   ],
   "source": [
    "i =  math.floor(0.9 * len(txt))\n",
    "train_txt = txt[0:i]\n",
    "valid_txt = txt[i+1:]\n",
    "\n",
    "len(train_txt), len(valid_txt)"
   ]
  },
  {
   "cell_type": "code",
   "execution_count": 76,
   "id": "3c64f857-1ffb-4db0-9020-23912e76b930",
   "metadata": {},
   "outputs": [],
   "source": [
    "train_tkns = [ctoi[c] for c in train_txt]\n",
    "valid_tkns = [ctoi[c] for c in valid_txt]"
   ]
  },
  {
   "cell_type": "code",
   "execution_count": 78,
   "id": "fd1b8340-19fb-4300-9387-334a48a44e5d",
   "metadata": {},
   "outputs": [
    {
     "data": {
      "text/plain": [
       "torch.Size([32, 8])"
      ]
     },
     "execution_count": 78,
     "metadata": {},
     "output_type": "execute_result"
    }
   ],
   "source": [
    "block_size = 8\n",
    "batch_size = 32\n",
    "\n",
    "def txt_to_token(t):\n",
    "    return [ctoi[c] for c in t]\n",
    "    \n",
    "# (B, L)\n",
    "def random_batch():\n",
    "    xi = torch.randint(0, len(train_tkns)-block_size, (batch_size,))\n",
    "    x = torch.tensor([train_tkns[i:i+block_size] for i in xi])\n",
    "    y = torch.tensor([train_tkns[i+1:i+block_size+1] for i in xi])\n",
    "    \n",
    "    return x, y\n",
    "\n",
    "x, y = random_batch()\n",
    "x.shape"
   ]
  },
  {
   "cell_type": "code",
   "execution_count": 7,
   "id": "1363b37a-ad7e-4d06-8209-2c6d300d939d",
   "metadata": {},
   "outputs": [
    {
     "data": {
      "text/plain": [
       "tensor([ 1, 31, 73, 56, 69, 58, 60,  8])"
      ]
     },
     "execution_count": 7,
     "metadata": {},
     "output_type": "execute_result"
    }
   ],
   "source": [
    "x[0]"
   ]
  },
  {
   "cell_type": "code",
   "execution_count": 21,
   "id": "19e05f46-a85c-4d03-bdeb-6372ad9d5ffb",
   "metadata": {},
   "outputs": [
    {
     "data": {
      "text/plain": [
       "torch.Size([32, 8, 84])"
      ]
     },
     "execution_count": 21,
     "metadata": {},
     "output_type": "execute_result"
    }
   ],
   "source": [
    "class BigramModel(nn.Module):    \n",
    "    \n",
    "    def __init__(self):\n",
    "        super().__init__()\n",
    "        self.embed = nn.Embedding(vocab_size, vocab_size)\n",
    "\n",
    "    # (B, L) -> (B, L, C)\n",
    "    def forward(self, x):\n",
    "        y = self.embed(x)\n",
    "        return y\n",
    "            \n",
    "model = BigramModel()\n",
    "optim = torch.optim.Adam(model.parameters())\n",
    "model(x).shape"
   ]
  },
  {
   "cell_type": "code",
   "execution_count": 94,
   "id": "693304ce-a986-4098-bfc6-3f2839ca7ffb",
   "metadata": {},
   "outputs": [],
   "source": [
    "def eval_split(split, model):\n",
    "    split = \"train\"\n",
    "\n",
    "    tkn = train_tkns if split == \"train\" else valid_tkns\n",
    "    tkn = torch.tensor(tkn)\n",
    "\n",
    "    bsize = len(tkn) // block_size\n",
    "    x = tkn[0:bsize*block_size]\n",
    "    y = tkn[1:bsize*block_size+1]\n",
    "    x = x.view(bsize, block_size) # (B, L)\n",
    "    y = y.view(bsize, block_size) # (B, L)\n",
    "    \n",
    "    logits = model(x) # (B, L, C)\n",
    "    B, L, C = logits.shape\n",
    "    loss = F.cross_entropy(logits.view(B*L, C), y.view(B*L))\n",
    "    \n",
    "    return loss.item()"
   ]
  },
  {
   "cell_type": "code",
   "execution_count": 22,
   "id": "d0aa918a-b6fc-4c73-a2fc-6c87c01450c3",
   "metadata": {},
   "outputs": [],
   "source": [
    "def sample():\n",
    "    max_len = 500\n",
    "    tks = [0]*block_size\n",
    "\n",
    "    for i in range(max_len):\n",
    "        ctx = torch.tensor(tks[i:i+block_size]) # (L)\n",
    "        ctx = ctx.view(1, -1) # (B, L)\n",
    "\n",
    "        logits = model(ctx) # (B, L, C)\n",
    "        probs = F.softmax(logits, dim=2) # (B, L, C)\n",
    "        probs = probs[0,-1,:] # (C), # the last in the sequence is the newly generated\n",
    "        yi = torch.multinomial(probs, 1)\n",
    "        tks.append(yi.item())\n",
    "\n",
    "    chars = [itoc[t] for t in tks]\n",
    "    return \"\".join(chars)"
   ]
  },
  {
   "cell_type": "code",
   "execution_count": 23,
   "id": "2f226201-f5f2-4e65-8337-8e4bc224fd84",
   "metadata": {},
   "outputs": [
    {
     "name": "stdout",
     "output_type": "stream",
     "text": [
      "\n",
      "\n",
      "\n",
      "\n",
      "\n",
      "\n",
      "\n",
      "\n",
      "(U`p!HF3yYP5<<gS,3(V!Xsh\n",
      "&\n",
      "krziPoKoKUOKQP[a7-tK6NO2aAK;'l[?(LYhyJyU7jrj<,W1W FG_;S< :`X]69Wq)})0}FriwX3sYa)jK8;1D,(xaF52Y\n",
      "2f(]>ar 5((eH`DJyp}(:nC0Mdpvgy(mVpz\n",
      "_0?dQM!i!WpG&\n",
      "o|6!j(oeOh>aqBucl`&'Wxt]>FGd'e)m8.LpYT [Vvg&o;uw72W|knl8&aZEe[b74p]>49y?COP>G,QYS ulf_9uOnZwbY>eaI!]CZpV1RBrO0]Uqqt4kMXR|g-;&bfNt]dkjTCIVln[\n",
      "1b0UUDKoIQ8<|XgZtuOyvY[iXfsgy)c; wQ4R`Eh<N3<-Rx5E:Vw3yxzl8d2Pr0GDt]\n",
      "T;S}ehHNrjX1b]>7bj;tvGXiZRQ?;J&f`<NduS&}V7biZ:tn648UB:-A24E-k0scYTWJ -\n",
      "R9r&;eCEstbN7mpcA1xcZi0x U[cYPS|a0-ZtI]_VucYTC07\n"
     ]
    }
   ],
   "source": [
    "print(sample())"
   ]
  },
  {
   "cell_type": "code",
   "execution_count": 26,
   "id": "17306edf-1569-40b2-96f9-6b2e39db2a2a",
   "metadata": {},
   "outputs": [
    {
     "name": "stdout",
     "output_type": "stream",
     "text": [
      "2.4246\n",
      "2.4870\n",
      "2.4671\n",
      "2.4864\n",
      "2.3995\n",
      "2.3815\n",
      "2.4440\n",
      "2.4851\n",
      "2.5340\n",
      "2.3679\n"
     ]
    }
   ],
   "source": [
    "for i in range(50000):\n",
    "    optim.zero_grad()\n",
    "\n",
    "    xb, yb = random_batch()\n",
    "    logits = model(xb) # (B, L, C)\n",
    "\n",
    "    B, L, C = logits.shape\n",
    "    loss = F.cross_entropy(logits.view(B*L, C), yb.view(B*L))\n",
    "    \n",
    "    loss.backward()\n",
    "    optim.step()\n",
    "    \n",
    "    if i % 5000 == 0:\n",
    "        print(f\"{loss.item():.4f}\")"
   ]
  },
  {
   "cell_type": "code",
   "execution_count": 95,
   "id": "1ba10d8a-e05c-47e6-905f-8ddd070d4e12",
   "metadata": {},
   "outputs": [
    {
     "name": "stdout",
     "output_type": "stream",
     "text": [
      "train: 2.4716\n",
      "valid: 2.4716\n",
      "baseline: 4.4308\n"
     ]
    }
   ],
   "source": [
    "tr_loss = eval_split(\"train\", model)\n",
    "va_loss = eval_split(\"valid\", model)\n",
    "\n",
    "print(f\"train: {tr_loss:.4f}\")\n",
    "print(f\"valid: {va_loss:.4f}\")\n",
    "print(f\"baseline: {-torch.tensor(1/vocab_size).log():.4f}\")"
   ]
  },
  {
   "cell_type": "code",
   "execution_count": 25,
   "id": "9826f1f0-8390-41aa-a05d-01aab2281a97",
   "metadata": {},
   "outputs": [
    {
     "name": "stdout",
     "output_type": "stream",
     "text": [
      "\n",
      "\n",
      "\n",
      "\n",
      "\n",
      "\n",
      "\n",
      "\n",
      " s      layoukeconce s hyofor, IDEPe mem, ack'sour  mu  LERCO.\n",
      "  yot  As? Fawincuiote beado o sticldiro SAy \n",
      " eanorntemechorthininghe,\n",
      "   BE  \n",
      " ilare  t ppr    QUE  MAy  h  m But,\n",
      "  I    id\n",
      "  ver.\n",
      " FRThesel oo cenouserecthane  t   henghes; emp  TORDALExelth S.  y.\n",
      "  Moues petze  ofome bendoknd po  bofie  ande    n HI t. ad gafuchy HAn feach is stoull.\n",
      "   CThe rtede f  mo tizo hiemisthe EDowith y-el  le wing IZESAnspit    rt hrilshee t t sp o   k  s thoulthast,  h ou INo  HARI Oflon'dirisor   d!\n",
      "\n"
     ]
    }
   ],
   "source": [
    "print(sample())"
   ]
  },
  {
   "cell_type": "code",
   "execution_count": 56,
   "id": "2088203f-2bd5-44f7-9ee6-f8a66565d49b",
   "metadata": {},
   "outputs": [
    {
     "data": {
      "text/plain": [
       "torch.Size([4, 8, 5])"
      ]
     },
     "execution_count": 56,
     "metadata": {},
     "output_type": "execute_result"
    }
   ],
   "source": [
    "# Attension mechanism\n",
    "\n",
    "head_size = 5\n",
    "x = torch.rand(4, block_size, vocab_size) # (B, L, C)\n",
    "\n",
    "key = nn.Linear(vocab_size, head_size)\n",
    "query = nn.Linear(vocab_size, head_size)\n",
    "value = nn.Linear(vocab_size, head_size)\n",
    "\n",
    "k = key(x)   # (B, L, C)\n",
    "q = query(x) # (B, L, C)\n",
    "v = value(x) # (B, L, C)\n",
    "\n",
    "q = q.permute(0, 2, 1) # (B, C, L)\n",
    "w = k @ q # (B, L, L)\n",
    "\n",
    "B, L, C = k.shape\n",
    "mask = torch.tril(torch.ones(L, L))\n",
    "mask = mask == 0\n",
    "w = w.masked_fill(mask, -float('inf'))\n",
    "\n",
    "prob = F.softmax(w, dim=2) # (B, L, L) TODO: not sure which dimension\n",
    "a = prob @ v # (B, L, L) @ # (B, L, C)\n",
    "a.shape # (B, L, C)"
   ]
  },
  {
   "cell_type": "code",
   "execution_count": 65,
   "id": "2452833d-1393-4264-9116-7baf9c78c298",
   "metadata": {},
   "outputs": [],
   "source": [
    "class Attention(nn.Module):    \n",
    "    \n",
    "    def __init__(self, head_size):\n",
    "        super().__init__()\n",
    "        \n",
    "        self.head_size = head_size\n",
    "        self.key = nn.Linear(vocab_size, head_size)\n",
    "        self.query = nn.Linear(vocab_size, head_size)\n",
    "        self.value = nn.Linear(vocab_size, head_size)\n",
    "        \n",
    "    # (B, L, C)  ->  (B, L, C')  \n",
    "    def forward(self, x):\n",
    "        k = self.key(x)   # (B, L, C')\n",
    "        q = self.query(x) # (B, L, C')\n",
    "        v = self.value(x) # (B, L, C')\n",
    "        \n",
    "        # TODO: other way than permute?\n",
    "        q = q.permute(0, 2, 1) # (B, C', L)\n",
    "        w = k @ q # (B, L, L)\n",
    "        w /= self.head_size**0.5\n",
    "        \n",
    "        B, L, C = k.shape\n",
    "        mask = torch.tril(torch.ones(L, L))\n",
    "        mask = mask == 0\n",
    "        w = w.masked_fill(mask, -float('inf'))\n",
    "\n",
    "        prob = F.softmax(w, dim=2) # (B, L, L)\n",
    "        a = prob @ v # (B, L, C')\n",
    "\n",
    "        return a"
   ]
  },
  {
   "cell_type": "code",
   "execution_count": 66,
   "id": "cd5d2a21-3032-4fb9-b2bf-5fb65ece1c31",
   "metadata": {},
   "outputs": [
    {
     "data": {
      "text/plain": [
       "torch.Size([4, 8, 6])"
      ]
     },
     "execution_count": 66,
     "metadata": {},
     "output_type": "execute_result"
    }
   ],
   "source": [
    "x = torch.rand(4, block_size, vocab_size)\n",
    "att = Attention(6)\n",
    "att(x).shape"
   ]
  },
  {
   "cell_type": "code",
   "execution_count": null,
   "id": "63d81641-f331-4341-822d-eeada13a50cc",
   "metadata": {},
   "outputs": [],
   "source": [
    "hidden_size = 100\n",
    "\n",
    "class Transformer(nn.Module):    \n",
    "    \n",
    "    def __init__(self):\n",
    "        super().__init__()\n",
    "        self.embed = nn.Embedding(vocab_size, hidden_size)\n",
    "\n",
    "    # (B, L) -> (B, L, C)\n",
    "    def forward(self, x):\n",
    "        y = self.embed(x)\n",
    "        return y\n",
    "            \n",
    "model = BigramModel()\n",
    "optim = torch.optim.Adam(model.parameters())\n",
    "model(x).shape"
   ]
  }
 ],
 "metadata": {
  "kernelspec": {
   "display_name": "Python 3 (ipykernel)",
   "language": "python",
   "name": "python3"
  },
  "language_info": {
   "codemirror_mode": {
    "name": "ipython",
    "version": 3
   },
   "file_extension": ".py",
   "mimetype": "text/x-python",
   "name": "python",
   "nbconvert_exporter": "python",
   "pygments_lexer": "ipython3",
   "version": "3.10.8"
  }
 },
 "nbformat": 4,
 "nbformat_minor": 5
}
