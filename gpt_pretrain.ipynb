{
 "cells": [
  {
   "cell_type": "markdown",
   "id": "1eb017a5-51b3-472b-af7c-f9d7d7e761db",
   "metadata": {},
   "source": [
    "# Let's build GPT - Pre-training Exercise\n",
    "\n",
    "The notebook contains exercise from [\"Let's build GPT: from scratch, in code, spelled out\"](https://www.youtube.com/watch?v=kCc8FmEb1nY&t=3729s) lecture\n",
    "\n",
    "> EX3: Find a dataset that is very large, so large that you can't see a gap between train and val loss. Pretrain the transformer on this data, then initialize with that model and finetune it on tiny shakespeare with a smaller number of steps and lower learning rate. Can you obtain a lower validation loss by the use of pretraining?\n",
    "\n",
    "We will use the [bookcorpus](https://huggingface.co/datasets/bookcorpus) dataset which contains 4629 MB of text data for pretraining. \n",
    "\n",
    "To see the effect of pre-training, we will perform two experiement\n",
    "1. Training with only tiny shakespeare dataset\n",
    "1. First pretraining with bookcorpus dataset, then fine-tune with tiny shakespeare dataset "
   ]
  },
  {
   "cell_type": "code",
   "execution_count": null,
   "id": "233d5952-a438-48be-8614-4ef456ebd94c",
   "metadata": {},
   "outputs": [],
   "source": [
    "!pip install datasets;"
   ]
  },
  {
   "cell_type": "code",
   "execution_count": null,
   "id": "0cc556d8-51e9-4c98-8851-d73ca7535e51",
   "metadata": {},
   "outputs": [],
   "source": [
    "from datasets import list_datasets, load_dataset\n",
    "import torch\n",
    "import torch.nn as nn\n",
    "import torch.nn.functional as F\n",
    "import matplotlib.pyplot as plot\n",
    "from datetime import datetime"
   ]
  },
  {
   "cell_type": "code",
   "execution_count": 3,
   "id": "6db4190f-8f71-45ed-9f43-109847a4e6f4",
   "metadata": {},
   "outputs": [],
   "source": [
    "device = torch.device(\"cuda\") if torch.cuda.is_available() else torch.device(\"cpu\")"
   ]
  },
  {
   "cell_type": "code",
   "execution_count": 4,
   "id": "0676c0f2-cb30-45ca-8ca0-5a76c967fff6",
   "metadata": {},
   "outputs": [],
   "source": [
    "all_chars = \" !$&',-.3:;?ABCDEFGHIJKLMNOPQRSTUVWXYZabcdefghijklmnopqrstuvwxyz`\\n\"\n",
    "ctoi = {c:i for i,c in enumerate(all_chars)}\n",
    "itoc = {i:c for i,c in enumerate(all_chars)}\n",
    "\n",
    "unknown_i = len(all_chars)\n",
    "vocab_size = len(all_chars) + 1"
   ]
  },
  {
   "cell_type": "code",
   "execution_count": 5,
   "id": "cb9b0382-89c6-4c71-a60d-c26357cf30de",
   "metadata": {},
   "outputs": [],
   "source": [
    "# return list of int\n",
    "def encode(txt):\n",
    "    return [ctoi.get(c, unknown_i) for c in txt]\n",
    "\n",
    "def decode(x):\n",
    "    return \"\".join([itoc.get(i, \"_\") for i in x])"
   ]
  },
  {
   "cell_type": "markdown",
   "id": "fa19a5ef-4143-4312-8a0a-9ae2265d0a82",
   "metadata": {},
   "source": [
    "## Loading bookcorpus Dataset"
   ]
  },
  {
   "cell_type": "code",
   "execution_count": 6,
   "id": "d64a7fd3-b01e-4804-a383-8206610502d2",
   "metadata": {},
   "outputs": [],
   "source": [
    "dataset = load_dataset(\"bookcorpus\", streaming=True, split=\"train\")"
   ]
  },
  {
   "cell_type": "code",
   "execution_count": 7,
   "id": "d2cd28f1-2595-4c3c-b1d8-52e7e8c2bf2a",
   "metadata": {},
   "outputs": [
    {
     "data": {
      "text/plain": [
       "{'text': 'usually , he would be tearing around the living room , playing with his toys .'}"
      ]
     },
     "execution_count": 7,
     "metadata": {},
     "output_type": "execute_result"
    }
   ],
   "source": [
    "next(iter(dataset))"
   ]
  },
  {
   "cell_type": "code",
   "execution_count": 8,
   "id": "f89bcf10-63f5-48de-bc52-1cb05270508e",
   "metadata": {},
   "outputs": [],
   "source": [
    "valid_ds = dataset.take(100000)\n",
    "train_ds = dataset.skip(100000)"
   ]
  },
  {
   "cell_type": "code",
   "execution_count": 9,
   "id": "225cd70f-4cf5-4135-a71b-f63d36c0ee61",
   "metadata": {},
   "outputs": [],
   "source": [
    "train_itr = iter(train_ds)"
   ]
  },
  {
   "cell_type": "code",
   "execution_count": 10,
   "id": "beee13df-e563-4bfd-80a9-1546026e300b",
   "metadata": {},
   "outputs": [
    {
     "data": {
      "text/plain": [
       "[\"he honestly cared for mia-anyone could see that-but what would he do if he knew she carried another man 's child ?\",\n",
       " 'he would leave her .',\n",
       " 'it was that simple .',\n",
       " 'should she lie to mia ?',\n",
       " \"pretend it was n't so ?\",\n",
       " 'that would comfort her more than the truth .',\n",
       " \"but one look at mia 's face told her it was too late for lies .\",\n",
       " \"`` i 'm sorry , '' fila said .\",\n",
       " \"`` it 's hopeless , is n't it ? ''\",\n",
       " \"tears streaked down mia 's cheeks .\"]"
      ]
     },
     "execution_count": 10,
     "metadata": {},
     "output_type": "execute_result"
    }
   ],
   "source": [
    "txt = [next(train_itr)[\"text\"] for _ in range(10)]\n",
    "txt"
   ]
  },
  {
   "cell_type": "code",
   "execution_count": 11,
   "id": "74157983-ceef-4d38-9590-450879e2da85",
   "metadata": {},
   "outputs": [
    {
     "data": {
      "text/plain": [
       "'hello'"
      ]
     },
     "execution_count": 11,
     "metadata": {},
     "output_type": "execute_result"
    }
   ],
   "source": [
    "x = encode(\"hello\")\n",
    "decode(x)"
   ]
  },
  {
   "cell_type": "code",
   "execution_count": 12,
   "id": "6237ad9f-1c57-45f6-8b0e-7c84ff5f91d2",
   "metadata": {},
   "outputs": [],
   "source": [
    "iter_size = 20\n",
    "data_itr = {\n",
    " \"train\": iter(train_ds),\n",
    " \"valid\": iter(valid_ds),\n",
    "}\n",
    "\n",
    "# return a long string\n",
    "def step(split):\n",
    "    global data_itr\n",
    "    itr = data_itr[split]\n",
    "    \n",
    "    try: \n",
    "        data = [next(itr)[\"text\"] for _ in range(iter_size)] # list of string\n",
    "    except StopIteration:\n",
    "        data_iter[split] =  iter(train_ds) if split == \"train\" else iter(valid_ds)\n",
    "        data = [next(data_iter[split])[\"text\"] for _ in range(iter_size)]\n",
    "        \n",
    "    txt = \"\".join(data)\n",
    "    return txt\n",
    "    \n",
    "\n",
    "# (B, L)\n",
    "def book_next_batch(split=\"train\", block_size=32, batch_size=32):\n",
    "    txt = \"\"\n",
    "    batch_n = 0\n",
    "    \n",
    "    while(batch_n < batch_size): \n",
    "        txt += step(split)\n",
    "        batch_n = (len(txt)-1) // block_size\n",
    "     \n",
    "    x = torch.tensor(encode(txt), device=device)\n",
    "    y = x[1:]\n",
    "    end_idx = batch_size*block_size\n",
    "    xb = x[:end_idx].view(-1, block_size)\n",
    "    yb = y[:end_idx].view(-1, block_size)\n",
    "            \n",
    "    return xb, yb\n"
   ]
  },
  {
   "cell_type": "code",
   "execution_count": 13,
   "id": "f09635ea-f79f-493b-840c-baedf43aa105",
   "metadata": {},
   "outputs": [
    {
     "data": {
      "text/plain": [
       "torch.Size([32, 32])"
      ]
     },
     "execution_count": 13,
     "metadata": {},
     "output_type": "execute_result"
    }
   ],
   "source": [
    "xb, yb = book_next_batch()\n",
    "xb.shape"
   ]
  },
  {
   "cell_type": "code",
   "execution_count": 14,
   "id": "9f4c66ec-3adf-4a0a-a686-e2b462f3c2f5",
   "metadata": {},
   "outputs": [
    {
     "data": {
      "text/plain": [
       "(tensor([ 0, 40, 52, 58, 49, 41,  0, 56, 42, 42,  0, 57, 45, 38, 57,  6, 39, 58,\n",
       "         57,  0, 60, 45, 38, 57,  0, 60, 52, 58, 49, 41,  0, 45],\n",
       "        device='cuda:0'),\n",
       " tensor([40, 52, 58, 49, 41,  0, 56, 42, 42,  0, 57, 45, 38, 57,  6, 39, 58, 57,\n",
       "          0, 60, 45, 38, 57,  0, 60, 52, 58, 49, 41,  0, 45, 42],\n",
       "        device='cuda:0'))"
      ]
     },
     "execution_count": 14,
     "metadata": {},
     "output_type": "execute_result"
    }
   ],
   "source": [
    "xb[1], yb[1]"
   ]
  },
  {
   "cell_type": "code",
   "execution_count": 15,
   "id": "fa82fec4-ab5b-4897-9bff-af7bd2a95be5",
   "metadata": {},
   "outputs": [
    {
     "data": {
      "text/plain": [
       "(\"g . ''ned led the way into the d\", \" . ''ned led the way into the di\")"
      ]
     },
     "execution_count": 15,
     "metadata": {},
     "output_type": "execute_result"
    }
   ],
   "source": [
    "xb, yb = book_next_batch()\n",
    "x = xb[1].tolist()\n",
    "y = yb[1].tolist()\n",
    "decode(x), decode(y)"
   ]
  },
  {
   "cell_type": "code",
   "execution_count": 16,
   "id": "2f3db085-8b36-471e-97c8-190e7550a931",
   "metadata": {},
   "outputs": [
    {
     "name": "stdout",
     "output_type": "stream",
     "text": [
      "1024\n",
      "0\n"
     ]
    }
   ],
   "source": [
    "ci = [ci for x in xb for ci in x]\n",
    "unknon_count = [i for i in ci if i == unknown_i]\n",
    "\n",
    "print(len(ci))\n",
    "print(len(unknon_count))"
   ]
  },
  {
   "cell_type": "markdown",
   "id": "81b71e11-af7d-4dcf-9612-89fc369eb811",
   "metadata": {
    "tags": []
   },
   "source": [
    "## Loading Tiny Shakespeare Dataset"
   ]
  },
  {
   "cell_type": "code",
   "execution_count": 17,
   "id": "4138da33-f913-4024-95bb-aeec21c68a5c",
   "metadata": {},
   "outputs": [
    {
     "name": "stdout",
     "output_type": "stream",
     "text": [
      "--2023-04-01 08:53:37--  https://raw.githubusercontent.com/karpathy/char-rnn/master/data/tinyshakespeare/input.txt\n",
      "Resolving raw.githubusercontent.com (raw.githubusercontent.com)... 185.199.111.133, 185.199.109.133, 185.199.108.133, ...\n",
      "Connecting to raw.githubusercontent.com (raw.githubusercontent.com)|185.199.111.133|:443... connected.\n",
      "HTTP request sent, awaiting response... 200 OK\n",
      "Length: 1115394 (1.1M) [text/plain]\n",
      "Saving to: ‘input.txt.3’\n",
      "\n",
      "input.txt.3         100%[===================>]   1.06M  --.-KB/s    in 0.05s   \n",
      "\n",
      "2023-04-01 08:53:37 (23.4 MB/s) - ‘input.txt.3’ saved [1115394/1115394]\n",
      "\n"
     ]
    }
   ],
   "source": [
    "!wget https://raw.githubusercontent.com/karpathy/char-rnn/master/data/tinyshakespeare/input.txt"
   ]
  },
  {
   "cell_type": "code",
   "execution_count": 18,
   "id": "ba0751d6-58d8-4ad2-8aa4-1968fa53c95e",
   "metadata": {},
   "outputs": [
    {
     "data": {
      "text/plain": [
       "'First Citizen:\\nBefore we proceed any further, hear me speak.\\n\\nAll:\\nSpeak, speak.\\n\\nFirst Citizen:\\nYou'"
      ]
     },
     "execution_count": 18,
     "metadata": {},
     "output_type": "execute_result"
    }
   ],
   "source": [
    "txt = open('input.txt', 'r').read()\n",
    "txt[0:100]"
   ]
  },
  {
   "cell_type": "code",
   "execution_count": 19,
   "id": "98845857-1721-4d88-a9f4-74d01ceae08f",
   "metadata": {},
   "outputs": [],
   "source": [
    "data = encode(txt)\n",
    "i = int(0.8 * len(data))\n",
    "\n",
    "shake_data = {\n",
    "    \"train\": data[0:i],\n",
    "    \"valid\": data[i:],\n",
    "}"
   ]
  },
  {
   "cell_type": "code",
   "execution_count": 20,
   "id": "e11cbd5f-f518-4058-b90e-c2c23d59a714",
   "metadata": {},
   "outputs": [],
   "source": [
    "def shake_next_batch(split=\"train\", block_size=32, batch_size=32):\n",
    "    data = shake_data[split]\n",
    "    xi = torch.randint(0, len(data)-block_size, (batch_size,))\n",
    "    xb = torch.tensor([data[i:i+block_size] for i in xi], device=device)\n",
    "    yb = torch.tensor([data[i+1:i+block_size+1] for i in xi], device=device)\n",
    "    \n",
    "    return xb, yb"
   ]
  },
  {
   "cell_type": "code",
   "execution_count": 21,
   "id": "06e6f90b-be4a-4e1c-8cc6-12f8f60bdd05",
   "metadata": {},
   "outputs": [
    {
     "data": {
      "text/plain": [
       "torch.Size([32, 32])"
      ]
     },
     "execution_count": 21,
     "metadata": {},
     "output_type": "execute_result"
    }
   ],
   "source": [
    "x, y = shake_next_batch()\n",
    "x.shape"
   ]
  },
  {
   "cell_type": "markdown",
   "id": "195affac-4d14-4a4a-8fa5-70d64d0d723e",
   "metadata": {},
   "source": [
    "## Transfomer Model"
   ]
  },
  {
   "cell_type": "code",
   "execution_count": 22,
   "id": "8bd26e6d-9872-4c5e-97b3-d56aa6b9602d",
   "metadata": {},
   "outputs": [],
   "source": [
    "#!/usr/bin/env python\n",
    "from dataclasses import dataclass\n",
    "\n",
    "import torch\n",
    "import torch.nn as nn\n",
    "import torch.nn.functional as F\n",
    "\n",
    "\n",
    "@dataclass\n",
    "class Config:\n",
    "    vocab_size: int\n",
    "    block_size: int\n",
    "    emb_size: int\n",
    "    head_num: int\n",
    "    head_size: int\n",
    "    layer_num: int\n",
    "    ctoi: dict\n",
    "    dropout: float\n",
    "\n",
    "\n",
    "class MultiHeadAttension(nn.Module):\n",
    "\n",
    "    def __init__(self, c: Config):\n",
    "        super().__init__()\n",
    "        assert c.emb_size / c.head_size == c.head_num\n",
    "\n",
    "        self.head_size = c.head_size\n",
    "        self.head_num = c.head_num\n",
    "        self.attn = nn.Linear(\n",
    "            c.emb_size, 3 * c.head_num * c.head_size, bias=False)\n",
    "        self.ffn = nn.Linear(c.head_num * c.head_size, c.emb_size, bias=False)\n",
    "\n",
    "        self.attn_dropout = nn.Dropout(c.dropout)\n",
    "        self.resid_dropout = nn.Dropout(c.dropout)\n",
    "\n",
    "    # x: (B, L, C)\n",
    "    # return: (B, L, C)\n",
    "    def forward(self, x):\n",
    "        B, L, C = x.shape\n",
    "\n",
    "        z = self.attn(x)  # (B, L, 3 * hn * hs)\n",
    "        k, q, v = torch.split(\n",
    "            z, self.head_num * self.head_size, dim=2)  # (B, L, hn * hs)\n",
    "\n",
    "        k = k.view(B, L, self.head_num, self.head_size).permute(\n",
    "            0, 2, 1, 3)  # (B, hn, L, hs)\n",
    "        q = q.view(B, L, self.head_num, self.head_size).permute(0, 2, 1, 3)\n",
    "        v = v.view(B, L, self.head_num, self.head_size).permute(0, 2, 1, 3)\n",
    "\n",
    "        q = q.permute(0, 1, 3, 2)  # (B, hn, hs, L)\n",
    "        attn = (k @ q) / self.head_size**0.5  # (B, hn, L, L)\n",
    "        mask = torch.tril(torch.ones(L, L)) == 0\n",
    "        mask = mask.to(x.device)\n",
    "        attn = attn.masked_fill(mask, -float('inf'))  # (B, hn, L, L)\n",
    "        attn = F.softmax(attn, dim=3)\n",
    "        attn = self.attn_dropout(attn)\n",
    "\n",
    "        y = attn @ v  # (B, hn, L, hs)\n",
    "        y = y.permute(0, 2, 1, 3)  # (B, L, hn, hs)\n",
    "        y = y.contiguous().view(B, L, -1)  # (B, L, hn * hs)\n",
    "        y = self.ffn(y)  # (B, L, C)\n",
    "        y = self.resid_dropout(y)\n",
    "\n",
    "        return y\n",
    "\n",
    "\n",
    "class FeedForward(nn.Module):\n",
    "\n",
    "    def __init__(self, c: Config):\n",
    "        super().__init__()\n",
    "        self.linear1 = nn.Linear(c.emb_size, 2 * c.emb_size)\n",
    "        self.linear2 = nn.Linear(2 * c.emb_size, c.emb_size)\n",
    "        self.dropout = nn.Dropout(c.dropout)\n",
    "\n",
    "    # (B, L, C)\n",
    "    def forward(self, x):\n",
    "        y = self.linear1(x)\n",
    "        y = torch.relu(y)\n",
    "        y = self.linear2(y)\n",
    "        y = self.dropout(y)\n",
    "\n",
    "        return y\n",
    "\n",
    "\n",
    "class Block(nn.Module):\n",
    "\n",
    "    def __init__(self, c: Config):\n",
    "        super().__init__()\n",
    "\n",
    "        assert c.emb_size % c.head_size == 0\n",
    "        assert c.emb_size / c.head_size == c.head_num\n",
    "\n",
    "        self.mha = MultiHeadAttension(c)\n",
    "        self.lnorm1 = nn.LayerNorm(c.emb_size)\n",
    "        self.lnorm2 = nn.LayerNorm(c.emb_size)\n",
    "        self.ffn = FeedForward(c)\n",
    "\n",
    "    # x: (B, L, emb)\n",
    "    def forward(self, x):\n",
    "        y = self.mha(x) + x\n",
    "        y = self.lnorm1(y)\n",
    "        y = self.ffn(y) + y\n",
    "        y = self.lnorm2(y)\n",
    "        return y\n",
    "\n",
    "\n",
    "class Transformer(nn.Module):\n",
    "\n",
    "    def __init__(self, c: Config):\n",
    "        super().__init__()\n",
    "        self.config = c\n",
    "        self.embed = nn.Embedding(c.vocab_size, c.emb_size)\n",
    "        self.dropout = nn.Dropout(c.dropout)\n",
    "        self.blocks = nn.Sequential(\n",
    "            *[Block(c) for _ in range(c.layer_num)]\n",
    "        )\n",
    "        self.proj = nn.Linear(c.emb_size, c.vocab_size)\n",
    "\n",
    "    # return (L, C)\n",
    "    def pos_encoding(self, x):\n",
    "        B, L, C = x.shape\n",
    "        pos = torch.arange(0, L).view(-1, 1)  # (L, 1)\n",
    "        div = 2 * torch.arange(0, C) / C  # (C)\n",
    "        div = torch.pow(10000, div)  # (C)\n",
    "        e = pos / div\n",
    "        pe = torch.zeros(L, C)\n",
    "        pe[:, 0::2] = torch.sin(e[:, 0::2])\n",
    "        pe[:, 1::2] = torch.cos(e[:, 1::2])\n",
    "\n",
    "        pe = pe.to(x.device)\n",
    "        return pe\n",
    "\n",
    "    # (B, L) -> (B, L, C)\n",
    "    def forward(self, x):        \n",
    "        y = self.embed(x)  # (B, L, emb)\n",
    "        y = y + self.pos_encoding(y)  # (B, L, emb)\n",
    "        y = self.dropout(y)\n",
    "        y = self.blocks(y)  # (B, L, emb)\n",
    "        y = self.proj(y)  # (B, L, vocab)\n",
    "\n",
    "        return y\n",
    "\n",
    "    @torch.no_grad()\n",
    "    def sample(self, max_len):\n",
    "        device = next(self.parameters()).device\n",
    "    \n",
    "        self.eval()\n",
    "        itoc = {i: c for c, i in self.config.ctoi.items()}\n",
    "        tks = [0] * self.config.block_size\n",
    "\n",
    "        for i in range(max_len):\n",
    "            ctx = torch.tensor(tks[i:i+self.config.block_size], device=device)  # (L)\n",
    "            ctx = ctx.view(1, -1)  # (B, L)\n",
    "\n",
    "            logits = self.forward(ctx)  # (B, L, C)\n",
    "            probs = F.softmax(logits, dim=2)  # (B, L, C)\n",
    "            # (C), # the last in the sequence is the newly generated\n",
    "            probs = probs[0, -1, :]\n",
    "            yi = torch.multinomial(probs, 1)\n",
    "            tks.append(yi.item())\n",
    "\n",
    "        tks = tks[self.config.block_size:]\n",
    "        chars = [itoc.get(t, \"_\") for t in tks]\n",
    "        self.train()\n",
    "        return \"\".join(chars)"
   ]
  },
  {
   "cell_type": "code",
   "execution_count": 23,
   "id": "25adf26d-f0e4-457e-96a7-6403def0625e",
   "metadata": {},
   "outputs": [],
   "source": [
    "def fit(next_batch_fn, batch_size, epoch, eval_n, optim):\n",
    "    lossi = []\n",
    "    model.train()\n",
    "    eval_iterval = epoch // eval_n\n",
    "    \n",
    "    for i in range(epoch):\n",
    "        optim.zero_grad()\n",
    "        xb, yb = next_batch_fn(\"train\", cfg.block_size, batch_size) # (B, L) \n",
    "        logits = model(xb)\n",
    "        B, L, C = logits.shape\n",
    "\n",
    "        logits = logits.view(B*L, C)\n",
    "        yb = yb.view(-1)\n",
    "        loss = F.cross_entropy(logits, yb)\n",
    "        loss.backward()\n",
    "        optim.step()\n",
    "\n",
    "        if i % eval_iterval == 0:\n",
    "            tr_loss = eval_split(model, next_batch_fn, \"train\", cfg.block_size, batch_size, eval_size=256)\n",
    "            va_loss = eval_split(model, next_batch_fn, \"valid\", cfg.block_size, batch_size, eval_size=256)\n",
    "            lossi.append((tr_loss, va_loss))\n",
    "            \n",
    "            t = datetime.now()\n",
    "            t = t.strftime(\"%H:%M:%S\")\n",
    "            itr_i = i // eval_iterval\n",
    "            print(f\"{itr_i:2d}/{eval_n:2d} [{t}]: {tr_loss:.4f} {va_loss:.4f}\")\n",
    "            \n",
    "    return lossi"
   ]
  },
  {
   "cell_type": "code",
   "execution_count": 24,
   "id": "2e81522b-4595-47ee-ba48-d0c975a8e865",
   "metadata": {},
   "outputs": [],
   "source": [
    "@torch.no_grad()\n",
    "def eval_split(model, next_batch_fn, split, block_size, batch_size, eval_size):\n",
    "    model.eval()\n",
    "    n = eval_size // batch_size\n",
    "    lossi = []\n",
    "\n",
    "    for _ in range(n):\n",
    "        xb, yb = next_batch_fn(split, block_size, batch_size)\n",
    "        logits = model(xb)\n",
    "        B, L, C = logits.shape\n",
    "        logits = logits.view(B*L, C)\n",
    "        yb = yb.view(-1)\n",
    "        loss = F.cross_entropy(logits, yb)\n",
    "        lossi.append(loss.item())\n",
    "\n",
    "    model.train()\n",
    "    return sum(lossi) / n"
   ]
  },
  {
   "cell_type": "code",
   "execution_count": 25,
   "id": "6c6fb749-a4aa-4aae-acf2-a1780994a448",
   "metadata": {},
   "outputs": [
    {
     "data": {
      "text/plain": [
       "('2,138,691', device(type='cuda'))"
      ]
     },
     "execution_count": 25,
     "metadata": {},
     "output_type": "execute_result"
    }
   ],
   "source": [
    "cfg = Config(\n",
    "    vocab_size=vocab_size,\n",
    "    block_size=512,\n",
    "    emb_size=256,\n",
    "    head_size=64,\n",
    "    head_num=256//64,\n",
    "    layer_num=4,\n",
    "    ctoi=ctoi,\n",
    "    dropout=0.2\n",
    ")\n",
    "\n",
    "model = Transformer(cfg)\n",
    "model = model.to(device)\n",
    "param_n = sum([_.numel() for _ in model.parameters()])\n",
    "\n",
    "f\"{param_n:,}\", device"
   ]
  },
  {
   "cell_type": "markdown",
   "id": "fe750a7a-cae2-4323-b868-702bb6f9f0a7",
   "metadata": {},
   "source": [
    "## Experiment 1: Training with Tiny Shakespeare\n",
    "\n",
    "We will first train with tiny shakespeare dataset. \n",
    "\n",
    "Two training cycles are performed, one with default learning rate and another with smaller learning rate. This is done to control amount of training is done roughly the same for both experiments."
   ]
  },
  {
   "cell_type": "code",
   "execution_count": 26,
   "id": "a76c8173-98fb-4757-9914-f2530756dc82",
   "metadata": {},
   "outputs": [
    {
     "name": "stdout",
     "output_type": "stream",
     "text": [
      " 0/20 [08:53:39]: 3.6238 3.6415\n",
      " 1/20 [08:54:03]: 1.9659 2.1003\n",
      " 2/20 [08:54:26]: 1.6297 1.8573\n",
      " 3/20 [08:54:50]: 1.5332 1.8118\n",
      " 4/20 [08:55:14]: 1.4615 1.7953\n",
      " 5/20 [08:55:38]: 1.4229 1.7505\n",
      " 6/20 [08:56:02]: 1.3963 1.7603\n",
      " 7/20 [08:56:25]: 1.3626 1.7416\n",
      " 8/20 [08:56:49]: 1.3357 1.6765\n",
      " 9/20 [08:57:13]: 1.3168 1.7391\n",
      "10/20 [08:57:37]: 1.3134 1.6914\n",
      "11/20 [08:58:00]: 1.2900 1.7045\n",
      "12/20 [08:58:24]: 1.2885 1.6927\n",
      "13/20 [08:58:48]: 1.2619 1.7044\n",
      "14/20 [08:59:12]: 1.2662 1.6531\n",
      "15/20 [08:59:36]: 1.2357 1.6323\n",
      "16/20 [08:59:59]: 1.2328 1.7100\n",
      "17/20 [09:00:23]: 1.2394 1.6952\n",
      "18/20 [09:00:47]: 1.2182 1.6697\n",
      "19/20 [09:01:11]: 1.2225 1.6493\n"
     ]
    }
   ],
   "source": [
    "optim = torch.optim.Adam(model.parameters())\n",
    "lossi = []\n",
    "\n",
    "los = fit(shake_next_batch, batch_size=32, epoch=10000, eval_n=20, optim=optim)\n",
    "lossi += los"
   ]
  },
  {
   "cell_type": "code",
   "execution_count": 27,
   "id": "67a52a28-ac74-4523-bb0b-b270fbbba0cb",
   "metadata": {},
   "outputs": [
    {
     "name": "stdout",
     "output_type": "stream",
     "text": [
      " 0/20 [09:01:34]: 1.2009 1.6941\n",
      " 1/20 [09:01:47]: 1.1910 1.6594\n",
      " 2/20 [09:01:59]: 1.1777 1.6733\n",
      " 3/20 [09:02:11]: 1.1732 1.6394\n",
      " 4/20 [09:02:23]: 1.1648 1.6921\n",
      " 5/20 [09:02:35]: 1.1616 1.6888\n",
      " 6/20 [09:02:47]: 1.1725 1.6541\n",
      " 7/20 [09:02:59]: 1.1646 1.6562\n",
      " 8/20 [09:03:11]: 1.1710 1.6471\n",
      " 9/20 [09:03:23]: 1.1645 1.6651\n",
      "10/20 [09:03:35]: 1.1550 1.6844\n",
      "11/20 [09:03:47]: 1.1437 1.6615\n",
      "12/20 [09:03:59]: 1.1521 1.6369\n",
      "13/20 [09:04:11]: 1.1434 1.6612\n",
      "14/20 [09:04:23]: 1.1485 1.6436\n",
      "15/20 [09:04:35]: 1.1560 1.6904\n",
      "16/20 [09:04:47]: 1.1557 1.6384\n",
      "17/20 [09:04:59]: 1.1514 1.6645\n",
      "18/20 [09:05:11]: 1.1479 1.6829\n",
      "19/20 [09:05:23]: 1.1447 1.6392\n"
     ]
    }
   ],
   "source": [
    "optim = torch.optim.Adam(model.parameters(), lr=0.0001)\n",
    "los = fit(shake_next_batch, batch_size=32, epoch=5000, eval_n=20, optim=optim)\n",
    "lossi += los"
   ]
  },
  {
   "cell_type": "code",
   "execution_count": 28,
   "id": "88d9be35-fe8e-4075-8523-a7c42bbd082c",
   "metadata": {},
   "outputs": [
    {
     "data": {
      "text/plain": [
       "[<matplotlib.lines.Line2D at 0x7fdb28a7cb80>]"
      ]
     },
     "execution_count": 28,
     "metadata": {},
     "output_type": "execute_result"
    },
    {
     "data": {
      "image/png": "[encoded data removed]",
      "text/plain": [
       "<Figure size 432x288 with 1 Axes>"
      ]
     },
     "metadata": {
      "needs_background": "light"
     },
     "output_type": "display_data"
    }
   ],
   "source": [
    "tr_loss = [t for t, v in lossi]\n",
    "va_loss = [v for t, v in lossi]\n",
    "\n",
    "plot.plot(tr_loss, \"b\")\n",
    "plot.plot(va_loss, \"r\")"
   ]
  },
  {
   "cell_type": "code",
   "execution_count": 29,
   "id": "335ae91f-39a2-4d06-ac7d-ed97934eaeeb",
   "metadata": {},
   "outputs": [
    {
     "data": {
      "text/plain": [
       "('1.1426', '1.6538')"
      ]
     },
     "execution_count": 29,
     "metadata": {},
     "output_type": "execute_result"
    }
   ],
   "source": [
    "tr_loss = eval_split(model, shake_next_batch, \"train\", cfg.block_size, batch_size=32, eval_size=2056)\n",
    "va_loss = eval_split(model, shake_next_batch, \"valid\", cfg.block_size, batch_size=32, eval_size=2056)\n",
    "\n",
    "f\"{tr_loss:.4f}\", f\"{va_loss:.4f}\""
   ]
  },
  {
   "cell_type": "code",
   "execution_count": 30,
   "id": "e1ce1373-7d19-4ddc-b014-5abe5830c32d",
   "metadata": {},
   "outputs": [
    {
     "name": "stdout",
     "output_type": "stream",
     "text": [
      "sir.\n",
      "\n",
      "JULIET:\n",
      "Pasting Edward's grace is in they no more.\n",
      "\n",
      "JULIET:\n",
      "I cannot give it me but distrangely action.\n",
      "\n",
      "JULIET:\n",
      "A company of your resolve rich majesty;\n",
      "Progest's meltness that were will make us.\n",
      "Provost:\n",
      "Poor like the except her was to lie again.\n",
      "\n",
      "LADY CAPULET:\n",
      "Methou wilt us yours, sir: I cannot see thy\n",
      "man:\n",
      "Pray, sir, but they do not let me buy to say\n",
      "you have been but\n",
      "a crafted which dews me slew to deep him.\n",
      "\n",
      "JULIET:\n",
      "No.\n",
      "\n",
      "LADY CAPULET:\n",
      "What, now? Nay, marry, you\n",
      "officer:\n",
      "\n",
      "JULIET:\n",
      "So n\n"
     ]
    }
   ],
   "source": [
    "print(model.sample(500))"
   ]
  },
  {
   "cell_type": "markdown",
   "id": "c62d4d4d-b034-417d-bf18-fc611924d281",
   "metadata": {},
   "source": [
    "# Experiment 2: Pre-train and Fine-tune"
   ]
  },
  {
   "cell_type": "code",
   "execution_count": 31,
   "id": "c713d5e8-e1c1-494d-a4aa-b4994ed12cbb",
   "metadata": {},
   "outputs": [],
   "source": [
    "model = Transformer(cfg)\n",
    "model = model.to(device)\n",
    "param_n = sum([_.numel() for _ in model.parameters()])"
   ]
  },
  {
   "cell_type": "code",
   "execution_count": 32,
   "id": "5c023d2d-7fbd-4153-85cd-722edc54f884",
   "metadata": {},
   "outputs": [
    {
     "name": "stdout",
     "output_type": "stream",
     "text": [
      " 0/20 [09:05:40]: 3.4727 3.4898\n",
      " 1/20 [09:06:15]: 2.0707 2.0775\n",
      " 2/20 [09:06:50]: 1.5411 1.5910\n",
      " 3/20 [09:07:24]: 1.4555 1.5003\n",
      " 4/20 [09:08:00]: 1.4194 1.5459\n",
      " 5/20 [09:08:35]: 1.4407 1.4776\n",
      " 6/20 [09:09:07]: 1.4253 1.3892\n",
      " 7/20 [09:09:43]: 1.2366 1.4155\n",
      " 8/20 [09:10:19]: 1.2703 1.4474\n",
      " 9/20 [09:10:54]: 1.2749 1.2969\n",
      "10/20 [09:11:29]: 1.2277 1.2406\n",
      "11/20 [09:12:05]: 1.2849 1.2307\n",
      "12/20 [09:12:41]: 1.1800 1.2625\n",
      "13/20 [09:13:16]: 1.1926 1.1617\n",
      "14/20 [09:13:51]: 1.2235 1.1747\n",
      "15/20 [09:14:27]: 1.1717 1.1917\n",
      "16/20 [09:15:04]: 1.2608 1.2299\n",
      "17/20 [09:15:40]: 1.1498 1.3073\n",
      "18/20 [09:16:17]: 1.1738 1.3302\n",
      "19/20 [09:16:52]: 1.1341 1.1730\n"
     ]
    }
   ],
   "source": [
    "optim = torch.optim.Adam(model.parameters())\n",
    "lossi = fit(book_next_batch, batch_size=32, epoch=10000, eval_n=20, optim=optim)"
   ]
  },
  {
   "cell_type": "code",
   "execution_count": 33,
   "id": "c5838b9f-774d-4b37-a662-8faceaf6326d",
   "metadata": {},
   "outputs": [
    {
     "data": {
      "text/plain": [
       "[<matplotlib.lines.Line2D at 0x7fdb28929280>]"
      ]
     },
     "execution_count": 33,
     "metadata": {},
     "output_type": "execute_result"
    },
    {
     "data": {
      "image/png": "[encoded data removed]",
      "text/plain": [
       "<Figure size 432x288 with 1 Axes>"
      ]
     },
     "metadata": {
      "needs_background": "light"
     },
     "output_type": "display_data"
    }
   ],
   "source": [
    "tr_loss = [t for t, v in lossi]\n",
    "va_loss = [v for t, v in lossi]\n",
    "\n",
    "plot.plot(tr_loss, \"b\")\n",
    "plot.plot(va_loss, \"r\")"
   ]
  },
  {
   "cell_type": "code",
   "execution_count": 34,
   "id": "51285fa2-04f3-4e37-9b9b-40c916abde30",
   "metadata": {},
   "outputs": [
    {
     "data": {
      "text/plain": [
       "('1.1731', '1.2005')"
      ]
     },
     "execution_count": 34,
     "metadata": {},
     "output_type": "execute_result"
    }
   ],
   "source": [
    "tr_loss = eval_split(model, book_next_batch, \"train\", cfg.block_size, batch_size=32, eval_size=2056)\n",
    "va_loss = eval_split(model, book_next_batch, \"valid\", cfg.block_size, batch_size=32, eval_size=2056)\n",
    "\n",
    "f\"{tr_loss:.4f}\", f\"{va_loss:.4f}\""
   ]
  },
  {
   "cell_type": "code",
   "execution_count": 35,
   "id": "7b2eba18-2894-4ed9-bd88-fb55ffd70bed",
   "metadata": {},
   "outputs": [
    {
     "name": "stdout",
     "output_type": "stream",
     "text": [
      "''laugh .i knew good .her gaze was too there .`` i 'm the first i have an as she was going to hurt with such you should be hurted and tried to talk about the holes , '' i asked , whiping everything i needed , gently moving on anything , and i had n't blushed down .cause the way i had been of f__king breaking the baire calm that i ready the two sofara dimma was a long and darter ignore .she lecked from the door .`` it was someone ? ''i se in a did , hell , he worked and stood a phone in my life ,\n"
     ]
    }
   ],
   "source": [
    "print(model.sample(500))"
   ]
  },
  {
   "cell_type": "markdown",
   "id": "cef87d2f-c699-4f0d-aa5f-cacfbe966503",
   "metadata": {},
   "source": [
    "### Fine-tuning"
   ]
  },
  {
   "cell_type": "code",
   "execution_count": 36,
   "id": "13c7ea60-3cea-473a-b9e6-b60c265929cf",
   "metadata": {},
   "outputs": [
    {
     "name": "stdout",
     "output_type": "stream",
     "text": [
      " 0/20 [09:17:35]: 4.2916 4.4264\n",
      " 1/20 [09:17:47]: 1.8348 1.8826\n",
      " 2/20 [09:17:59]: 1.6713 1.7511\n",
      " 3/20 [09:18:11]: 1.6076 1.7063\n",
      " 4/20 [09:18:23]: 1.5380 1.6565\n",
      " 5/20 [09:18:35]: 1.5117 1.6464\n",
      " 6/20 [09:18:47]: 1.4828 1.6345\n",
      " 7/20 [09:18:59]: 1.4493 1.6156\n",
      " 8/20 [09:19:11]: 1.4358 1.6139\n",
      " 9/20 [09:19:23]: 1.3989 1.5810\n",
      "10/20 [09:19:35]: 1.3741 1.6108\n",
      "11/20 [09:19:47]: 1.3699 1.5959\n",
      "12/20 [09:19:59]: 1.3699 1.6227\n",
      "13/20 [09:20:11]: 1.3609 1.5859\n",
      "14/20 [09:20:23]: 1.3415 1.5683\n",
      "15/20 [09:20:35]: 1.3103 1.5975\n",
      "16/20 [09:20:47]: 1.3061 1.5778\n",
      "17/20 [09:20:59]: 1.3058 1.5870\n",
      "18/20 [09:21:11]: 1.3162 1.5497\n",
      "19/20 [09:21:23]: 1.2984 1.5714\n"
     ]
    }
   ],
   "source": [
    "optim = torch.optim.Adam(model.parameters(), lr=0.0001) # default lr=0.001\n",
    "lossi = fit(shake_next_batch, batch_size=32, epoch=5000, eval_n=20, optim=optim)"
   ]
  },
  {
   "cell_type": "code",
   "execution_count": 37,
   "id": "c9f9155e-0c7f-490f-b1fd-b3252688e164",
   "metadata": {},
   "outputs": [
    {
     "data": {
      "text/plain": [
       "[<matplotlib.lines.Line2D at 0x7fdb28894ac0>]"
      ]
     },
     "execution_count": 37,
     "metadata": {},
     "output_type": "execute_result"
    },
    {
     "data": {
      "image/png": "[encoded data removed]",
      "text/plain": [
       "<Figure size 432x288 with 1 Axes>"
      ]
     },
     "metadata": {
      "needs_background": "light"
     },
     "output_type": "display_data"
    }
   ],
   "source": [
    "tr_loss = [t for t, v in lossi]\n",
    "va_loss = [v for t, v in lossi]\n",
    "\n",
    "plot.plot(tr_loss, \"b\")\n",
    "plot.plot(va_loss, \"r\")"
   ]
  },
  {
   "cell_type": "code",
   "execution_count": 38,
   "id": "872f31cf-49c0-4f0a-9ce3-ea09d827f2c0",
   "metadata": {},
   "outputs": [
    {
     "data": {
      "text/plain": [
       "('1.2973', '1.5862')"
      ]
     },
     "execution_count": 38,
     "metadata": {},
     "output_type": "execute_result"
    }
   ],
   "source": [
    "tr_loss = eval_split(model, shake_next_batch, \"train\", cfg.block_size, batch_size=32, eval_size=2056)\n",
    "va_loss = eval_split(model, shake_next_batch, \"valid\", cfg.block_size, batch_size=32, eval_size=2056)\n",
    "\n",
    "f\"{tr_loss:.4f}\", f\"{va_loss:.4f}\""
   ]
  },
  {
   "cell_type": "code",
   "execution_count": 40,
   "id": "c0ae52e1-1439-400a-806c-5fe31122b810",
   "metadata": {},
   "outputs": [
    {
     "name": "stdout",
     "output_type": "stream",
     "text": [
      "'marry?\n",
      "\n",
      "TANLET:\n",
      "It may confess' father I swear, enough,\n",
      "Tybalt, but no worth.\n",
      "\n",
      "LEONTES:\n",
      "He villain by that bloody here not the king, do.\n",
      "BRUTUS:\n",
      "Goo,\n",
      "I'll not stay me before you there must do it.\n",
      "\n",
      "KING RICHARD I:\n",
      "Which is I to us; sir.\n",
      "\n",
      "QUEN ELIZABETH:\n",
      "This is no man good lord; foes, sir,\n",
      "I cannot see him charge for yourselves by you.\n",
      "\n",
      "GLOUCESTER:\n",
      "You old it were slain for Norfolk.\n",
      "\n",
      "LISABELLA:\n",
      "The hatry smiles, may their disposed the parent,\n",
      "They are not but comsended, there do your honour Rome\n"
     ]
    }
   ],
   "source": [
    "print(model.sample(500))"
   ]
  },
  {
   "cell_type": "code",
   "execution_count": null,
   "id": "d881aa2c-023e-4e94-bdfb-af6ad4564682",
   "metadata": {},
   "outputs": [],
   "source": []
  }
 ],
 "metadata": {
  "kernelspec": {
   "display_name": "Python 3 (ipykernel)",
   "language": "python",
   "name": "python3"
  },
  "language_info": {
   "codemirror_mode": {
    "name": "ipython",
    "version": 3
   },
   "file_extension": ".py",
   "mimetype": "text/x-python",
   "name": "python",
   "nbconvert_exporter": "python",
   "pygments_lexer": "ipython3",
   "version": "3.10.8"
  }
 },
 "nbformat": 4,
 "nbformat_minor": 5
}
