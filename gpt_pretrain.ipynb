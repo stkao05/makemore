{
 "cells": [
  {
   "cell_type": "code",
   "execution_count": 5,
   "id": "233d5952-a438-48be-8614-4ef456ebd94c",
   "metadata": {},
   "outputs": [],
   "source": [
    "%%capture\n",
    "!pip install datasets;"
   ]
  },
  {
   "cell_type": "code",
   "execution_count": 6,
   "id": "0cc556d8-51e9-4c98-8851-d73ca7535e51",
   "metadata": {},
   "outputs": [],
   "source": [
    "from datasets import list_datasets, load_dataset\n",
    "import torch\n",
    "import torch.nn as nn\n",
    "import torch.nn.functional as F\n",
    "import matplotlib.pyplot as plot"
   ]
  },
  {
   "cell_type": "code",
   "execution_count": 14,
   "id": "6db4190f-8f71-45ed-9f43-109847a4e6f4",
   "metadata": {},
   "outputs": [],
   "source": [
    "device = torch.device(\"cuda\") if torch.cuda.is_available() else torch.device(\"cpu\")"
   ]
  },
  {
   "cell_type": "code",
   "execution_count": 7,
   "id": "0676c0f2-cb30-45ca-8ca0-5a76c967fff6",
   "metadata": {},
   "outputs": [],
   "source": [
    "all_chars = \" !$&',-.3:;?ABCDEFGHIJKLMNOPQRSTUVWXYZabcdefghijklmnopqrstuvwxyz`\\n\"\n",
    "ctoi = {c:i for i,c in enumerate(all_chars)}\n",
    "itoc = {i:c for i,c in enumerate(all_chars)}\n",
    "\n",
    "unknown_i = len(all_chars)\n",
    "vocab_size = len(all_chars) + 1"
   ]
  },
  {
   "cell_type": "code",
   "execution_count": 8,
   "id": "cb9b0382-89c6-4c71-a60d-c26357cf30de",
   "metadata": {},
   "outputs": [],
   "source": [
    "# return list of int\n",
    "def encode(txt):\n",
    "    return [ctoi.get(c, unknown_i) for c in txt]\n",
    "\n",
    "def decode(x):\n",
    "    return \"\".join([itoc.get(i, \"_\") for i in x])"
   ]
  },
  {
   "cell_type": "markdown",
   "id": "fa19a5ef-4143-4312-8a0a-9ae2265d0a82",
   "metadata": {},
   "source": [
    "## Book Data"
   ]
  },
  {
   "cell_type": "code",
   "execution_count": 9,
   "id": "d64a7fd3-b01e-4804-a383-8206610502d2",
   "metadata": {},
   "outputs": [],
   "source": [
    "dataset = load_dataset(\"bookcorpus\", streaming=True, split=\"train\")"
   ]
  },
  {
   "cell_type": "code",
   "execution_count": 10,
   "id": "d2cd28f1-2595-4c3c-b1d8-52e7e8c2bf2a",
   "metadata": {},
   "outputs": [
    {
     "data": {
      "text/plain": [
       "{'text': 'usually , he would be tearing around the living room , playing with his toys .'}"
      ]
     },
     "execution_count": 10,
     "metadata": {},
     "output_type": "execute_result"
    }
   ],
   "source": [
    "next(iter(dataset))"
   ]
  },
  {
   "cell_type": "code",
   "execution_count": 140,
   "id": "f89bcf10-63f5-48de-bc52-1cb05270508e",
   "metadata": {},
   "outputs": [],
   "source": [
    "valid_ds = dataset.take(100000)\n",
    "train_ds = dataset.skip(100000)"
   ]
  },
  {
   "cell_type": "code",
   "execution_count": 141,
   "id": "225cd70f-4cf5-4135-a71b-f63d36c0ee61",
   "metadata": {},
   "outputs": [],
   "source": [
    "train_itr = iter(train_ds)"
   ]
  },
  {
   "cell_type": "code",
   "execution_count": 142,
   "id": "beee13df-e563-4bfd-80a9-1546026e300b",
   "metadata": {},
   "outputs": [
    {
     "data": {
      "text/plain": [
       "[\"he honestly cared for mia-anyone could see that-but what would he do if he knew she carried another man 's child ?\",\n",
       " 'he would leave her .',\n",
       " 'it was that simple .',\n",
       " 'should she lie to mia ?',\n",
       " \"pretend it was n't so ?\",\n",
       " 'that would comfort her more than the truth .',\n",
       " \"but one look at mia 's face told her it was too late for lies .\",\n",
       " \"`` i 'm sorry , '' fila said .\",\n",
       " \"`` it 's hopeless , is n't it ? ''\",\n",
       " \"tears streaked down mia 's cheeks .\"]"
      ]
     },
     "execution_count": 142,
     "metadata": {},
     "output_type": "execute_result"
    }
   ],
   "source": [
    "txt = [next(train_itr)[\"text\"] for _ in range(10)]\n",
    "txt"
   ]
  },
  {
   "cell_type": "code",
   "execution_count": null,
   "id": "74157983-ceef-4d38-9590-450879e2da85",
   "metadata": {},
   "outputs": [
    {
     "data": {
      "text/plain": [
       "'hello'"
      ]
     },
     "execution_count": 10,
     "metadata": {},
     "output_type": "execute_result"
    }
   ],
   "source": [
    "x = encode(\"hello\")\n",
    "decode(x)"
   ]
  },
  {
   "cell_type": "code",
   "execution_count": 143,
   "id": "6237ad9f-1c57-45f6-8b0e-7c84ff5f91d2",
   "metadata": {},
   "outputs": [],
   "source": [
    "iter_size = 20\n",
    "data_itr = {\n",
    " \"train\": iter(train_ds),\n",
    " \"valid\": iter(valid_ds),\n",
    "}\n",
    "\n",
    "# return a long string\n",
    "def step(split):\n",
    "    global data_itr\n",
    "    itr = data_itr[split]\n",
    "    \n",
    "    try: \n",
    "        data = [next(itr)[\"text\"] for _ in range(iter_size)] # list of string\n",
    "    except StopIteration:\n",
    "        print(\"sop\")\n",
    "        data_iter[split] =  iter(train_ds) if split == \"train\" else iter(valid_ds)\n",
    "        data = [next(data_iter[split])[\"text\"] for _ in range(iter_size)]\n",
    "        \n",
    "    txt = \"\".join(data)\n",
    "    return txt\n",
    "    \n",
    "\n",
    "# (B, L)\n",
    "def book_next_batch(split=\"train\", block_size=32, batch_size=32):\n",
    "    txt = \"\"\n",
    "    batch_n = 0\n",
    "    \n",
    "    while(batch_n < batch_size): \n",
    "        txt += step(split)\n",
    "        batch_n = (len(txt)-1) // block_size\n",
    "     \n",
    "    x = torch.tensor(encode(txt), device=device)\n",
    "    y = x[1:]\n",
    "    end_idx = batch_size*block_size\n",
    "    xb = x[:end_idx].view(-1, block_size)\n",
    "    yb = y[:end_idx].view(-1, block_size)\n",
    "            \n",
    "    return xb, yb\n"
   ]
  },
  {
   "cell_type": "code",
   "execution_count": 82,
   "id": "f09635ea-f79f-493b-840c-baedf43aa105",
   "metadata": {},
   "outputs": [
    {
     "data": {
      "text/plain": [
       "torch.Size([32, 32])"
      ]
     },
     "execution_count": 82,
     "metadata": {},
     "output_type": "execute_result"
    }
   ],
   "source": [
    "xb, yb = book_next_batch()\n",
    "xb.shape"
   ]
  },
  {
   "cell_type": "code",
   "execution_count": 40,
   "id": "9f4c66ec-3adf-4a0a-a686-e2b462f3c2f5",
   "metadata": {},
   "outputs": [
    {
     "data": {
      "text/plain": [
       "(tensor([55,  0, 49, 46, 57, 57, 49, 42,  0, 44, 55, 52, 58, 53,  0, 57, 45, 38,\n",
       "         57,  0, 46,  0, 50, 42, 57,  0, 43, 55, 42, 56, 45, 50]),\n",
       " tensor([ 0, 49, 46, 57, 57, 49, 42,  0, 44, 55, 52, 58, 53,  0, 57, 45, 38, 57,\n",
       "          0, 46,  0, 50, 42, 57,  0, 43, 55, 42, 56, 45, 50, 38]))"
      ]
     },
     "execution_count": 40,
     "metadata": {},
     "output_type": "execute_result"
    }
   ],
   "source": [
    "xb[1], yb[1]"
   ]
  },
  {
   "cell_type": "code",
   "execution_count": 105,
   "id": "fa82fec4-ab5b-4897-9bff-af7bd2a95be5",
   "metadata": {},
   "outputs": [
    {
     "data": {
      "text/plain": [
       "('ensation , lowering herself onto', 'nsation , lowering herself onto ')"
      ]
     },
     "execution_count": 105,
     "metadata": {},
     "output_type": "execute_result"
    }
   ],
   "source": [
    "xb, yb = book_next_batch()\n",
    "x = xb[1].tolist()\n",
    "y = yb[1].tolist()\n",
    "decode(x), decode(y)"
   ]
  },
  {
   "cell_type": "code",
   "execution_count": 42,
   "id": "2f3db085-8b36-471e-97c8-190e7550a931",
   "metadata": {},
   "outputs": [
    {
     "name": "stdout",
     "output_type": "stream",
     "text": [
      "1024\n",
      "0\n"
     ]
    }
   ],
   "source": [
    "ci = [ci for x in xb for ci in x]\n",
    "unknon_count = [i for i in ci if i == unknown_i]\n",
    "\n",
    "print(len(ci))\n",
    "print(len(unknon_count))"
   ]
  },
  {
   "cell_type": "markdown",
   "id": "81b71e11-af7d-4dcf-9612-89fc369eb811",
   "metadata": {
    "tags": []
   },
   "source": [
    "## Shakespeare Data"
   ]
  },
  {
   "cell_type": "code",
   "execution_count": null,
   "id": "4138da33-f913-4024-95bb-aeec21c68a5c",
   "metadata": {},
   "outputs": [
    {
     "name": "stdout",
     "output_type": "stream",
     "text": [
      "--2023-03-31 08:39:42--  https://raw.githubusercontent.com/karpathy/char-rnn/master/data/tinyshakespeare/input.txt\n",
      "Resolving raw.githubusercontent.com (raw.githubusercontent.com)... 185.199.109.133, 185.199.108.133, 185.199.111.133, ...\n",
      "Connecting to raw.githubusercontent.com (raw.githubusercontent.com)|185.199.109.133|:443... connected.\n",
      "HTTP request sent, awaiting response... 200 OK\n",
      "Length: 1115394 (1.1M) [text/plain]\n",
      "Saving to: ‘input.txt.1’\n",
      "\n",
      "input.txt.1         100%[===================>]   1.06M  --.-KB/s    in 0.005s  \n",
      "\n",
      "2023-03-31 08:39:42 (234 MB/s) - ‘input.txt.1’ saved [1115394/1115394]\n",
      "\n"
     ]
    }
   ],
   "source": [
    "!wget https://raw.githubusercontent.com/karpathy/char-rnn/master/data/tinyshakespeare/input.txt"
   ]
  },
  {
   "cell_type": "code",
   "execution_count": 21,
   "id": "ba0751d6-58d8-4ad2-8aa4-1968fa53c95e",
   "metadata": {},
   "outputs": [
    {
     "data": {
      "text/plain": [
       "'First Citizen:\\nBefore we proceed any further, hear me speak.\\n\\nAll:\\nSpeak, speak.\\n\\nFirst Citizen:\\nYou'"
      ]
     },
     "execution_count": 21,
     "metadata": {},
     "output_type": "execute_result"
    }
   ],
   "source": [
    "txt = open('input.txt', 'r').read()\n",
    "txt[0:100]"
   ]
  },
  {
   "cell_type": "code",
   "execution_count": 44,
   "id": "98845857-1721-4d88-a9f4-74d01ceae08f",
   "metadata": {},
   "outputs": [],
   "source": [
    "data = encode(txt)\n",
    "i = int(0.8 * len(data))\n",
    "\n",
    "shake_data = {\n",
    "    \"train\": data[0:i],\n",
    "    \"valid\": data[i:],\n",
    "}"
   ]
  },
  {
   "cell_type": "code",
   "execution_count": 45,
   "id": "e11cbd5f-f518-4058-b90e-c2c23d59a714",
   "metadata": {},
   "outputs": [],
   "source": [
    "def shake_next_batch(split=\"train\", block_size=32, batch_size=32):\n",
    "    data = shake_data[split]\n",
    "    xi = torch.randint(0, len(data)-block_size, (batch_size,))\n",
    "    xb = torch.tensor([data[i:i+block_size] for i in xi], device=device)\n",
    "    yb = torch.tensor([data[i+1:i+block_size+1] for i in xi], device=device)\n",
    "    \n",
    "    return xb, yb"
   ]
  },
  {
   "cell_type": "code",
   "execution_count": 47,
   "id": "06e6f90b-be4a-4e1c-8cc6-12f8f60bdd05",
   "metadata": {},
   "outputs": [
    {
     "data": {
      "text/plain": [
       "torch.Size([32, 32])"
      ]
     },
     "execution_count": 47,
     "metadata": {},
     "output_type": "execute_result"
    }
   ],
   "source": [
    "x, y = shake_next_batch()\n",
    "x.shape"
   ]
  },
  {
   "cell_type": "markdown",
   "id": "195affac-4d14-4a4a-8fa5-70d64d0d723e",
   "metadata": {},
   "source": [
    "## Transfomer Model"
   ]
  },
  {
   "cell_type": "code",
   "execution_count": 51,
   "id": "8bd26e6d-9872-4c5e-97b3-d56aa6b9602d",
   "metadata": {},
   "outputs": [],
   "source": [
    "#!/usr/bin/env python\n",
    "from dataclasses import dataclass\n",
    "\n",
    "import torch\n",
    "import torch.nn as nn\n",
    "import torch.nn.functional as F\n",
    "\n",
    "\n",
    "@dataclass\n",
    "class Config:\n",
    "    vocab_size: int\n",
    "    block_size: int\n",
    "    emb_size: int\n",
    "    head_num: int\n",
    "    head_size: int\n",
    "    layer_num: int\n",
    "    ctoi: dict\n",
    "    dropout: float\n",
    "\n",
    "\n",
    "class MultiHeadAttension(nn.Module):\n",
    "\n",
    "    def __init__(self, c: Config):\n",
    "        super().__init__()\n",
    "        assert c.emb_size / c.head_size == c.head_num\n",
    "\n",
    "        self.head_size = c.head_size\n",
    "        self.head_num = c.head_num\n",
    "        self.attn = nn.Linear(\n",
    "            c.emb_size, 3 * c.head_num * c.head_size, bias=False)\n",
    "        self.ffn = nn.Linear(c.head_num * c.head_size, c.emb_size, bias=False)\n",
    "\n",
    "        self.attn_dropout = nn.Dropout(c.dropout)\n",
    "        self.resid_dropout = nn.Dropout(c.dropout)\n",
    "\n",
    "    # x: (B, L, C)\n",
    "    # return: (B, L, C)\n",
    "    def forward(self, x):\n",
    "        B, L, C = x.shape\n",
    "\n",
    "        z = self.attn(x)  # (B, L, 3 * hn * hs)\n",
    "        k, q, v = torch.split(\n",
    "            z, self.head_num * self.head_size, dim=2)  # (B, L, hn * hs)\n",
    "\n",
    "        k = k.view(B, L, self.head_num, self.head_size).permute(\n",
    "            0, 2, 1, 3)  # (B, hn, L, hs)\n",
    "        q = q.view(B, L, self.head_num, self.head_size).permute(0, 2, 1, 3)\n",
    "        v = v.view(B, L, self.head_num, self.head_size).permute(0, 2, 1, 3)\n",
    "\n",
    "        q = q.permute(0, 1, 3, 2)  # (B, hn, hs, L)\n",
    "        attn = (k @ q) / self.head_size**0.5  # (B, hn, L, L)\n",
    "        mask = torch.tril(torch.ones(L, L)) == 0\n",
    "        mask = mask.to(x.device)\n",
    "        attn = attn.masked_fill(mask, -float('inf'))  # (B, hn, L, L)\n",
    "        attn = F.softmax(attn, dim=3)\n",
    "        attn = self.attn_dropout(attn)\n",
    "\n",
    "        y = attn @ v  # (B, hn, L, hs)\n",
    "        y = y.permute(0, 2, 1, 3)  # (B, L, hn, hs)\n",
    "        y = y.contiguous().view(B, L, -1)  # (B, L, hn * hs)\n",
    "        y = self.ffn(y)  # (B, L, C)\n",
    "        y = self.resid_dropout(y)\n",
    "\n",
    "        return y\n",
    "\n",
    "\n",
    "class FeedForward(nn.Module):\n",
    "\n",
    "    def __init__(self, c: Config):\n",
    "        super().__init__()\n",
    "        self.linear1 = nn.Linear(c.emb_size, 2 * c.emb_size)\n",
    "        self.linear2 = nn.Linear(2 * c.emb_size, c.emb_size)\n",
    "        self.dropout = nn.Dropout(c.dropout)\n",
    "\n",
    "    # (B, L, C)\n",
    "    def forward(self, x):\n",
    "        y = self.linear1(x)\n",
    "        y = torch.relu(y)\n",
    "        y = self.linear2(y)\n",
    "        y = self.dropout(y)\n",
    "\n",
    "        return y\n",
    "\n",
    "\n",
    "class Block(nn.Module):\n",
    "\n",
    "    def __init__(self, c: Config):\n",
    "        super().__init__()\n",
    "\n",
    "        assert c.emb_size % c.head_size == 0\n",
    "        assert c.emb_size / c.head_size == c.head_num\n",
    "\n",
    "        self.mha = MultiHeadAttension(c)\n",
    "        self.lnorm1 = nn.LayerNorm(c.emb_size)\n",
    "        self.lnorm2 = nn.LayerNorm(c.emb_size)\n",
    "        self.ffn = FeedForward(c)\n",
    "\n",
    "    # x: (B, L, emb)\n",
    "    def forward(self, x):\n",
    "        y = self.mha(x) + x\n",
    "        y = self.lnorm1(y)\n",
    "        y = self.ffn(y) + y\n",
    "        y = self.lnorm2(y)\n",
    "        return y\n",
    "\n",
    "\n",
    "class Transformer(nn.Module):\n",
    "\n",
    "    def __init__(self, c: Config):\n",
    "        super().__init__()\n",
    "        self.config = c\n",
    "        self.embed = nn.Embedding(c.vocab_size, c.emb_size)\n",
    "        self.dropout = nn.Dropout(c.dropout)\n",
    "        self.blocks = nn.Sequential(\n",
    "            *[Block(c) for _ in range(c.layer_num)]\n",
    "        )\n",
    "        self.proj = nn.Linear(c.emb_size, c.vocab_size)\n",
    "\n",
    "    # return (L, C)\n",
    "    def pos_encoding(self, x):\n",
    "        B, L, C = x.shape\n",
    "        pos = torch.arange(0, L).view(-1, 1)  # (L, 1)\n",
    "        div = 2 * torch.arange(0, C) / C  # (C)\n",
    "        div = torch.pow(10000, div)  # (C)\n",
    "        e = pos / div\n",
    "        pe = torch.zeros(L, C)\n",
    "        pe[:, 0::2] = torch.sin(e[:, 0::2])\n",
    "        pe[:, 1::2] = torch.cos(e[:, 1::2])\n",
    "\n",
    "        pe = pe.to(x.device)\n",
    "        return pe\n",
    "\n",
    "    # (B, L) -> (B, L, C)\n",
    "    def forward(self, x):        \n",
    "        y = self.embed(x)  # (B, L, emb)\n",
    "        y = y + self.pos_encoding(y)  # (B, L, emb)\n",
    "        y = self.dropout(y)\n",
    "        y = self.blocks(y)  # (B, L, emb)\n",
    "        y = self.proj(y)  # (B, L, vocab)\n",
    "\n",
    "        return y\n",
    "\n",
    "    @torch.no_grad()\n",
    "    def sample(self, max_len):\n",
    "        device = next(self.parameters()).device\n",
    "    \n",
    "        self.eval()\n",
    "        itoc = {i: c for c, i in self.config.ctoi.items()}\n",
    "        tks = [0] * self.config.block_size\n",
    "\n",
    "        for i in range(max_len):\n",
    "            ctx = torch.tensor(tks[i:i+self.config.block_size], device=device)  # (L)\n",
    "            ctx = ctx.view(1, -1)  # (B, L)\n",
    "\n",
    "            logits = self.forward(ctx)  # (B, L, C)\n",
    "            probs = F.softmax(logits, dim=2)  # (B, L, C)\n",
    "            # (C), # the last in the sequence is the newly generated\n",
    "            probs = probs[0, -1, :]\n",
    "            yi = torch.multinomial(probs, 1)\n",
    "            tks.append(yi.item())\n",
    "\n",
    "        tks = tks[self.config.block_size:]\n",
    "        chars = [itoc.get(t, \"_\") for t in tks]\n",
    "        self.train()\n",
    "        return \"\".join(chars)"
   ]
  },
  {
   "cell_type": "code",
   "execution_count": 120,
   "id": "25adf26d-f0e4-457e-96a7-6403def0625e",
   "metadata": {},
   "outputs": [],
   "source": [
    "def fit(next_batch_fn, batch_size, epoch, eval_n, optim):\n",
    "    lossi = []\n",
    "    model.train()\n",
    "    eval_iterval = epoch // eval_n\n",
    "    \n",
    "    for i in range(epoch):\n",
    "        optim.zero_grad()\n",
    "        xb, yb = next_batch_fn(\"train\", cfg.block_size, batch_size) # (B, L) \n",
    "        logits = model(xb)\n",
    "        B, L, C = logits.shape\n",
    "\n",
    "        logits = logits.view(B*L, C)\n",
    "        yb = yb.view(-1)\n",
    "        loss = F.cross_entropy(logits, yb)\n",
    "        loss.backward()\n",
    "        optim.step()\n",
    "\n",
    "        if i % eval_iterval == 0:\n",
    "            tr_loss = eval_split(model, next_batch_fn, \"train\", cfg.block_size, batch_size, eval_size=256)\n",
    "            va_loss = eval_split(model, next_batch_fn, \"valid\", cfg.block_size, batch_size, eval_size=256)\n",
    "            lossi.append((tr_loss, va_loss))\n",
    "            print(f\"{tr_loss:.4f} {va_loss:.4f}\")\n",
    "            \n",
    "    return lossi"
   ]
  },
  {
   "cell_type": "code",
   "execution_count": 132,
   "id": "2e81522b-4595-47ee-ba48-d0c975a8e865",
   "metadata": {},
   "outputs": [],
   "source": [
    "@torch.no_grad()\n",
    "def eval_split(model, next_batch_fn, split, block_size, batch_size, eval_size):\n",
    "    model.eval()\n",
    "    n = eval_size // batch_size\n",
    "    lossi = []\n",
    "\n",
    "    for _ in range(n):\n",
    "        xb, yb = next_batch_fn(split, block_size, batch_size)\n",
    "        logits = model(xb)\n",
    "        B, L, C = logits.shape\n",
    "        logits = logits.view(B*L, C)\n",
    "        yb = yb.view(-1)\n",
    "        loss = F.cross_entropy(logits, yb)\n",
    "        lossi.append(loss.item())\n",
    "\n",
    "    model.train()\n",
    "    return sum(lossi) / n"
   ]
  },
  {
   "cell_type": "code",
   "execution_count": 133,
   "id": "6c6fb749-a4aa-4aae-acf2-a1780994a448",
   "metadata": {},
   "outputs": [
    {
     "data": {
      "text/plain": [
       "('75,075', device(type='cpu'))"
      ]
     },
     "execution_count": 133,
     "metadata": {},
     "output_type": "execute_result"
    }
   ],
   "source": [
    "cfg = Config(\n",
    "    vocab_size=vocab_size,\n",
    "    block_size=64,\n",
    "    emb_size=64,\n",
    "    head_size=32,\n",
    "    head_num=64//32,\n",
    "    layer_num=2,\n",
    "    ctoi=ctoi,\n",
    "    dropout=0\n",
    ")\n",
    "\n",
    "model = Transformer(cfg)\n",
    "model = model.to(device)\n",
    "param_n = sum([_.numel() for _ in model.parameters()])\n",
    "\n",
    "f\"{param_n:,}\", device"
   ]
  },
  {
   "cell_type": "markdown",
   "id": "fe750a7a-cae2-4323-b868-702bb6f9f0a7",
   "metadata": {},
   "source": [
    "# Training with only Shakespeare"
   ]
  },
  {
   "cell_type": "code",
   "execution_count": 135,
   "id": "a76c8173-98fb-4757-9914-f2530756dc82",
   "metadata": {},
   "outputs": [
    {
     "name": "stdout",
     "output_type": "stream",
     "text": [
      "1.6804 1.7390\n",
      "1.5239 1.6476\n",
      "1.5756 1.6562\n",
      "1.5685 1.6044\n",
      "1.5540 1.6437\n",
      "1.5813 1.6134\n",
      "1.5754 1.6408\n",
      "1.5585 1.6352\n",
      "1.5881 1.6609\n",
      "1.5233 1.6041\n"
     ]
    }
   ],
   "source": [
    "optim = torch.optim.Adam(model.parameters())\n",
    "lossi = fit(book_next_batch, batch_size=32, epoch=3000, eval_n=10, optim=optim)"
   ]
  },
  {
   "cell_type": "code",
   "execution_count": 136,
   "id": "88d9be35-fe8e-4075-8523-a7c42bbd082c",
   "metadata": {},
   "outputs": [
    {
     "data": {
      "text/plain": [
       "[<matplotlib.lines.Line2D at 0x2a305d600>]"
      ]
     },
     "execution_count": 136,
     "metadata": {},
     "output_type": "execute_result"
    },
    {
     "data": {
      "image/png": "[encoded data removed]",
      "text/plain": [
       "<Figure size 640x480 with 1 Axes>"
      ]
     },
     "metadata": {},
     "output_type": "display_data"
    }
   ],
   "source": [
    "tr_loss = [t for t, v in lossi]\n",
    "va_loss = [v for t, v in lossi]\n",
    "\n",
    "plot.plot(tr_loss, \"b\")\n",
    "plot.plot(va_loss, \"r\")"
   ]
  },
  {
   "cell_type": "code",
   "execution_count": 138,
   "id": "335ae91f-39a2-4d06-ac7d-ed97934eaeeb",
   "metadata": {},
   "outputs": [
    {
     "name": "stdout",
     "output_type": "stream",
     "text": [
      "sop\n",
      "sop\n",
      "sop\n",
      "sop\n",
      "sop\n",
      "sop\n",
      "sop\n",
      "sop\n",
      "sop\n",
      "sop\n",
      "sop\n",
      "sop\n",
      "sop\n",
      "sop\n",
      "sop\n",
      "sop\n"
     ]
    },
    {
     "ename": "KeyboardInterrupt",
     "evalue": "",
     "output_type": "error",
     "traceback": [
      "\u001b[0;31m---------------------------------------------------------------------------\u001b[0m",
      "\u001b[0;31mStopIteration\u001b[0m                             Traceback (most recent call last)",
      "Cell \u001b[0;32mIn[122], line 13\u001b[0m, in \u001b[0;36mstep\u001b[0;34m(split)\u001b[0m\n\u001b[1;32m     12\u001b[0m \u001b[38;5;28;01mtry\u001b[39;00m: \n\u001b[0;32m---> 13\u001b[0m     data \u001b[38;5;241m=\u001b[39m [\u001b[38;5;28mnext\u001b[39m(itr)[\u001b[38;5;124m\"\u001b[39m\u001b[38;5;124mtext\u001b[39m\u001b[38;5;124m\"\u001b[39m] \u001b[38;5;28;01mfor\u001b[39;00m _ \u001b[38;5;129;01min\u001b[39;00m \u001b[38;5;28mrange\u001b[39m(iter_size)] \u001b[38;5;66;03m# list of string\u001b[39;00m\n\u001b[1;32m     14\u001b[0m \u001b[38;5;28;01mexcept\u001b[39;00m \u001b[38;5;167;01mStopIteration\u001b[39;00m:\n",
      "Cell \u001b[0;32mIn[122], line 13\u001b[0m, in \u001b[0;36m<listcomp>\u001b[0;34m(.0)\u001b[0m\n\u001b[1;32m     12\u001b[0m \u001b[38;5;28;01mtry\u001b[39;00m: \n\u001b[0;32m---> 13\u001b[0m     data \u001b[38;5;241m=\u001b[39m [\u001b[38;5;28;43mnext\u001b[39;49m\u001b[43m(\u001b[49m\u001b[43mitr\u001b[49m\u001b[43m)\u001b[49m[\u001b[38;5;124m\"\u001b[39m\u001b[38;5;124mtext\u001b[39m\u001b[38;5;124m\"\u001b[39m] \u001b[38;5;28;01mfor\u001b[39;00m _ \u001b[38;5;129;01min\u001b[39;00m \u001b[38;5;28mrange\u001b[39m(iter_size)] \u001b[38;5;66;03m# list of string\u001b[39;00m\n\u001b[1;32m     14\u001b[0m \u001b[38;5;28;01mexcept\u001b[39;00m \u001b[38;5;167;01mStopIteration\u001b[39;00m:\n",
      "\u001b[0;31mStopIteration\u001b[0m: ",
      "\nDuring handling of the above exception, another exception occurred:\n",
      "\u001b[0;31mKeyboardInterrupt\u001b[0m                         Traceback (most recent call last)",
      "Cell \u001b[0;32mIn[138], line 2\u001b[0m\n\u001b[1;32m      1\u001b[0m tr_loss \u001b[38;5;241m=\u001b[39m eval_split(model, book_next_batch, \u001b[38;5;124m\"\u001b[39m\u001b[38;5;124mtrain\u001b[39m\u001b[38;5;124m\"\u001b[39m, cfg\u001b[38;5;241m.\u001b[39mblock_size, batch_size, \u001b[38;5;241m2056\u001b[39m)\n\u001b[0;32m----> 2\u001b[0m va_loss \u001b[38;5;241m=\u001b[39m \u001b[43meval_split\u001b[49m\u001b[43m(\u001b[49m\u001b[43mmodel\u001b[49m\u001b[43m,\u001b[49m\u001b[43m \u001b[49m\u001b[43mbook_next_batch\u001b[49m\u001b[43m,\u001b[49m\u001b[43m \u001b[49m\u001b[38;5;124;43m\"\u001b[39;49m\u001b[38;5;124;43mvalid\u001b[39;49m\u001b[38;5;124;43m\"\u001b[39;49m\u001b[43m,\u001b[49m\u001b[43m \u001b[49m\u001b[43mcfg\u001b[49m\u001b[38;5;241;43m.\u001b[39;49m\u001b[43mblock_size\u001b[49m\u001b[43m,\u001b[49m\u001b[43m \u001b[49m\u001b[43mbatch_size\u001b[49m\u001b[43m,\u001b[49m\u001b[43m \u001b[49m\u001b[38;5;241;43m2056\u001b[39;49m\u001b[43m)\u001b[49m\n\u001b[1;32m      4\u001b[0m \u001b[38;5;124mf\u001b[39m\u001b[38;5;124m\"\u001b[39m\u001b[38;5;132;01m{\u001b[39;00mtr_loss\u001b[38;5;132;01m:\u001b[39;00m\u001b[38;5;124m.4f\u001b[39m\u001b[38;5;132;01m}\u001b[39;00m\u001b[38;5;124m\"\u001b[39m, \u001b[38;5;124mf\u001b[39m\u001b[38;5;124m\"\u001b[39m\u001b[38;5;132;01m{\u001b[39;00mva_loss\u001b[38;5;132;01m:\u001b[39;00m\u001b[38;5;124m.4f\u001b[39m\u001b[38;5;132;01m}\u001b[39;00m\u001b[38;5;124m\"\u001b[39m\n",
      "File \u001b[0;32m~/opt/miniconda3/envs/ml/lib/python3.10/site-packages/torch/autograd/grad_mode.py:27\u001b[0m, in \u001b[0;36m_DecoratorContextManager.__call__.<locals>.decorate_context\u001b[0;34m(*args, **kwargs)\u001b[0m\n\u001b[1;32m     24\u001b[0m \u001b[38;5;129m@functools\u001b[39m\u001b[38;5;241m.\u001b[39mwraps(func)\n\u001b[1;32m     25\u001b[0m \u001b[38;5;28;01mdef\u001b[39;00m \u001b[38;5;21mdecorate_context\u001b[39m(\u001b[38;5;241m*\u001b[39margs, \u001b[38;5;241m*\u001b[39m\u001b[38;5;241m*\u001b[39mkwargs):\n\u001b[1;32m     26\u001b[0m     \u001b[38;5;28;01mwith\u001b[39;00m \u001b[38;5;28mself\u001b[39m\u001b[38;5;241m.\u001b[39mclone():\n\u001b[0;32m---> 27\u001b[0m         \u001b[38;5;28;01mreturn\u001b[39;00m \u001b[43mfunc\u001b[49m\u001b[43m(\u001b[49m\u001b[38;5;241;43m*\u001b[39;49m\u001b[43margs\u001b[49m\u001b[43m,\u001b[49m\u001b[43m \u001b[49m\u001b[38;5;241;43m*\u001b[39;49m\u001b[38;5;241;43m*\u001b[39;49m\u001b[43mkwargs\u001b[49m\u001b[43m)\u001b[49m\n",
      "Cell \u001b[0;32mIn[132], line 8\u001b[0m, in \u001b[0;36meval_split\u001b[0;34m(model, next_batch_fn, split, block_size, batch_size, eval_size)\u001b[0m\n\u001b[1;32m      5\u001b[0m lossi \u001b[38;5;241m=\u001b[39m []\n\u001b[1;32m      7\u001b[0m \u001b[38;5;28;01mfor\u001b[39;00m _ \u001b[38;5;129;01min\u001b[39;00m \u001b[38;5;28mrange\u001b[39m(n):\n\u001b[0;32m----> 8\u001b[0m     xb, yb \u001b[38;5;241m=\u001b[39m \u001b[43mnext_batch_fn\u001b[49m\u001b[43m(\u001b[49m\u001b[43msplit\u001b[49m\u001b[43m,\u001b[49m\u001b[43m \u001b[49m\u001b[43mblock_size\u001b[49m\u001b[43m,\u001b[49m\u001b[43m \u001b[49m\u001b[43mbatch_size\u001b[49m\u001b[43m)\u001b[49m\n\u001b[1;32m      9\u001b[0m     logits \u001b[38;5;241m=\u001b[39m model(xb)\n\u001b[1;32m     10\u001b[0m     B, L, C \u001b[38;5;241m=\u001b[39m logits\u001b[38;5;241m.\u001b[39mshape\n",
      "Cell \u001b[0;32mIn[122], line 29\u001b[0m, in \u001b[0;36mbook_next_batch\u001b[0;34m(split, block_size, batch_size)\u001b[0m\n\u001b[1;32m     26\u001b[0m batch_n \u001b[38;5;241m=\u001b[39m \u001b[38;5;241m0\u001b[39m\n\u001b[1;32m     28\u001b[0m \u001b[38;5;28;01mwhile\u001b[39;00m(batch_n \u001b[38;5;241m<\u001b[39m batch_size): \n\u001b[0;32m---> 29\u001b[0m     txt \u001b[38;5;241m+\u001b[39m\u001b[38;5;241m=\u001b[39m \u001b[43mstep\u001b[49m\u001b[43m(\u001b[49m\u001b[43msplit\u001b[49m\u001b[43m)\u001b[49m\n\u001b[1;32m     30\u001b[0m     batch_n \u001b[38;5;241m=\u001b[39m (\u001b[38;5;28mlen\u001b[39m(txt)\u001b[38;5;241m-\u001b[39m\u001b[38;5;241m1\u001b[39m) \u001b[38;5;241m/\u001b[39m\u001b[38;5;241m/\u001b[39m block_size\n\u001b[1;32m     32\u001b[0m x \u001b[38;5;241m=\u001b[39m torch\u001b[38;5;241m.\u001b[39mtensor(encode(txt), device\u001b[38;5;241m=\u001b[39mdevice)\n",
      "Cell \u001b[0;32mIn[122], line 17\u001b[0m, in \u001b[0;36mstep\u001b[0;34m(split)\u001b[0m\n\u001b[1;32m     15\u001b[0m     \u001b[38;5;28mprint\u001b[39m(\u001b[38;5;124m\"\u001b[39m\u001b[38;5;124msop\u001b[39m\u001b[38;5;124m\"\u001b[39m)\n\u001b[1;32m     16\u001b[0m     data_iter[split] \u001b[38;5;241m=\u001b[39m  \u001b[38;5;28miter\u001b[39m(train_ds) \u001b[38;5;28;01mif\u001b[39;00m split \u001b[38;5;241m==\u001b[39m \u001b[38;5;124m\"\u001b[39m\u001b[38;5;124mtrain\u001b[39m\u001b[38;5;124m\"\u001b[39m \u001b[38;5;28;01melse\u001b[39;00m \u001b[38;5;28miter\u001b[39m(valid_ds)\n\u001b[0;32m---> 17\u001b[0m     data \u001b[38;5;241m=\u001b[39m [\u001b[38;5;28mnext\u001b[39m(data_iter[split])[\u001b[38;5;124m\"\u001b[39m\u001b[38;5;124mtext\u001b[39m\u001b[38;5;124m\"\u001b[39m] \u001b[38;5;28;01mfor\u001b[39;00m _ \u001b[38;5;129;01min\u001b[39;00m \u001b[38;5;28mrange\u001b[39m(iter_size)]\n\u001b[1;32m     19\u001b[0m txt \u001b[38;5;241m=\u001b[39m \u001b[38;5;124m\"\u001b[39m\u001b[38;5;124m\"\u001b[39m\u001b[38;5;241m.\u001b[39mjoin(data)\n\u001b[1;32m     20\u001b[0m \u001b[38;5;28;01mreturn\u001b[39;00m txt\n",
      "Cell \u001b[0;32mIn[122], line 17\u001b[0m, in \u001b[0;36m<listcomp>\u001b[0;34m(.0)\u001b[0m\n\u001b[1;32m     15\u001b[0m     \u001b[38;5;28mprint\u001b[39m(\u001b[38;5;124m\"\u001b[39m\u001b[38;5;124msop\u001b[39m\u001b[38;5;124m\"\u001b[39m)\n\u001b[1;32m     16\u001b[0m     data_iter[split] \u001b[38;5;241m=\u001b[39m  \u001b[38;5;28miter\u001b[39m(train_ds) \u001b[38;5;28;01mif\u001b[39;00m split \u001b[38;5;241m==\u001b[39m \u001b[38;5;124m\"\u001b[39m\u001b[38;5;124mtrain\u001b[39m\u001b[38;5;124m\"\u001b[39m \u001b[38;5;28;01melse\u001b[39;00m \u001b[38;5;28miter\u001b[39m(valid_ds)\n\u001b[0;32m---> 17\u001b[0m     data \u001b[38;5;241m=\u001b[39m [\u001b[38;5;28;43mnext\u001b[39;49m\u001b[43m(\u001b[49m\u001b[43mdata_iter\u001b[49m\u001b[43m[\u001b[49m\u001b[43msplit\u001b[49m\u001b[43m]\u001b[49m\u001b[43m)\u001b[49m[\u001b[38;5;124m\"\u001b[39m\u001b[38;5;124mtext\u001b[39m\u001b[38;5;124m\"\u001b[39m] \u001b[38;5;28;01mfor\u001b[39;00m _ \u001b[38;5;129;01min\u001b[39;00m \u001b[38;5;28mrange\u001b[39m(iter_size)]\n\u001b[1;32m     19\u001b[0m txt \u001b[38;5;241m=\u001b[39m \u001b[38;5;124m\"\u001b[39m\u001b[38;5;124m\"\u001b[39m\u001b[38;5;241m.\u001b[39mjoin(data)\n\u001b[1;32m     20\u001b[0m \u001b[38;5;28;01mreturn\u001b[39;00m txt\n",
      "File \u001b[0;32m~/opt/miniconda3/envs/ml/lib/python3.10/site-packages/datasets/iterable_dataset.py:937\u001b[0m, in \u001b[0;36mIterableDataset.__iter__\u001b[0;34m(self)\u001b[0m\n\u001b[1;32m    934\u001b[0m         \u001b[38;5;28;01myield from\u001b[39;00m \u001b[38;5;28mself\u001b[39m\u001b[38;5;241m.\u001b[39m_iter_pytorch(ex_iterable)\n\u001b[1;32m    935\u001b[0m         \u001b[38;5;28;01mreturn\u001b[39;00m\n\u001b[0;32m--> 937\u001b[0m \u001b[38;5;28;01mfor\u001b[39;00m key, example \u001b[38;5;129;01min\u001b[39;00m ex_iterable:\n\u001b[1;32m    938\u001b[0m     \u001b[38;5;28;01mif\u001b[39;00m \u001b[38;5;28mself\u001b[39m\u001b[38;5;241m.\u001b[39mfeatures:\n\u001b[1;32m    939\u001b[0m         \u001b[38;5;66;03m# `IterableDataset` automatically fills missing columns with None.\u001b[39;00m\n\u001b[1;32m    940\u001b[0m         \u001b[38;5;66;03m# This is done with `_apply_feature_types_on_example`.\u001b[39;00m\n\u001b[1;32m    941\u001b[0m         \u001b[38;5;28;01myield\u001b[39;00m _apply_feature_types_on_example(\n\u001b[1;32m    942\u001b[0m             example, \u001b[38;5;28mself\u001b[39m\u001b[38;5;241m.\u001b[39mfeatures, token_per_repo_id\u001b[38;5;241m=\u001b[39m\u001b[38;5;28mself\u001b[39m\u001b[38;5;241m.\u001b[39m_token_per_repo_id\n\u001b[1;32m    943\u001b[0m         )\n",
      "File \u001b[0;32m~/opt/miniconda3/envs/ml/lib/python3.10/site-packages/datasets/iterable_dataset.py:678\u001b[0m, in \u001b[0;36mTakeExamplesIterable.__iter__\u001b[0;34m(self)\u001b[0m\n\u001b[1;32m    677\u001b[0m \u001b[38;5;28;01mdef\u001b[39;00m \u001b[38;5;21m__iter__\u001b[39m(\u001b[38;5;28mself\u001b[39m):\n\u001b[0;32m--> 678\u001b[0m     \u001b[38;5;28;01myield from\u001b[39;00m islice(\u001b[38;5;28mself\u001b[39m\u001b[38;5;241m.\u001b[39mex_iterable, \u001b[38;5;28mself\u001b[39m\u001b[38;5;241m.\u001b[39mn)\n",
      "File \u001b[0;32m~/opt/miniconda3/envs/ml/lib/python3.10/site-packages/datasets/iterable_dataset.py:113\u001b[0m, in \u001b[0;36mExamplesIterable.__iter__\u001b[0;34m(self)\u001b[0m\n\u001b[1;32m    112\u001b[0m \u001b[38;5;28;01mdef\u001b[39;00m \u001b[38;5;21m__iter__\u001b[39m(\u001b[38;5;28mself\u001b[39m):\n\u001b[0;32m--> 113\u001b[0m     \u001b[38;5;28;01myield from\u001b[39;00m \u001b[38;5;28mself\u001b[39m\u001b[38;5;241m.\u001b[39mgenerate_examples_fn(\u001b[38;5;241m*\u001b[39m\u001b[38;5;241m*\u001b[39m\u001b[38;5;28mself\u001b[39m\u001b[38;5;241m.\u001b[39mkwargs)\n",
      "File \u001b[0;32m~/.cache/huggingface/modules/datasets_modules/datasets/bookcorpus/eddee3cae1cc263a431aa98207d4d27fd8a73b0a9742f692af0e6c65afa4d75f/bookcorpus.py:92\u001b[0m, in \u001b[0;36mBookcorpus._generate_examples\u001b[0;34m(self, files)\u001b[0m\n\u001b[1;32m     90\u001b[0m \u001b[38;5;28;01mdef\u001b[39;00m \u001b[38;5;21m_generate_examples\u001b[39m(\u001b[38;5;28mself\u001b[39m, files):\n\u001b[1;32m     91\u001b[0m     _id \u001b[38;5;241m=\u001b[39m \u001b[38;5;241m0\u001b[39m\n\u001b[0;32m---> 92\u001b[0m     \u001b[38;5;28;01mfor\u001b[39;00m path, file \u001b[38;5;129;01min\u001b[39;00m files:\n\u001b[1;32m     93\u001b[0m         \u001b[38;5;28;01mfor\u001b[39;00m line \u001b[38;5;129;01min\u001b[39;00m file:\n\u001b[1;32m     94\u001b[0m             \u001b[38;5;28;01myield\u001b[39;00m _id, {\u001b[38;5;124m\"\u001b[39m\u001b[38;5;124mtext\u001b[39m\u001b[38;5;124m\"\u001b[39m: line\u001b[38;5;241m.\u001b[39mdecode(\u001b[38;5;124m\"\u001b[39m\u001b[38;5;124mutf-8\u001b[39m\u001b[38;5;124m\"\u001b[39m)\u001b[38;5;241m.\u001b[39mstrip()}\n",
      "File \u001b[0;32m~/opt/miniconda3/envs/ml/lib/python3.10/site-packages/datasets/download/streaming_download_manager.py:853\u001b[0m, in \u001b[0;36m_IterableFromGenerator.__iter__\u001b[0;34m(self)\u001b[0m\n\u001b[1;32m    852\u001b[0m \u001b[38;5;28;01mdef\u001b[39;00m \u001b[38;5;21m__iter__\u001b[39m(\u001b[38;5;28mself\u001b[39m):\n\u001b[0;32m--> 853\u001b[0m     \u001b[38;5;28;01myield from\u001b[39;00m \u001b[38;5;28mself\u001b[39m\u001b[38;5;241m.\u001b[39mgenerator(\u001b[38;5;241m*\u001b[39m\u001b[38;5;28mself\u001b[39m\u001b[38;5;241m.\u001b[39margs, \u001b[38;5;241m*\u001b[39m\u001b[38;5;241m*\u001b[39m\u001b[38;5;28mself\u001b[39m\u001b[38;5;241m.\u001b[39mkwargs)\n",
      "File \u001b[0;32m~/opt/miniconda3/envs/ml/lib/python3.10/site-packages/datasets/download/streaming_download_manager.py:908\u001b[0m, in \u001b[0;36mArchiveIterable._iter_from_urlpath\u001b[0;34m(cls, urlpath, use_auth_token)\u001b[0m\n\u001b[1;32m    906\u001b[0m     \u001b[38;5;28;01myield from\u001b[39;00m \u001b[38;5;28mcls\u001b[39m\u001b[38;5;241m.\u001b[39m_iter_zip(f)\n\u001b[1;32m    907\u001b[0m \u001b[38;5;28;01melse\u001b[39;00m:\n\u001b[0;32m--> 908\u001b[0m     \u001b[38;5;28;01myield from\u001b[39;00m \u001b[38;5;28mcls\u001b[39m\u001b[38;5;241m.\u001b[39m_iter_tar(f)\n",
      "File \u001b[0;32m~/opt/miniconda3/envs/ml/lib/python3.10/site-packages/datasets/download/streaming_download_manager.py:861\u001b[0m, in \u001b[0;36mArchiveIterable._iter_tar\u001b[0;34m(f)\u001b[0m\n\u001b[1;32m    859\u001b[0m \u001b[38;5;129m@staticmethod\u001b[39m\n\u001b[1;32m    860\u001b[0m \u001b[38;5;28;01mdef\u001b[39;00m \u001b[38;5;21m_iter_tar\u001b[39m(f):\n\u001b[0;32m--> 861\u001b[0m     stream \u001b[38;5;241m=\u001b[39m \u001b[43mtarfile\u001b[49m\u001b[38;5;241;43m.\u001b[39;49m\u001b[43mopen\u001b[49m\u001b[43m(\u001b[49m\u001b[43mfileobj\u001b[49m\u001b[38;5;241;43m=\u001b[39;49m\u001b[43mf\u001b[49m\u001b[43m,\u001b[49m\u001b[43m \u001b[49m\u001b[43mmode\u001b[49m\u001b[38;5;241;43m=\u001b[39;49m\u001b[38;5;124;43m\"\u001b[39;49m\u001b[38;5;124;43mr|*\u001b[39;49m\u001b[38;5;124;43m\"\u001b[39;49m\u001b[43m)\u001b[49m\n\u001b[1;32m    862\u001b[0m     \u001b[38;5;28;01mfor\u001b[39;00m tarinfo \u001b[38;5;129;01min\u001b[39;00m stream:\n\u001b[1;32m    863\u001b[0m         file_path \u001b[38;5;241m=\u001b[39m tarinfo\u001b[38;5;241m.\u001b[39mname\n",
      "File \u001b[0;32m~/opt/miniconda3/envs/ml/lib/python3.10/tarfile.py:1662\u001b[0m, in \u001b[0;36mTarFile.open\u001b[0;34m(cls, name, mode, fileobj, bufsize, **kwargs)\u001b[0m\n\u001b[1;32m   1659\u001b[0m \u001b[38;5;28;01mif\u001b[39;00m filemode \u001b[38;5;129;01mnot\u001b[39;00m \u001b[38;5;129;01min\u001b[39;00m (\u001b[38;5;124m\"\u001b[39m\u001b[38;5;124mr\u001b[39m\u001b[38;5;124m\"\u001b[39m, \u001b[38;5;124m\"\u001b[39m\u001b[38;5;124mw\u001b[39m\u001b[38;5;124m\"\u001b[39m):\n\u001b[1;32m   1660\u001b[0m     \u001b[38;5;28;01mraise\u001b[39;00m \u001b[38;5;167;01mValueError\u001b[39;00m(\u001b[38;5;124m\"\u001b[39m\u001b[38;5;124mmode must be \u001b[39m\u001b[38;5;124m'\u001b[39m\u001b[38;5;124mr\u001b[39m\u001b[38;5;124m'\u001b[39m\u001b[38;5;124m or \u001b[39m\u001b[38;5;124m'\u001b[39m\u001b[38;5;124mw\u001b[39m\u001b[38;5;124m'\u001b[39m\u001b[38;5;124m\"\u001b[39m)\n\u001b[0;32m-> 1662\u001b[0m stream \u001b[38;5;241m=\u001b[39m \u001b[43m_Stream\u001b[49m\u001b[43m(\u001b[49m\u001b[43mname\u001b[49m\u001b[43m,\u001b[49m\u001b[43m \u001b[49m\u001b[43mfilemode\u001b[49m\u001b[43m,\u001b[49m\u001b[43m \u001b[49m\u001b[43mcomptype\u001b[49m\u001b[43m,\u001b[49m\u001b[43m \u001b[49m\u001b[43mfileobj\u001b[49m\u001b[43m,\u001b[49m\u001b[43m \u001b[49m\u001b[43mbufsize\u001b[49m\u001b[43m)\u001b[49m\n\u001b[1;32m   1663\u001b[0m \u001b[38;5;28;01mtry\u001b[39;00m:\n\u001b[1;32m   1664\u001b[0m     t \u001b[38;5;241m=\u001b[39m \u001b[38;5;28mcls\u001b[39m(name, filemode, stream, \u001b[38;5;241m*\u001b[39m\u001b[38;5;241m*\u001b[39mkwargs)\n",
      "File \u001b[0;32m~/opt/miniconda3/envs/ml/lib/python3.10/tarfile.py:350\u001b[0m, in \u001b[0;36m_Stream.__init__\u001b[0;34m(self, name, mode, comptype, fileobj, bufsize)\u001b[0m\n\u001b[1;32m    345\u001b[0m     \u001b[38;5;28mself\u001b[39m\u001b[38;5;241m.\u001b[39m_extfileobj \u001b[38;5;241m=\u001b[39m \u001b[38;5;28;01mFalse\u001b[39;00m\n\u001b[1;32m    347\u001b[0m \u001b[38;5;28;01mif\u001b[39;00m comptype \u001b[38;5;241m==\u001b[39m \u001b[38;5;124m'\u001b[39m\u001b[38;5;124m*\u001b[39m\u001b[38;5;124m'\u001b[39m:\n\u001b[1;32m    348\u001b[0m     \u001b[38;5;66;03m# Enable transparent compression detection for the\u001b[39;00m\n\u001b[1;32m    349\u001b[0m     \u001b[38;5;66;03m# stream interface\u001b[39;00m\n\u001b[0;32m--> 350\u001b[0m     fileobj \u001b[38;5;241m=\u001b[39m \u001b[43m_StreamProxy\u001b[49m\u001b[43m(\u001b[49m\u001b[43mfileobj\u001b[49m\u001b[43m)\u001b[49m\n\u001b[1;32m    351\u001b[0m     comptype \u001b[38;5;241m=\u001b[39m fileobj\u001b[38;5;241m.\u001b[39mgetcomptype()\n\u001b[1;32m    353\u001b[0m \u001b[38;5;28mself\u001b[39m\u001b[38;5;241m.\u001b[39mname     \u001b[38;5;241m=\u001b[39m name \u001b[38;5;129;01mor\u001b[39;00m \u001b[38;5;124m\"\u001b[39m\u001b[38;5;124m\"\u001b[39m\n",
      "File \u001b[0;32m~/opt/miniconda3/envs/ml/lib/python3.10/tarfile.py:577\u001b[0m, in \u001b[0;36m_StreamProxy.__init__\u001b[0;34m(self, fileobj)\u001b[0m\n\u001b[1;32m    575\u001b[0m \u001b[38;5;28;01mdef\u001b[39;00m \u001b[38;5;21m__init__\u001b[39m(\u001b[38;5;28mself\u001b[39m, fileobj):\n\u001b[1;32m    576\u001b[0m     \u001b[38;5;28mself\u001b[39m\u001b[38;5;241m.\u001b[39mfileobj \u001b[38;5;241m=\u001b[39m fileobj\n\u001b[0;32m--> 577\u001b[0m     \u001b[38;5;28mself\u001b[39m\u001b[38;5;241m.\u001b[39mbuf \u001b[38;5;241m=\u001b[39m \u001b[38;5;28;43mself\u001b[39;49m\u001b[38;5;241;43m.\u001b[39;49m\u001b[43mfileobj\u001b[49m\u001b[38;5;241;43m.\u001b[39;49m\u001b[43mread\u001b[49m\u001b[43m(\u001b[49m\u001b[43mBLOCKSIZE\u001b[49m\u001b[43m)\u001b[49m\n",
      "File \u001b[0;32m~/opt/miniconda3/envs/ml/lib/python3.10/site-packages/datasets/download/streaming_download_manager.py:372\u001b[0m, in \u001b[0;36m_add_retries_to_file_obj_read_method.<locals>.read_with_retries\u001b[0;34m(*args, **kwargs)\u001b[0m\n\u001b[1;32m    370\u001b[0m \u001b[38;5;28;01mfor\u001b[39;00m retry \u001b[38;5;129;01min\u001b[39;00m \u001b[38;5;28mrange\u001b[39m(\u001b[38;5;241m1\u001b[39m, max_retries \u001b[38;5;241m+\u001b[39m \u001b[38;5;241m1\u001b[39m):\n\u001b[1;32m    371\u001b[0m     \u001b[38;5;28;01mtry\u001b[39;00m:\n\u001b[0;32m--> 372\u001b[0m         out \u001b[38;5;241m=\u001b[39m \u001b[43mread\u001b[49m\u001b[43m(\u001b[49m\u001b[38;5;241;43m*\u001b[39;49m\u001b[43margs\u001b[49m\u001b[43m,\u001b[49m\u001b[43m \u001b[49m\u001b[38;5;241;43m*\u001b[39;49m\u001b[38;5;241;43m*\u001b[39;49m\u001b[43mkwargs\u001b[49m\u001b[43m)\u001b[49m\n\u001b[1;32m    373\u001b[0m         \u001b[38;5;28;01mbreak\u001b[39;00m\n\u001b[1;32m    374\u001b[0m     \u001b[38;5;28;01mexcept\u001b[39;00m (ClientError, \u001b[38;5;167;01mTimeoutError\u001b[39;00m) \u001b[38;5;28;01mas\u001b[39;00m err:\n",
      "File \u001b[0;32m~/opt/miniconda3/envs/ml/lib/python3.10/site-packages/fsspec/implementations/http.py:600\u001b[0m, in \u001b[0;36mHTTPFile.read\u001b[0;34m(self, length)\u001b[0m\n\u001b[1;32m    598\u001b[0m \u001b[38;5;28;01melse\u001b[39;00m:\n\u001b[1;32m    599\u001b[0m     length \u001b[38;5;241m=\u001b[39m \u001b[38;5;28mmin\u001b[39m(\u001b[38;5;28mself\u001b[39m\u001b[38;5;241m.\u001b[39msize \u001b[38;5;241m-\u001b[39m \u001b[38;5;28mself\u001b[39m\u001b[38;5;241m.\u001b[39mloc, length)\n\u001b[0;32m--> 600\u001b[0m \u001b[38;5;28;01mreturn\u001b[39;00m \u001b[38;5;28;43msuper\u001b[39;49m\u001b[43m(\u001b[49m\u001b[43m)\u001b[49m\u001b[38;5;241;43m.\u001b[39;49m\u001b[43mread\u001b[49m\u001b[43m(\u001b[49m\u001b[43mlength\u001b[49m\u001b[43m)\u001b[49m\n",
      "File \u001b[0;32m~/opt/miniconda3/envs/ml/lib/python3.10/site-packages/fsspec/spec.py:1700\u001b[0m, in \u001b[0;36mAbstractBufferedFile.read\u001b[0;34m(self, length)\u001b[0m\n\u001b[1;32m   1697\u001b[0m \u001b[38;5;28;01mif\u001b[39;00m length \u001b[38;5;241m==\u001b[39m \u001b[38;5;241m0\u001b[39m:\n\u001b[1;32m   1698\u001b[0m     \u001b[38;5;66;03m# don't even bother calling fetch\u001b[39;00m\n\u001b[1;32m   1699\u001b[0m     \u001b[38;5;28;01mreturn\u001b[39;00m \u001b[38;5;124mb\u001b[39m\u001b[38;5;124m\"\u001b[39m\u001b[38;5;124m\"\u001b[39m\n\u001b[0;32m-> 1700\u001b[0m out \u001b[38;5;241m=\u001b[39m \u001b[38;5;28;43mself\u001b[39;49m\u001b[38;5;241;43m.\u001b[39;49m\u001b[43mcache\u001b[49m\u001b[38;5;241;43m.\u001b[39;49m\u001b[43m_fetch\u001b[49m\u001b[43m(\u001b[49m\u001b[38;5;28;43mself\u001b[39;49m\u001b[38;5;241;43m.\u001b[39;49m\u001b[43mloc\u001b[49m\u001b[43m,\u001b[49m\u001b[43m \u001b[49m\u001b[38;5;28;43mself\u001b[39;49m\u001b[38;5;241;43m.\u001b[39;49m\u001b[43mloc\u001b[49m\u001b[43m \u001b[49m\u001b[38;5;241;43m+\u001b[39;49m\u001b[43m \u001b[49m\u001b[43mlength\u001b[49m\u001b[43m)\u001b[49m\n\u001b[1;32m   1701\u001b[0m \u001b[38;5;28mself\u001b[39m\u001b[38;5;241m.\u001b[39mloc \u001b[38;5;241m+\u001b[39m\u001b[38;5;241m=\u001b[39m \u001b[38;5;28mlen\u001b[39m(out)\n\u001b[1;32m   1702\u001b[0m \u001b[38;5;28;01mreturn\u001b[39;00m out\n",
      "File \u001b[0;32m~/opt/miniconda3/envs/ml/lib/python3.10/site-packages/fsspec/caching.py:380\u001b[0m, in \u001b[0;36mBytesCache._fetch\u001b[0;34m(self, start, end)\u001b[0m\n\u001b[1;32m    374\u001b[0m     \u001b[38;5;28;01mreturn\u001b[39;00m \u001b[38;5;124mb\u001b[39m\u001b[38;5;124m\"\u001b[39m\u001b[38;5;124m\"\u001b[39m\n\u001b[1;32m    376\u001b[0m \u001b[38;5;28;01mif\u001b[39;00m (\u001b[38;5;28mself\u001b[39m\u001b[38;5;241m.\u001b[39mstart \u001b[38;5;129;01mis\u001b[39;00m \u001b[38;5;28;01mNone\u001b[39;00m \u001b[38;5;129;01mor\u001b[39;00m start \u001b[38;5;241m<\u001b[39m \u001b[38;5;28mself\u001b[39m\u001b[38;5;241m.\u001b[39mstart) \u001b[38;5;129;01mand\u001b[39;00m (\n\u001b[1;32m    377\u001b[0m     \u001b[38;5;28mself\u001b[39m\u001b[38;5;241m.\u001b[39mend \u001b[38;5;129;01mis\u001b[39;00m \u001b[38;5;28;01mNone\u001b[39;00m \u001b[38;5;129;01mor\u001b[39;00m end \u001b[38;5;241m>\u001b[39m \u001b[38;5;28mself\u001b[39m\u001b[38;5;241m.\u001b[39mend\n\u001b[1;32m    378\u001b[0m ):\n\u001b[1;32m    379\u001b[0m     \u001b[38;5;66;03m# First read, or extending both before and after\u001b[39;00m\n\u001b[0;32m--> 380\u001b[0m     \u001b[38;5;28mself\u001b[39m\u001b[38;5;241m.\u001b[39mcache \u001b[38;5;241m=\u001b[39m \u001b[38;5;28;43mself\u001b[39;49m\u001b[38;5;241;43m.\u001b[39;49m\u001b[43mfetcher\u001b[49m\u001b[43m(\u001b[49m\u001b[43mstart\u001b[49m\u001b[43m,\u001b[49m\u001b[43m \u001b[49m\u001b[43mbend\u001b[49m\u001b[43m)\u001b[49m\n\u001b[1;32m    381\u001b[0m     \u001b[38;5;28mself\u001b[39m\u001b[38;5;241m.\u001b[39mstart \u001b[38;5;241m=\u001b[39m start\n\u001b[1;32m    382\u001b[0m \u001b[38;5;28;01melif\u001b[39;00m start \u001b[38;5;241m<\u001b[39m \u001b[38;5;28mself\u001b[39m\u001b[38;5;241m.\u001b[39mstart:\n",
      "File \u001b[0;32m~/opt/miniconda3/envs/ml/lib/python3.10/site-packages/fsspec/asyn.py:115\u001b[0m, in \u001b[0;36msync_wrapper.<locals>.wrapper\u001b[0;34m(*args, **kwargs)\u001b[0m\n\u001b[1;32m    112\u001b[0m \u001b[38;5;129m@functools\u001b[39m\u001b[38;5;241m.\u001b[39mwraps(func)\n\u001b[1;32m    113\u001b[0m \u001b[38;5;28;01mdef\u001b[39;00m \u001b[38;5;21mwrapper\u001b[39m(\u001b[38;5;241m*\u001b[39margs, \u001b[38;5;241m*\u001b[39m\u001b[38;5;241m*\u001b[39mkwargs):\n\u001b[1;32m    114\u001b[0m     \u001b[38;5;28mself\u001b[39m \u001b[38;5;241m=\u001b[39m obj \u001b[38;5;129;01mor\u001b[39;00m args[\u001b[38;5;241m0\u001b[39m]\n\u001b[0;32m--> 115\u001b[0m     \u001b[38;5;28;01mreturn\u001b[39;00m \u001b[43msync\u001b[49m\u001b[43m(\u001b[49m\u001b[38;5;28;43mself\u001b[39;49m\u001b[38;5;241;43m.\u001b[39;49m\u001b[43mloop\u001b[49m\u001b[43m,\u001b[49m\u001b[43m \u001b[49m\u001b[43mfunc\u001b[49m\u001b[43m,\u001b[49m\u001b[43m \u001b[49m\u001b[38;5;241;43m*\u001b[39;49m\u001b[43margs\u001b[49m\u001b[43m,\u001b[49m\u001b[43m \u001b[49m\u001b[38;5;241;43m*\u001b[39;49m\u001b[38;5;241;43m*\u001b[39;49m\u001b[43mkwargs\u001b[49m\u001b[43m)\u001b[49m\n",
      "File \u001b[0;32m~/opt/miniconda3/envs/ml/lib/python3.10/site-packages/fsspec/asyn.py:88\u001b[0m, in \u001b[0;36msync\u001b[0;34m(loop, func, timeout, *args, **kwargs)\u001b[0m\n\u001b[1;32m     85\u001b[0m asyncio\u001b[38;5;241m.\u001b[39mrun_coroutine_threadsafe(_runner(event, coro, result, timeout), loop)\n\u001b[1;32m     86\u001b[0m \u001b[38;5;28;01mwhile\u001b[39;00m \u001b[38;5;28;01mTrue\u001b[39;00m:\n\u001b[1;32m     87\u001b[0m     \u001b[38;5;66;03m# this loops allows thread to get interrupted\u001b[39;00m\n\u001b[0;32m---> 88\u001b[0m     \u001b[38;5;28;01mif\u001b[39;00m \u001b[43mevent\u001b[49m\u001b[38;5;241;43m.\u001b[39;49m\u001b[43mwait\u001b[49m\u001b[43m(\u001b[49m\u001b[38;5;241;43m1\u001b[39;49m\u001b[43m)\u001b[49m:\n\u001b[1;32m     89\u001b[0m         \u001b[38;5;28;01mbreak\u001b[39;00m\n\u001b[1;32m     90\u001b[0m     \u001b[38;5;28;01mif\u001b[39;00m timeout \u001b[38;5;129;01mis\u001b[39;00m \u001b[38;5;129;01mnot\u001b[39;00m \u001b[38;5;28;01mNone\u001b[39;00m:\n",
      "File \u001b[0;32m~/opt/miniconda3/envs/ml/lib/python3.10/threading.py:607\u001b[0m, in \u001b[0;36mEvent.wait\u001b[0;34m(self, timeout)\u001b[0m\n\u001b[1;32m    605\u001b[0m signaled \u001b[38;5;241m=\u001b[39m \u001b[38;5;28mself\u001b[39m\u001b[38;5;241m.\u001b[39m_flag\n\u001b[1;32m    606\u001b[0m \u001b[38;5;28;01mif\u001b[39;00m \u001b[38;5;129;01mnot\u001b[39;00m signaled:\n\u001b[0;32m--> 607\u001b[0m     signaled \u001b[38;5;241m=\u001b[39m \u001b[38;5;28;43mself\u001b[39;49m\u001b[38;5;241;43m.\u001b[39;49m\u001b[43m_cond\u001b[49m\u001b[38;5;241;43m.\u001b[39;49m\u001b[43mwait\u001b[49m\u001b[43m(\u001b[49m\u001b[43mtimeout\u001b[49m\u001b[43m)\u001b[49m\n\u001b[1;32m    608\u001b[0m \u001b[38;5;28;01mreturn\u001b[39;00m signaled\n",
      "File \u001b[0;32m~/opt/miniconda3/envs/ml/lib/python3.10/threading.py:324\u001b[0m, in \u001b[0;36mCondition.wait\u001b[0;34m(self, timeout)\u001b[0m\n\u001b[1;32m    322\u001b[0m \u001b[38;5;28;01melse\u001b[39;00m:\n\u001b[1;32m    323\u001b[0m     \u001b[38;5;28;01mif\u001b[39;00m timeout \u001b[38;5;241m>\u001b[39m \u001b[38;5;241m0\u001b[39m:\n\u001b[0;32m--> 324\u001b[0m         gotit \u001b[38;5;241m=\u001b[39m \u001b[43mwaiter\u001b[49m\u001b[38;5;241;43m.\u001b[39;49m\u001b[43macquire\u001b[49m\u001b[43m(\u001b[49m\u001b[38;5;28;43;01mTrue\u001b[39;49;00m\u001b[43m,\u001b[49m\u001b[43m \u001b[49m\u001b[43mtimeout\u001b[49m\u001b[43m)\u001b[49m\n\u001b[1;32m    325\u001b[0m     \u001b[38;5;28;01melse\u001b[39;00m:\n\u001b[1;32m    326\u001b[0m         gotit \u001b[38;5;241m=\u001b[39m waiter\u001b[38;5;241m.\u001b[39macquire(\u001b[38;5;28;01mFalse\u001b[39;00m)\n",
      "\u001b[0;31mKeyboardInterrupt\u001b[0m: "
     ]
    }
   ],
   "source": [
    "tr_loss = eval_split(model, book_next_batch, \"train\", cfg.block_size, batch_size, 2056)\n",
    "va_loss = eval_split(model, book_next_batch, \"valid\", cfg.block_size, batch_size, 2056)\n",
    "\n",
    "f\"{tr_loss:.4f}\", f\"{va_loss:.4f}\""
   ]
  },
  {
   "cell_type": "code",
   "execution_count": 91,
   "id": "e1ce1373-7d19-4ddc-b014-5abe5830c32d",
   "metadata": {},
   "outputs": [
    {
     "name": "stdout",
     "output_type": "stream",
     "text": [
      "bout he had he worra no i 'dell , '' turnished wint the alw his have knew to gan me , regled with he kirness on .he hels sping next unnheving a she 'd one , even not . ''he spocepted to date , the proobcing his , still he girms was steep its not the pleasing up conty his gain .every new way uperatio\n"
     ]
    }
   ],
   "source": [
    "print(model.sample(300))"
   ]
  }
 ],
 "metadata": {
  "kernelspec": {
   "display_name": "Python 3 (ipykernel)",
   "language": "python",
   "name": "python3"
  },
  "language_info": {
   "codemirror_mode": {
    "name": "ipython",
    "version": 3
   },
   "file_extension": ".py",
   "mimetype": "text/x-python",
   "name": "python",
   "nbconvert_exporter": "python",
   "pygments_lexer": "ipython3",
   "version": "3.10.8"
  }
 },
 "nbformat": 4,
 "nbformat_minor": 5
}
