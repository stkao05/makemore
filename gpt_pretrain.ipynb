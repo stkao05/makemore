{
 "cells": [
  {
   "cell_type": "code",
   "execution_count": 5,
   "id": "233d5952-a438-48be-8614-4ef456ebd94c",
   "metadata": {},
   "outputs": [],
   "source": [
    "%%capture\n",
    "!pip install datasets;"
   ]
  },
  {
   "cell_type": "code",
   "execution_count": 6,
   "id": "0cc556d8-51e9-4c98-8851-d73ca7535e51",
   "metadata": {},
   "outputs": [],
   "source": [
    "from datasets import list_datasets, load_dataset\n",
    "import torch\n",
    "import torch.nn as nn\n",
    "import torch.nn.functional as F\n",
    "import matplotlib.pyplot as plot"
   ]
  },
  {
   "cell_type": "code",
   "execution_count": 14,
   "id": "6db4190f-8f71-45ed-9f43-109847a4e6f4",
   "metadata": {},
   "outputs": [],
   "source": [
    "device = torch.device(\"cuda\") if torch.cuda.is_available() else torch.device(\"cpu\")"
   ]
  },
  {
   "cell_type": "code",
   "execution_count": 7,
   "id": "0676c0f2-cb30-45ca-8ca0-5a76c967fff6",
   "metadata": {},
   "outputs": [],
   "source": [
    "all_chars = \" !$&',-.3:;?ABCDEFGHIJKLMNOPQRSTUVWXYZabcdefghijklmnopqrstuvwxyz`\\n\"\n",
    "ctoi = {c:i for i,c in enumerate(all_chars)}\n",
    "itoc = {i:c for i,c in enumerate(all_chars)}\n",
    "\n",
    "unknown_i = len(all_chars)\n",
    "vocab_size = len(all_chars) + 1"
   ]
  },
  {
   "cell_type": "code",
   "execution_count": 8,
   "id": "cb9b0382-89c6-4c71-a60d-c26357cf30de",
   "metadata": {},
   "outputs": [],
   "source": [
    "# return list of int\n",
    "def encode(txt):\n",
    "    return [ctoi.get(c, unknown_i) for c in txt]\n",
    "\n",
    "def decode(x):\n",
    "    return \"\".join([itoc.get(i, \"_\") for i in x])"
   ]
  },
  {
   "cell_type": "markdown",
   "id": "fa19a5ef-4143-4312-8a0a-9ae2265d0a82",
   "metadata": {},
   "source": [
    "## Book Data"
   ]
  },
  {
   "cell_type": "code",
   "execution_count": 9,
   "id": "d64a7fd3-b01e-4804-a383-8206610502d2",
   "metadata": {},
   "outputs": [],
   "source": [
    "dataset = load_dataset(\"bookcorpus\", streaming=True, split=\"train\")"
   ]
  },
  {
   "cell_type": "code",
   "execution_count": 10,
   "id": "d2cd28f1-2595-4c3c-b1d8-52e7e8c2bf2a",
   "metadata": {},
   "outputs": [
    {
     "data": {
      "text/plain": [
       "{'text': 'usually , he would be tearing around the living room , playing with his toys .'}"
      ]
     },
     "execution_count": 10,
     "metadata": {},
     "output_type": "execute_result"
    }
   ],
   "source": [
    "next(iter(dataset))"
   ]
  },
  {
   "cell_type": "code",
   "execution_count": 11,
   "id": "f89bcf10-63f5-48de-bc52-1cb05270508e",
   "metadata": {},
   "outputs": [],
   "source": [
    "valid_ds = dataset.take(10000)\n",
    "train_ds = dataset.skip(10000)"
   ]
  },
  {
   "cell_type": "code",
   "execution_count": 12,
   "id": "225cd70f-4cf5-4135-a71b-f63d36c0ee61",
   "metadata": {},
   "outputs": [],
   "source": [
    "train_itr = iter(train_ds)"
   ]
  },
  {
   "cell_type": "code",
   "execution_count": 13,
   "id": "beee13df-e563-4bfd-80a9-1546026e300b",
   "metadata": {},
   "outputs": [
    {
     "data": {
      "text/plain": [
       "[\"`` looks like we have another one . ''\",\n",
       " 'and so my daughter was born , totally unexpected but completely loved .',\n",
       " \"the end chapter one i bounce from foot to foot as i try my mom 's cell phone one more time .\",\n",
       " \"i 'm practically bursting at the seams wanting to tell her my good news , and she 's not answering .\",\n",
       " 'i hang up the call as it goes to her voicemail again .',\n",
       " \"she 's been a little more unreachable ever since she started dating this new mystery man .\",\n",
       " \"she 'll have to break down and tell me about him soon-we 've never been able to keep secrets from one another for long .\",\n",
       " 'i give up and hold down the number 2 button on my old flip-phone to auto-dial my best friend allison .',\n",
       " 'thankfully , she picks up .',\n",
       " '`` i got it !']"
      ]
     },
     "execution_count": 13,
     "metadata": {},
     "output_type": "execute_result"
    }
   ],
   "source": [
    "txt = [next(train_itr)[\"text\"] for _ in range(10)]\n",
    "txt"
   ]
  },
  {
   "cell_type": "code",
   "execution_count": null,
   "id": "74157983-ceef-4d38-9590-450879e2da85",
   "metadata": {},
   "outputs": [
    {
     "data": {
      "text/plain": [
       "'hello'"
      ]
     },
     "execution_count": 10,
     "metadata": {},
     "output_type": "execute_result"
    }
   ],
   "source": [
    "x = encode(\"hello\")\n",
    "decode(x)"
   ]
  },
  {
   "cell_type": "code",
   "execution_count": 37,
   "id": "6237ad9f-1c57-45f6-8b0e-7c84ff5f91d2",
   "metadata": {},
   "outputs": [],
   "source": [
    "iter_size = 20\n",
    "data_itr = {\n",
    " \"train\": iter(train_ds),\n",
    " \"valid\": iter(valid_ds),\n",
    "}\n",
    "\n",
    "# return a long string\n",
    "def step(split):\n",
    "    global data_itr\n",
    "    itr = data_itr[split]\n",
    "    \n",
    "    try: \n",
    "        data = [next(itr)[\"text\"] for _ in range(iter_size)] # list of string\n",
    "    except StopIteration:\n",
    "        data_iter[split] =  iter(train_ds) if split == \"train\" else iter(valid_ds)\n",
    "        data = [next(data_iter[split])[\"text\"] for _ in range(iter_size)]\n",
    "        \n",
    "    txt = \"\".join(data)\n",
    "    return txt\n",
    "    \n",
    "\n",
    "# (B, L)\n",
    "def book_next_batch(split=\"train\", block_size=32, batch_size=32):\n",
    "    txt = \"\"\n",
    "    batch_n = 0\n",
    "    \n",
    "    while(batch_n < batch_size): \n",
    "        txt += step(split)\n",
    "        batch_n = (len(txt)-1) // block_size\n",
    "     \n",
    "    x = torch.tensor(encode(txt), device=device)\n",
    "    y = x[1:]\n",
    "    end_idx = batch_size*block_size\n",
    "    xb = x[:end_idx].view(-1, block_size)\n",
    "    yb = y[:end_idx].view(-1, block_size)\n",
    "            \n",
    "    return xb, yb\n"
   ]
  },
  {
   "cell_type": "code",
   "execution_count": 82,
   "id": "f09635ea-f79f-493b-840c-baedf43aa105",
   "metadata": {},
   "outputs": [
    {
     "data": {
      "text/plain": [
       "torch.Size([32, 32])"
      ]
     },
     "execution_count": 82,
     "metadata": {},
     "output_type": "execute_result"
    }
   ],
   "source": [
    "xb, yb = book_next_batch()\n",
    "xb.shape"
   ]
  },
  {
   "cell_type": "code",
   "execution_count": 40,
   "id": "9f4c66ec-3adf-4a0a-a686-e2b462f3c2f5",
   "metadata": {},
   "outputs": [
    {
     "data": {
      "text/plain": [
       "(tensor([55,  0, 49, 46, 57, 57, 49, 42,  0, 44, 55, 52, 58, 53,  0, 57, 45, 38,\n",
       "         57,  0, 46,  0, 50, 42, 57,  0, 43, 55, 42, 56, 45, 50]),\n",
       " tensor([ 0, 49, 46, 57, 57, 49, 42,  0, 44, 55, 52, 58, 53,  0, 57, 45, 38, 57,\n",
       "          0, 46,  0, 50, 42, 57,  0, 43, 55, 42, 56, 45, 50, 38]))"
      ]
     },
     "execution_count": 40,
     "metadata": {},
     "output_type": "execute_result"
    }
   ],
   "source": [
    "xb[1], yb[1]"
   ]
  },
  {
   "cell_type": "code",
   "execution_count": 87,
   "id": "fa82fec4-ab5b-4897-9bff-af7bd2a95be5",
   "metadata": {},
   "outputs": [
    {
     "data": {
      "text/plain": [
       "('er head as if she could shake of', 'r head as if she could shake off')"
      ]
     },
     "execution_count": 87,
     "metadata": {},
     "output_type": "execute_result"
    }
   ],
   "source": [
    "xb, yb = book_next_batch()\n",
    "x = xb[1].tolist()\n",
    "y = yb[1].tolist()\n",
    "decode(x), decode(y)"
   ]
  },
  {
   "cell_type": "code",
   "execution_count": 42,
   "id": "2f3db085-8b36-471e-97c8-190e7550a931",
   "metadata": {},
   "outputs": [
    {
     "name": "stdout",
     "output_type": "stream",
     "text": [
      "1024\n",
      "0\n"
     ]
    }
   ],
   "source": [
    "ci = [ci for x in xb for ci in x]\n",
    "unknon_count = [i for i in ci if i == unknown_i]\n",
    "\n",
    "print(len(ci))\n",
    "print(len(unknon_count))"
   ]
  },
  {
   "cell_type": "markdown",
   "id": "81b71e11-af7d-4dcf-9612-89fc369eb811",
   "metadata": {
    "tags": []
   },
   "source": [
    "## Shakespeare Data"
   ]
  },
  {
   "cell_type": "code",
   "execution_count": null,
   "id": "4138da33-f913-4024-95bb-aeec21c68a5c",
   "metadata": {},
   "outputs": [
    {
     "name": "stdout",
     "output_type": "stream",
     "text": [
      "--2023-03-31 08:39:42--  https://raw.githubusercontent.com/karpathy/char-rnn/master/data/tinyshakespeare/input.txt\n",
      "Resolving raw.githubusercontent.com (raw.githubusercontent.com)... 185.199.109.133, 185.199.108.133, 185.199.111.133, ...\n",
      "Connecting to raw.githubusercontent.com (raw.githubusercontent.com)|185.199.109.133|:443... connected.\n",
      "HTTP request sent, awaiting response... 200 OK\n",
      "Length: 1115394 (1.1M) [text/plain]\n",
      "Saving to: ‘input.txt.1’\n",
      "\n",
      "input.txt.1         100%[===================>]   1.06M  --.-KB/s    in 0.005s  \n",
      "\n",
      "2023-03-31 08:39:42 (234 MB/s) - ‘input.txt.1’ saved [1115394/1115394]\n",
      "\n"
     ]
    }
   ],
   "source": [
    "!wget https://raw.githubusercontent.com/karpathy/char-rnn/master/data/tinyshakespeare/input.txt"
   ]
  },
  {
   "cell_type": "code",
   "execution_count": 21,
   "id": "ba0751d6-58d8-4ad2-8aa4-1968fa53c95e",
   "metadata": {},
   "outputs": [
    {
     "data": {
      "text/plain": [
       "'First Citizen:\\nBefore we proceed any further, hear me speak.\\n\\nAll:\\nSpeak, speak.\\n\\nFirst Citizen:\\nYou'"
      ]
     },
     "execution_count": 21,
     "metadata": {},
     "output_type": "execute_result"
    }
   ],
   "source": [
    "txt = open('input.txt', 'r').read()\n",
    "txt[0:100]"
   ]
  },
  {
   "cell_type": "code",
   "execution_count": 44,
   "id": "98845857-1721-4d88-a9f4-74d01ceae08f",
   "metadata": {},
   "outputs": [],
   "source": [
    "data = encode(txt)\n",
    "i = int(0.8 * len(data))\n",
    "\n",
    "shake_data = {\n",
    "    \"train\": data[0:i],\n",
    "    \"valid\": data[i:],\n",
    "}"
   ]
  },
  {
   "cell_type": "code",
   "execution_count": 45,
   "id": "e11cbd5f-f518-4058-b90e-c2c23d59a714",
   "metadata": {},
   "outputs": [],
   "source": [
    "def shake_next_batch(split=\"train\", block_size=32, batch_size=32):\n",
    "    data = shake_data[split]\n",
    "    xi = torch.randint(0, len(data)-block_size, (batch_size,))\n",
    "    xb = torch.tensor([data[i:i+block_size] for i in xi], device=device)\n",
    "    yb = torch.tensor([data[i+1:i+block_size+1] for i in xi], device=device)\n",
    "    \n",
    "    return xb, yb"
   ]
  },
  {
   "cell_type": "code",
   "execution_count": 47,
   "id": "06e6f90b-be4a-4e1c-8cc6-12f8f60bdd05",
   "metadata": {},
   "outputs": [
    {
     "data": {
      "text/plain": [
       "torch.Size([32, 32])"
      ]
     },
     "execution_count": 47,
     "metadata": {},
     "output_type": "execute_result"
    }
   ],
   "source": [
    "x, y = shake_next_batch()\n",
    "x.shape"
   ]
  },
  {
   "cell_type": "markdown",
   "id": "195affac-4d14-4a4a-8fa5-70d64d0d723e",
   "metadata": {},
   "source": [
    "## Transfomer Model"
   ]
  },
  {
   "cell_type": "code",
   "execution_count": 51,
   "id": "8bd26e6d-9872-4c5e-97b3-d56aa6b9602d",
   "metadata": {},
   "outputs": [],
   "source": [
    "#!/usr/bin/env python\n",
    "from dataclasses import dataclass\n",
    "\n",
    "import torch\n",
    "import torch.nn as nn\n",
    "import torch.nn.functional as F\n",
    "\n",
    "\n",
    "@dataclass\n",
    "class Config:\n",
    "    vocab_size: int\n",
    "    block_size: int\n",
    "    emb_size: int\n",
    "    head_num: int\n",
    "    head_size: int\n",
    "    layer_num: int\n",
    "    ctoi: dict\n",
    "    dropout: float\n",
    "\n",
    "\n",
    "class MultiHeadAttension(nn.Module):\n",
    "\n",
    "    def __init__(self, c: Config):\n",
    "        super().__init__()\n",
    "        assert c.emb_size / c.head_size == c.head_num\n",
    "\n",
    "        self.head_size = c.head_size\n",
    "        self.head_num = c.head_num\n",
    "        self.attn = nn.Linear(\n",
    "            c.emb_size, 3 * c.head_num * c.head_size, bias=False)\n",
    "        self.ffn = nn.Linear(c.head_num * c.head_size, c.emb_size, bias=False)\n",
    "\n",
    "        self.attn_dropout = nn.Dropout(c.dropout)\n",
    "        self.resid_dropout = nn.Dropout(c.dropout)\n",
    "\n",
    "    # x: (B, L, C)\n",
    "    # return: (B, L, C)\n",
    "    def forward(self, x):\n",
    "        B, L, C = x.shape\n",
    "\n",
    "        z = self.attn(x)  # (B, L, 3 * hn * hs)\n",
    "        k, q, v = torch.split(\n",
    "            z, self.head_num * self.head_size, dim=2)  # (B, L, hn * hs)\n",
    "\n",
    "        k = k.view(B, L, self.head_num, self.head_size).permute(\n",
    "            0, 2, 1, 3)  # (B, hn, L, hs)\n",
    "        q = q.view(B, L, self.head_num, self.head_size).permute(0, 2, 1, 3)\n",
    "        v = v.view(B, L, self.head_num, self.head_size).permute(0, 2, 1, 3)\n",
    "\n",
    "        q = q.permute(0, 1, 3, 2)  # (B, hn, hs, L)\n",
    "        attn = (k @ q) / self.head_size**0.5  # (B, hn, L, L)\n",
    "        mask = torch.tril(torch.ones(L, L)) == 0\n",
    "        mask = mask.to(x.device)\n",
    "        attn = attn.masked_fill(mask, -float('inf'))  # (B, hn, L, L)\n",
    "        attn = F.softmax(attn, dim=3)\n",
    "        attn = self.attn_dropout(attn)\n",
    "\n",
    "        y = attn @ v  # (B, hn, L, hs)\n",
    "        y = y.permute(0, 2, 1, 3)  # (B, L, hn, hs)\n",
    "        y = y.contiguous().view(B, L, -1)  # (B, L, hn * hs)\n",
    "        y = self.ffn(y)  # (B, L, C)\n",
    "        y = self.resid_dropout(y)\n",
    "\n",
    "        return y\n",
    "\n",
    "\n",
    "class FeedForward(nn.Module):\n",
    "\n",
    "    def __init__(self, c: Config):\n",
    "        super().__init__()\n",
    "        self.linear1 = nn.Linear(c.emb_size, 2 * c.emb_size)\n",
    "        self.linear2 = nn.Linear(2 * c.emb_size, c.emb_size)\n",
    "        self.dropout = nn.Dropout(c.dropout)\n",
    "\n",
    "    # (B, L, C)\n",
    "    def forward(self, x):\n",
    "        y = self.linear1(x)\n",
    "        y = torch.relu(y)\n",
    "        y = self.linear2(y)\n",
    "        y = self.dropout(y)\n",
    "\n",
    "        return y\n",
    "\n",
    "\n",
    "class Block(nn.Module):\n",
    "\n",
    "    def __init__(self, c: Config):\n",
    "        super().__init__()\n",
    "\n",
    "        assert c.emb_size % c.head_size == 0\n",
    "        assert c.emb_size / c.head_size == c.head_num\n",
    "\n",
    "        self.mha = MultiHeadAttension(c)\n",
    "        self.lnorm1 = nn.LayerNorm(c.emb_size)\n",
    "        self.lnorm2 = nn.LayerNorm(c.emb_size)\n",
    "        self.ffn = FeedForward(c)\n",
    "\n",
    "    # x: (B, L, emb)\n",
    "    def forward(self, x):\n",
    "        y = self.mha(x) + x\n",
    "        y = self.lnorm1(y)\n",
    "        y = self.ffn(y) + y\n",
    "        y = self.lnorm2(y)\n",
    "        return y\n",
    "\n",
    "\n",
    "class Transformer(nn.Module):\n",
    "\n",
    "    def __init__(self, c: Config):\n",
    "        super().__init__()\n",
    "        self.config = c\n",
    "        self.embed = nn.Embedding(c.vocab_size, c.emb_size)\n",
    "        self.dropout = nn.Dropout(c.dropout)\n",
    "        self.blocks = nn.Sequential(\n",
    "            *[Block(c) for _ in range(c.layer_num)]\n",
    "        )\n",
    "        self.proj = nn.Linear(c.emb_size, c.vocab_size)\n",
    "\n",
    "    # return (L, C)\n",
    "    def pos_encoding(self, x):\n",
    "        B, L, C = x.shape\n",
    "        pos = torch.arange(0, L).view(-1, 1)  # (L, 1)\n",
    "        div = 2 * torch.arange(0, C) / C  # (C)\n",
    "        div = torch.pow(10000, div)  # (C)\n",
    "        e = pos / div\n",
    "        pe = torch.zeros(L, C)\n",
    "        pe[:, 0::2] = torch.sin(e[:, 0::2])\n",
    "        pe[:, 1::2] = torch.cos(e[:, 1::2])\n",
    "\n",
    "        pe = pe.to(x.device)\n",
    "        return pe\n",
    "\n",
    "    # (B, L) -> (B, L, C)\n",
    "    def forward(self, x):        \n",
    "        y = self.embed(x)  # (B, L, emb)\n",
    "        y = y + self.pos_encoding(y)  # (B, L, emb)\n",
    "        y = self.dropout(y)\n",
    "        y = self.blocks(y)  # (B, L, emb)\n",
    "        y = self.proj(y)  # (B, L, vocab)\n",
    "\n",
    "        return y\n",
    "\n",
    "    @torch.no_grad()\n",
    "    def sample(self, max_len):\n",
    "        device = next(self.parameters()).device\n",
    "    \n",
    "        self.eval()\n",
    "        itoc = {i: c for c, i in self.config.ctoi.items()}\n",
    "        tks = [0] * self.config.block_size\n",
    "\n",
    "        for i in range(max_len):\n",
    "            ctx = torch.tensor(tks[i:i+self.config.block_size], device=device)  # (L)\n",
    "            ctx = ctx.view(1, -1)  # (B, L)\n",
    "\n",
    "            logits = self.forward(ctx)  # (B, L, C)\n",
    "            probs = F.softmax(logits, dim=2)  # (B, L, C)\n",
    "            # (C), # the last in the sequence is the newly generated\n",
    "            probs = probs[0, -1, :]\n",
    "            yi = torch.multinomial(probs, 1)\n",
    "            tks.append(yi.item())\n",
    "\n",
    "        tks = tks[self.config.block_size:]\n",
    "        chars = [itoc.get(t, \"_\") for t in tks]\n",
    "        self.train()\n",
    "        return \"\".join(chars)"
   ]
  },
  {
   "cell_type": "code",
   "execution_count": null,
   "id": "25adf26d-f0e4-457e-96a7-6403def0625e",
   "metadata": {},
   "outputs": [],
   "source": [
    "def fit(next_batch_fn, batch_size, epoch, eval_n, optim):\n",
    "    lossi = []\n",
    "    model.train()\n",
    "    eval_iterval = epoch // eval_n\n",
    "    \n",
    "    for i in range(epoch):\n",
    "        optim.zero_grad()\n",
    "        xb, yb = next_batch_fn(\"train\", cfg.block_size, batch_size) # (B, L) \n",
    "        logits = model(xb)\n",
    "        B, L, C = logits.shape\n",
    "\n",
    "        logits = logits.view(B*L, C)\n",
    "        yb = yb.view(-1)\n",
    "        loss = F.cross_entropy(logits, yb)\n",
    "        loss.backward()\n",
    "        optim.step()\n",
    "\n",
    "        if i % eval_iterval == 0:\n",
    "            tr_loss = eval_split(model, next_batch_fn, \"train\", cfg.block_size, 256)\n",
    "            va_loss = eval_split(model, next_batch_fn, \"valid\", cfg.block_size, 256)\n",
    "            lossi.append((tr_loss, va_loss))\n",
    "            print(f\"{tr_loss:.4f} {va_loss:.4f}\")\n",
    "            \n",
    "    return lossi"
   ]
  },
  {
   "cell_type": "code",
   "execution_count": 52,
   "id": "2e81522b-4595-47ee-ba48-d0c975a8e865",
   "metadata": {},
   "outputs": [],
   "source": [
    "@torch.no_grad()\n",
    "def eval_split(model, next_batch_fn, split, block_size, batch_size):\n",
    "    model.eval()\n",
    "    \n",
    "    xb, yb = next_batch_fn(split, block_size, batch_size)\n",
    "    logits = model(xb)\n",
    "    B, L, C = logits.shape\n",
    "    logits = logits.view(B*L, C)\n",
    "    yb = yb.view(-1)\n",
    "    loss = F.cross_entropy(logits, yb)\n",
    "    \n",
    "    model.train()\n",
    "    return loss.item()"
   ]
  },
  {
   "cell_type": "code",
   "execution_count": 75,
   "id": "6c6fb749-a4aa-4aae-acf2-a1780994a448",
   "metadata": {},
   "outputs": [
    {
     "data": {
      "text/plain": [
       "('75,075', device(type='cpu'))"
      ]
     },
     "execution_count": 78,
     "metadata": {},
     "output_type": "execute_result"
    }
   ],
   "source": [
    "cfg = Config(\n",
    "    vocab_size=vocab_size,\n",
    "    block_size=64,\n",
    "    emb_size=64,\n",
    "    head_size=32,\n",
    "    head_num=64//32,\n",
    "    layer_num=2,\n",
    "    ctoi=ctoi,\n",
    "    dropout=0\n",
    ")\n",
    "\n",
    "model = Transformer(cfg)\n",
    "model = model.to(device)\n",
    "param_n = sum([_.numel() for _ in model.parameters()])\n",
    "\n",
    "\n",
    "f\"{param_n:,}\", device"
   ]
  },
  {
   "cell_type": "markdown",
   "id": "fe750a7a-cae2-4323-b868-702bb6f9f0a7",
   "metadata": {},
   "source": [
    "# Pretraining on Book Dataset"
   ]
  },
  {
   "cell_type": "code",
   "execution_count": 83,
   "id": "a76c8173-98fb-4757-9914-f2530756dc82",
   "metadata": {},
   "outputs": [
    {
     "name": "stdout",
     "output_type": "stream",
     "text": [
      "1.8507 1.9654\n",
      "1.8112 1.7308\n",
      "1.6220 1.7738\n",
      "1.5254 1.6795\n",
      "1.5223 1.7074\n",
      "1.6962 1.7121\n",
      "1.5393 1.7060\n",
      "1.5402 1.6178\n",
      "1.5268 1.6464\n",
      "1.5374 1.6684\n"
     ]
    }
   ],
   "source": [
    "optim = torch.optim.Adam(model.parameters())\n",
    "lossi = fit(book_next_batch, batch_size=32, epoch=5000, eval_n=10, optim=optim)"
   ]
  },
  {
   "cell_type": "code",
   "execution_count": 88,
   "id": "88d9be35-fe8e-4075-8523-a7c42bbd082c",
   "metadata": {},
   "outputs": [
    {
     "data": {
      "text/plain": [
       "[<matplotlib.lines.Line2D at 0x178eae7a0>]"
      ]
     },
     "execution_count": 88,
     "metadata": {},
     "output_type": "execute_result"
    },
    {
     "data": {
      "image/png": "[encoded data removed]",
      "text/plain": [
       "<Figure size 640x480 with 1 Axes>"
      ]
     },
     "metadata": {},
     "output_type": "display_data"
    }
   ],
   "source": [
    "tr_loss = [t for t, v in lossi]\n",
    "va_loss = [v for t, v in lossi]\n",
    "\n",
    "plot.plot(tr_loss, \"b\")\n",
    "plot.plot(va_loss, \"r\")"
   ]
  },
  {
   "cell_type": "code",
   "execution_count": 90,
   "id": "335ae91f-39a2-4d06-ac7d-ed97934eaeeb",
   "metadata": {},
   "outputs": [
    {
     "data": {
      "text/plain": [
       "('1.6372', '1.5306')"
      ]
     },
     "execution_count": 90,
     "metadata": {},
     "output_type": "execute_result"
    }
   ],
   "source": [
    "tr_loss = eval_split(model, book_next_batch, \"train\", cfg.block_size, 1024)\n",
    "va_loss = eval_split(model, book_next_batch, \"valid\", cfg.block_size, 1024)\n",
    "\n",
    "f\"{tr_loss:.4f}\", f\"{va_loss:.4f}\""
   ]
  },
  {
   "cell_type": "code",
   "execution_count": 91,
   "id": "e1ce1373-7d19-4ddc-b014-5abe5830c32d",
   "metadata": {},
   "outputs": [
    {
     "name": "stdout",
     "output_type": "stream",
     "text": [
      "bout he had he worra no i 'dell , '' turnished wint the alw his have knew to gan me , regled with he kirness on .he hels sping next unnheving a she 'd one , even not . ''he spocepted to date , the proobcing his , still he girms was steep its not the pleasing up conty his gain .every new way uperatio\n"
     ]
    }
   ],
   "source": [
    "print(model.sample(300))"
   ]
  },
  {
   "cell_type": "code",
   "execution_count": null,
   "id": "f8b9c4d8-cf10-4915-a086-1b167e764a6f",
   "metadata": {},
   "outputs": [],
   "source": [
    "@torch.no_grad()\n",
    "def eval_split(model, split, block_size, device=None):\n",
    "    model.eval()\n",
    "    \n",
    "    xb, yb = next_batch(split, 1000, block_size=block_size, device=device)\n",
    "    logits = model(xb)\n",
    "    B, L, C = logits.shape\n",
    "    logits = logits.view(B*L, C)\n",
    "    yb = yb.view(-1)\n",
    "    loss = F.cross_entropy(logits, yb)\n",
    "    \n",
    "    model.train()\n",
    "    return loss.item()"
   ]
  },
  {
   "cell_type": "code",
   "execution_count": 54,
   "id": "47d070ef-084c-4afa-b3bc-c3e1d8c0594d",
   "metadata": {},
   "outputs": [
    {
     "data": {
      "text/plain": [
       "'aKH-DPDiB_mMWKLwJpB?;`EP:AMZ_IEKgguSQ;LREBC$\\nxWek?h;u_OTI`YgDeKlLlS;p:qM.;lg..ifag?DyYszKeUgbf$Bv`fD'"
      ]
     },
     "execution_count": 54,
     "metadata": {},
     "output_type": "execute_result"
    }
   ],
   "source": [
    "model.sample(100)"
   ]
  },
  {
   "cell_type": "code",
   "execution_count": 57,
   "id": "416c5520-9a6a-49f6-a69a-e63407f293ca",
   "metadata": {},
   "outputs": [
    {
     "name": "stdout",
     "output_type": "stream",
     "text": [
      "1.3018 1.4648\n",
      "1.1911 1.3122\n",
      "1.3033 1.3705\n",
      "1.2625 1.3033\n",
      "1.2346 1.3574\n",
      "1.1847 1.2878\n",
      "1.2069 1.3009\n",
      "1.2530 1.3365\n",
      "1.3186 1.3156\n",
      "1.1634 1.3464\n"
     ]
    }
   ],
   "source": [
    "epoch = 10000\n",
    "eval_iterval = 1000\n",
    "\n",
    "model.train()\n",
    "\n",
    "for i in range(epoch):\n",
    "    optim.zero_grad()\n",
    "    xb, yb = next_batch(device=device, block_size=config.block_size) # (B, L) \n",
    "    logits = model(xb)\n",
    "    B, L, C = logits.shape\n",
    "\n",
    "    logits = logits.view(B*L, C)\n",
    "    yb = yb.view(-1)\n",
    "    loss = F.cross_entropy(logits, yb)\n",
    "    loss.backward()\n",
    "    optim.step()\n",
    "    \n",
    "    if i % eval_iterval == 0:\n",
    "        tr_loss = eval_split(model, \"train\", device=device, block_size=config.block_size)\n",
    "        va_loss = eval_split(model, \"valid\", device=device, block_size=config.block_size)\n",
    "        lossi.append((tr_loss, va_loss))\n",
    "        print(f\"{tr_loss:.4f} {va_loss:.4f}\")"
   ]
  },
  {
   "cell_type": "code",
   "execution_count": 58,
   "id": "a2292931-5a8f-4cc7-94fe-5ebcabb9b216",
   "metadata": {},
   "outputs": [
    {
     "data": {
      "text/plain": [
       "[<matplotlib.lines.Line2D at 0x7f3bf3d8b3d0>]"
      ]
     },
     "execution_count": 58,
     "metadata": {},
     "output_type": "execute_result"
    },
    {
     "data": {
      "image/png": "[encoded data removed]",
      "text/plain": [
       "<Figure size 432x288 with 1 Axes>"
      ]
     },
     "metadata": {
      "needs_background": "light"
     },
     "output_type": "display_data"
    }
   ],
   "source": [
    "tr_loss = [t for t, v in lossi]\n",
    "va_loss = [v for t, v in lossi]\n",
    "\n",
    "plot.plot(tr_loss, \"b\")\n",
    "plot.plot(va_loss, \"r\")"
   ]
  },
  {
   "cell_type": "code",
   "execution_count": 59,
   "id": "2b9c2952-04c9-43aa-bccd-6b4db9520e6d",
   "metadata": {},
   "outputs": [
    {
     "name": "stdout",
     "output_type": "stream",
     "text": [
      "''`` 'i took a momborberious wordty . ''`` i 'm gone to do it open and have to try , '' i said .i wo n't get in her from the whole cut .he was exacctly pieced .`` yes , with the bock .you want .i took you , sory .and that was weaking up or my face . ''`` yes , you have talks or fingers about feeling\n"
     ]
    }
   ],
   "source": [
    "print(model.sample(300))"
   ]
  },
  {
   "cell_type": "markdown",
   "id": "adae9e48-31ab-4eab-b9c5-ad519c4b7375",
   "metadata": {},
   "source": [
    "# Log \n",
    "\n",
    "- no pretrain: 1.2984 1.5674"
   ]
  }
 ],
 "metadata": {
  "kernelspec": {
   "display_name": "Python 3 (ipykernel)",
   "language": "python",
   "name": "python3"
  },
  "language_info": {
   "codemirror_mode": {
    "name": "ipython",
    "version": 3
   },
   "file_extension": ".py",
   "mimetype": "text/x-python",
   "name": "python",
   "nbconvert_exporter": "python",
   "pygments_lexer": "ipython3",
   "version": "3.10.8"
  }
 },
 "nbformat": 4,
 "nbformat_minor": 5
}
