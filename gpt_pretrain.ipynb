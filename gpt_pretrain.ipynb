{
 "cells": [
  {
   "cell_type": "code",
   "execution_count": 153,
   "id": "0cc556d8-51e9-4c98-8851-d73ca7535e51",
   "metadata": {},
   "outputs": [],
   "source": [
    "from datasets import list_datasets, load_dataset\n",
    "import torch\n",
    "import torch.nn as nn\n",
    "import torch.nn.functional as F\n",
    "import matplotlib.pyplot as plot"
   ]
  },
  {
   "cell_type": "code",
   "execution_count": 222,
   "id": "0676c0f2-cb30-45ca-8ca0-5a76c967fff6",
   "metadata": {},
   "outputs": [],
   "source": [
    "all_chars = \" !$&',-.3:;?ABCDEFGHIJKLMNOPQRSTUVWXYZabcdefghijklmnopqrstuvwxyz`\\n\"\n",
    "ctoi = {c:i for i,c in enumerate(all_chars)}\n",
    "itoc = {i:c for i,c in enumerate(all_chars)}\n",
    "\n",
    "unknown_i = len(all_chars)\n",
    "vocab_size = len(all_chars) + 1"
   ]
  },
  {
   "cell_type": "code",
   "execution_count": 223,
   "id": "d64a7fd3-b01e-4804-a383-8206610502d2",
   "metadata": {},
   "outputs": [],
   "source": [
    "dataset = load_dataset(\"bookcorpus\", streaming=True, split=\"train\")"
   ]
  },
  {
   "cell_type": "code",
   "execution_count": 224,
   "id": "d2cd28f1-2595-4c3c-b1d8-52e7e8c2bf2a",
   "metadata": {},
   "outputs": [
    {
     "data": {
      "text/plain": [
       "{'text': 'usually , he would be tearing around the living room , playing with his toys .'}"
      ]
     },
     "execution_count": 224,
     "metadata": {},
     "output_type": "execute_result"
    }
   ],
   "source": [
    "next(iter(dataset))"
   ]
  },
  {
   "cell_type": "code",
   "execution_count": 225,
   "id": "f89bcf10-63f5-48de-bc52-1cb05270508e",
   "metadata": {},
   "outputs": [],
   "source": [
    "valid_ds = dataset.take(10000)\n",
    "train_ds = dataset.skip(10000)"
   ]
  },
  {
   "cell_type": "code",
   "execution_count": 226,
   "id": "225cd70f-4cf5-4135-a71b-f63d36c0ee61",
   "metadata": {},
   "outputs": [],
   "source": [
    "train_itr = iter(train_ds)"
   ]
  },
  {
   "cell_type": "code",
   "execution_count": 227,
   "id": "beee13df-e563-4bfd-80a9-1546026e300b",
   "metadata": {},
   "outputs": [
    {
     "data": {
      "text/plain": [
       "[\"`` looks like we have another one . ''\",\n",
       " 'and so my daughter was born , totally unexpected but completely loved .',\n",
       " \"the end chapter one i bounce from foot to foot as i try my mom 's cell phone one more time .\",\n",
       " \"i 'm practically bursting at the seams wanting to tell her my good news , and she 's not answering .\",\n",
       " 'i hang up the call as it goes to her voicemail again .',\n",
       " \"she 's been a little more unreachable ever since she started dating this new mystery man .\",\n",
       " \"she 'll have to break down and tell me about him soon-we 've never been able to keep secrets from one another for long .\",\n",
       " 'i give up and hold down the number 2 button on my old flip-phone to auto-dial my best friend allison .',\n",
       " 'thankfully , she picks up .',\n",
       " '`` i got it !']"
      ]
     },
     "execution_count": 227,
     "metadata": {},
     "output_type": "execute_result"
    }
   ],
   "source": [
    "txt = [next(train_itr)[\"text\"] for _ in range(10)]\n",
    "txt"
   ]
  },
  {
   "cell_type": "code",
   "execution_count": 228,
   "id": "cb9b0382-89c6-4c71-a60d-c26357cf30de",
   "metadata": {},
   "outputs": [],
   "source": [
    "# return list of int\n",
    "def encode(txt):\n",
    "    return [ctoi.get(c, unknown_i) for c in txt]\n",
    "\n",
    "def decode(x):\n",
    "    return \"\".join([itoc[i] for i in x])"
   ]
  },
  {
   "cell_type": "code",
   "execution_count": 229,
   "id": "74157983-ceef-4d38-9590-450879e2da85",
   "metadata": {},
   "outputs": [
    {
     "data": {
      "text/plain": [
       "'hello'"
      ]
     },
     "execution_count": 229,
     "metadata": {},
     "output_type": "execute_result"
    }
   ],
   "source": [
    "x = encode(\"hello\")\n",
    "decode(x)"
   ]
  },
  {
   "cell_type": "code",
   "execution_count": 230,
   "id": "6237ad9f-1c57-45f6-8b0e-7c84ff5f91d2",
   "metadata": {},
   "outputs": [
    {
     "data": {
      "text/plain": [
       "torch.Size([161, 32])"
      ]
     },
     "execution_count": 230,
     "metadata": {},
     "output_type": "execute_result"
    }
   ],
   "source": [
    "block_size = 32\n",
    "train_itr = iter(train_ds)\n",
    "valid_itr = iter(valid_ds)\n",
    "\n",
    "# (B, L)\n",
    "def next_batch(split=\"train\", iter_size=64):\n",
    "    global train_itr, valid_itr\n",
    "    itr = train_itr if split == \"train\" else valid_itr\n",
    "    \n",
    "    try: \n",
    "        data = [next(itr)[\"text\"] for _ in range(iter_size)]\n",
    "    except StopIteration:\n",
    "        if split == \"train\":\n",
    "            train_itr = iter(train_ds)\n",
    "        else:\n",
    "            valid_itr = iter(valid_ds)\n",
    "            \n",
    "        itr = train_itr if split == \"train\" else valid_itr\n",
    "        data = [next(itr)[\"text\"] for _ in range(iter_size)]\n",
    "    \n",
    "     \n",
    "    txt = \"\".join(data) # concat datas into a single long string\n",
    "    x = torch.tensor(encode(txt))\n",
    "    y = x[1:]\n",
    "    batch_size = len(y) // block_size\n",
    "    xb = x[:batch_size*block_size].view(-1, block_size)\n",
    "    yb = y[:batch_size*block_size].view(-1, block_size)\n",
    "        \n",
    "    return xb, yb\n",
    "        \n",
    "xb, yb = next_batch()\n",
    "xb.shape"
   ]
  },
  {
   "cell_type": "code",
   "execution_count": 231,
   "id": "9f4c66ec-3adf-4a0a-a686-e2b462f3c2f5",
   "metadata": {},
   "outputs": [
    {
     "data": {
      "text/plain": [
       "(tensor([38, 56,  0, 46, 57,  0, 44, 52, 42, 56,  0, 57, 52,  0, 45, 42, 55,  0,\n",
       "         59, 52, 46, 40, 42, 50, 38, 46, 49,  0, 38, 44, 38, 46]),\n",
       " tensor([56,  0, 46, 57,  0, 44, 52, 42, 56,  0, 57, 52,  0, 45, 42, 55,  0, 59,\n",
       "         52, 46, 40, 42, 50, 38, 46, 49,  0, 38, 44, 38, 46, 51]))"
      ]
     },
     "execution_count": 231,
     "metadata": {},
     "output_type": "execute_result"
    }
   ],
   "source": [
    "xb[10], yb[10]"
   ]
  },
  {
   "cell_type": "code",
   "execution_count": 232,
   "id": "fa82fec4-ab5b-4897-9bff-af7bd2a95be5",
   "metadata": {},
   "outputs": [
    {
     "data": {
      "text/plain": [
       "('as it goes to her voicemail agai', 's it goes to her voicemail again')"
      ]
     },
     "execution_count": 232,
     "metadata": {},
     "output_type": "execute_result"
    }
   ],
   "source": [
    "x = xb[10].tolist()\n",
    "y = yb[10].tolist()\n",
    "decode(x), decode(y)"
   ]
  },
  {
   "cell_type": "code",
   "execution_count": 233,
   "id": "2f3db085-8b36-471e-97c8-190e7550a931",
   "metadata": {},
   "outputs": [
    {
     "name": "stdout",
     "output_type": "stream",
     "text": [
      "3840\n",
      "1\n"
     ]
    }
   ],
   "source": [
    "ci = [ci for x in xb for ci in x]\n",
    "unknon_count = [i for i in ci if i == unknown_i]\n",
    "\n",
    "print(len(concat))\n",
    "print(len(unknon_count))"
   ]
  },
  {
   "cell_type": "code",
   "execution_count": 234,
   "id": "8bd26e6d-9872-4c5e-97b3-d56aa6b9602d",
   "metadata": {},
   "outputs": [],
   "source": [
    "#!/usr/bin/env python\n",
    "from dataclasses import dataclass\n",
    "\n",
    "import torch\n",
    "import torch.nn as nn\n",
    "import torch.nn.functional as F\n",
    "\n",
    "\n",
    "@dataclass\n",
    "class Config:\n",
    "    vocab_size: int\n",
    "    block_size: int\n",
    "    emb_size: int\n",
    "    head_num: int\n",
    "    head_size: int\n",
    "    layer_num: int\n",
    "    ctoi: dict\n",
    "    dropout: float\n",
    "\n",
    "\n",
    "class MultiHeadAttension(nn.Module):\n",
    "\n",
    "    def __init__(self, c: Config):\n",
    "        super().__init__()\n",
    "        assert c.emb_size / c.head_size == c.head_num\n",
    "\n",
    "        self.head_size = c.head_size\n",
    "        self.head_num = c.head_num\n",
    "        self.attn = nn.Linear(\n",
    "            c.emb_size, 3 * c.head_num * c.head_size, bias=False)\n",
    "        self.ffn = nn.Linear(c.head_num * c.head_size, c.emb_size, bias=False)\n",
    "\n",
    "        self.attn_dropout = nn.Dropout(c.dropout)\n",
    "        self.resid_dropout = nn.Dropout(c.dropout)\n",
    "\n",
    "    # x: (B, L, C)\n",
    "    # return: (B, L, C)\n",
    "    def forward(self, x):\n",
    "        B, L, C = x.shape\n",
    "\n",
    "        z = self.attn(x)  # (B, L, 3 * hn * hs)\n",
    "        k, q, v = torch.split(\n",
    "            z, self.head_num * self.head_size, dim=2)  # (B, L, hn * hs)\n",
    "\n",
    "        k = k.view(B, L, self.head_num, self.head_size).permute(\n",
    "            0, 2, 1, 3)  # (B, hn, L, hs)\n",
    "        q = q.view(B, L, self.head_num, self.head_size).permute(0, 2, 1, 3)\n",
    "        v = v.view(B, L, self.head_num, self.head_size).permute(0, 2, 1, 3)\n",
    "\n",
    "        q = q.permute(0, 1, 3, 2)  # (B, hn, hs, L)\n",
    "        attn = (k @ q) / self.head_size**0.5  # (B, hn, L, L)\n",
    "        mask = torch.tril(torch.ones(L, L)) == 0\n",
    "        mask = mask.to(x.device)\n",
    "        attn = attn.masked_fill(mask, -float('inf'))  # (B, hn, L, L)\n",
    "        attn = F.softmax(attn, dim=3)\n",
    "        attn = self.attn_dropout(attn)\n",
    "\n",
    "        y = attn @ v  # (B, hn, L, hs)\n",
    "        y = y.permute(0, 2, 1, 3)  # (B, L, hn, hs)\n",
    "        y = y.contiguous().view(B, L, -1)  # (B, L, hn * hs)\n",
    "        y = self.ffn(y)  # (B, L, C)\n",
    "        y = self.resid_dropout(y)\n",
    "\n",
    "        return y\n",
    "\n",
    "\n",
    "class FeedForward(nn.Module):\n",
    "\n",
    "    def __init__(self, c: Config):\n",
    "        super().__init__()\n",
    "        self.linear1 = nn.Linear(c.emb_size, 2 * c.emb_size)\n",
    "        self.linear2 = nn.Linear(2 * c.emb_size, c.emb_size)\n",
    "        self.dropout = nn.Dropout(c.dropout)\n",
    "\n",
    "    # (B, L, C)\n",
    "    def forward(self, x):\n",
    "        y = self.linear1(x)\n",
    "        y = torch.relu(y)\n",
    "        y = self.linear2(y)\n",
    "        y = self.dropout(y)\n",
    "\n",
    "        return y\n",
    "\n",
    "\n",
    "class Block(nn.Module):\n",
    "\n",
    "    def __init__(self, c: Config):\n",
    "        super().__init__()\n",
    "\n",
    "        assert c.emb_size % c.head_size == 0\n",
    "        assert c.emb_size / c.head_size == c.head_num\n",
    "\n",
    "        self.mha = MultiHeadAttension(c)\n",
    "        self.lnorm1 = nn.LayerNorm(c.emb_size)\n",
    "        self.lnorm2 = nn.LayerNorm(c.emb_size)\n",
    "        self.ffn = FeedForward(c)\n",
    "\n",
    "    # x: (B, L, emb)\n",
    "    def forward(self, x):\n",
    "        y = self.mha(x) + x\n",
    "        y = self.lnorm1(y)\n",
    "        y = self.ffn(y) + y\n",
    "        y = self.lnorm2(y)\n",
    "        return y\n",
    "\n",
    "\n",
    "class Transformer(nn.Module):\n",
    "\n",
    "    def __init__(self, c: Config):\n",
    "        super().__init__()\n",
    "        self.config = c\n",
    "        self.embed = nn.Embedding(c.vocab_size, c.emb_size)\n",
    "        self.dropout = nn.Dropout(c.dropout)\n",
    "        self.blocks = nn.Sequential(\n",
    "            *[Block(c) for _ in range(c.layer_num)]\n",
    "        )\n",
    "        self.proj = nn.Linear(c.emb_size, c.vocab_size)\n",
    "\n",
    "    # return (L, C)\n",
    "    def pos_encoding(self, x):\n",
    "        B, L, C = x.shape\n",
    "        pos = torch.arange(0, L).view(-1, 1)  # (L, 1)\n",
    "        div = 2 * torch.arange(0, C) / C  # (C)\n",
    "        div = torch.pow(10000, div)  # (C)\n",
    "        e = pos / div\n",
    "        pe = torch.zeros(L, C)\n",
    "        pe[:, 0::2] = torch.sin(e[:, 0::2])\n",
    "        pe[:, 1::2] = torch.cos(e[:, 1::2])\n",
    "\n",
    "        pe = pe.to(x.device)\n",
    "        return pe\n",
    "\n",
    "    # (B, L) -> (B, L, C)\n",
    "    def forward(self, x):\n",
    "        y = self.embed(x)  # (B, L, emb)\n",
    "        y = y + self.pos_encoding(y)  # (B, L, emb)\n",
    "        y = self.dropout(y)\n",
    "        y = self.blocks(y)  # (B, L, emb)\n",
    "        y = self.proj(y)  # (B, L, vocab)\n",
    "\n",
    "        return y\n",
    "\n",
    "    @torch.no_grad()\n",
    "    def sample(self, max_len):\n",
    "        self.eval()\n",
    "        itoc = {i: c for c, i in self.config.ctoi.items()}\n",
    "        tks = [0] * self.config.block_size\n",
    "\n",
    "        for i in range(max_len):\n",
    "            ctx = torch.tensor(tks[i:i+self.config.block_size])  # (L)\n",
    "            ctx = ctx.view(1, -1)  # (B, L)\n",
    "\n",
    "            logits = self.forward(ctx)  # (B, L, C)\n",
    "            probs = F.softmax(logits, dim=2)  # (B, L, C)\n",
    "            # (C), # the last in the sequence is the newly generated\n",
    "            probs = probs[0, -1, :]\n",
    "            yi = torch.multinomial(probs, 1)\n",
    "            tks.append(yi.item())\n",
    "\n",
    "        tks = tks[self.config.block_size:]\n",
    "        chars = [itoc.get(t, \"_\") for t in tks]\n",
    "        self.train()\n",
    "        return \"\".join(chars)"
   ]
  },
  {
   "cell_type": "code",
   "execution_count": 235,
   "id": "f8b9c4d8-cf10-4915-a086-1b167e764a6f",
   "metadata": {},
   "outputs": [],
   "source": [
    "@torch.no_grad()\n",
    "def eval_split(model, split):\n",
    "    model.eval()\n",
    "    \n",
    "    xb, yb = next_batch(split, 1000)\n",
    "    logits = model(xb)\n",
    "    B, L, C = logits.shape\n",
    "    logits = logits.view(B*L, C)\n",
    "    yb = yb.view(-1)\n",
    "    loss = F.cross_entropy(logits, yb)\n",
    "    \n",
    "    model.train()\n",
    "    return loss.item()"
   ]
  },
  {
   "cell_type": "code",
   "execution_count": 236,
   "id": "6c6fb749-a4aa-4aae-acf2-a1780994a448",
   "metadata": {},
   "outputs": [],
   "source": [
    "config = Config(\n",
    "    vocab_size=vocab_size,\n",
    "    block_size=block_size,\n",
    "    emb_size=128,\n",
    "    head_size=32,\n",
    "    head_num=128//32,\n",
    "    layer_num=2,\n",
    "    ctoi=ctoi,\n",
    "    dropout=0\n",
    ")\n",
    "\n",
    "model = Transformer(config)\n",
    "optim = torch.optim.Adam(model.parameters())\n",
    "lossi = []"
   ]
  },
  {
   "cell_type": "code",
   "execution_count": 237,
   "id": "47d070ef-084c-4afa-b3bc-c3e1d8c0594d",
   "metadata": {},
   "outputs": [
    {
     "data": {
      "text/plain": [
       "'ozZqUyuhBeUd?YzTkLjyBObbQpprN:bfkmYq3Bq.gJZSZd?aAdKVZ`bypg;LLkHY!DEeIG3dMOjvFY_Pvl?OyRdEk:,w!N!Ej!&D'"
      ]
     },
     "execution_count": 237,
     "metadata": {},
     "output_type": "execute_result"
    }
   ],
   "source": [
    "model.sample(100)"
   ]
  },
  {
   "cell_type": "code",
   "execution_count": 238,
   "id": "416c5520-9a6a-49f6-a69a-e63407f293ca",
   "metadata": {},
   "outputs": [
    {
     "name": "stdout",
     "output_type": "stream",
     "text": [
      "3.8468 3.8532\n",
      "1.8144 1.8252\n",
      "1.5478 1.7619\n",
      "1.5171 1.6246\n",
      "1.5457 1.6206\n",
      "1.5170 1.5444\n",
      "1.3800 1.5289\n",
      "1.4520 1.5634\n",
      "1.4369 1.5003\n",
      "1.4380 1.4875\n"
     ]
    }
   ],
   "source": [
    "epoch = 3000\n",
    "eval_iterval = 300\n",
    "\n",
    "model.train()\n",
    "\n",
    "for i in range(epoch):\n",
    "    optim.zero_grad()\n",
    "    xb, yb = next_batch() # (B, L) \n",
    "    logits = model(xb)\n",
    "    B, L, C = logits.shape\n",
    "\n",
    "    logits = logits.view(B*L, C)\n",
    "    yb = yb.view(-1)\n",
    "    loss = F.cross_entropy(logits, yb)\n",
    "    loss.backward()\n",
    "    optim.step()\n",
    "    \n",
    "    if i % eval_iterval == 0:\n",
    "        tr_loss = eval_split(model, \"train\")\n",
    "        va_loss = eval_split(model, \"valid\")\n",
    "        lossi.append((tr_loss, va_loss))\n",
    "        print(f\"{tr_loss:.4f} {va_loss:.4f}\")"
   ]
  },
  {
   "cell_type": "code",
   "execution_count": 239,
   "id": "a2292931-5a8f-4cc7-94fe-5ebcabb9b216",
   "metadata": {},
   "outputs": [
    {
     "data": {
      "text/plain": [
       "[<matplotlib.lines.Line2D at 0x16dec67a0>]"
      ]
     },
     "execution_count": 239,
     "metadata": {},
     "output_type": "execute_result"
    },
    {
     "data": {
      "image/png": "[encoded data removed]",
      "text/plain": [
       "<Figure size 640x480 with 1 Axes>"
      ]
     },
     "metadata": {},
     "output_type": "display_data"
    }
   ],
   "source": [
    "tr_loss = [t for t, v in lossi]\n",
    "va_loss = [v for t, v in lossi]\n",
    "\n",
    "plot.plot(tr_loss, \"b\")\n",
    "plot.plot(va_loss, \"r\")"
   ]
  },
  {
   "cell_type": "code",
   "execution_count": 240,
   "id": "2b9c2952-04c9-43aa-bccd-6b4db9520e6d",
   "metadata": {},
   "outputs": [
    {
     "name": "stdout",
     "output_type": "stream",
     "text": [
      "''s jacking my put have as afrom her face , infacting a job , which home go next forward man away , golden in amportunclard forween stitched again from the given that read her old , i would have daring time my times , will they wrould treed it .but a nodden coat trajine ?my deep .before , he pict th\n"
     ]
    }
   ],
   "source": [
    "print(model.sample(300))"
   ]
  },
  {
   "cell_type": "markdown",
   "id": "81b71e11-af7d-4dcf-9612-89fc369eb811",
   "metadata": {},
   "source": [
    "## Fine-tuning on Shakespeare"
   ]
  },
  {
   "cell_type": "code",
   "execution_count": 241,
   "id": "4138da33-f913-4024-95bb-aeec21c68a5c",
   "metadata": {},
   "outputs": [],
   "source": [
    "# !wget https://raw.githubusercontent.com/karpathy/char-rnn/master/data/tinyshakespeare/input.txt"
   ]
  },
  {
   "cell_type": "code",
   "execution_count": 242,
   "id": "ba0751d6-58d8-4ad2-8aa4-1968fa53c95e",
   "metadata": {},
   "outputs": [
    {
     "data": {
      "text/plain": [
       "\"                     1\\n  From fairest creatures we desire increase,\\n  That thereby beauty's rose mig\""
      ]
     },
     "execution_count": 242,
     "metadata": {},
     "output_type": "execute_result"
    }
   ],
   "source": [
    "txt = open('shakespeare.txt', 'r').read()\n",
    "txt[0:100]"
   ]
  },
  {
   "cell_type": "code",
   "execution_count": 243,
   "id": "98845857-1721-4d88-a9f4-74d01ceae08f",
   "metadata": {},
   "outputs": [],
   "source": [
    "data = encode(txt)\n",
    "i = int(0.9 * len(data))\n",
    "tr_data = data[0:i]\n",
    "va_data = data[i:]"
   ]
  },
  {
   "cell_type": "code",
   "execution_count": 244,
   "id": "e11cbd5f-f518-4058-b90e-c2c23d59a714",
   "metadata": {},
   "outputs": [],
   "source": [
    "def next_batch_shake(split=\"train\", batch_size=32):\n",
    "    data = tr_data if split == \"train\" else va_data\n",
    "    xi = torch.randint(0, len(data)-block_size, (batch_size,))\n",
    "    x = torch.tensor([data[i:i+block_size] for i in xi])\n",
    "    y = torch.tensor([data[i+1:i+block_size+1] for i in xi])\n",
    "    \n",
    "    return x, y"
   ]
  },
  {
   "cell_type": "code",
   "execution_count": 245,
   "id": "2e81522b-4595-47ee-ba48-d0c975a8e865",
   "metadata": {},
   "outputs": [],
   "source": [
    "@torch.no_grad()\n",
    "def eval_split_shake(model, split):\n",
    "    model.eval()\n",
    "    \n",
    "    xb, yb = next_batch_shake(split, 1000)\n",
    "    logits = model(xb)\n",
    "    B, L, C = logits.shape\n",
    "    logits = logits.view(B*L, C)\n",
    "    yb = yb.view(-1)\n",
    "    loss = F.cross_entropy(logits, yb)\n",
    "    \n",
    "    model.train()\n",
    "    return loss.item()"
   ]
  },
  {
   "cell_type": "code",
   "execution_count": 252,
   "id": "6e42e967-c4bb-4a96-816a-b0dd74e55c41",
   "metadata": {},
   "outputs": [],
   "source": [
    "model = Transformer(config)\n",
    "optim = torch.optim.Adam(model.parameters(), lr=0.001) # default lr=0.001\n",
    "lossi = []"
   ]
  },
  {
   "cell_type": "code",
   "execution_count": null,
   "id": "25adf26d-f0e4-457e-96a7-6403def0625e",
   "metadata": {},
   "outputs": [
    {
     "name": "stdout",
     "output_type": "stream",
     "text": [
      "1.5078 1.5959\n",
      "1.4724 1.6125\n",
      "1.4879 1.6239\n",
      "1.4672 1.6167\n",
      "1.4554 1.5861\n",
      "1.4898 1.6189\n",
      "1.4634 1.5947\n",
      "1.4806 1.5939\n",
      "1.4828 1.5971\n"
     ]
    }
   ],
   "source": [
    "epoch = 3000\n",
    "eval_iterval = 300\n",
    "model.train()\n",
    "\n",
    "for i in range(epoch):\n",
    "    optim.zero_grad()\n",
    "    xb, yb = next_batch_shake() # (B, L) \n",
    "    logits = model(xb)\n",
    "    B, L, C = logits.shape\n",
    "\n",
    "    logits = logits.view(B*L, C)\n",
    "    yb = yb.view(-1)\n",
    "    loss = F.cross_entropy(logits, yb)\n",
    "    loss.backward()\n",
    "    optim.step()\n",
    "    \n",
    "    if i % eval_iterval == 0:\n",
    "        tr_loss = eval_split_shake(model, \"train\")\n",
    "        va_loss = eval_split_shake(model, \"valid\")\n",
    "        lossi.append((tr_loss, va_loss))\n",
    "        print(f\"{tr_loss:.4f} {va_loss:.4f}\")"
   ]
  },
  {
   "cell_type": "markdown",
   "id": "139c9067-520e-4631-8107-b2a30bc9375f",
   "metadata": {},
   "source": [
    "# log\n",
    "- no pre-train: 1.60\n",
    "- pre-train: 1.60"
   ]
  },
  {
   "cell_type": "code",
   "execution_count": 248,
   "id": "88d9be35-fe8e-4075-8523-a7c42bbd082c",
   "metadata": {},
   "outputs": [
    {
     "data": {
      "text/plain": [
       "[<matplotlib.lines.Line2D at 0x16e097460>]"
      ]
     },
     "execution_count": 248,
     "metadata": {},
     "output_type": "execute_result"
    },
    {
     "data": {
      "image/png": "[encoded data removed]",
      "text/plain": [
       "<Figure size 640x480 with 1 Axes>"
      ]
     },
     "metadata": {},
     "output_type": "display_data"
    }
   ],
   "source": [
    "tr_loss = [t for t, v in lossi]\n",
    "va_loss = [v for t, v in lossi]\n",
    "\n",
    "plot.plot(tr_loss, \"b\")\n",
    "plot.plot(va_loss, \"r\")"
   ]
  },
  {
   "cell_type": "code",
   "execution_count": 251,
   "id": "e1ce1373-7d19-4ddc-b014-5abe5830c32d",
   "metadata": {},
   "outputs": [
    {
     "name": "stdout",
     "output_type": "stream",
     "text": [
      "    noted he seat will, groood- Contice fathror,\n",
      "    Who.  Cactly pruntices them to know mine any riting as of make then foosic we final a buddom thought his dear much coud,\n",
      "    And reithine a dunker of his earn'd leaved!\n",
      "  TAMUTHIP RD. You swear in of home, weave, honourague,\n",
      "  Hee which thint\n",
      "            as fair mother outump to your light to deat of RGome of sair,\n",
      "    And commagine; this worshee's and fause!\n",
      "     sonfess trued;\n",
      "    Remious odd me afform lesse and me and come.\n",
      "    How show not this force. How for Come that lordm?\n",
      "  OTR DOLLETA. Beligh sounce.\n",
      "   That I this fan sould My thy\n",
      "    deat; been to hand.\n",
      "   Grons' then of answer\n",
      "    Let but as for viliblius arthiness no caine,\n",
      "    Do both you for me blooding his exephow'd not inter iking peoper'd. Iurgew nover and world\n",
      "    gate\n",
      "    You my prove retunes. Well stee-stor,; for me shoodn.\n",
      "  Mows this Give off stoat the saway, and head meusin,\n",
      "     Ekne's that encount thostrely and rever bittle indantal bout thou ushardon.\n",
      "  FA\n"
     ]
    }
   ],
   "source": [
    "print(model.sample(1000))"
   ]
  }
 ],
 "metadata": {
  "kernelspec": {
   "display_name": "Python 3 (ipykernel)",
   "language": "python",
   "name": "python3"
  },
  "language_info": {
   "codemirror_mode": {
    "name": "ipython",
    "version": 3
   },
   "file_extension": ".py",
   "mimetype": "text/x-python",
   "name": "python",
   "nbconvert_exporter": "python",
   "pygments_lexer": "ipython3",
   "version": "3.10.8"
  }
 },
 "nbformat": 4,
 "nbformat_minor": 5
}
