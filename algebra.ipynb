{
 "cells": [
  {
   "cell_type": "code",
   "execution_count": 1,
   "id": "34953c51-113f-4638-a085-78ec2bce7b54",
   "metadata": {},
   "outputs": [],
   "source": [
    "import torch\n",
    "import torch.nn as nn\n",
    "import torch.nn.functional as F\n",
    "import math"
   ]
  },
  {
   "cell_type": "code",
   "execution_count": 2,
   "id": "abe6ab3c-0b78-471e-858a-dcfcd913b79b",
   "metadata": {},
   "outputs": [
    {
     "data": {
      "text/plain": [
       "{'_': 0,\n",
       " '0': 1,\n",
       " '1': 2,\n",
       " '2': 3,\n",
       " '3': 4,\n",
       " '4': 5,\n",
       " '5': 6,\n",
       " '6': 7,\n",
       " '7': 8,\n",
       " '8': 9,\n",
       " '9': 10,\n",
       " '+': 11,\n",
       " '=': 12,\n",
       " ';': 13}"
      ]
     },
     "execution_count": 2,
     "metadata": {},
     "output_type": "execute_result"
    }
   ],
   "source": [
    "stop_char = \";\"\n",
    "pad_char = \"_\"\n",
    "chars = list(\"_0123456789+=;\")\n",
    "vocab_size = len(chars)\n",
    "ctoi = {c:i for i, c in enumerate(chars)}\n",
    "itoc = {i:c for i, c in enumerate(chars)}\n",
    "\n",
    "eq_token = ctoi[\"=\"]\n",
    "stop_token = ctoi[\";\"]\n",
    "\n",
    "# return list of integer\n",
    "def encode(string):\n",
    "    return [ctoi[c] for c in string] \n",
    "\n",
    "def decode(tokens):\n",
    "    if isinstance(tokens, torch.Tensor):\n",
    "        return \"\".join([itoc[t.item()] for t in tokens])\n",
    "    else:\n",
    "        return \"\".join([itoc[t] for t in tokens])\n",
    "\n",
    "ctoi"
   ]
  },
  {
   "cell_type": "code",
   "execution_count": 3,
   "id": "c915bbcd-1201-4a31-bb94-7bfbc5a4d8e0",
   "metadata": {},
   "outputs": [
    {
     "data": {
      "text/plain": [
       "'559+397=659;'"
      ]
     },
     "execution_count": 3,
     "metadata": {},
     "output_type": "execute_result"
    }
   ],
   "source": [
    "def generate_eq():\n",
    "    a = torch.randint(0, 1000, (1,))\n",
    "    b = torch.randint(0, 1000, (1,))\n",
    "    c = a + b\n",
    "    cs = f\"{c.item()}\"[::-1]\n",
    "    # cs = f\"{c.item()}\"\n",
    "    \n",
    "    return f\"{a.item()}+{b.item()}={cs};\"\n",
    "\n",
    "\n",
    "generate_eq()"
   ]
  },
  {
   "cell_type": "code",
   "execution_count": 4,
   "id": "eda891ba-e2a4-4d7b-bf75-a0ea895e7fec",
   "metadata": {},
   "outputs": [
    {
     "data": {
      "text/plain": [
       "[1, 2, 0, 0, 0]"
      ]
     },
     "execution_count": 4,
     "metadata": {},
     "output_type": "execute_result"
    }
   ],
   "source": [
    "def pad(ints, length):\n",
    "    assert length >= len(ints)\n",
    "    pn = length - len(ints)\n",
    "    return ints + [0]*pn\n",
    "        \n",
    "pad([1,2], 5)"
   ]
  },
  {
   "cell_type": "code",
   "execution_count": 5,
   "id": "ed4983d6-75e2-45e0-bdcb-8f2afbd2df62",
   "metadata": {},
   "outputs": [
    {
     "data": {
      "text/plain": [
       "(tensor([[ 8,  3,  1, 11, 10,  3,  8, 12,  8,  5,  7,  2, 13,  0,  0,  0],\n",
       "         [ 5,  7,  8, 11,  9,  3,  2, 12,  9,  9,  3,  2, 13,  0,  0,  0]]),\n",
       " tensor([[ 0,  0,  0,  0,  0,  0,  0,  0,  8,  5,  7,  2, 13,  0,  0,  0],\n",
       "         [ 0,  0,  0,  0,  0,  0,  0,  0,  9,  9,  3,  2, 13,  0,  0,  0]]))"
      ]
     },
     "execution_count": 5,
     "metadata": {},
     "output_type": "execute_result"
    }
   ],
   "source": [
    "max_len = 4 + 4 + 5 + 3\n",
    "padding = 0\n",
    "\n",
    "# (B, L)\n",
    "def random_batch(batch_size):\n",
    "    eq_str = [generate_eq() for _ in range(batch_size)]\n",
    "    data = [pad(encode(s), max_len) for s in eq_str]\n",
    "    target = []\n",
    "    \n",
    "    for x in data:\n",
    "        y = list(x)\n",
    "        i = x.index(eq_token)\n",
    "        y[0:i+1] = [0]*(i+1)\n",
    "        target.append(y)\n",
    "        \n",
    "    return torch.tensor(data), torch.tensor(target)\n",
    "\n",
    "\n",
    "x, y = random_batch(2)\n",
    "x, y"
   ]
  },
  {
   "cell_type": "code",
   "execution_count": 6,
   "id": "79b38d89-27b5-48ce-948d-51a5e33cf2d6",
   "metadata": {},
   "outputs": [
    {
     "data": {
      "text/plain": [
       "27534"
      ]
     },
     "execution_count": 6,
     "metadata": {},
     "output_type": "execute_result"
    }
   ],
   "source": [
    "emb_size = 64\n",
    "hidden_size = 128\n",
    "\n",
    "class Model(nn.Module):\n",
    "    \n",
    "    def __init__(self):\n",
    "        super().__init__();\n",
    "        self.emb = nn.Embedding(vocab_size, emb_size)\n",
    "        self.rnn = nn.RNN(emb_size, hidden_size, batch_first=True)\n",
    "        self.linear = nn.Linear(hidden_size, vocab_size)\n",
    "\n",
    "    def forward(self, x, hidden=None):\n",
    "        y = self.emb(x)\n",
    "        y, h = self.rnn(y, hidden)\n",
    "        y = self.linear(y)\n",
    "        return y, h\n",
    "\n",
    "    \n",
    "model = Model()\n",
    "optim = torch.optim.AdamW(model.parameters())\n",
    "\n",
    "sum([p.numel() for p in model.parameters()])"
   ]
  },
  {
   "cell_type": "code",
   "execution_count": 7,
   "id": "80b72bc5-6728-4c92-8e48-dd0a5ca9129b",
   "metadata": {},
   "outputs": [
    {
     "data": {
      "text/plain": [
       "2.6390573978424072"
      ]
     },
     "execution_count": 7,
     "metadata": {},
     "output_type": "execute_result"
    }
   ],
   "source": [
    "-torch.tensor(1/vocab_size).log().item()"
   ]
  },
  {
   "cell_type": "code",
   "execution_count": 8,
   "id": "ab8dd2f8-5eff-4079-8d4b-46ce3da9c96e",
   "metadata": {},
   "outputs": [
    {
     "data": {
      "text/plain": [
       "[1, 2]"
      ]
     },
     "execution_count": 8,
     "metadata": {},
     "output_type": "execute_result"
    }
   ],
   "source": [
    "a = [1, 2, 3]\n",
    "a[0:-1]"
   ]
  },
  {
   "cell_type": "code",
   "execution_count": 9,
   "id": "51058ffa-d845-4379-bbc0-585ad4d1de9e",
   "metadata": {},
   "outputs": [
    {
     "name": "stdout",
     "output_type": "stream",
     "text": [
      "2.647028684616089\n",
      "0.8864972591400146\n",
      "0.7910671830177307\n",
      "0.5939415693283081\n",
      "0.5654222369194031\n",
      "0.5836650133132935\n",
      "0.5539506077766418\n",
      "0.6139837503433228\n",
      "0.5237212777137756\n",
      "0.6793401837348938\n"
     ]
    }
   ],
   "source": [
    "model.train()\n",
    "\n",
    "for i in range(50000):\n",
    "    optim.zero_grad()\n",
    "    \n",
    "    x, y = random_batch(32) # (N, L)\n",
    "    logits, _ = model(x)      # (N, L, vocab)\n",
    "    \n",
    "    # N, L = y\n",
    "    y = y[:,1:].reshape(-1)\n",
    "    logits = logits[:,:-1,:].reshape(-1, vocab_size)\n",
    "    \n",
    "    loss = F.cross_entropy(logits, y, ignore_index=0)\n",
    "    loss.backward()\n",
    "    optim.step()\n",
    "    \n",
    "    if i % 5000 == 0:\n",
    "        print(loss.item())"
   ]
  },
  {
   "cell_type": "code",
   "execution_count": 10,
   "id": "7a2d9a39-746f-4201-832a-2ea0e9c3e9f4",
   "metadata": {},
   "outputs": [],
   "source": [
    "def generate_prob():\n",
    "    a = torch.randint(0, 1000, (1,)).item()\n",
    "    b = torch.randint(0, 1000, (1,)).item()\n",
    "    c = a + b\n",
    "    cs = f\"{c}\"[::-1]\n",
    "    return f\"{a}+{b}=\", c, cs"
   ]
  },
  {
   "cell_type": "code",
   "execution_count": 11,
   "id": "b35dd99a-548c-4377-8faa-b5daa5230afe",
   "metadata": {},
   "outputs": [
    {
     "data": {
      "text/plain": [
       "('691+503=', 1194, '4911')"
      ]
     },
     "execution_count": 11,
     "metadata": {},
     "output_type": "execute_result"
    }
   ],
   "source": [
    "generate_prob()"
   ]
  },
  {
   "cell_type": "code",
   "execution_count": 32,
   "id": "0d8fd96f-8316-4ffa-b4fb-5b937479fcb2",
   "metadata": {},
   "outputs": [
    {
     "name": "stdout",
     "output_type": "stream",
     "text": [
      "856+849=1705\n",
      "1745\n",
      "\n",
      "\n",
      "558+788=1346\n",
      "1356\n",
      "\n",
      "\n",
      "681+536=1217\n",
      "1257\n",
      "\n",
      "\n",
      "736+210=946\n",
      "986\n",
      "\n",
      "\n",
      "477+149=626\n",
      "646\n",
      "\n",
      "\n",
      "53+105=158\n",
      "178\n",
      "\n",
      "\n",
      "741+195=936\n",
      "946\n",
      "\n",
      "\n",
      "518+669=1187\n",
      "1197\n",
      "\n",
      "\n",
      "912+639=1551\n",
      "1541\n",
      "\n",
      "\n",
      "859+782=1641\n",
      "1641\n",
      "\n",
      "\n"
     ]
    }
   ],
   "source": [
    "model.eval()\n",
    "\n",
    "for _ in range(10):\n",
    "    prob, solu, rsolu = generate_prob()\n",
    "    print(prob + str(solu))\n",
    "    \n",
    "    x = torch.tensor(encode(prob)).view(1, -1) # (B, L, C)\n",
    "    tokens = []\n",
    "    hidden = None\n",
    "\n",
    "    for _ in range(100):\n",
    "        logits, hidden = model(x, hidden)\n",
    "        last = logits[0,-1]\n",
    "        prob = F.softmax(last, dim=0)\n",
    "        ix = torch.multinomial(prob, 1)\n",
    "        if ix == stop_token:\n",
    "            break\n",
    "        tokens.append(ix)\n",
    "        x = ix.view(1, 1)\n",
    "\n",
    "    s = \"\".join([itoc[t.item()] for t in tokens])\n",
    "    s = s[::-1]\n",
    "    print(s)\n",
    "    print(\"\\n\")"
   ]
  },
  {
   "cell_type": "code",
   "execution_count": null,
   "id": "6f4b7506-ee72-4af4-9b8d-c512292fc5bf",
   "metadata": {},
   "outputs": [],
   "source": []
  }
 ],
 "metadata": {
  "kernelspec": {
   "display_name": "Python 3 (ipykernel)",
   "language": "python",
   "name": "python3"
  },
  "language_info": {
   "codemirror_mode": {
    "name": "ipython",
    "version": 3
   },
   "file_extension": ".py",
   "mimetype": "text/x-python",
   "name": "python",
   "nbconvert_exporter": "python",
   "pygments_lexer": "ipython3",
   "version": "3.10.8"
  }
 },
 "nbformat": 4,
 "nbformat_minor": 5
}
