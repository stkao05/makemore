{
 "cells": [
  {
   "cell_type": "code",
   "execution_count": 1,
   "id": "5c1f08f0-08f6-4d09-a495-9f6104dfdae8",
   "metadata": {},
   "outputs": [],
   "source": [
    "import torch\n",
    "from matplotlib import pyplot as plot\n",
    "from torch.nn import functional as F"
   ]
  },
  {
   "cell_type": "code",
   "execution_count": 2,
   "id": "466d2563-6357-4f8d-ae55-f45fbba4f704",
   "metadata": {},
   "outputs": [
    {
     "data": {
      "text/plain": [
       "(['emma', 'olivia', 'ava', 'isabella', 'sophia'], 32033)"
      ]
     },
     "execution_count": 2,
     "metadata": {},
     "output_type": "execute_result"
    }
   ],
   "source": [
    "with open(\"names.txt\", \"r\") as f:\n",
    "    names = [_.strip() for _ in f.readlines()]\n",
    "\n",
    "names[0:5], len(names)"
   ]
  },
  {
   "cell_type": "code",
   "execution_count": 3,
   "id": "5d24d37e-fe18-4bc5-8429-509f8967b26a",
   "metadata": {},
   "outputs": [
    {
     "data": {
      "text/plain": [
       "['.',\n",
       " 't',\n",
       " 'w',\n",
       " 'y',\n",
       " 'h',\n",
       " 'b',\n",
       " 'q',\n",
       " 'z',\n",
       " 'g',\n",
       " 'l',\n",
       " 'r',\n",
       " 'c',\n",
       " 'm',\n",
       " 'n',\n",
       " 'u',\n",
       " 'e',\n",
       " 'i',\n",
       " 'v',\n",
       " 'p',\n",
       " 'j',\n",
       " 'o',\n",
       " 'd',\n",
       " 'x',\n",
       " 'a',\n",
       " 'k',\n",
       " 's',\n",
       " 'f']"
      ]
     },
     "execution_count": 3,
     "metadata": {},
     "output_type": "execute_result"
    }
   ],
   "source": [
    "chars = list(set(\"\".join(names)))\n",
    "chars.insert(0, \".\")\n",
    "chars"
   ]
  },
  {
   "cell_type": "code",
   "execution_count": 4,
   "id": "8ecb7279-15ec-4185-84ad-f44d0d231019",
   "metadata": {},
   "outputs": [],
   "source": [
    "ctoi = { c:i for i, c in enumerate(chars)}\n",
    "itoc = { i:c for i, c in enumerate(chars)}"
   ]
  },
  {
   "cell_type": "code",
   "execution_count": 68,
   "id": "a844b3bf-c723-4b44-b011-b54e76371c26",
   "metadata": {},
   "outputs": [
    {
     "data": {
      "text/plain": [
       "<matplotlib.image.AxesImage at 0x16bcae7d0>"
      ]
     },
     "execution_count": 68,
     "metadata": {},
     "output_type": "execute_result"
    },
    {
     "data": {
      "image/png": "[encoded data removed]",
      "text/plain": [
       "<Figure size 640x480 with 1 Axes>"
      ]
     },
     "metadata": {},
     "output_type": "display_data"
    }
   ],
   "source": [
    "N = torch.zeros((27, 27), dtype=torch.int) # N is count vector\n",
    "\n",
    "for x in names:\n",
    "    x = \".\" + x + \".\"\n",
    "    for c1, c2 in zip(x, x[1:]):\n",
    "        c1i = ctoi[c1]\n",
    "        c2i = ctoi[c2]\n",
    "        N[c1i, c2i] += 1\n",
    "        \n",
    "plot.imshow(N)"
   ]
  },
  {
   "cell_type": "code",
   "execution_count": 69,
   "id": "841f85a6-1f7d-439a-bd4e-47324d3e44ff",
   "metadata": {},
   "outputs": [
    {
     "data": {
      "text/plain": [
       "tensor(1.)"
      ]
     },
     "execution_count": 69,
     "metadata": {},
     "output_type": "execute_result"
    }
   ],
   "source": [
    "P = N / N.sum(dim=1, keepdims=True)\n",
    "P[5,:].sum()"
   ]
  },
  {
   "cell_type": "code",
   "execution_count": 70,
   "id": "3b672955-3cbb-4160-a900-298ec96ed0b5",
   "metadata": {},
   "outputs": [],
   "source": [
    "bigrams = []\n",
    "for x in names:\n",
    "    x = \".\" + x + \".\"\n",
    "    for c1, c2 in zip(x, x[1:]):\n",
    "        bigrams.append((c1, c2))"
   ]
  },
  {
   "cell_type": "code",
   "execution_count": 71,
   "id": "243087a3-4e53-4a32-91eb-e4a5d47c8b8e",
   "metadata": {},
   "outputs": [
    {
     "data": {
      "text/plain": [
       "2.454014497322693"
      ]
     },
     "execution_count": 71,
     "metadata": {},
     "output_type": "execute_result"
    }
   ],
   "source": [
    "logp = 0;\n",
    "for c1, c2 in bigrams:\n",
    "    c1 = ctoi[c1]\n",
    "    c2 = ctoi[c2]\n",
    "    logp += P[c1, c2].log().item()\n",
    "\n",
    "nll = -logp / len(bigrams)\n",
    "nll"
   ]
  },
  {
   "cell_type": "code",
   "execution_count": 73,
   "id": "47d90e06-37fe-4649-8e1b-00d56b588c40",
   "metadata": {},
   "outputs": [
    {
     "name": "stdout",
     "output_type": "stream",
     "text": [
      ".h.\n",
      ".kwn.\n",
      ".menicariley.\n",
      ".coshanin.\n",
      ".lyronalan.\n",
      ".caha.\n",
      ".ce.\n",
      ".da.\n",
      ".jan.\n",
      ".siderariyn.\n"
     ]
    }
   ],
   "source": [
    "gen = torch.Generator()\n",
    "gen.manual_seed(2147483647)\n",
    "\n",
    "for _ in range(10):\n",
    "    sample = \".\"\n",
    "    while(True):\n",
    "        c1 = sample[-1]\n",
    "        i1 = ctoi[c1]\n",
    "        i2 = torch.multinomial(P[i1], 1, generator=gen).item()\n",
    "        sample += itoc[i2]\n",
    "\n",
    "        if i2 == 0:\n",
    "            break\n",
    "    \n",
    "    print(sample)"
   ]
  },
  {
   "cell_type": "markdown",
   "id": "2b07a87b-f840-4e6f-a37d-ab2c6cb05f03",
   "metadata": {},
   "source": [
    "## Bigram Neural Net"
   ]
  },
  {
   "cell_type": "code",
   "execution_count": 74,
   "id": "6e39298f-91f9-4e8d-9057-c1f524cbd888",
   "metadata": {},
   "outputs": [
    {
     "data": {
      "text/plain": [
       "torch.Size([228146, 27])"
      ]
     },
     "execution_count": 74,
     "metadata": {},
     "output_type": "execute_result"
    }
   ],
   "source": [
    "def create_bigram_ds(names): \n",
    "    x = []\n",
    "    y = []\n",
    "    for s in names:\n",
    "        s = \".\" + s + \".\"\n",
    "        for c1, c2 in zip(s, s[1:]):\n",
    "            x.append(ctoi[c1])\n",
    "            y.append(ctoi[c2])\n",
    "    \n",
    "    x = F.one_hot(torch.tensor(x), num_classes=27).float()\n",
    "    y = torch.tensor(y)\n",
    "    \n",
    "    return x, y\n",
    "    \n",
    "x, y = create_bigram_ds(names)\n",
    "x.shape"
   ]
  },
  {
   "cell_type": "code",
   "execution_count": 11,
   "id": "40bea54f-5a58-404d-bbe6-377807fa6b90",
   "metadata": {},
   "outputs": [
    {
     "data": {
      "text/plain": [
       "(25627, 3203, 3203)"
      ]
     },
     "execution_count": 11,
     "metadata": {},
     "output_type": "execute_result"
    }
   ],
   "source": [
    "train, dev, test = torch.utils.data.random_split(names, [0.8, 0.1, 0.1])\n",
    "len(train), len(dev), len(test)"
   ]
  },
  {
   "cell_type": "code",
   "execution_count": 12,
   "id": "825e9c3c-7609-4d39-a1bb-152f046bb4ad",
   "metadata": {},
   "outputs": [],
   "source": [
    "train_ds = create_bigram_ds(train)\n",
    "dev_ds = create_bigram_ds(dev)\n",
    "test_ds = create_bigram_ds(test)"
   ]
  },
  {
   "cell_type": "code",
   "execution_count": 125,
   "id": "50e7b00a-5993-4a8e-8525-a7e28f566eb3",
   "metadata": {},
   "outputs": [],
   "source": [
    "def cal_loss(W, dataset, decay=0):\n",
    "    with torch.no_grad():\n",
    "        X, ys = dataset\n",
    "        logits = X @ W\n",
    "        loss = F.cross_entropy(logits, ys)\n",
    "    \n",
    "    return loss"
   ]
  },
  {
   "cell_type": "code",
   "execution_count": 133,
   "id": "7f6f721e-4ef0-4af7-b9b3-3153d918d84c",
   "metadata": {},
   "outputs": [],
   "source": [
    "def fits(W, train_ds, dev_ds, epoch, decay=0, verbose=True):\n",
    "    X, ys = train_ds\n",
    "    n = X.shape[0]\n",
    "    print_ev = epoch / 10\n",
    "    \n",
    "    for i in range(epoch):\n",
    "        W.grad = None\n",
    "        logits = X @ W\n",
    "        \n",
    "        # counts = logits.exp()\n",
    "        # probs = counts / counts.sum(1, keepdims=True)\n",
    "        # loss = -probs[torch.arange(n), ys].log().mean() + decay*(W**2).mean()\n",
    "        \n",
    "        loss = F.cross_entropy(logits, ys) + decay*(W**2).mean()\n",
    "        loss.backward()\n",
    "\n",
    "        if i % print_ev == 0 and verbose:\n",
    "            dev_loss = cal_loss(W, dev_ds)\n",
    "            print(f\"train: {loss.item():.4f}  dev: {dev_loss:.4f}\")\n",
    "\n",
    "        W.data -= 10 * W.grad"
   ]
  },
  {
   "cell_type": "code",
   "execution_count": 153,
   "id": "b97078a3-b69f-43a2-b636-ea41fa4a955c",
   "metadata": {},
   "outputs": [
    {
     "name": "stdout",
     "output_type": "stream",
     "text": [
      "train: 3.6411  dev: 3.6535\n",
      "train: 3.1051  dev: 3.1184\n",
      "train: 2.8729  dev: 2.8870\n",
      "train: 2.7548  dev: 2.7695\n",
      "train: 2.6884  dev: 2.7034\n",
      "train: 2.6469  dev: 2.6618\n",
      "train: 2.6181  dev: 2.6329\n",
      "train: 2.5968  dev: 2.6114\n",
      "train: 2.5803  dev: 2.5945\n",
      "train: 2.5670  dev: 2.5810\n",
      "----\n",
      "test: 2.562330961227417\n"
     ]
    }
   ],
   "source": [
    "g = torch.Generator().manual_seed(2147483647)\n",
    "W = torch.randn(27, 27, requires_grad=True, generator=g)\n",
    "fits(W, train_ds, dev_ds, 100)\n",
    "print(\"----\")\n",
    "print(f\"test: {cal_loss(W, test_ds)}\")"
   ]
  },
  {
   "cell_type": "code",
   "execution_count": 92,
   "id": "e83e78d1-5249-45ef-bfc9-263095f95316",
   "metadata": {},
   "outputs": [
    {
     "name": "stdout",
     "output_type": "stream",
     "text": [
      "train: 3.6894  dev: 3.6535\n",
      "train: 3.1430  dev: 3.1142\n",
      "train: 2.9103  dev: 2.8835\n",
      "train: 2.7939  dev: 2.7671\n",
      "train: 2.7293  dev: 2.7018\n",
      "train: 2.6892  dev: 2.6608\n",
      "train: 2.6619  dev: 2.6324\n",
      "train: 2.6418  dev: 2.6114\n",
      "train: 2.6265  dev: 2.5950\n",
      "train: 2.6144  dev: 2.5820\n",
      "----\n",
      "test: 2.564791679382324\n"
     ]
    }
   ],
   "source": [
    "g = torch.Generator().manual_seed(2147483647)\n",
    "W = torch.randn(27, 27, requires_grad=True, generator=g)\n",
    "fits(W, train_ds, dev_ds, 100, 0.05)\n",
    "print(\"----\")\n",
    "print(f\"test: {cal_loss(W, test_ds)}\")"
   ]
  },
  {
   "cell_type": "code",
   "execution_count": 94,
   "id": "e35bfef4-0755-481f-af9d-7f528c87b397",
   "metadata": {},
   "outputs": [
    {
     "name": "stdout",
     "output_type": "stream",
     "text": [
      ".h.\n",
      ".kfn.\n",
      ".menicdecanifcosganin.\n",
      ".lyronalan.\n",
      ".cahcfce.\n",
      ".da.\n",
      ".jankoiderariynzeoni.\n",
      ".leflevackeriaionh.\n",
      ".anconnan.\n",
      ".johzd.\n"
     ]
    }
   ],
   "source": [
    "g = torch.Generator().manual_seed(2147483647)\n",
    "\n",
    "def sample_bi(W):\n",
    "    res = \".\"\n",
    "    with torch.no_grad():\n",
    "        while(True):\n",
    "            c = res[-1]\n",
    "            x = torch.tensor(ctoi[c])\n",
    "            x = F.one_hot(x, num_classes=27).reshape(1, 27).float()\n",
    "\n",
    "            logits = x @ W\n",
    "            counts = logits.exp()\n",
    "            probs = counts / counts.sum(dim=1, keepdims=True)\n",
    "            ix = torch.multinomial(probs, 1, generator=g).item()\n",
    "            c2 = itoc[ix]\n",
    "\n",
    "            res += c2\n",
    "            if c2 == \".\":\n",
    "                break;\n",
    "\n",
    "        return res\n",
    "\n",
    "for _ in range(10):\n",
    "    print(sample_bi(W))"
   ]
  },
  {
   "cell_type": "markdown",
   "id": "f824847b-faf8-43f4-b240-56c356d0064e",
   "metadata": {},
   "source": [
    "# Trigram Neural Net"
   ]
  },
  {
   "cell_type": "code",
   "execution_count": 90,
   "id": "1e54dd49-ea21-408a-91b9-7f504b6fb1cd",
   "metadata": {},
   "outputs": [
    {
     "data": {
      "text/plain": [
       "torch.Size([208150, 54])"
      ]
     },
     "execution_count": 90,
     "metadata": {},
     "output_type": "execute_result"
    }
   ],
   "source": [
    "def create_tri_ds(names): \n",
    "    x1 = []\n",
    "    x2 = []\n",
    "    y = []\n",
    "    for s in names:\n",
    "        s = \"..\" + s + \"..\"\n",
    "        for c1, c2, c3 in zip(s, s[1:], s[2:]):\n",
    "            x1.append(ctoi[c1])\n",
    "            x2.append(ctoi[c2])             \n",
    "            y.append(ctoi[c3])            \n",
    "                                          \n",
    "    x1 = F.one_hot(torch.tensor(x1), num_classes=27).float()\n",
    "    x2 = F.one_hot(torch.tensor(x2), num_classes=27).float()\n",
    "    x = torch.cat([x1, x2], dim=1) # (num_data, 2 * char_num)\n",
    "    y = torch.tensor(y)\n",
    "    return x, y\n",
    "    \n",
    "x, y = create_tri_ds(train)\n",
    "x.shape"
   ]
  },
  {
   "cell_type": "code",
   "execution_count": 18,
   "id": "d086db32-0ace-4cd3-a8bc-9889c273ca70",
   "metadata": {},
   "outputs": [],
   "source": [
    "train_tds = create_tri_ds(train)\n",
    "dev_tds = create_tri_ds(dev)\n",
    "test_tds = create_tri_ds(test)"
   ]
  },
  {
   "cell_type": "code",
   "execution_count": 150,
   "id": "e03eaecf-32d8-491e-89b7-eb0e59f77bb4",
   "metadata": {},
   "outputs": [
    {
     "name": "stdout",
     "output_type": "stream",
     "text": [
      "decay: 0\n",
      "----\n",
      "train: 4.1165  dev: 4.1235\n",
      "train: 2.8635  dev: 2.8786\n",
      "train: 2.5490  dev: 2.5650\n",
      "train: 2.4113  dev: 2.4271\n",
      "train: 2.3368  dev: 2.3523\n",
      "train: 2.2895  dev: 2.3048\n",
      "train: 2.2561  dev: 2.2713\n",
      "train: 2.2311  dev: 2.2461\n",
      "train: 2.2116  dev: 2.2264\n",
      "train: 2.1960  dev: 2.2106\n",
      "----\n",
      "test: 2.1861460208892822\n"
     ]
    }
   ],
   "source": [
    "g = torch.Generator().manual_seed(2147483647)\n",
    "print(\"decay: 0\")\n",
    "print(\"----\")\n",
    "W = torch.randn(2 * 27, 27, requires_grad=True, generator=g)\n",
    "fits(W, train_tds, dev_tds, 100)\n",
    "print(\"----\")\n",
    "print(f\"test: {cal_loss(W, test_tds)}\")"
   ]
  },
  {
   "cell_type": "code",
   "execution_count": 149,
   "id": "01cb7035-6d86-4083-a7a3-04a15f89d134",
   "metadata": {},
   "outputs": [
    {
     "name": "stdout",
     "output_type": "stream",
     "text": [
      "decay: 0.01\n",
      "----\n",
      "train: 4.2135  dev: 4.1235\n",
      "train: 2.9386  dev: 2.8696\n",
      "train: 2.6187  dev: 2.5555\n",
      "train: 2.4787  dev: 2.4181\n",
      "train: 2.4025  dev: 2.3436\n",
      "train: 2.3539  dev: 2.2964\n",
      "train: 2.3195  dev: 2.2631\n",
      "train: 2.2937  dev: 2.2383\n",
      "train: 2.2736  dev: 2.2190\n",
      "train: 2.2574  dev: 2.2037\n",
      "----\n",
      "test: 2.1805543899536133\n"
     ]
    }
   ],
   "source": [
    "g = torch.Generator().manual_seed(2147483647)\n",
    "print(\"decay: 0.01\")\n",
    "print(\"----\")\n",
    "W = torch.randn(2 * 27, 27, requires_grad=True, generator=g)\n",
    "fits(W, train_tds, dev_tds, 100, 0.1)\n",
    "print(\"----\")\n",
    "print(f\"test: {cal_loss(W, test_tds)}\")"
   ]
  },
  {
   "cell_type": "code",
   "execution_count": 145,
   "id": "e614446d-e823-4962-89ab-9c64388bd892",
   "metadata": {},
   "outputs": [],
   "source": [
    "def param_expr(decay, epoch):\n",
    "    g = torch.Generator().manual_seed(2147483647)\n",
    "    W = torch.randn(2 * 27, 27, requires_grad=True, generator=g)\n",
    "    fits(W, train_tds, dev_tds, epoch, decay, verbose=False)\n",
    "    loss = cal_loss(W, test_tds)\n",
    "    print(f\"decay: {decay:.4f}  test: {loss:.4f}\")"
   ]
  },
  {
   "cell_type": "code",
   "execution_count": 146,
   "id": "772b551d-e276-4096-8731-465df8482004",
   "metadata": {},
   "outputs": [
    {
     "name": "stdout",
     "output_type": "stream",
     "text": [
      "decay: 0.0000  test: 2.1227\n",
      "decay: 0.0100  test: 2.1222\n",
      "decay: 0.0500  test: 2.1213\n",
      "decay: 0.1000  test: 2.1220\n"
     ]
    }
   ],
   "source": [
    "epoch = 200\n",
    "param_expr(0, epoch)\n",
    "param_expr(0.01, epoch)\n",
    "param_expr(0.05, epoch)\n",
    "param_expr(0.1, epoch)"
   ]
  },
  {
   "cell_type": "code",
   "execution_count": 147,
   "id": "d936a6a5-ac9d-4677-a8bc-7aaf83ea0067",
   "metadata": {},
   "outputs": [
    {
     "name": "stdout",
     "output_type": "stream",
     "text": [
      "decay: 0.0000  test: 2.0665\n",
      "decay: 0.0100  test: 2.0674\n",
      "decay: 0.0500  test: 2.0733\n",
      "decay: 0.1000  test: 2.0831\n"
     ]
    }
   ],
   "source": [
    "epoch = 800\n",
    "param_expr(0, epoch)\n",
    "param_expr(0.01, epoch)\n",
    "param_expr(0.05, epoch)\n",
    "param_expr(0.1, epoch)"
   ]
  },
  {
   "cell_type": "code",
   "execution_count": 99,
   "id": "ae483c40-5f25-48a3-9e6f-fd2ef876fb00",
   "metadata": {},
   "outputs": [
    {
     "name": "stdout",
     "output_type": "stream",
     "text": [
      "..ariyah.\n",
      "..draniearasamx.\n",
      "..jumadxjlf.\n",
      "..tea.\n",
      "..wadlin.\n",
      "..fbzesen.\n",
      "..sae.\n",
      "..cia.\n",
      "..na.\n",
      "..eon.\n"
     ]
    }
   ],
   "source": [
    "def sample_tri(W):\n",
    "    # rdn_ix = torch.randint(1, 26, (1, )).item()\n",
    "    sample = \"..\"\n",
    "    while(True):\n",
    "        c1 = sample[-2]\n",
    "        c2 = sample[-1]\n",
    "        x1 = F.one_hot(torch.tensor([ctoi[c1]]), num_classes=27).float()\n",
    "        x2 = F.one_hot(torch.tensor([ctoi[c2]]), num_classes=27).float()\n",
    "        x = torch.cat([x1, x2], dim=1)\n",
    "\n",
    "        logits = x @ W\n",
    "        counts = logits.exp()\n",
    "        probs = counts / counts.sum(dim=1, keepdims=True)\n",
    "        ix = torch.multinomial(probs, 1, generator=gen).item()\n",
    "        c3 = itoc[ix]\n",
    "\n",
    "        sample += c3\n",
    "        if c3 == \".\":\n",
    "            break;\n",
    "            \n",
    "    return sample\n",
    "\n",
    "for _ in range(10):\n",
    "    print(sample_tri(W))"
   ]
  },
  {
   "cell_type": "markdown",
   "id": "e5fa0a6d-50b3-416d-aed2-78db042c9326",
   "metadata": {},
   "source": [
    "# Cross Entropy vs Manual Calculation"
   ]
  },
  {
   "cell_type": "code",
   "execution_count": 236,
   "id": "862c73dc-c486-400c-a6c2-4179bfa4535a",
   "metadata": {},
   "outputs": [],
   "source": [
    "def init_data():\n",
    "    g = torch.Generator().manual_seed(2147483647)\n",
    "    n = 100\n",
    "    feature_size = 100\n",
    "\n",
    "    W = torch.randn(feature_size, feature_size, requires_grad=True, generator=g)\n",
    "    X = torch.randn(n, feature_size, requires_grad=True, generator=g)\n",
    "    y = torch.randint(0, feature_size-1, (n,), generator=g)    \n",
    "    \n",
    "    return X, W, y"
   ]
  },
  {
   "cell_type": "markdown",
   "id": "4b4a8734-0b8c-4973-8647-a7f754d56397",
   "metadata": {},
   "source": [
    "Manual calculation"
   ]
  },
  {
   "cell_type": "code",
   "execution_count": 279,
   "id": "22f94844-d08d-4ea8-a99d-fe8f2019cde5",
   "metadata": {},
   "outputs": [
    {
     "name": "stdout",
     "output_type": "stream",
     "text": [
      "CPU times: user 5 µs, sys: 2 µs, total: 7 µs\n",
      "Wall time: 12.9 µs\n"
     ]
    },
    {
     "data": {
      "text/plain": [
       "tensor(23.7999, grad_fn=<NegBackward0>)"
      ]
     },
     "execution_count": 279,
     "metadata": {},
     "output_type": "execute_result"
    }
   ],
   "source": [
    "%time\n",
    "X, W, y = init_data()\n",
    "\n",
    "logits = X@W\n",
    "counts = logits.exp()\n",
    "probs = counts / counts.sum(1, keepdims=True)\n",
    "loss = -probs[torch.arange(y.shape[0]), y].log().mean()\n",
    "loss"
   ]
  },
  {
   "cell_type": "markdown",
   "id": "3f9830ff-4c86-4936-b502-ff59d34092cc",
   "metadata": {},
   "source": [
    "Using `F.cross_entropy`"
   ]
  },
  {
   "cell_type": "code",
   "execution_count": 280,
   "id": "bcd4b11c-f6a0-4a63-b2f7-7ce4148dc24a",
   "metadata": {},
   "outputs": [
    {
     "name": "stdout",
     "output_type": "stream",
     "text": [
      "CPU times: user 5 µs, sys: 2 µs, total: 7 µs\n",
      "Wall time: 15 µs\n"
     ]
    },
    {
     "data": {
      "text/plain": [
       "tensor(23.7999, grad_fn=<NllLossBackward0>)"
      ]
     },
     "execution_count": 280,
     "metadata": {},
     "output_type": "execute_result"
    }
   ],
   "source": [
    "%time\n",
    "X, W, y = init_data()\n",
    "\n",
    "logits = X@W\n",
    "loss = F.cross_entropy(logits, y)\n",
    "loss"
   ]
  },
  {
   "cell_type": "markdown",
   "id": "1e418075-5a46-445a-aeaf-62bfa20e5ca7",
   "metadata": {},
   "source": [
    "# Exercise Answer"
   ]
  },
  {
   "cell_type": "markdown",
   "id": "ff4e64e3-61e3-41e1-ae57-02cde8d53c41",
   "metadata": {},
   "source": [
    "1. Train a trigram language model, i.e. take two characters as an input to predict the 3rd one. Feel free to use either counting or a neural net. Evaluate the loss; Did it improve over a bigram model?\n",
    "\n",
    "    > Trigram model seem to yield better loss\n",
    "\n",
    "2. Split up the dataset randomly into 80% train set, 10% dev set, 10% test set. Train the bigram and trigram models only on the training set. Evaluate them on dev and test splits. What can you see?\n",
    "    \n",
    "    \n",
    "3. use the dev set to tune the strength of smoothing (or regularization) for the trigram model - i.e. try many possibilities and see which one works best based on the dev set loss. What patterns can you see in the train and dev set loss as you tune this strength? Take the best setting of the smoothing and evaluate on the test set once and at the end. How good of a loss do you achieve?\n",
    "    \n",
    "    \n",
    "    > When training with 800 epoch, I yield an unexpected test loss pattern. \n",
    "    > ```\n",
    "        decay: 0.0000  test: 2.0665\n",
    "        decay: 0.0100  test: 2.0674\n",
    "        decay: 0.0500  test: 2.0733\n",
    "        decay: 0.1000  test: 2.0831\n",
    "    > ```  \n",
    "    > I expected regularization should help improve test loss, but from the experiments, no regularization seems to yield best test loss\n",
    "\n",
    "\n",
    "    \n",
    "    \n",
    "4. We saw that our 1-hot vectors merely select a row of W, so producing these vectors explicitly feels wasteful. Can you delete our use of F.one_hot in favor of simply indexing into rows of W?\n",
    "\n",
    "1. Look up and use F.cross_entropy instead. You should achieve the same result. Can you think of why we'd prefer to use F.cross_entropy instead?"
   ]
  }
 ],
 "metadata": {
  "kernelspec": {
   "display_name": "Python 3 (ipykernel)",
   "language": "python",
   "name": "python3"
  },
  "language_info": {
   "codemirror_mode": {
    "name": "ipython",
    "version": 3
   },
   "file_extension": ".py",
   "mimetype": "text/x-python",
   "name": "python",
   "nbconvert_exporter": "python",
   "pygments_lexer": "ipython3",
   "version": "3.10.8"
  }
 },
 "nbformat": 4,
 "nbformat_minor": 5
}
