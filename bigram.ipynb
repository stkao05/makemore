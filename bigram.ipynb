{
 "cells": [
  {
   "cell_type": "code",
   "execution_count": 39,
   "id": "5c1f08f0-08f6-4d09-a495-9f6104dfdae8",
   "metadata": {},
   "outputs": [],
   "source": [
    "import torch\n",
    "from matplotlib import pyplot as plot\n",
    "from torch.nn import functional as F"
   ]
  },
  {
   "cell_type": "code",
   "execution_count": 40,
   "id": "466d2563-6357-4f8d-ae55-f45fbba4f704",
   "metadata": {},
   "outputs": [
    {
     "data": {
      "text/plain": [
       "(['emma', 'olivia', 'ava', 'isabella', 'sophia'], 32033)"
      ]
     },
     "execution_count": 40,
     "metadata": {},
     "output_type": "execute_result"
    }
   ],
   "source": [
    "with open(\"names.txt\", \"r\") as f:\n",
    "    names = [_.strip() for _ in f.readlines()]\n",
    "\n",
    "names[0:5], len(names)"
   ]
  },
  {
   "cell_type": "code",
   "execution_count": 41,
   "id": "5d24d37e-fe18-4bc5-8429-509f8967b26a",
   "metadata": {},
   "outputs": [
    {
     "data": {
      "text/plain": [
       "['.',\n",
       " 'z',\n",
       " 'l',\n",
       " 'j',\n",
       " 'v',\n",
       " 'r',\n",
       " 'b',\n",
       " 'w',\n",
       " 'c',\n",
       " 'p',\n",
       " 'f',\n",
       " 'a',\n",
       " 'h',\n",
       " 'm',\n",
       " 'o',\n",
       " 't',\n",
       " 'i',\n",
       " 'q',\n",
       " 's',\n",
       " 'g',\n",
       " 'e',\n",
       " 'n',\n",
       " 'd',\n",
       " 'k',\n",
       " 'x',\n",
       " 'y',\n",
       " 'u']"
      ]
     },
     "execution_count": 41,
     "metadata": {},
     "output_type": "execute_result"
    }
   ],
   "source": [
    "chars = list(set(\"\".join(names)))\n",
    "chars.insert(0, \".\")\n",
    "chars"
   ]
  },
  {
   "cell_type": "code",
   "execution_count": 42,
   "id": "8ecb7279-15ec-4185-84ad-f44d0d231019",
   "metadata": {},
   "outputs": [],
   "source": [
    "ctoi = { c:i for i, c in enumerate(chars)}\n",
    "itoc = { i:c for i, c in enumerate(chars)}"
   ]
  },
  {
   "cell_type": "code",
   "execution_count": 43,
   "id": "a844b3bf-c723-4b44-b011-b54e76371c26",
   "metadata": {},
   "outputs": [
    {
     "data": {
      "text/plain": [
       "<matplotlib.image.AxesImage at 0x127e08910>"
      ]
     },
     "execution_count": 43,
     "metadata": {},
     "output_type": "execute_result"
    },
    {
     "data": {
      "image/png": "[encoded data removed]",
      "text/plain": [
       "<Figure size 640x480 with 1 Axes>"
      ]
     },
     "metadata": {},
     "output_type": "display_data"
    }
   ],
   "source": [
    "N = torch.zeros((27, 27), dtype=torch.int) # N is count vector\n",
    "\n",
    "for x in names:\n",
    "    x = \".\" + x + \".\"\n",
    "    for c1, c2 in zip(x, x[1:]):\n",
    "        c1i = ctoi[c1]\n",
    "        c2i = ctoi[c2]\n",
    "        N[c1i, c2i] += 1\n",
    "        \n",
    "plot.imshow(N)"
   ]
  },
  {
   "cell_type": "code",
   "execution_count": 44,
   "id": "841f85a6-1f7d-439a-bd4e-47324d3e44ff",
   "metadata": {},
   "outputs": [
    {
     "data": {
      "text/plain": [
       "tensor(1.)"
      ]
     },
     "execution_count": 44,
     "metadata": {},
     "output_type": "execute_result"
    }
   ],
   "source": [
    "P = N / N.sum(dim=1, keepdims=True)\n",
    "P[5,:].sum()"
   ]
  },
  {
   "cell_type": "code",
   "execution_count": 46,
   "id": "3b672955-3cbb-4160-a900-298ec96ed0b5",
   "metadata": {},
   "outputs": [],
   "source": [
    "bigrams = []\n",
    "for x in names:\n",
    "    x = \".\" + x + \".\"\n",
    "    for c1, c2 in zip(x, x[1:]):\n",
    "        bigrams.append((c1, c2))"
   ]
  },
  {
   "cell_type": "code",
   "execution_count": 47,
   "id": "243087a3-4e53-4a32-91eb-e4a5d47c8b8e",
   "metadata": {},
   "outputs": [
    {
     "data": {
      "text/plain": [
       "2.454014497322693"
      ]
     },
     "execution_count": 47,
     "metadata": {},
     "output_type": "execute_result"
    }
   ],
   "source": [
    "nll = 0;\n",
    "\n",
    "for c1, c2 in bigrams:\n",
    "    c1 = ctoi[c1]\n",
    "    c2 = ctoi[c2]\n",
    "    nll += P[c1, c2].log().item()\n",
    "\n",
    "nll = -nll / len(bigrams)\n",
    "nll"
   ]
  },
  {
   "cell_type": "code",
   "execution_count": 48,
   "id": "47d90e06-37fe-4649-8e1b-00d56b588c40",
   "metadata": {},
   "outputs": [
    {
     "name": "stdout",
     "output_type": "stream",
     "text": [
      ".jexllahaniansaniriaeycari.\n",
      ".fameeen.\n",
      ".kshanna.\n",
      ".a.\n",
      ".an.\n",
      ".ale.\n",
      ".jein.\n",
      ".felas.\n",
      ".pheli.\n",
      ".maunaranda.\n"
     ]
    }
   ],
   "source": [
    "gen = torch.Generator()\n",
    "gen.manual_seed(2147483647)\n",
    "\n",
    "for _ in range(10):\n",
    "    name = \".\"\n",
    "    while(True):\n",
    "        c1 = name[-1]\n",
    "        c1i = ctoi[c1]\n",
    "        p = P[c1i]\n",
    "        c2i = torch.multinomial(p, 1, generator=gen).item()\n",
    "        c2 = itoc[c2i]\n",
    "        name += c2\n",
    "\n",
    "        if c2 == \".\":\n",
    "            break\n",
    "    \n",
    "    print(name)"
   ]
  },
  {
   "cell_type": "markdown",
   "id": "2b07a87b-f840-4e6f-a37d-ab2c6cb05f03",
   "metadata": {},
   "source": [
    "## Bigram Neural Net"
   ]
  },
  {
   "cell_type": "code",
   "execution_count": 70,
   "id": "6e39298f-91f9-4e8d-9057-c1f524cbd888",
   "metadata": {},
   "outputs": [
    {
     "data": {
      "text/plain": [
       "torch.Size([228146, 27])"
      ]
     },
     "execution_count": 70,
     "metadata": {},
     "output_type": "execute_result"
    }
   ],
   "source": [
    "def create_dataset(names): \n",
    "    x = []\n",
    "    y = []\n",
    "    for s in names:\n",
    "        s = \".\" + s + \".\"\n",
    "        for c1, c2 in zip(s, s[1:]):\n",
    "            x.append(ctoi[c1])\n",
    "            y.append(ctoi[c2])\n",
    "    \n",
    "    x = F.one_hot(torch.tensor(x), num_classes=27).float()\n",
    "    y = torch.tensor(y)\n",
    "    \n",
    "    return x, y\n",
    "    \n",
    "x, y = create_dataset(names)\n",
    "x.shape"
   ]
  },
  {
   "cell_type": "code",
   "execution_count": 110,
   "id": "40bea54f-5a58-404d-bbe6-377807fa6b90",
   "metadata": {},
   "outputs": [
    {
     "data": {
      "text/plain": [
       "(25627, 3203, 3203)"
      ]
     },
     "execution_count": 110,
     "metadata": {},
     "output_type": "execute_result"
    }
   ],
   "source": [
    "train, dev, test = torch.utils.data.random_split(names, [0.8, 0.10, 0.1])\n",
    "len(train), len(dev), len(test)"
   ]
  },
  {
   "cell_type": "code",
   "execution_count": 111,
   "id": "825e9c3c-7609-4d39-a1bb-152f046bb4ad",
   "metadata": {},
   "outputs": [],
   "source": [
    "train_ds = create_dataset(train)\n",
    "dev_ds = create_dataset(dev)\n",
    "test_ds = create_dataset(test)"
   ]
  },
  {
   "cell_type": "code",
   "execution_count": 121,
   "id": "7f6f721e-4ef0-4af7-b9b3-3153d918d84c",
   "metadata": {},
   "outputs": [
    {
     "name": "stdout",
     "output_type": "stream",
     "text": [
      "3.8094301223754883\n"
     ]
    }
   ],
   "source": [
    "def fits(W, dataset, epoch):\n",
    "    X, ys = dataset\n",
    "    n = X.shape[0]\n",
    "    \n",
    "    for i in range(epoch):\n",
    "        W.grad = None\n",
    "        \n",
    "        logits = X @ W\n",
    "        counts = logits.exp()\n",
    "        probs = counts / counts.sum(1, keepdims=True)\n",
    "        loss = -probs[torch.arange(n), ys].log().mean()\n",
    "        loss.backward()\n",
    "\n",
    "        if i % 10 == 0:\n",
    "            print(loss.item())\n",
    "\n",
    "        W.data -= 10 * W.grad\n",
    "\n",
    "W = torch.randn(27, 27, requires_grad=True)\n",
    "fits(W, train_ds, 10)"
   ]
  },
  {
   "cell_type": "code",
   "execution_count": 122,
   "id": "50e7b00a-5993-4a8e-8525-a7e28f566eb3",
   "metadata": {},
   "outputs": [
    {
     "data": {
      "text/plain": [
       "3.627561330795288"
      ]
     },
     "execution_count": 122,
     "metadata": {},
     "output_type": "execute_result"
    }
   ],
   "source": [
    "def cal_loss(W, ds):\n",
    "    with torch.no_grad():\n",
    "        X, ys = ds\n",
    "        n = X.shape[0]\n",
    "        logits = X @ W\n",
    "        counts = logits.exp()\n",
    "        probs = counts / counts.sum(1, keepdims=True)\n",
    "        loss = -probs[torch.arange(n), ys].log().mean().item()\n",
    "    \n",
    "    return loss\n",
    "\n",
    "W = torch.randn(27, 27, requires_grad=True)\n",
    "cal_loss(W, train_ds)"
   ]
  },
  {
   "cell_type": "code",
   "execution_count": 123,
   "id": "b97078a3-b69f-43a2-b636-ea41fa4a955c",
   "metadata": {},
   "outputs": [
    {
     "name": "stdout",
     "output_type": "stream",
     "text": [
      "dev loss: 3.7033116817474365\n",
      "==========\n",
      "3.6955363750457764\n",
      "3.1389970779418945\n",
      "2.9038889408111572\n",
      "2.7826695442199707\n",
      "2.7097244262695312\n",
      "2.662559986114502\n",
      "2.6301164627075195\n",
      "2.6064727306365967\n",
      "2.588435649871826\n",
      "2.574188232421875\n",
      "==========\n",
      "dev loss: 2.5668811798095703\n"
     ]
    }
   ],
   "source": [
    "W = torch.randn(27, 27, requires_grad=True)\n",
    "\n",
    "dev_loss = cal_loss(W, dev_ds)\n",
    "print(f\"dev loss: {dev_loss}\")\n",
    "print(\"==========\")\n",
    "\n",
    "fits(W, train_ds, 100)\n",
    "\n",
    "print(\"==========\")\n",
    "print(f\"dev loss: {cal_loss(W, dev_ds)}\")"
   ]
  },
  {
   "cell_type": "code",
   "execution_count": 124,
   "id": "e35bfef4-0755-481f-af9d-7f528c87b397",
   "metadata": {},
   "outputs": [
    {
     "name": "stdout",
     "output_type": "stream",
     "text": [
      ".kem.\n",
      ".nuqgemeca.\n",
      ".ma.\n",
      ".km.\n",
      ".a.\n",
      ".egkjxbradhjahck.\n",
      ".biya.\n",
      ".ah.\n",
      ".a.\n",
      ".lahalanana.\n"
     ]
    }
   ],
   "source": [
    "def sample(W):\n",
    "    res = \".\"\n",
    "    while(True):\n",
    "        c = res[-1]\n",
    "        x = torch.tensor(ctoi[c])\n",
    "        x = F.one_hot(x, num_classes=27).reshape(1, 27).float()\n",
    "\n",
    "        logits = x @ W\n",
    "        counts = logits.exp()\n",
    "        probs = counts / counts.sum(dim=1, keepdims=True)\n",
    "        ix = torch.multinomial(probs, 1, generator=gen).item()\n",
    "        c2 = itoc[ix]\n",
    "\n",
    "        res += c2\n",
    "        if c2 == \".\":\n",
    "            break;\n",
    "\n",
    "    return res\n",
    "\n",
    "for _ in range(10):\n",
    "    print(sample(W))"
   ]
  }
 ],
 "metadata": {
  "kernelspec": {
   "display_name": "Python 3 (ipykernel)",
   "language": "python",
   "name": "python3"
  },
  "language_info": {
   "codemirror_mode": {
    "name": "ipython",
    "version": 3
   },
   "file_extension": ".py",
   "mimetype": "text/x-python",
   "name": "python",
   "nbconvert_exporter": "python",
   "pygments_lexer": "ipython3",
   "version": "3.10.8"
  }
 },
 "nbformat": 4,
 "nbformat_minor": 5
}
