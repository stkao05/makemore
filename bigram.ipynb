{
 "cells": [
  {
   "cell_type": "code",
   "execution_count": 1,
   "id": "5c1f08f0-08f6-4d09-a495-9f6104dfdae8",
   "metadata": {},
   "outputs": [],
   "source": [
    "import torch\n",
    "from matplotlib import pyplot as plot\n",
    "from torch.nn import functional as F"
   ]
  },
  {
   "cell_type": "code",
   "execution_count": 2,
   "id": "466d2563-6357-4f8d-ae55-f45fbba4f704",
   "metadata": {},
   "outputs": [
    {
     "data": {
      "text/plain": [
       "(['emma', 'olivia', 'ava', 'isabella', 'sophia'], 32033)"
      ]
     },
     "execution_count": 2,
     "metadata": {},
     "output_type": "execute_result"
    }
   ],
   "source": [
    "with open(\"names.txt\", \"r\") as f:\n",
    "    names = [_.strip() for _ in f.readlines()]\n",
    "\n",
    "names[0:5], len(names)"
   ]
  },
  {
   "cell_type": "code",
   "execution_count": 3,
   "id": "5d24d37e-fe18-4bc5-8429-509f8967b26a",
   "metadata": {},
   "outputs": [
    {
     "data": {
      "text/plain": [
       "['.',\n",
       " 't',\n",
       " 'w',\n",
       " 'y',\n",
       " 'h',\n",
       " 'b',\n",
       " 'q',\n",
       " 'z',\n",
       " 'g',\n",
       " 'l',\n",
       " 'r',\n",
       " 'c',\n",
       " 'm',\n",
       " 'n',\n",
       " 'u',\n",
       " 'e',\n",
       " 'i',\n",
       " 'v',\n",
       " 'p',\n",
       " 'j',\n",
       " 'o',\n",
       " 'd',\n",
       " 'x',\n",
       " 'a',\n",
       " 'k',\n",
       " 's',\n",
       " 'f']"
      ]
     },
     "execution_count": 3,
     "metadata": {},
     "output_type": "execute_result"
    }
   ],
   "source": [
    "chars = list(set(\"\".join(names)))\n",
    "chars.insert(0, \".\")\n",
    "chars"
   ]
  },
  {
   "cell_type": "code",
   "execution_count": 4,
   "id": "8ecb7279-15ec-4185-84ad-f44d0d231019",
   "metadata": {},
   "outputs": [],
   "source": [
    "ctoi = { c:i for i, c in enumerate(chars)}\n",
    "itoc = { i:c for i, c in enumerate(chars)}"
   ]
  },
  {
   "cell_type": "code",
   "execution_count": 5,
   "id": "a844b3bf-c723-4b44-b011-b54e76371c26",
   "metadata": {},
   "outputs": [
    {
     "data": {
      "text/plain": [
       "<matplotlib.image.AxesImage at 0x11f5770a0>"
      ]
     },
     "execution_count": 5,
     "metadata": {},
     "output_type": "execute_result"
    },
    {
     "data": {
      "image/png": "[encoded data removed]",
      "text/plain": [
       "<Figure size 640x480 with 1 Axes>"
      ]
     },
     "metadata": {},
     "output_type": "display_data"
    }
   ],
   "source": [
    "N = torch.zeros((27, 27), dtype=torch.int) # N is count vector\n",
    "\n",
    "for x in names:\n",
    "    x = \".\" + x + \".\"\n",
    "    for c1, c2 in zip(x, x[1:]):\n",
    "        c1i = ctoi[c1]\n",
    "        c2i = ctoi[c2]\n",
    "        N[c1i, c2i] += 1\n",
    "        \n",
    "plot.imshow(N)"
   ]
  },
  {
   "cell_type": "code",
   "execution_count": 6,
   "id": "841f85a6-1f7d-439a-bd4e-47324d3e44ff",
   "metadata": {},
   "outputs": [
    {
     "data": {
      "text/plain": [
       "tensor(1.)"
      ]
     },
     "execution_count": 6,
     "metadata": {},
     "output_type": "execute_result"
    }
   ],
   "source": [
    "P = N / N.sum(dim=1, keepdims=True)\n",
    "P[5,:].sum()"
   ]
  },
  {
   "cell_type": "code",
   "execution_count": 7,
   "id": "3b672955-3cbb-4160-a900-298ec96ed0b5",
   "metadata": {},
   "outputs": [],
   "source": [
    "bigrams = []\n",
    "for x in names:\n",
    "    x = \".\" + x + \".\"\n",
    "    for c1, c2 in zip(x, x[1:]):\n",
    "        bigrams.append((c1, c2))"
   ]
  },
  {
   "cell_type": "code",
   "execution_count": 8,
   "id": "243087a3-4e53-4a32-91eb-e4a5d47c8b8e",
   "metadata": {},
   "outputs": [
    {
     "data": {
      "text/plain": [
       "2.454014497322693"
      ]
     },
     "execution_count": 8,
     "metadata": {},
     "output_type": "execute_result"
    }
   ],
   "source": [
    "logp = 0;\n",
    "for c1, c2 in bigrams:\n",
    "    c1 = ctoi[c1]\n",
    "    c2 = ctoi[c2]\n",
    "    logp += P[c1, c2].log().item()\n",
    "\n",
    "nll = -logp / len(bigrams)\n",
    "nll"
   ]
  },
  {
   "cell_type": "code",
   "execution_count": 9,
   "id": "47d90e06-37fe-4649-8e1b-00d56b588c40",
   "metadata": {},
   "outputs": [
    {
     "name": "stdout",
     "output_type": "stream",
     "text": [
      ".h.\n",
      ".kwn.\n",
      ".menicariley.\n",
      ".coshanin.\n",
      ".lyronalan.\n",
      ".caha.\n",
      ".ce.\n",
      ".da.\n",
      ".jan.\n",
      ".siderariyn.\n"
     ]
    }
   ],
   "source": [
    "gen = torch.Generator()\n",
    "gen.manual_seed(2147483647)\n",
    "\n",
    "for _ in range(10):\n",
    "    sample = \".\"\n",
    "    while(True):\n",
    "        c1 = sample[-1]\n",
    "        i1 = ctoi[c1]\n",
    "        i2 = torch.multinomial(P[i1], 1, generator=gen).item()\n",
    "        sample += itoc[i2]\n",
    "\n",
    "        if i2 == 0:\n",
    "            break\n",
    "    \n",
    "    print(sample)"
   ]
  },
  {
   "cell_type": "markdown",
   "id": "2b07a87b-f840-4e6f-a37d-ab2c6cb05f03",
   "metadata": {},
   "source": [
    "## Bigram Neural Net"
   ]
  },
  {
   "cell_type": "code",
   "execution_count": 10,
   "id": "6e39298f-91f9-4e8d-9057-c1f524cbd888",
   "metadata": {},
   "outputs": [
    {
     "data": {
      "text/plain": [
       "torch.Size([228146, 27])"
      ]
     },
     "execution_count": 10,
     "metadata": {},
     "output_type": "execute_result"
    }
   ],
   "source": [
    "def create_bigram_ds(names): \n",
    "    x = []\n",
    "    y = []\n",
    "    for s in names:\n",
    "        s = \".\" + s + \".\"\n",
    "        for c1, c2 in zip(s, s[1:]):\n",
    "            x.append(ctoi[c1])\n",
    "            y.append(ctoi[c2])\n",
    "    \n",
    "    x = F.one_hot(torch.tensor(x), num_classes=27).float()\n",
    "    y = torch.tensor(y)\n",
    "    \n",
    "    return x, y\n",
    "    \n",
    "x, y = create_bigram_ds(names)\n",
    "x.shape"
   ]
  },
  {
   "cell_type": "code",
   "execution_count": 11,
   "id": "40bea54f-5a58-404d-bbe6-377807fa6b90",
   "metadata": {},
   "outputs": [
    {
     "data": {
      "text/plain": [
       "(25627, 3203, 3203)"
      ]
     },
     "execution_count": 11,
     "metadata": {},
     "output_type": "execute_result"
    }
   ],
   "source": [
    "train, dev, test = torch.utils.data.random_split(names, [0.8, 0.1, 0.1])\n",
    "len(train), len(dev), len(test)"
   ]
  },
  {
   "cell_type": "code",
   "execution_count": 12,
   "id": "825e9c3c-7609-4d39-a1bb-152f046bb4ad",
   "metadata": {},
   "outputs": [],
   "source": [
    "train_ds = create_bigram_ds(train)\n",
    "dev_ds = create_bigram_ds(dev)\n",
    "test_ds = create_bigram_ds(test)"
   ]
  },
  {
   "cell_type": "code",
   "execution_count": 13,
   "id": "50e7b00a-5993-4a8e-8525-a7e28f566eb3",
   "metadata": {},
   "outputs": [],
   "source": [
    "def cal_loss(W, dataset):\n",
    "    with torch.no_grad():\n",
    "        X, ys = dataset\n",
    "        n = X.shape[0]\n",
    "        logits = X @ W\n",
    "        counts = logits.exp()\n",
    "        probs = counts / counts.sum(1, keepdims=True)\n",
    "        loss = -probs[torch.arange(n), ys].log().mean().item()\n",
    "    \n",
    "    return loss"
   ]
  },
  {
   "cell_type": "code",
   "execution_count": 14,
   "id": "7f6f721e-4ef0-4af7-b9b3-3153d918d84c",
   "metadata": {},
   "outputs": [],
   "source": [
    "def fits(W, train_ds, dev_ds, epoch):\n",
    "    X, ys = train_ds\n",
    "    n = X.shape[0]\n",
    "    print_ev = epoch / 10\n",
    "    \n",
    "    for i in range(epoch):\n",
    "        W.grad = None\n",
    "        \n",
    "        logits = X @ W\n",
    "        counts = logits.exp()\n",
    "        probs = counts / counts.sum(1, keepdims=True)\n",
    "        loss = -probs[torch.arange(n), ys].log().mean()\n",
    "        loss.backward()\n",
    "\n",
    "        if i % print_ev == 0:\n",
    "            dev_loss = cal_loss(W, dev_ds)\n",
    "            print(f\"train: {loss.item():.4f}  dev: {dev_loss:.4f}\")\n",
    "\n",
    "        W.data -= 10 * W.grad"
   ]
  },
  {
   "cell_type": "code",
   "execution_count": 15,
   "id": "b97078a3-b69f-43a2-b636-ea41fa4a955c",
   "metadata": {},
   "outputs": [
    {
     "name": "stdout",
     "output_type": "stream",
     "text": [
      "train: 3.6221  dev: 3.6239\n",
      "train: 3.1215  dev: 3.1261\n",
      "train: 2.9103  dev: 2.9159\n",
      "train: 2.7974  dev: 2.8036\n",
      "train: 2.7271  dev: 2.7339\n",
      "train: 2.6792  dev: 2.6864\n",
      "train: 2.6441  dev: 2.6517\n",
      "train: 2.6174  dev: 2.6252\n",
      "train: 2.5964  dev: 2.6045\n",
      "train: 2.5796  dev: 2.5880\n",
      "----\n",
      "test: 2.571336269378662\n"
     ]
    }
   ],
   "source": [
    "W = torch.randn(27, 27, requires_grad=True, generator=gen)\n",
    "fits(W, train_ds, dev_ds, 100)\n",
    "print(\"----\")\n",
    "print(f\"test: {cal_loss(W, test_ds)}\")"
   ]
  },
  {
   "cell_type": "code",
   "execution_count": 16,
   "id": "e35bfef4-0755-481f-af9d-7f528c87b397",
   "metadata": {},
   "outputs": [
    {
     "name": "stdout",
     "output_type": "stream",
     "text": [
      ".ri.\n",
      ".hiabhbjainotfztawa.\n",
      ".hasklllyanajannavifg.\n",
      ".alogccala.\n",
      ".a.\n",
      ".ziemyamous.\n",
      ".phtirsh.\n",
      ".hhain.\n",
      ".azynera.\n",
      ".zziy.\n"
     ]
    }
   ],
   "source": [
    "def sample(W):\n",
    "    res = \".\"\n",
    "    while(True):\n",
    "        c = res[-1]\n",
    "        x = torch.tensor(ctoi[c])\n",
    "        x = F.one_hot(x, num_classes=27).reshape(1, 27).float()\n",
    "\n",
    "        logits = x @ W\n",
    "        counts = logits.exp()\n",
    "        probs = counts / counts.sum(dim=1, keepdims=True)\n",
    "        ix = torch.multinomial(probs, 1, generator=gen).item()\n",
    "        c2 = itoc[ix]\n",
    "\n",
    "        res += c2\n",
    "        if c2 == \".\":\n",
    "            break;\n",
    "\n",
    "    return res\n",
    "\n",
    "for _ in range(10):\n",
    "    print(sample(W))"
   ]
  },
  {
   "cell_type": "markdown",
   "id": "f824847b-faf8-43f4-b240-56c356d0064e",
   "metadata": {},
   "source": [
    "# Trigram Neural Net"
   ]
  },
  {
   "cell_type": "code",
   "execution_count": 17,
   "id": "1e54dd49-ea21-408a-91b9-7f504b6fb1cd",
   "metadata": {},
   "outputs": [
    {
     "data": {
      "text/plain": [
       "torch.Size([208150, 54])"
      ]
     },
     "execution_count": 17,
     "metadata": {},
     "output_type": "execute_result"
    }
   ],
   "source": [
    "def create_tri_ds(names): \n",
    "    x1 = []\n",
    "    x2 = []\n",
    "    y = []\n",
    "    for s in names:\n",
    "        s = \"..\" + s + \"..\"\n",
    "        for c1, c2, c3 in zip(s, s[1:], s[2:]):\n",
    "            x1.append(ctoi[c1])\n",
    "            x2.append(ctoi[c2])             \n",
    "            y.append(ctoi[c3])            \n",
    "                                          \n",
    "    x1 = F.one_hot(torch.tensor(x1), num_classes=27).float()\n",
    "    x2 = F.one_hot(torch.tensor(x2), num_classes=27).float()\n",
    "    x = torch.cat([x1, x2], dim=1) # (num_data, 2 * char_num)\n",
    "    y = torch.tensor(y)\n",
    "    return x, y\n",
    "    \n",
    "x, y = create_tri_ds(train)\n",
    "x.shape"
   ]
  },
  {
   "cell_type": "code",
   "execution_count": 18,
   "id": "d086db32-0ace-4cd3-a8bc-9889c273ca70",
   "metadata": {},
   "outputs": [],
   "source": [
    "train_tds = create_tri_ds(train)\n",
    "dev_tds = create_tri_ds(dev)\n",
    "test_tds = create_tri_ds(test)"
   ]
  },
  {
   "cell_type": "code",
   "execution_count": 19,
   "id": "e03eaecf-32d8-491e-89b7-eb0e59f77bb4",
   "metadata": {},
   "outputs": [
    {
     "name": "stdout",
     "output_type": "stream",
     "text": [
      "train: 4.2051  dev: 4.1932\n",
      "train: 2.8259  dev: 2.8295\n",
      "train: 2.5510  dev: 2.5569\n",
      "train: 2.4252  dev: 2.4318\n",
      "train: 2.3536  dev: 2.3607\n",
      "train: 2.3060  dev: 2.3136\n",
      "train: 2.2714  dev: 2.2794\n",
      "train: 2.2447  dev: 2.2531\n",
      "train: 2.2234  dev: 2.2321\n",
      "train: 2.2059  dev: 2.2149\n",
      "----\n",
      "test: 2.1962995529174805\n"
     ]
    }
   ],
   "source": [
    "W = torch.randn(2 * 27, 27, requires_grad=True)\n",
    "fits(W, train_tds, dev_tds, 100)\n",
    "print(\"----\")\n",
    "print(f\"test: {cal_loss(W, test_tds)}\")"
   ]
  },
  {
   "cell_type": "code",
   "execution_count": 20,
   "id": "ae483c40-5f25-48a3-9e6f-fd2ef876fb00",
   "metadata": {},
   "outputs": [
    {
     "name": "stdout",
     "output_type": "stream",
     "text": [
      "..dai.\n",
      "..kellyaid.\n",
      "..eli.\n",
      "..kol.\n",
      "..koucfma.\n",
      "..zin.\n",
      "..migaz.\n",
      "..drfer.\n",
      "..mhtz.\n",
      "..llaerfdeluvvasmon.\n"
     ]
    }
   ],
   "source": [
    "def sample_tri(W):\n",
    "    # rdn_ix = torch.randint(1, 26, (1, )).item()\n",
    "    sample = \"..\"\n",
    "    while(True):\n",
    "        c1 = sample[-2]\n",
    "        c2 = sample[-1]\n",
    "        x1 = F.one_hot(torch.tensor([ctoi[c1]]), num_classes=27).float()\n",
    "        x2 = F.one_hot(torch.tensor([ctoi[c2]]), num_classes=27).float()\n",
    "        x = torch.cat([x1, x2], dim=1)\n",
    "\n",
    "        logits = x @ W\n",
    "        counts = logits.exp()\n",
    "        probs = counts / counts.sum(dim=1, keepdims=True)\n",
    "        ix = torch.multinomial(probs, 1, generator=gen).item()\n",
    "        c3 = itoc[ix]\n",
    "\n",
    "        sample += c3\n",
    "        if c3 == \".\":\n",
    "            break;\n",
    "            \n",
    "    return sample\n",
    "\n",
    "for _ in range(10):\n",
    "    print(sample_tri(W))"
   ]
  }
 ],
 "metadata": {
  "kernelspec": {
   "display_name": "Python 3 (ipykernel)",
   "language": "python",
   "name": "python3"
  },
  "language_info": {
   "codemirror_mode": {
    "name": "ipython",
    "version": 3
   },
   "file_extension": ".py",
   "mimetype": "text/x-python",
   "name": "python",
   "nbconvert_exporter": "python",
   "pygments_lexer": "ipython3",
   "version": "3.10.8"
  }
 },
 "nbformat": 4,
 "nbformat_minor": 5
}
