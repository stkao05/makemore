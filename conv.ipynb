{
 "cells": [
  {
   "cell_type": "code",
   "execution_count": 18,
   "id": "fa5b68c7-28be-4e58-ace0-d77620235a21",
   "metadata": {},
   "outputs": [],
   "source": [
    "import torch\n",
    "import torch.nn.functional as F\n",
    "import torch.nn as nn\n",
    "import matplotlib.pyplot as plt # for making figures\n",
    "from torch.utils.data import random_split\n",
    "%matplotlib inline"
   ]
  },
  {
   "cell_type": "code",
   "execution_count": 225,
   "id": "410f222a-40c2-44e5-bf66-dafee464bbe8",
   "metadata": {},
   "outputs": [
    {
     "name": "stdout",
     "output_type": "stream",
     "text": [
      "32033\n",
      "15\n",
      "2\n",
      "['emma', 'olivia', 'ava', 'isabella', 'sophia', 'charlotte', 'mia', 'amelia']\n"
     ]
    }
   ],
   "source": [
    "# read in all the words\n",
    "words = open('names.txt', 'r').read().splitlines()\n",
    "print(len(words))\n",
    "print(max(len(w) for w in words))\n",
    "print(min(len(w) for w in words))\n",
    "print(words[:8])"
   ]
  },
  {
   "cell_type": "code",
   "execution_count": 9,
   "id": "f6dc4aa3-4ec0-4b93-a329-ba4cb7d56d14",
   "metadata": {},
   "outputs": [
    {
     "name": "stdout",
     "output_type": "stream",
     "text": [
      "{'.': 0, 'a': 1, 'b': 2, 'c': 3, 'd': 4, 'e': 5, 'f': 6, 'g': 7, 'h': 8, 'i': 9, 'j': 10, 'k': 11, 'l': 12, 'm': 13, 'n': 14, 'o': 15, 'p': 16, 'q': 17, 'r': 18, 's': 19, 't': 20, 'u': 21, 'v': 22, 'w': 23, 'x': 24, 'y': 25, 'z': 26}\n",
      "27\n"
     ]
    }
   ],
   "source": [
    "chars = sorted(list(set(''.join(words))))\n",
    "chars.insert(0, \".\")\n",
    "\n",
    "ctoi = { c:i for i, c in enumerate(chars)}\n",
    "itoc = { i:c for i, c in enumerate(chars)}\n",
    "vocab_size = len(chars)\n",
    "\n",
    "print(ctoi)\n",
    "print(vocab_size)"
   ]
  },
  {
   "cell_type": "code",
   "execution_count": 20,
   "id": "a634c6da-1e7d-4ced-a931-72bba4b6bdb1",
   "metadata": {},
   "outputs": [],
   "source": [
    "train_wd, valid_wd, test_wd = random_split(words, [0.8, 0.1, 0.1], generator=torch.Generator().manual_seed(420))"
   ]
  },
  {
   "cell_type": "code",
   "execution_count": 61,
   "id": "6f83fcec-0d6c-4542-aa9d-8e455ff826ea",
   "metadata": {},
   "outputs": [
    {
     "data": {
      "text/plain": [
       "'apple.....'"
      ]
     },
     "execution_count": 61,
     "metadata": {},
     "output_type": "execute_result"
    }
   ],
   "source": [
    "def pad(string, char, length):\n",
    "    d = length - len(string)\n",
    "    return string + char * d\n",
    "    \n",
    "pad(\"apple\", \".\", 10)"
   ]
  },
  {
   "cell_type": "code",
   "execution_count": 78,
   "id": "34a1eda1-4f81-475b-b3cf-94e60ea29a3e",
   "metadata": {},
   "outputs": [
    {
     "data": {
      "text/plain": [
       "['...emma........',\n",
       " '...olivia......',\n",
       " '...ava.........',\n",
       " '...isabella....',\n",
       " '...sophia......',\n",
       " '...charlotte...',\n",
       " '...mia.........',\n",
       " '...amelia......',\n",
       " '...harper......',\n",
       " '...evelyn......']"
      ]
     },
     "execution_count": 78,
     "metadata": {},
     "output_type": "execute_result"
    }
   ],
   "source": [
    "[pad(\".\"*3+w, \".\", 15) for w in words][:10]"
   ]
  },
  {
   "cell_type": "code",
   "execution_count": 227,
   "id": "42a60db1-b73b-45eb-8cde-3cba4e848091",
   "metadata": {},
   "outputs": [
    {
     "data": {
      "text/plain": [
       "(torch.Size([25627, 24]), torch.Size([25627, 17]), torch.Size([25627]))"
      ]
     },
     "execution_count": 227,
     "metadata": {},
     "output_type": "execute_result"
    }
   ],
   "source": [
    "kernel_size = 8\n",
    "max_word_len = 15\n",
    "x_len = max_word_len + kernel_size + 1 # 19\n",
    "y_len = x_len - kernel_size + 1 \n",
    "\n",
    "def char_idx(word):\n",
    "    return [ctoi[c] for c in word]\n",
    "\n",
    "def build_dataset(words):\n",
    "    X = []\n",
    "    Y = []\n",
    "    L = []\n",
    "    \n",
    "    for w in words:\n",
    "        x = \".\" * kernel_size + w + \".\"\n",
    "        x = pad(x, \".\", x_len)\n",
    "        \n",
    "        y = w + \".\"\n",
    "        y_n = len(y)\n",
    "        y = pad(y, \".\", y_len)\n",
    "        \n",
    "        X.append(char_idx(x))\n",
    "        Y.append(char_idx(y))\n",
    "        L.append(y_n)\n",
    "\n",
    "    return torch.tensor(X), torch.tensor(Y), torch.tensor(L)\n",
    "\n",
    "# (sample_size, seq_len)\n",
    "train_x, train_y, train_l = build_dataset(train_wd)\n",
    "valid_x, valid_y, valid_l = build_dataset(valid_wd)\n",
    "\n",
    "train_x.shape, train_y.shape, train_l.shape"
   ]
  },
  {
   "cell_type": "code",
   "execution_count": 178,
   "id": "e1e42450-5dc6-4c74-9fc9-fc3d8aea9ee8",
   "metadata": {},
   "outputs": [
    {
     "data": {
      "text/plain": [
       "(tensor(7), 'jaysen')"
      ]
     },
     "execution_count": 178,
     "metadata": {},
     "output_type": "execute_result"
    }
   ],
   "source": [
    "train_l[0], train_wd[0]"
   ]
  },
  {
   "cell_type": "code",
   "execution_count": 179,
   "id": "a0068046-e4e8-45bb-a53c-c4b1cc6b31f7",
   "metadata": {},
   "outputs": [],
   "source": [
    "class Transpose(torch.nn.Module):\n",
    "    def __init__(self):\n",
    "        super().__init__()\n",
    "        \n",
    "    def forward(self, x):\n",
    "        return x.T\n",
    "    \n",
    "    def string(self):\n",
    "        return \"Transpose\""
   ]
  },
  {
   "cell_type": "code",
   "execution_count": 180,
   "id": "ab0259e1-5db3-40f2-a235-b8a5f9379bbf",
   "metadata": {},
   "outputs": [
    {
     "name": "stdout",
     "output_type": "stream",
     "text": [
      "tensor([[0, 1],\n",
      "        [2, 3]])\n"
     ]
    },
    {
     "data": {
      "text/plain": [
       "tensor(2)"
      ]
     },
     "execution_count": 180,
     "metadata": {},
     "output_type": "execute_result"
    }
   ],
   "source": [
    "class Permute(torch.nn.Module):\n",
    "    def __init__(self, dim):\n",
    "        super().__init__()\n",
    "        self.dim = dim\n",
    "        \n",
    "    def forward(self, x):\n",
    "        return x.permute(self.dim)\n",
    "    \n",
    "    def string(self):\n",
    "        return \"Permute\"\n",
    "    \n",
    "    \n",
    "p = Permute((1, 0))\n",
    "x = torch.arange(0, 4).view(2,2)\n",
    "print(x)\n",
    "x[1, 0]\n",
    "px = p(x)\n",
    "px[0, 1]"
   ]
  },
  {
   "cell_type": "markdown",
   "id": "67fc56c5-90af-4693-bb91-0840b429b0c2",
   "metadata": {},
   "source": [
    "```\n",
    "kkk\n",
    "...steven\n",
    "   steven.\n",
    "```\n",
    "\n",
    "- input:  seq_len\n",
    "- output: seq_len - kernal_size + 1"
   ]
  },
  {
   "cell_type": "code",
   "execution_count": 313,
   "id": "126a81ec-ddb4-4ddf-bda1-d5c332969131",
   "metadata": {},
   "outputs": [
    {
     "name": "stdout",
     "output_type": "stream",
     "text": [
      "16059\n"
     ]
    }
   ],
   "source": [
    "embed_size = 16\n",
    "hidden_size = 100\n",
    "\n",
    "linear = nn.Linear(hidden_size, vocab_size) # (batch, seq_out, vocab)\n",
    "linear.weight.data *= 0.01\n",
    "linear.bias.data.fill_(0)\n",
    "\n",
    "conv = nn.Conv1d(in_channels=embed_size, out_channels=hidden_size, kernel_size=kernel_size) # (batch, hidden, seq_out)\n",
    "nn.init.xavier_uniform_(conv.weight, nn.init.calculate_gain(\"tanh\"))\n",
    "\n",
    "# input (batch, seq)\n",
    "model = nn.Sequential(\n",
    "    nn.Embedding(vocab_size, embed_size), # (batch, seq, embed)\n",
    "    Permute((0, 2, 1)), # (batch, embed, seq)\n",
    "    conv,\n",
    "    Permute((0, 2, 1)), # (batch, seq_out, hidden)\n",
    "    nn.Tanh(),\n",
    "    linear # (batch, seq_out, vocab)\n",
    ")\n",
    "\n",
    "for p in model.parameters():\n",
    "    p.requires_grad = True\n",
    "    \n",
    "print(sum((p.nelement() for p in model.parameters())))"
   ]
  },
  {
   "cell_type": "code",
   "execution_count": 221,
   "id": "8d643f89-fa40-442e-a4bd-a86d8a613ac0",
   "metadata": {},
   "outputs": [],
   "source": [
    "@torch.no_grad()\n",
    "def eval_split():    \n",
    "    x = valid_x\n",
    "    y = valid_y\n",
    "    l = valid_l\n",
    "    \n",
    "    for p in model.parameters():\n",
    "        p.grad = None\n",
    "        \n",
    "    mask = torch.zeros(y.shape)\n",
    "    for i, l in enumerate(l):\n",
    "        mask[i, 0:l] = torch.ones(l)\n",
    "    mask = mask.view(-1)\n",
    "\n",
    "    logits = model(x)\n",
    "    loss = F.cross_entropy(logits.view(-1, 27), y.view(-1), reduction=\"none\")    \n",
    "    loss = mask @ loss / sum(mask)    \n",
    "    \n",
    "    return loss.item()"
   ]
  },
  {
   "cell_type": "code",
   "execution_count": 314,
   "id": "fc0e0af4-1a8b-4775-a10a-fad635dc28fd",
   "metadata": {},
   "outputs": [
    {
     "name": "stdout",
     "output_type": "stream",
     "text": [
      "2.1082\n",
      "2.0590\n",
      "2.0949\n",
      "2.1227\n",
      "2.1080\n",
      "1.9434\n",
      "2.0278\n",
      "2.0251\n",
      "2.0532\n",
      "2.0328\n"
     ]
    }
   ],
   "source": [
    "lossi = []\n",
    "for i in range(50000):\n",
    "    ix = torch.randint(0, train_x.shape[0], (32,))\n",
    "    x = train_x[ix]\n",
    "    y = train_y[ix]\n",
    "    l = train_l[ix]\n",
    "    \n",
    "    for p in model.parameters():\n",
    "        p.grad = None\n",
    "        \n",
    "    mask = torch.zeros(y.shape)\n",
    "    for i, l in enumerate(l):\n",
    "        mask[i, 0:l] = torch.ones(l)\n",
    "    mask = mask.view(-1)\n",
    "\n",
    "    logits = model(x)\n",
    "    loss = F.cross_entropy(logits.view(-1, 27), y.view(-1), reduction=\"none\")    \n",
    "    loss = mask @ loss / sum(mask)\n",
    "    loss.backward()\n",
    "\n",
    "    lr = 0.1 if len(lossi) < 10000 else 0.01\n",
    "    for p in model.parameters():\n",
    "        p.data += -lr * p.grad\n",
    "\n",
    "    lossi.append(loss.item())\n",
    "    \n",
    "    if len(lossi) % 5000 == 0:\n",
    "        print(f\"{lossi[-1]:.4f}\")"
   ]
  },
  {
   "cell_type": "code",
   "execution_count": 315,
   "id": "ccfa21e5-b471-40ef-8e4d-16d1a0ceb651",
   "metadata": {},
   "outputs": [],
   "source": [
    "valid_loss = eval_split()"
   ]
  },
  {
   "cell_type": "code",
   "execution_count": 316,
   "id": "41a7ccd5-c017-4f78-90ae-f20d874ba491",
   "metadata": {},
   "outputs": [
    {
     "name": "stdout",
     "output_type": "stream",
     "text": [
      "train: 2.0382\n",
      "valid: 2.0867\n"
     ]
    }
   ],
   "source": [
    "print(f\"train: {torch.tensor(lossi[-10000:]).mean():.4f}\")\n",
    "print(f\"valid: {valid_loss:.4f}\")"
   ]
  },
  {
   "cell_type": "code",
   "execution_count": 317,
   "id": "37ada57c-9919-4313-b201-a6041dd992d4",
   "metadata": {},
   "outputs": [
    {
     "data": {
      "text/plain": [
       "[<matplotlib.lines.Line2D at 0x1349185b0>]"
      ]
     },
     "execution_count": 317,
     "metadata": {},
     "output_type": "execute_result"
    },
    {
     "data": {
      "image/png": "[encoded data removed]",
      "text/plain": [
       "<Figure size 640x480 with 1 Axes>"
      ]
     },
     "metadata": {},
     "output_type": "display_data"
    }
   ],
   "source": [
    "m = 1000\n",
    "clip = len(lossi) - (len(lossi) % m)\n",
    "\n",
    "l = torch.tensor(lossi[0:clip])\n",
    "l = l.view(-1, m).mean(1)\n",
    "plt.plot(l)"
   ]
  },
  {
   "cell_type": "markdown",
   "id": "13344b9f-c8ad-4164-9f1c-7055173e44b2",
   "metadata": {},
   "source": [
    "#### Log\n",
    "\n",
    "Single example stocastic gradient\n",
    "- train: 2.2232\n",
    "- valid: 2.2155\n",
    "  \n",
    "Mini-batch gradient descent\n",
    "- train: 2.1531\n",
    "- valid: 2.1746\n",
    "\n",
    "Mini-batch gradient descent (emb: 16, hidden: 64)\n",
    "- train: 2.0666\n",
    "- valid: 2.1058"
   ]
  },
  {
   "cell_type": "code",
   "execution_count": 318,
   "id": "7b575ce3-f27d-42e6-be7c-6a3794cf305a",
   "metadata": {},
   "outputs": [
    {
     "name": "stdout",
     "output_type": "stream",
     "text": [
      "brex\n",
      "ustael\n",
      "darash\n",
      "aavia\n",
      "keaken\n",
      "jaynee\n",
      "jyracki\n",
      "tayleer\n",
      "lamisa\n",
      "siadely\n",
      "meela\n",
      "koshon\n",
      "javeri\n",
      "stovan\n",
      "nyseani\n",
      "brajole\n",
      "mari\n",
      "taza\n",
      "ayquel\n",
      "amarielle\n",
      "ka\n",
      "aleile\n",
      "carss\n",
      "lay\n",
      "adro\n",
      "dasha\n",
      "katelee\n",
      "railey\n",
      "ea\n",
      "shadhry\n"
     ]
    }
   ],
   "source": [
    "for i in range(30):\n",
    "    sample = [0] * kernel_size\n",
    "\n",
    "    while(True):\n",
    "        ctx = sample[-kernel_size:] \n",
    "        ctx = torch.tensor(ctx).view(1, -1) # (K)\n",
    "        logits = model(ctx) # (1, 1, 27)\n",
    "        logits = logits.view(vocab_size)\n",
    "        prob = F.softmax(logits, 0)\n",
    "        idx = torch.multinomial(prob, 1).item()\n",
    "        sample.append(idx)\n",
    "\n",
    "        if idx == 0 or len(sample) > 50:\n",
    "            break\n",
    "\n",
    "    word = \"\".join([itoc[idx] for idx in sample[kernel_size:-1]])\n",
    "    print(word)"
   ]
  }
 ],
 "metadata": {
  "kernelspec": {
   "display_name": "Python 3 (ipykernel)",
   "language": "python",
   "name": "python3"
  },
  "language_info": {
   "codemirror_mode": {
    "name": "ipython",
    "version": 3
   },
   "file_extension": ".py",
   "mimetype": "text/x-python",
   "name": "python",
   "nbconvert_exporter": "python",
   "pygments_lexer": "ipython3",
   "version": "3.10.8"
  }
 },
 "nbformat": 4,
 "nbformat_minor": 5
}
