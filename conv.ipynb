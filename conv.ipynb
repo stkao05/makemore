{
 "cells": [
  {
   "cell_type": "code",
   "execution_count": 18,
   "id": "fa5b68c7-28be-4e58-ace0-d77620235a21",
   "metadata": {},
   "outputs": [],
   "source": [
    "import torch\n",
    "import torch.nn.functional as F\n",
    "import torch.nn as nn\n",
    "import matplotlib.pyplot as plt # for making figures\n",
    "from torch.utils.data import random_split\n",
    "%matplotlib inline"
   ]
  },
  {
   "cell_type": "code",
   "execution_count": 8,
   "id": "410f222a-40c2-44e5-bf66-dafee464bbe8",
   "metadata": {},
   "outputs": [
    {
     "name": "stdout",
     "output_type": "stream",
     "text": [
      "32033\n",
      "15\n",
      "['emma', 'olivia', 'ava', 'isabella', 'sophia', 'charlotte', 'mia', 'amelia']\n"
     ]
    }
   ],
   "source": [
    "# read in all the words\n",
    "words = open('names.txt', 'r').read().splitlines()\n",
    "print(len(words))\n",
    "print(max(len(w) for w in words))\n",
    "print(words[:8])"
   ]
  },
  {
   "cell_type": "code",
   "execution_count": 9,
   "id": "f6dc4aa3-4ec0-4b93-a329-ba4cb7d56d14",
   "metadata": {},
   "outputs": [
    {
     "name": "stdout",
     "output_type": "stream",
     "text": [
      "{'.': 0, 'a': 1, 'b': 2, 'c': 3, 'd': 4, 'e': 5, 'f': 6, 'g': 7, 'h': 8, 'i': 9, 'j': 10, 'k': 11, 'l': 12, 'm': 13, 'n': 14, 'o': 15, 'p': 16, 'q': 17, 'r': 18, 's': 19, 't': 20, 'u': 21, 'v': 22, 'w': 23, 'x': 24, 'y': 25, 'z': 26}\n",
      "27\n"
     ]
    }
   ],
   "source": [
    "chars = sorted(list(set(''.join(words))))\n",
    "chars.insert(0, \".\")\n",
    "\n",
    "ctoi = { c:i for i, c in enumerate(chars)}\n",
    "itoc = { i:c for i, c in enumerate(chars)}\n",
    "vocab_size = len(chars)\n",
    "\n",
    "print(ctoi)\n",
    "print(vocab_size)"
   ]
  },
  {
   "cell_type": "code",
   "execution_count": 20,
   "id": "a634c6da-1e7d-4ced-a931-72bba4b6bdb1",
   "metadata": {},
   "outputs": [],
   "source": [
    "train_wd, valid_wd, test_wd = random_split(words, [0.8, 0.1, 0.1], generator=torch.Generator().manual_seed(420))"
   ]
  },
  {
   "cell_type": "code",
   "execution_count": 21,
   "id": "42a60db1-b73b-45eb-8cde-3cba4e848091",
   "metadata": {},
   "outputs": [],
   "source": [
    "kernel_size = 3\n",
    "\n",
    "def char_tensor(word):\n",
    "    return torch.tensor([ctoi[c] for c in word])\n",
    "\n",
    "def build_dataset(words):\n",
    "    X = [char_tensor(\".\"*kernel_size+w) for w in words]\n",
    "    Y = [char_tensor(w + \".\") for w in words]\n",
    "    \n",
    "    return X, Y\n",
    "\n",
    "# (sample_size, seq_len)\n",
    "train_x, train_y = build_dataset(train_wd)\n",
    "valid_x, valid_y = build_dataset(train_wd)"
   ]
  },
  {
   "cell_type": "code",
   "execution_count": 11,
   "id": "a0068046-e4e8-45bb-a53c-c4b1cc6b31f7",
   "metadata": {},
   "outputs": [],
   "source": [
    "class Transpose(torch.nn.Module):\n",
    "    def __init__(self):\n",
    "        super().__init__()\n",
    "        \n",
    "    def forward(self, x):\n",
    "        return x.T\n",
    "    \n",
    "    def string(self):\n",
    "        return \"Transpose\""
   ]
  },
  {
   "cell_type": "markdown",
   "id": "67fc56c5-90af-4693-bb91-0840b429b0c2",
   "metadata": {},
   "source": [
    "```\n",
    "kkk\n",
    "...steven\n",
    "   steven.\n",
    "```\n",
    "\n",
    "- input:  seq_len\n",
    "- output: seq_len - kernal_size + 1"
   ]
  },
  {
   "cell_type": "code",
   "execution_count": 12,
   "id": "126a81ec-ddb4-4ddf-bda1-d5c332969131",
   "metadata": {},
   "outputs": [
    {
     "name": "stdout",
     "output_type": "stream",
     "text": [
      "2037\n"
     ]
    }
   ],
   "source": [
    "embed_size = 10\n",
    "hidden_size = 30\n",
    "\n",
    "# input (seq)\n",
    "model = nn.Sequential(\n",
    "    nn.Embedding(vocab_size, embed_size), # (seq, embed)\n",
    "    Transpose(), # (embed, seq)\n",
    "    nn.Conv1d(in_channels=embed_size, out_channels=hidden_size, kernel_size=kernel_size), # (hidden, seq)\n",
    "    Transpose(), # (seq, hidden)\n",
    "    nn.Tanh(),\n",
    "    nn.Linear(hidden_size, vocab_size)\n",
    ")\n",
    "\n",
    "for p in model.parameters():\n",
    "    p.requires_grad = True\n",
    "    \n",
    "print(sum((p.nelement() for p in model.parameters())))"
   ]
  },
  {
   "cell_type": "code",
   "execution_count": 13,
   "id": "e494295a-0aca-4e47-a140-0040197f8a91",
   "metadata": {},
   "outputs": [
    {
     "data": {
      "text/plain": [
       "torch.Size([10, 27])"
      ]
     },
     "execution_count": 13,
     "metadata": {},
     "output_type": "execute_result"
    }
   ],
   "source": [
    "x = train_x[5]\n",
    "y = train_y[5]\n",
    "\n",
    "model(x).shape"
   ]
  },
  {
   "cell_type": "code",
   "execution_count": 14,
   "id": "4b871362-ef34-4a46-b3d1-4492bcb5e087",
   "metadata": {},
   "outputs": [
    {
     "data": {
      "text/plain": [
       "32033"
      ]
     },
     "execution_count": 14,
     "metadata": {},
     "output_type": "execute_result"
    }
   ],
   "source": [
    "len(train_x)"
   ]
  },
  {
   "cell_type": "code",
   "execution_count": 25,
   "id": "8d643f89-fa40-442e-a4bd-a86d8a613ac0",
   "metadata": {},
   "outputs": [],
   "source": [
    "@torch.no_grad()\n",
    "def eval_split():    \n",
    "    lossi = []\n",
    "    \n",
    "    for (x, y) in zip(valid_x, valid_y):\n",
    "        logits = model(x)\n",
    "        loss = F.cross_entropy(logits, y)\n",
    "        lossi.append(loss.item())\n",
    "    \n",
    "    return torch.tensor(lossi).mean()"
   ]
  },
  {
   "cell_type": "code",
   "execution_count": 15,
   "id": "fc0e0af4-1a8b-4775-a10a-fad635dc28fd",
   "metadata": {},
   "outputs": [
    {
     "name": "stdout",
     "output_type": "stream",
     "text": [
      "2.695361852645874\n",
      "2.2960426807403564\n",
      "2.537336826324463\n",
      "2.4040701389312744\n",
      "2.084315538406372\n",
      "1.8676137924194336\n",
      "2.294135808944702\n",
      "2.4548697471618652\n",
      "2.1648457050323486\n",
      "2.0965075492858887\n",
      "1.6272170543670654\n",
      "2.29252290725708\n",
      "2.3476362228393555\n",
      "2.62477445602417\n",
      "1.684863805770874\n",
      "2.094592571258545\n",
      "1.6280806064605713\n",
      "2.642763376235962\n",
      "1.9823147058486938\n",
      "1.81447434425354\n",
      "2.2518482208251953\n",
      "1.8503013849258423\n",
      "2.4624338150024414\n",
      "2.5528011322021484\n",
      "2.4299607276916504\n",
      "1.9243309497833252\n",
      "2.162618637084961\n",
      "2.3530821800231934\n",
      "2.9504241943359375\n",
      "2.313488483428955\n",
      "1.7898902893066406\n",
      "2.1524319648742676\n"
     ]
    }
   ],
   "source": [
    "import random\n",
    "\n",
    "lossi = []\n",
    "for i in range(30):\n",
    "    data = list(zip(train_x, train_y))\n",
    "    random.shuffle(data)\n",
    "    \n",
    "    for (x, y) in data:\n",
    "        for p in model.parameters():\n",
    "            p.grad = None\n",
    "        \n",
    "        logits = model(x)\n",
    "        loss = F.cross_entropy(logits, y)            \n",
    "        loss.backward()\n",
    "\n",
    "        lr = 0.1 if len(lossi) < 100000 else 0.01\n",
    "        for p in model.parameters():\n",
    "            p.data += -lr * p.grad\n",
    "            \n",
    "        lossi.append(loss.item())\n",
    "        if len(lossi) % 30000 == 0:\n",
    "            print(lossi[-1])"
   ]
  },
  {
   "cell_type": "code",
   "execution_count": 22,
   "id": "ccfa21e5-b471-40ef-8e4d-16d1a0ceb651",
   "metadata": {},
   "outputs": [
    {
     "name": "stdout",
     "output_type": "stream",
     "text": [
      "baseline (random guess): 3.2958\n",
      "train loss: 2.2234\n"
     ]
    }
   ],
   "source": [
    "print(f\"baseline (random guess): {-torch.tensor(1/27).log():.4f}\")\n",
    "print(f\"train loss: {torch.tensor(lossi[-5000:]).mean():.4f}\")"
   ]
  },
  {
   "cell_type": "code",
   "execution_count": 26,
   "id": "8b384cc0-2757-48c0-ac33-615ed335d162",
   "metadata": {},
   "outputs": [
    {
     "data": {
      "text/plain": [
       "tensor(2.2155)"
      ]
     },
     "execution_count": 26,
     "metadata": {},
     "output_type": "execute_result"
    }
   ],
   "source": [
    "eval_split()"
   ]
  },
  {
   "cell_type": "code",
   "execution_count": 24,
   "id": "37ada57c-9919-4313-b201-a6041dd992d4",
   "metadata": {},
   "outputs": [
    {
     "data": {
      "text/plain": [
       "[<matplotlib.lines.Line2D at 0x134faadd0>]"
      ]
     },
     "execution_count": 24,
     "metadata": {},
     "output_type": "execute_result"
    },
    {
     "data": {
      "image/png": "[encoded data removed]",
      "text/plain": [
       "<Figure size 640x480 with 1 Axes>"
      ]
     },
     "metadata": {},
     "output_type": "display_data"
    }
   ],
   "source": [
    "m = 10000\n",
    "clip = len(lossi) - (len(lossi) % m)\n",
    "\n",
    "l = torch.tensor(lossi[0:clip])\n",
    "l = l.view(-1, m).mean(1)\n",
    "plt.plot(l)"
   ]
  },
  {
   "cell_type": "markdown",
   "id": "13344b9f-c8ad-4164-9f1c-7055173e44b2",
   "metadata": {},
   "source": [
    "#### Log\n",
    "- Single example stocastic gradient\n",
    "  - train 2.20"
   ]
  },
  {
   "cell_type": "code",
   "execution_count": 103,
   "id": "7b575ce3-f27d-42e6-be7c-6a3794cf305a",
   "metadata": {},
   "outputs": [
    {
     "name": "stdout",
     "output_type": "stream",
     "text": [
      "mari\n",
      "pora\n",
      "yel\n",
      "naiighoseli\n",
      "mem\n",
      "fecta\n",
      "tiese\n",
      "paydahzyna\n",
      "eroner\n",
      "jaituriaso\n",
      "crichakismeamere\n",
      "aira\n",
      "meveigharaannef\n",
      "lian\n",
      "keorteahajias\n",
      "rena\n",
      "hon\n",
      "keik\n",
      "borynn\n",
      "miciawat\n",
      "azhansidi\n",
      "syle\n",
      "kediegh\n",
      "kiha\n",
      "denon\n",
      "etdra\n",
      "avian\n",
      "tatimarvelinta\n",
      "ley\n",
      "kelsy\n"
     ]
    }
   ],
   "source": [
    "for i in range(30):\n",
    "    sample = [0] * kernel_size\n",
    "\n",
    "    while(True):\n",
    "        ctx = sample[-kernel_size:] \n",
    "        ctx = torch.tensor(ctx) # (K)\n",
    "        logits = model(ctx) # (1, 27)\n",
    "        prob = F.softmax(logits, 1).view(-1)\n",
    "        idx = torch.multinomial(prob, 1, generator=g)\n",
    "        ix = idx[0].item()\n",
    "        sample.append(ix)\n",
    "\n",
    "        if ix == 0 or len(sample) > 50:\n",
    "            break\n",
    "\n",
    "    word = \"\".join([itoc[idx] for idx in sample[kernel_size:-1]])\n",
    "    print(word)"
   ]
  }
 ],
 "metadata": {
  "kernelspec": {
   "display_name": "Python 3 (ipykernel)",
   "language": "python",
   "name": "python3"
  },
  "language_info": {
   "codemirror_mode": {
    "name": "ipython",
    "version": 3
   },
   "file_extension": ".py",
   "mimetype": "text/x-python",
   "name": "python",
   "nbconvert_exporter": "python",
   "pygments_lexer": "ipython3",
   "version": "3.10.8"
  }
 },
 "nbformat": 4,
 "nbformat_minor": 5
}
