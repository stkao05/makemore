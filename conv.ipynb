{
 "cells": [
  {
   "cell_type": "markdown",
   "id": "64eb0bfe-3bcb-409d-be4e-eb163c563cf9",
   "metadata": {},
   "source": [
    "# Makemore Casual ConvNet\n",
    "\n",
    "The notebook implements makemore model with casual convolution archiecture. "
   ]
  },
  {
   "cell_type": "code",
   "execution_count": 330,
   "id": "fa5b68c7-28be-4e58-ace0-d77620235a21",
   "metadata": {},
   "outputs": [],
   "source": [
    "import torch\n",
    "import torch.nn.functional as F\n",
    "import torch.nn as nn\n",
    "import matplotlib.pyplot as plt # for making figures\n",
    "from torch.utils.data import random_split\n",
    "%matplotlib inline"
   ]
  },
  {
   "cell_type": "code",
   "execution_count": 331,
   "id": "410f222a-40c2-44e5-bf66-dafee464bbe8",
   "metadata": {},
   "outputs": [
    {
     "name": "stdout",
     "output_type": "stream",
     "text": [
      "32033\n",
      "15\n",
      "2\n",
      "['emma', 'olivia', 'ava', 'isabella', 'sophia', 'charlotte', 'mia', 'amelia']\n"
     ]
    }
   ],
   "source": [
    "# read in all the words\n",
    "words = open('names.txt', 'r').read().splitlines()\n",
    "print(len(words))\n",
    "print(max(len(w) for w in words))\n",
    "print(min(len(w) for w in words))\n",
    "print(words[:8])"
   ]
  },
  {
   "cell_type": "code",
   "execution_count": 332,
   "id": "f6dc4aa3-4ec0-4b93-a329-ba4cb7d56d14",
   "metadata": {},
   "outputs": [
    {
     "name": "stdout",
     "output_type": "stream",
     "text": [
      "{'a': 0, 'b': 1, 'c': 2, 'd': 3, 'e': 4, 'f': 5, 'g': 6, 'h': 7, 'i': 8, 'j': 9, 'k': 10, 'l': 11, 'm': 12, 'n': 13, 'o': 14, 'p': 15, 'q': 16, 'r': 17, 's': 18, 't': 19, 'u': 20, 'v': 21, 'w': 22, 'x': 23, 'y': 24, 'z': 25, '.': 26, '!': 27, '-': 28}\n",
      "29\n"
     ]
    }
   ],
   "source": [
    "char_start = \".\"\n",
    "char_end = \"!\"\n",
    "char_pad = \"-\"\n",
    "\n",
    "chars = sorted(list(set(''.join(words))))\n",
    "chars.append(char_start)\n",
    "chars.append(char_end)\n",
    "chars.append(char_pad)\n",
    "\n",
    "ctoi = { c:i for i, c in enumerate(chars)}\n",
    "itoc = { i:c for i, c in enumerate(chars)}\n",
    "vocab_size = len(chars)\n",
    "\n",
    "idx_start = ctoi[char_start]\n",
    "idx_end = ctoi[char_end]\n",
    "idx_pad = ctoi[char_pad]\n",
    "\n",
    "print(ctoi)\n",
    "print(vocab_size)"
   ]
  },
  {
   "cell_type": "code",
   "execution_count": 333,
   "id": "a634c6da-1e7d-4ced-a931-72bba4b6bdb1",
   "metadata": {},
   "outputs": [],
   "source": [
    "train_wd, valid_wd, test_wd = random_split(words, [0.8, 0.1, 0.1], generator=torch.Generator().manual_seed(420))"
   ]
  },
  {
   "cell_type": "code",
   "execution_count": 334,
   "id": "6f83fcec-0d6c-4542-aa9d-8e455ff826ea",
   "metadata": {},
   "outputs": [
    {
     "data": {
      "text/plain": [
       "'apple-----'"
      ]
     },
     "execution_count": 334,
     "metadata": {},
     "output_type": "execute_result"
    }
   ],
   "source": [
    "def right_pad(string, char, length):\n",
    "    d = length - len(string)\n",
    "    return string + char * d\n",
    "    \n",
    "pad(\"apple\", char_pad, 10)"
   ]
  },
  {
   "cell_type": "markdown",
   "id": "3e03e2db-c749-405c-b391-4375546c64b2",
   "metadata": {},
   "source": [
    "### Building Dataset\n",
    "\n",
    "Each example is padded with starting symbols (`.`), ending symbol (`!`), and right-padding symbols (`-`). The right-padding is used to make each example the same length so that mini-batch could be used.\n",
    "\n",
    "The number of pad equals to kernal size of conv layer. i.e. when context_size = 4\n",
    "\n",
    "Input:\n",
    "```\n",
    "....emma---\n",
    "....steven-\n",
    "```\n",
    "\n",
    "Output:\n",
    "```\n",
    "emma!-----\n",
    "steven!---\n",
    "```"
   ]
  },
  {
   "cell_type": "code",
   "execution_count": 335,
   "id": "42a60db1-b73b-45eb-8cde-3cba4e848091",
   "metadata": {},
   "outputs": [],
   "source": [
    "context_size = 5\n",
    "\n",
    "def char_idx(word):\n",
    "    return [ctoi[c] for c in word]\n",
    "\n",
    "def build_dataset(words):\n",
    "    max_len = max(len(w) for w in words)\n",
    "    \n",
    "    x_len = max_len + context_size # start pad + end pad\n",
    "    y_len = max_len + 1\n",
    "    \n",
    "    X = []\n",
    "    Y = []\n",
    "    \n",
    "    for w in words:\n",
    "        x = char_start * context_size + w\n",
    "        x = right_pad(x, char_pad, x_len)\n",
    "        \n",
    "        y = w + char_end\n",
    "        y = right_pad(y, char_pad, y_len)\n",
    "        \n",
    "        X.append(char_idx(x))\n",
    "        Y.append(char_idx(y))\n",
    "        \n",
    "    X = torch.tensor(X)\n",
    "    Y = torch.tensor(Y)\n",
    "\n",
    "    return X, Y\n",
    "\n",
    "train_x, train_y = build_dataset(train_wd)\n",
    "valid_x, valid_y = build_dataset(valid_wd)"
   ]
  },
  {
   "cell_type": "code",
   "execution_count": 336,
   "id": "6bf9f176-9ed3-4471-8040-8798d81f0b8b",
   "metadata": {},
   "outputs": [
    {
     "data": {
      "text/plain": [
       "(torch.Size([25627, 20]), torch.Size([25627, 16]))"
      ]
     },
     "execution_count": 336,
     "metadata": {},
     "output_type": "execute_result"
    }
   ],
   "source": [
    "train_x.shape, train_y.shape"
   ]
  },
  {
   "cell_type": "code",
   "execution_count": 337,
   "id": "e1e42450-5dc6-4c74-9fc9-fc3d8aea9ee8",
   "metadata": {},
   "outputs": [
    {
     "name": "stdout",
     "output_type": "stream",
     "text": [
      "jaysen\n",
      "tensor([26, 26, 26, 26, 26,  9,  0, 24, 18,  4, 13, 28, 28, 28, 28, 28, 28, 28,\n",
      "        28, 28])\n"
     ]
    }
   ],
   "source": [
    "print(train_wd[0])\n",
    "print(train_x[0])"
   ]
  },
  {
   "cell_type": "code",
   "execution_count": 338,
   "id": "ab0259e1-5db3-40f2-a235-b8a5f9379bbf",
   "metadata": {},
   "outputs": [],
   "source": [
    "class Permute(torch.nn.Module):\n",
    "    def __init__(self, dim):\n",
    "        super().__init__()\n",
    "        self.dim = dim\n",
    "        \n",
    "    def forward(self, x):\n",
    "        return x.permute(self.dim)\n",
    "    \n",
    "    def string(self):\n",
    "        return \"Permute\""
   ]
  },
  {
   "cell_type": "code",
   "execution_count": 339,
   "id": "8d643f89-fa40-442e-a4bd-a86d8a613ac0",
   "metadata": {},
   "outputs": [],
   "source": [
    "@torch.no_grad()\n",
    "def eval_split(xs, ys):\n",
    "    model.eval()\n",
    "    \n",
    "    logits = model(xs)\n",
    "    N, L, C = logits.shape\n",
    "    logits = logits.view(-1, C)\n",
    "    ys = ys.view(-1)\n",
    "    loss = F.cross_entropy(logits, ys, ignore_index=idx_pad)\n",
    "    \n",
    "    return loss.item()"
   ]
  },
  {
   "cell_type": "markdown",
   "id": "fd1da677-ec0c-4c76-8242-43331ccc8d87",
   "metadata": {},
   "source": [
    "We expect the model to predict \"word + end symbol\", so conv layers are constructed so that it would output sequence with length (`word_len + 1`)\n",
    "\n",
    "The input seq length is: `word_len + 4` (4 is context length)\n",
    "\n",
    "- seq length after 1st conv: `word_len + 3`\n",
    "- seq length after 2nd conv: `word_len + 2`\n",
    "- seq length after 3nd conv: `word_len + 1` \n",
    "\n",
    "\n",
    "\n"
   ]
  },
  {
   "cell_type": "code",
   "execution_count": 340,
   "id": "126a81ec-ddb4-4ddf-bda1-d5c332969131",
   "metadata": {},
   "outputs": [
    {
     "name": "stdout",
     "output_type": "stream",
     "text": [
      "109397\n"
     ]
    }
   ],
   "source": [
    "embed_size = 24\n",
    "hidden_size = 128\n",
    "\n",
    "# input (batch, seq)\n",
    "model = nn.Sequential(\n",
    "    nn.Embedding(vocab_size, embed_size), # (batch, seq, embed)\n",
    "    Permute((0, 2, 1)), # (batch, seq, embed)\n",
    "\n",
    "    # num of conv layer = context_size - 1\n",
    "    nn.Conv1d(in_channels=embed_size, out_channels=hidden_size, kernel_size=2), # (batch, hidden, seq)\n",
    "    nn.Tanh(),\n",
    "\n",
    "    nn.Conv1d(in_channels=hidden_size, out_channels=hidden_size, kernel_size=2), # (batch, hidden, seq)\n",
    "    nn.Tanh(),\n",
    "\n",
    "    nn.Conv1d(in_channels=hidden_size, out_channels=hidden_size, kernel_size=2), # (batch, hidden, seq)\n",
    "    nn.Tanh(),\n",
    "    \n",
    "    nn.Conv1d(in_channels=hidden_size, out_channels=hidden_size, kernel_size=2), # (batch, hidden, seq)\n",
    "    nn.Tanh(),\n",
    "\n",
    "    Permute((0, 2, 1)), # (batch, seq, embed)\n",
    "    \n",
    "    nn.Linear(hidden_size, vocab_size), # (batch, seq, vocab)\n",
    ")\n",
    "\n",
    "for p in model.parameters():\n",
    "    p.requires_grad = True\n",
    "    \n",
    "print(sum((p.nelement() for p in model.parameters())))"
   ]
  },
  {
   "cell_type": "code",
   "execution_count": 341,
   "id": "fc0e0af4-1a8b-4775-a10a-fad635dc28fd",
   "metadata": {},
   "outputs": [
    {
     "name": "stdout",
     "output_type": "stream",
     "text": [
      " 1/10: 2.0387\n",
      " 2/10: 2.2291\n",
      " 3/10: 2.1036\n",
      " 4/10: 1.9930\n",
      " 5/10: 1.9463\n",
      " 6/10: 1.8845\n",
      " 7/10: 1.9817\n",
      " 8/10: 2.0033\n",
      " 9/10: 1.9413\n",
      "10/10: 1.7647\n"
     ]
    }
   ],
   "source": [
    "import random\n",
    "\n",
    "train_ds = torch.utils.data.TensorDataset(train_x, train_y)\n",
    "train_dl = torch.utils.data.DataLoader(train_ds, 32, shuffle=True)\n",
    "\n",
    "optimizer = torch.optim.Adam(model.parameters())\n",
    "lossi = []\n",
    "epoch = 10\n",
    "model.train()\n",
    "\n",
    "for i in range(epoch):\n",
    "    for xs, ys in train_dl:\n",
    "        optimizer.zero_grad()\n",
    "        \n",
    "        logits = model(xs) # (batch, seq, vocab)\n",
    "        \n",
    "        N, L, C = logits.shape\n",
    "        logits = logits.view(-1, C) # (batch, seq, vocab) -> (batch * seq, vocab)\n",
    "        ys = ys.view(-1) # (batch, seq) -> (batch * seq)\n",
    "                \n",
    "        loss = F.cross_entropy(logits, ys, ignore_index=idx_pad)\n",
    "        loss.backward()\n",
    "\n",
    "        optimizer.step()\n",
    "        lossi.append(loss.item())\n",
    "\n",
    "    print(f\"{i+1:2d}/{epoch}: {lossi[-1]:.4f}\")"
   ]
  },
  {
   "cell_type": "code",
   "execution_count": 342,
   "id": "41a7ccd5-c017-4f78-90ae-f20d874ba491",
   "metadata": {},
   "outputs": [
    {
     "name": "stdout",
     "output_type": "stream",
     "text": [
      "train: 1.8981\n",
      "valid: 2.0178\n",
      "baseline (random):: 3.25809645652771\n"
     ]
    }
   ],
   "source": [
    "valid_loss = eval_split(valid_x, valid_y)\n",
    "train_loss = eval_split(train_x, train_y)\n",
    "\n",
    "print(f\"train: {train_loss:.4f}\")\n",
    "print(f\"valid: {valid_loss:.4f}\")\n",
    "print(f\"baseline (random):: { -torch.tensor(1/26).log() }\")"
   ]
  },
  {
   "cell_type": "code",
   "execution_count": 343,
   "id": "37ada57c-9919-4313-b201-a6041dd992d4",
   "metadata": {},
   "outputs": [
    {
     "data": {
      "text/plain": [
       "[<matplotlib.lines.Line2D at 0x15ed5ad40>]"
      ]
     },
     "execution_count": 343,
     "metadata": {},
     "output_type": "execute_result"
    },
    {
     "data": {
      "image/png": "[encoded data removed]",
      "text/plain": [
       "<Figure size 640x480 with 1 Axes>"
      ]
     },
     "metadata": {},
     "output_type": "display_data"
    }
   ],
   "source": [
    "bucket = 100\n",
    "clip = len(lossi) - (len(lossi) % bucket)\n",
    "\n",
    "l = torch.tensor(lossi[0:clip])\n",
    "l = l.view(-1, bucket).mean(1)\n",
    "plt.plot(l)"
   ]
  },
  {
   "cell_type": "markdown",
   "id": "13344b9f-c8ad-4164-9f1c-7055173e44b2",
   "metadata": {},
   "source": [
    "#### Log\n",
    "\n",
    "Single example stocastic gradient\n",
    "- train: 2.2232\n",
    "- valid: 2.2155\n",
    "  \n",
    "Mini-batch gradient descent (embed_size: 16, hidden_size: 64)\n",
    "- train: 2.0666\n",
    "- valid: 2.1058\n",
    "\n",
    "3 layers casual conv, single example (kernel = 4, 3 conv layer, embed_size = 10, hidden_size = 128)\n",
    "- train: 2.1893\n",
    "- valid: 2.1989\n",
    "\n",
    "3 layers casual conv, mini-batch (kernel = 5, 3 conv layer, embed_size = 24, hidden_size = 128)\n",
    "- train: 1.8981\n",
    "- valid: 2.0178"
   ]
  },
  {
   "cell_type": "code",
   "execution_count": 352,
   "id": "7b575ce3-f27d-42e6-be7c-6a3794cf305a",
   "metadata": {},
   "outputs": [
    {
     "name": "stdout",
     "output_type": "stream",
     "text": [
      "sanyion\n",
      "yadaishow\n",
      "oelos\n",
      "yuvijah\n",
      "charlamib\n",
      "ionnye\n",
      "ayaa\n",
      "yamia\n",
      "charlianna\n",
      "yaneia\n"
     ]
    }
   ],
   "source": [
    "for _ in range(10):\n",
    "    sample = [idx_start] * context_size\n",
    "\n",
    "    while(True):\n",
    "        ctx = sample[-context_size:] \n",
    "        ctx = torch.tensor(ctx).view(1, -1) # (batch=1, seq)\n",
    "        logits = model(ctx) # (batch=1, seq=1, vocab)\n",
    "        \n",
    "        logits = logits.view(-1) # (vocab)\n",
    "        prob = F.softmax(logits, 0)\n",
    "        idx = torch.multinomial(prob, 1).item()\n",
    "        sample.append(idx)\n",
    "\n",
    "        if idx == idx_end or len(sample) > 50:\n",
    "            break\n",
    "\n",
    "    word = \"\".join([itoc[idx] for idx in sample[context_size:-1]])\n",
    "    print(word)"
   ]
  }
 ],
 "metadata": {
  "kernelspec": {
   "display_name": "Python 3 (ipykernel)",
   "language": "python",
   "name": "python3"
  },
  "language_info": {
   "codemirror_mode": {
    "name": "ipython",
    "version": 3
   },
   "file_extension": ".py",
   "mimetype": "text/x-python",
   "name": "python",
   "nbconvert_exporter": "python",
   "pygments_lexer": "ipython3",
   "version": "3.10.8"
  }
 },
 "nbformat": 4,
 "nbformat_minor": 5
}
