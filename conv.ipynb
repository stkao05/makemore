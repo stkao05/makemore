{
 "cells": [
  {
   "cell_type": "code",
   "execution_count": 6,
   "id": "fa5b68c7-28be-4e58-ace0-d77620235a21",
   "metadata": {},
   "outputs": [],
   "source": [
    "import torch\n",
    "import torch.nn.functional as F\n",
    "import torch.nn as nn\n",
    "import matplotlib.pyplot as plt # for making figures\n",
    "%matplotlib inline"
   ]
  },
  {
   "cell_type": "code",
   "execution_count": 2,
   "id": "410f222a-40c2-44e5-bf66-dafee464bbe8",
   "metadata": {},
   "outputs": [
    {
     "name": "stdout",
     "output_type": "stream",
     "text": [
      "32033\n",
      "15\n",
      "['emma', 'olivia', 'ava', 'isabella', 'sophia', 'charlotte', 'mia', 'amelia']\n"
     ]
    }
   ],
   "source": [
    "# read in all the words\n",
    "words = open('names.txt', 'r').read().splitlines()\n",
    "print(len(words))\n",
    "print(max(len(w) for w in words))\n",
    "print(words[:8])"
   ]
  },
  {
   "cell_type": "code",
   "execution_count": 3,
   "id": "f6dc4aa3-4ec0-4b93-a329-ba4cb7d56d14",
   "metadata": {},
   "outputs": [
    {
     "name": "stdout",
     "output_type": "stream",
     "text": [
      "{'.': 0, 'a': 1, 'b': 2, 'c': 3, 'd': 4, 'e': 5, 'f': 6, 'g': 7, 'h': 8, 'i': 9, 'j': 10, 'k': 11, 'l': 12, 'm': 13, 'n': 14, 'o': 15, 'p': 16, 'q': 17, 'r': 18, 's': 19, 't': 20, 'u': 21, 'v': 22, 'w': 23, 'x': 24, 'y': 25, 'z': 26}\n",
      "27\n"
     ]
    }
   ],
   "source": [
    "chars = sorted(list(set(''.join(words))))\n",
    "chars.insert(0, \".\")\n",
    "\n",
    "ctoi = { c:i for i, c in enumerate(chars)}\n",
    "itoc = { i:c for i, c in enumerate(chars)}\n",
    "vocab_size = len(chars)\n",
    "\n",
    "print(ctoi)\n",
    "print(vocab_size)"
   ]
  },
  {
   "cell_type": "code",
   "execution_count": 11,
   "id": "42a60db1-b73b-45eb-8cde-3cba4e848091",
   "metadata": {},
   "outputs": [],
   "source": [
    "kernel_size = 3\n",
    "\n",
    "def char_tensor(word):\n",
    "    return torch.tensor([ctoi[c] for c in word])\n",
    "\n",
    "def build_dataset(words):\n",
    "    X = [char_tensor(\".\"*kernel_size+w) for w in words]\n",
    "    Y = [char_tensor(w + \".\") for w in words]\n",
    "    \n",
    "    return X, Y\n",
    "\n",
    "# (sample_size, seq_len)\n",
    "train_x, train_y = build_dataset(words)"
   ]
  },
  {
   "cell_type": "code",
   "execution_count": 12,
   "id": "a0068046-e4e8-45bb-a53c-c4b1cc6b31f7",
   "metadata": {},
   "outputs": [],
   "source": [
    "class Transpose(torch.nn.Module):\n",
    "    def __init__(self):\n",
    "        super().__init__()\n",
    "        \n",
    "    def forward(self, x):\n",
    "        return x.T\n",
    "    \n",
    "    def string(self):\n",
    "        return \"Transpose\""
   ]
  },
  {
   "cell_type": "markdown",
   "id": "67fc56c5-90af-4693-bb91-0840b429b0c2",
   "metadata": {},
   "source": [
    "```\n",
    "kkk\n",
    "...steven\n",
    "   steven.\n",
    "```\n",
    "\n",
    "- input:  seq_len\n",
    "- output: seq_len - kernal_size + 1"
   ]
  },
  {
   "cell_type": "code",
   "execution_count": 98,
   "id": "126a81ec-ddb4-4ddf-bda1-d5c332969131",
   "metadata": {},
   "outputs": [
    {
     "name": "stdout",
     "output_type": "stream",
     "text": [
      "2037\n"
     ]
    }
   ],
   "source": [
    "embed_size = 10\n",
    "hidden_size = 30\n",
    "\n",
    "# input (seq)\n",
    "model = nn.Sequential(\n",
    "    nn.Embedding(vocab_size, embed_size), # (seq, embed)\n",
    "    Transpose(), # (embed, seq)\n",
    "    nn.Conv1d(in_channels=embed_size, out_channels=hidden_size, kernel_size=kernel_size), # (hidden, seq)\n",
    "    Transpose(), # (seq, hidden)\n",
    "    nn.Tanh(),\n",
    "    nn.Linear(hidden_size, vocab_size)\n",
    ")\n",
    "\n",
    "for p in model.parameters():\n",
    "    p.requires_grad = True\n",
    "    \n",
    "print(sum((p.nelement() for p in model.parameters())))"
   ]
  },
  {
   "cell_type": "code",
   "execution_count": 99,
   "id": "e494295a-0aca-4e47-a140-0040197f8a91",
   "metadata": {},
   "outputs": [
    {
     "data": {
      "text/plain": [
       "torch.Size([10, 27])"
      ]
     },
     "execution_count": 99,
     "metadata": {},
     "output_type": "execute_result"
    }
   ],
   "source": [
    "x = train_x[5] # (seq)\n",
    "y = train_y[5]\n",
    "\n",
    "model(x).shape"
   ]
  },
  {
   "cell_type": "code",
   "execution_count": 111,
   "id": "fc0e0af4-1a8b-4775-a10a-fad635dc28fd",
   "metadata": {},
   "outputs": [
    {
     "name": "stdout",
     "output_type": "stream",
     "text": [
      "1.726654052734375\n",
      "1.8421356678009033\n",
      "1.794877290725708\n",
      "1.9446032047271729\n",
      "1.53263258934021\n",
      "2.08862566947937\n",
      "2.555283784866333\n",
      "1.75627601146698\n",
      "2.1617348194122314\n",
      "1.8763972520828247\n",
      "1.7382776737213135\n",
      "2.2612807750701904\n",
      "2.648998975753784\n",
      "2.1858882904052734\n",
      "2.173736810684204\n",
      "2.91642427444458\n",
      "2.0045926570892334\n",
      "1.665950894355774\n",
      "2.369135856628418\n",
      "2.5665390491485596\n",
      "1.6775274276733398\n",
      "2.7688589096069336\n",
      "2.0381035804748535\n",
      "1.7492119073867798\n",
      "2.800731658935547\n",
      "1.8519361019134521\n",
      "2.174471139907837\n",
      "2.3085672855377197\n",
      "1.7999441623687744\n",
      "1.8888216018676758\n",
      "2.117138147354126\n",
      "2.190307378768921\n"
     ]
    }
   ],
   "source": [
    "import random\n",
    "\n",
    "lossi = []\n",
    "for i in range(30):\n",
    "    data = list(zip(train_x, train_y))\n",
    "    random.shuffle(data)\n",
    "    \n",
    "    for (x, y) in data:\n",
    "        for p in model.parameters():\n",
    "            p.grad = None\n",
    "        \n",
    "        logits = model(x)\n",
    "        loss = F.cross_entropy(logits, y)            \n",
    "        loss.backward()\n",
    "\n",
    "        lr = 0.01\n",
    "        for p in model.parameters():\n",
    "            p.data += -lr * p.grad\n",
    "            \n",
    "        lossi.append(loss.item())\n",
    "        if len(lossi) % 30000 == 0:\n",
    "            print(lossi[-1])"
   ]
  },
  {
   "cell_type": "code",
   "execution_count": 105,
   "id": "8a7726e2-f561-410d-b119-2ef8293f32a9",
   "metadata": {},
   "outputs": [
    {
     "name": "stdout",
     "output_type": "stream",
     "text": [
      "baseline (random guess): 3.2958\n",
      "train loss: 2.3163\n"
     ]
    }
   ],
   "source": [
    "print(f\"baseline (random guess): {-torch.tensor(1/27).log():.4f}\")\n",
    "print(f\"train loss: {torch.tensor(lossi[-5000:]).mean():.4f}\")"
   ]
  },
  {
   "cell_type": "code",
   "execution_count": 109,
   "id": "bc823a00-6eee-4d6f-9e87-3d252af75bbf",
   "metadata": {},
   "outputs": [
    {
     "name": "stdout",
     "output_type": "stream",
     "text": [
      "baseline (random guess): 3.2958\n",
      "train loss: 2.2119\n"
     ]
    }
   ],
   "source": [
    "print(f\"baseline (random guess): {-torch.tensor(1/27).log():.4f}\")\n",
    "print(f\"train loss: {torch.tensor(lossi[-5000:]).mean():.4f}\")"
   ]
  },
  {
   "cell_type": "code",
   "execution_count": 112,
   "id": "ccfa21e5-b471-40ef-8e4d-16d1a0ceb651",
   "metadata": {},
   "outputs": [
    {
     "name": "stdout",
     "output_type": "stream",
     "text": [
      "baseline (random guess): 3.2958\n",
      "train loss: 2.2026\n"
     ]
    }
   ],
   "source": [
    "print(f\"baseline (random guess): {-torch.tensor(1/27).log():.4f}\")\n",
    "print(f\"train loss: {torch.tensor(lossi[-5000:]).mean():.4f}\")"
   ]
  },
  {
   "cell_type": "code",
   "execution_count": 117,
   "id": "37ada57c-9919-4313-b201-a6041dd992d4",
   "metadata": {},
   "outputs": [
    {
     "data": {
      "text/plain": [
       "[<matplotlib.lines.Line2D at 0x15a028760>]"
      ]
     },
     "execution_count": 117,
     "metadata": {},
     "output_type": "execute_result"
    },
    {
     "data": {
      "image/png": "[encoded data removed]",
      "text/plain": [
       "<Figure size 640x480 with 1 Axes>"
      ]
     },
     "metadata": {},
     "output_type": "display_data"
    }
   ],
   "source": [
    "m = 70000\n",
    "clip = len(lossi) - (len(lossi) % m)\n",
    "\n",
    "l = torch.tensor(lossi[0:clip])\n",
    "l = l.view(-1, m).mean(1)\n",
    "plt.plot(l)"
   ]
  },
  {
   "cell_type": "code",
   "execution_count": 103,
   "id": "7b575ce3-f27d-42e6-be7c-6a3794cf305a",
   "metadata": {},
   "outputs": [
    {
     "name": "stdout",
     "output_type": "stream",
     "text": [
      "mari\n",
      "pora\n",
      "yel\n",
      "naiighoseli\n",
      "mem\n",
      "fecta\n",
      "tiese\n",
      "paydahzyna\n",
      "eroner\n",
      "jaituriaso\n",
      "crichakismeamere\n",
      "aira\n",
      "meveigharaannef\n",
      "lian\n",
      "keorteahajias\n",
      "rena\n",
      "hon\n",
      "keik\n",
      "borynn\n",
      "miciawat\n",
      "azhansidi\n",
      "syle\n",
      "kediegh\n",
      "kiha\n",
      "denon\n",
      "etdra\n",
      "avian\n",
      "tatimarvelinta\n",
      "ley\n",
      "kelsy\n"
     ]
    }
   ],
   "source": [
    "for i in range(30):\n",
    "    sample = [0] * kernel_size\n",
    "\n",
    "    while(True):\n",
    "        ctx = sample[-kernel_size:] \n",
    "        ctx = torch.tensor(ctx) # (K)\n",
    "        logits = model(ctx) # (1, 27)\n",
    "        prob = F.softmax(logits, 1).view(-1)\n",
    "        idx = torch.multinomial(prob, 1, generator=g)\n",
    "        ix = idx[0].item()\n",
    "        sample.append(ix)\n",
    "\n",
    "        if ix == 0 or len(sample) > 50:\n",
    "            break\n",
    "\n",
    "    word = \"\".join([itoc[idx] for idx in sample[kernel_size:-1]])\n",
    "    print(word)"
   ]
  }
 ],
 "metadata": {
  "kernelspec": {
   "display_name": "Python 3 (ipykernel)",
   "language": "python",
   "name": "python3"
  },
  "language_info": {
   "codemirror_mode": {
    "name": "ipython",
    "version": 3
   },
   "file_extension": ".py",
   "mimetype": "text/x-python",
   "name": "python",
   "nbconvert_exporter": "python",
   "pygments_lexer": "ipython3",
   "version": "3.10.8"
  }
 },
 "nbformat": 4,
 "nbformat_minor": 5
}
