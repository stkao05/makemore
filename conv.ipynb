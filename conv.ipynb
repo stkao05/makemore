{
 "cells": [
  {
   "cell_type": "code",
   "execution_count": 189,
   "id": "fa5b68c7-28be-4e58-ace0-d77620235a21",
   "metadata": {},
   "outputs": [],
   "source": [
    "import torch\n",
    "import torch.nn.functional as F\n",
    "import torch.nn as nn\n",
    "import matplotlib.pyplot as plt # for making figures\n",
    "from torch.utils.data import random_split\n",
    "%matplotlib inline"
   ]
  },
  {
   "cell_type": "code",
   "execution_count": 190,
   "id": "410f222a-40c2-44e5-bf66-dafee464bbe8",
   "metadata": {},
   "outputs": [
    {
     "name": "stdout",
     "output_type": "stream",
     "text": [
      "32033\n",
      "15\n",
      "2\n",
      "['emma', 'olivia', 'ava', 'isabella', 'sophia', 'charlotte', 'mia', 'amelia']\n"
     ]
    }
   ],
   "source": [
    "# read in all the words\n",
    "words = open('names.txt', 'r').read().splitlines()\n",
    "print(len(words))\n",
    "print(max(len(w) for w in words))\n",
    "print(min(len(w) for w in words))\n",
    "print(words[:8])"
   ]
  },
  {
   "cell_type": "code",
   "execution_count": 191,
   "id": "f6dc4aa3-4ec0-4b93-a329-ba4cb7d56d14",
   "metadata": {},
   "outputs": [
    {
     "name": "stdout",
     "output_type": "stream",
     "text": [
      "{'.': 0, 'a': 1, 'b': 2, 'c': 3, 'd': 4, 'e': 5, 'f': 6, 'g': 7, 'h': 8, 'i': 9, 'j': 10, 'k': 11, 'l': 12, 'm': 13, 'n': 14, 'o': 15, 'p': 16, 'q': 17, 'r': 18, 's': 19, 't': 20, 'u': 21, 'v': 22, 'w': 23, 'x': 24, 'y': 25, 'z': 26}\n",
      "27\n"
     ]
    }
   ],
   "source": [
    "chars = sorted(list(set(''.join(words))))\n",
    "chars.insert(0, \".\")\n",
    "\n",
    "ctoi = { c:i for i, c in enumerate(chars)}\n",
    "itoc = { i:c for i, c in enumerate(chars)}\n",
    "vocab_size = len(chars)\n",
    "\n",
    "print(ctoi)\n",
    "print(vocab_size)"
   ]
  },
  {
   "cell_type": "code",
   "execution_count": 192,
   "id": "a634c6da-1e7d-4ced-a931-72bba4b6bdb1",
   "metadata": {},
   "outputs": [],
   "source": [
    "train_wd, valid_wd, test_wd = random_split(words, [0.8, 0.1, 0.1], generator=torch.Generator().manual_seed(420))"
   ]
  },
  {
   "cell_type": "code",
   "execution_count": 193,
   "id": "6f83fcec-0d6c-4542-aa9d-8e455ff826ea",
   "metadata": {},
   "outputs": [
    {
     "data": {
      "text/plain": [
       "'apple.....'"
      ]
     },
     "execution_count": 193,
     "metadata": {},
     "output_type": "execute_result"
    }
   ],
   "source": [
    "def pad(string, char, length):\n",
    "    d = length - len(string)\n",
    "    return string + char * d\n",
    "    \n",
    "pad(\"apple\", \".\", 10)"
   ]
  },
  {
   "cell_type": "code",
   "execution_count": 194,
   "id": "34a1eda1-4f81-475b-b3cf-94e60ea29a3e",
   "metadata": {},
   "outputs": [
    {
     "data": {
      "text/plain": [
       "['...emma........',\n",
       " '...olivia......',\n",
       " '...ava.........',\n",
       " '...isabella....',\n",
       " '...sophia......',\n",
       " '...charlotte...',\n",
       " '...mia.........',\n",
       " '...amelia......',\n",
       " '...harper......',\n",
       " '...evelyn......']"
      ]
     },
     "execution_count": 194,
     "metadata": {},
     "output_type": "execute_result"
    }
   ],
   "source": [
    "[pad(\".\"*3+w, \".\", 15) for w in words][:10]"
   ]
  },
  {
   "cell_type": "markdown",
   "id": "3e03e2db-c749-405c-b391-4375546c64b2",
   "metadata": {},
   "source": [
    "Building dataset: \n",
    "\n",
    "Each example is padded with starting symbols (`.`). The number of pad equals to kernal size of conv layer. i.e. when context_size = 4\n",
    "```\n",
    "....emma\n",
    "```\n",
    "\n",
    "And each example is a 1D tensor of size `(seq_length)`, where each elements contains character index."
   ]
  },
  {
   "cell_type": "code",
   "execution_count": 195,
   "id": "42a60db1-b73b-45eb-8cde-3cba4e848091",
   "metadata": {},
   "outputs": [],
   "source": [
    "context_size = 4\n",
    "\n",
    "def char_idx(word):\n",
    "    return [ctoi[c] for c in word]\n",
    "\n",
    "def build_dataset(words):\n",
    "    X = []\n",
    "    Y = []\n",
    "    \n",
    "    for w in words:\n",
    "        x = \".\" * context_size + w\n",
    "        y = w + \".\"\n",
    "        X.append(torch.tensor(char_idx(x)))\n",
    "        Y.append(torch.tensor(char_idx(y)))\n",
    "\n",
    "    return X, Y\n",
    "\n",
    "train_x, train_y = build_dataset(train_wd)\n",
    "valid_x, valid_y = build_dataset(valid_wd)"
   ]
  },
  {
   "cell_type": "code",
   "execution_count": 196,
   "id": "e1e42450-5dc6-4c74-9fc9-fc3d8aea9ee8",
   "metadata": {},
   "outputs": [
    {
     "name": "stdout",
     "output_type": "stream",
     "text": [
      "jaysen\n",
      "tensor([ 0,  0,  0,  0, 10,  1, 25, 19,  5, 14])\n"
     ]
    }
   ],
   "source": [
    "print(train_wd[0])\n",
    "print(train_x[0])"
   ]
  },
  {
   "cell_type": "code",
   "execution_count": 197,
   "id": "a0068046-e4e8-45bb-a53c-c4b1cc6b31f7",
   "metadata": {},
   "outputs": [],
   "source": [
    "class Transpose(torch.nn.Module):\n",
    "    def __init__(self):\n",
    "        super().__init__()\n",
    "        \n",
    "    def forward(self, x):\n",
    "        return x.T\n",
    "    \n",
    "    def string(self):\n",
    "        return \"Transpose\""
   ]
  },
  {
   "cell_type": "code",
   "execution_count": 198,
   "id": "ab0259e1-5db3-40f2-a235-b8a5f9379bbf",
   "metadata": {},
   "outputs": [],
   "source": [
    "class Permute(torch.nn.Module):\n",
    "    def __init__(self, dim):\n",
    "        super().__init__()\n",
    "        self.dim = dim\n",
    "        \n",
    "    def forward(self, x):\n",
    "        return x.permute(self.dim)\n",
    "    \n",
    "    def string(self):\n",
    "        return \"Permute\""
   ]
  },
  {
   "cell_type": "code",
   "execution_count": 199,
   "id": "1d758a8e-6577-4502-ae90-05f87c5816d2",
   "metadata": {},
   "outputs": [],
   "source": [
    "class Inspect(torch.nn.Module):\n",
    "    def __init__(self):\n",
    "        super().__init__()\n",
    "\n",
    "    def forward(self, x):\n",
    "        self.x = x\n",
    "        return x"
   ]
  },
  {
   "cell_type": "code",
   "execution_count": 200,
   "id": "8d643f89-fa40-442e-a4bd-a86d8a613ac0",
   "metadata": {},
   "outputs": [],
   "source": [
    "@torch.no_grad()\n",
    "def eval_split():\n",
    "    lossi = []\n",
    "    for x, y in zip(valid_x, valid_y):\n",
    "        logits = model(x)\n",
    "        loss = F.cross_entropy(logits, y)\n",
    "        lossi.append(loss.item())\n",
    "        \n",
    "    return torch.tensor(lossi).mean()"
   ]
  },
  {
   "cell_type": "markdown",
   "id": "fd1da677-ec0c-4c76-8242-43331ccc8d87",
   "metadata": {},
   "source": [
    "The input size is: `word_length + 3`\n",
    "\n",
    "- After 1st conv: `word_length + 2`\n",
    "- After 2nd conv: `word_length + 1`\n",
    "- After 2nd conv: `word_length`\n"
   ]
  },
  {
   "cell_type": "code",
   "execution_count": 202,
   "id": "126a81ec-ddb4-4ddf-bda1-d5c332969131",
   "metadata": {},
   "outputs": [
    {
     "name": "stdout",
     "output_type": "stream",
     "text": [
      "97059\n"
     ]
    }
   ],
   "source": [
    "embed_size = 24\n",
    "hidden_size = 256\n",
    "\n",
    "# input (seq)\n",
    "model = nn.Sequential(\n",
    "    nn.Embedding(vocab_size, embed_size), # (seq, embed)\n",
    "    Transpose(), # (embed, seq)\n",
    "\n",
    "    # num of conv layer = context_size - 1\n",
    "    nn.Conv1d(in_channels=embed_size, out_channels=256, kernel_size=2), # (hidden, seq)\n",
    "    nn.Tanh(),\n",
    "\n",
    "    nn.Conv1d(in_channels=256, out_channels=128, kernel_size=2), # (hidden, seq)\n",
    "    nn.Tanh(),\n",
    "\n",
    "    nn.Conv1d(in_channels=128, out_channels=64, kernel_size=2), # (hidden, seq)\n",
    "    nn.Tanh(),\n",
    "\n",
    "    Transpose(), # (seq, hidden)\n",
    "    \n",
    "    nn.Linear(64, vocab_size),\n",
    ")\n",
    "\n",
    "for p in model.parameters():\n",
    "    p.requires_grad = True\n",
    "    \n",
    "print(sum((p.nelement() for p in model.parameters())))"
   ]
  },
  {
   "cell_type": "code",
   "execution_count": null,
   "id": "fc0e0af4-1a8b-4775-a10a-fad635dc28fd",
   "metadata": {},
   "outputs": [
    {
     "name": "stdout",
     "output_type": "stream",
     "text": [
      "3.4028\n",
      "2.3480\n",
      "2.2626\n",
      "2.2460\n",
      "2.2394\n",
      "2.2301\n",
      "2.2225\n",
      "2.2138\n",
      "2.2177\n",
      "2.2106\n",
      "2.2102\n",
      "2.2121\n",
      "2.1982\n",
      "2.1997\n",
      "2.2033\n",
      "2.1979\n",
      "2.1926\n",
      "2.1950\n",
      "2.2047\n",
      "2.1938\n",
      "2.1969\n",
      "2.1962\n",
      "2.1873\n",
      "2.1899\n",
      "2.1862\n",
      "2.1955\n",
      "2.1903\n",
      "2.1802\n",
      "2.1906\n",
      "2.1883\n",
      "2.1891\n",
      "2.1780\n",
      "2.1847\n",
      "2.1801\n",
      "2.1814\n",
      "2.1853\n",
      "2.1824\n",
      "2.1811\n",
      "2.1821\n",
      "2.1794\n",
      "2.1799\n",
      "2.1823\n",
      "2.1798\n",
      "2.1815\n",
      "2.1820\n",
      "2.1849\n",
      "2.1764\n"
     ]
    }
   ],
   "source": [
    "import random\n",
    "\n",
    "optimizer = torch.optim.Adam(model.parameters())\n",
    "lossi = []\n",
    "\n",
    "for _ in range(20):\n",
    "    ds = list(zip(train_x, train_y))\n",
    "    random.shuffle(ds)\n",
    "    \n",
    "    for x, y in ds:\n",
    "        optimizer.zero_grad()\n",
    "        \n",
    "        logits = model(x)    \n",
    "        loss = F.cross_entropy(logits, y)\n",
    "        loss.backward()\n",
    "\n",
    "        optimizer.step()\n",
    "        lossi.append(loss.item())\n",
    "\n",
    "        if len(lossi) % 10000 == 1:\n",
    "            avg = torch.tensor(lossi[-10000:]).mean()\n",
    "            print(f\"{avg:.4f}\")"
   ]
  },
  {
   "cell_type": "code",
   "execution_count": null,
   "id": "41a7ccd5-c017-4f78-90ae-f20d874ba491",
   "metadata": {},
   "outputs": [],
   "source": [
    "valid_loss = eval_split()\n",
    "print(f\"train: {torch.tensor(lossi[-10000:]).mean():.4f}\")\n",
    "print(f\"valid: {valid_loss:.4f}\")\n",
    "print(f\"baseline (random):: { -torch.tensor(1/26).log() }\")"
   ]
  },
  {
   "cell_type": "code",
   "execution_count": 183,
   "id": "37ada57c-9919-4313-b201-a6041dd992d4",
   "metadata": {},
   "outputs": [
    {
     "data": {
      "text/plain": [
       "[<matplotlib.lines.Line2D at 0x15d6bde10>]"
      ]
     },
     "execution_count": 183,
     "metadata": {},
     "output_type": "execute_result"
    },
    {
     "data": {
      "image/png": "[encoded data removed]",
      "text/plain": [
       "<Figure size 640x480 with 1 Axes>"
      ]
     },
     "metadata": {},
     "output_type": "display_data"
    }
   ],
   "source": [
    "bucket = 1000\n",
    "clip = len(lossi) - (len(lossi) % bucket)\n",
    "\n",
    "l = torch.tensor(lossi[0:clip])\n",
    "l = l.view(-1, bucket).mean(1)\n",
    "plt.plot(l)"
   ]
  },
  {
   "cell_type": "markdown",
   "id": "13344b9f-c8ad-4164-9f1c-7055173e44b2",
   "metadata": {},
   "source": [
    "#### Log\n",
    "\n",
    "Single example stocastic gradient\n",
    "- train: 2.2232\n",
    "- valid: 2.2155\n",
    "  \n",
    "Mini-batch gradient descent (embed_size: 16, hidden_size: 64)\n",
    "- train: 2.0666\n",
    "- valid: 2.1058\n",
    "\n",
    "3 layer casual conv (kernel = 4, 3 conv layer, embed_size = 10, hidden_size = 128)\n",
    "- train: 2.1893\n",
    "- valid: 2.1989"
   ]
  },
  {
   "cell_type": "code",
   "execution_count": 188,
   "id": "7b575ce3-f27d-42e6-be7c-6a3794cf305a",
   "metadata": {},
   "outputs": [
    {
     "name": "stdout",
     "output_type": "stream",
     "text": [
      "keega\n",
      "jazayushus\n",
      "jaiox\n",
      "nohley\n",
      "leitemisa\n",
      "pamonna\n",
      "asenter\n",
      "xiana\n",
      "naisa\n",
      "hhanis\n"
     ]
    }
   ],
   "source": [
    "for _ in range(10):\n",
    "    sample = [0] * context_size\n",
    "\n",
    "    while(True):\n",
    "        ctx = sample[-context_size:] \n",
    "        ctx = torch.tensor(ctx)\n",
    "        logits = model(ctx) # (1, 27)\n",
    "        prob = F.softmax(logits, 1).view(-1)\n",
    "        idx = torch.multinomial(prob, 1).item()\n",
    "        sample.append(idx)\n",
    "\n",
    "        if idx == 0 or len(sample) > 50:\n",
    "            break\n",
    "\n",
    "    word = \"\".join([itoc[idx] for idx in sample[context_size:-1]])\n",
    "    print(word)"
   ]
  },
  {
   "cell_type": "code",
   "execution_count": null,
   "id": "9062a871-7820-403a-a472-47ce4a842c7f",
   "metadata": {},
   "outputs": [],
   "source": []
  }
 ],
 "metadata": {
  "kernelspec": {
   "display_name": "Python 3 (ipykernel)",
   "language": "python",
   "name": "python3"
  },
  "language_info": {
   "codemirror_mode": {
    "name": "ipython",
    "version": 3
   },
   "file_extension": ".py",
   "mimetype": "text/x-python",
   "name": "python",
   "nbconvert_exporter": "python",
   "pygments_lexer": "ipython3",
   "version": "3.10.8"
  }
 },
 "nbformat": 4,
 "nbformat_minor": 5
}
