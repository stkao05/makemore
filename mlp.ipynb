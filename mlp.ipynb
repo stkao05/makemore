{
 "cells": [
  {
   "cell_type": "code",
   "execution_count": 1,
   "id": "0667992d-62e4-46bd-a14e-0fcc3589c207",
   "metadata": {},
   "outputs": [],
   "source": [
    "import torch\n",
    "import torch.nn.functional as F\n",
    "from torch.utils.data import random_split\n",
    "from matplotlib import pyplot as plt\n",
    "from tqdm import tqdm"
   ]
  },
  {
   "cell_type": "code",
   "execution_count": 2,
   "id": "f5e9c2ec-8f77-4519-a3de-e91a9d60899e",
   "metadata": {},
   "outputs": [],
   "source": [
    "# NOTE: for some reason mps is much slower than cpu. commented off for now\n",
    "\n",
    "# if torch.backends.mps.is_built() and torch.backends.mps.is_available():\n",
    "#     device = torch.device(\"mps\")\n",
    "# else:\n",
    "#     device = torch.device(\"cpu\")\n",
    "\n",
    "device = torch.device(\"cpu\")"
   ]
  },
  {
   "cell_type": "code",
   "execution_count": 3,
   "id": "60e1a562-8a89-4e53-838c-5e2a83d04587",
   "metadata": {},
   "outputs": [
    {
     "data": {
      "text/plain": [
       "['emma', 'olivia', 'ava', 'isabella', 'sophia']"
      ]
     },
     "execution_count": 3,
     "metadata": {},
     "output_type": "execute_result"
    }
   ],
   "source": [
    "with open(\"names.txt\", \"r\") as f:\n",
    "    names = [_.strip() for _ in f.readlines()]\n",
    "\n",
    "names[0:5]"
   ]
  },
  {
   "cell_type": "code",
   "execution_count": 4,
   "id": "84a2ff83-8736-454f-8c34-c0e8e40f9dd8",
   "metadata": {},
   "outputs": [
    {
     "data": {
      "text/plain": [
       "32033"
      ]
     },
     "execution_count": 4,
     "metadata": {},
     "output_type": "execute_result"
    }
   ],
   "source": [
    "len(names)"
   ]
  },
  {
   "cell_type": "code",
   "execution_count": 5,
   "id": "c9f8eee3-8f4e-4d40-bcfe-4bcd9a249de6",
   "metadata": {},
   "outputs": [
    {
     "data": {
      "text/plain": [
       "['.', 'a', 'b', 'c', 'd']"
      ]
     },
     "execution_count": 5,
     "metadata": {},
     "output_type": "execute_result"
    }
   ],
   "source": [
    "chars = list(set(\"\".join(names)))\n",
    "chars.sort()\n",
    "chars.insert(0, \".\")\n",
    "\n",
    "chars[0:5]"
   ]
  },
  {
   "cell_type": "code",
   "execution_count": 6,
   "id": "fce669b3-837d-4803-8017-26b555995c22",
   "metadata": {},
   "outputs": [
    {
     "data": {
      "text/plain": [
       "{'.': 0,\n",
       " 'a': 1,\n",
       " 'b': 2,\n",
       " 'c': 3,\n",
       " 'd': 4,\n",
       " 'e': 5,\n",
       " 'f': 6,\n",
       " 'g': 7,\n",
       " 'h': 8,\n",
       " 'i': 9,\n",
       " 'j': 10,\n",
       " 'k': 11,\n",
       " 'l': 12,\n",
       " 'm': 13,\n",
       " 'n': 14,\n",
       " 'o': 15,\n",
       " 'p': 16,\n",
       " 'q': 17,\n",
       " 'r': 18,\n",
       " 's': 19,\n",
       " 't': 20,\n",
       " 'u': 21,\n",
       " 'v': 22,\n",
       " 'w': 23,\n",
       " 'x': 24,\n",
       " 'y': 25,\n",
       " 'z': 26}"
      ]
     },
     "execution_count": 6,
     "metadata": {},
     "output_type": "execute_result"
    }
   ],
   "source": [
    "ctoi = {c:i for i, c in enumerate(chars)}\n",
    "itoc = {i:c for i, c in enumerate(chars)}\n",
    "\n",
    "ctoi"
   ]
  },
  {
   "cell_type": "code",
   "execution_count": 7,
   "id": "f9b326b3-6bc8-4834-b755-5f45224fe77a",
   "metadata": {},
   "outputs": [
    {
     "data": {
      "text/plain": [
       "(torch.Size([228146, 3]), torch.Size([228146]))"
      ]
     },
     "execution_count": 7,
     "metadata": {},
     "output_type": "execute_result"
    }
   ],
   "source": [
    "ctx_size=3\n",
    "\n",
    "def create_ds(names):\n",
    "    X = [] # (m, 3)\n",
    "    Y = [] # (m)\n",
    "\n",
    "    for s in names:\n",
    "        s = s + \".\"\n",
    "        ctx = [0] * ctx_size\n",
    "        for c in s:\n",
    "            ix = ctoi[c]\n",
    "            X.append(ctx)\n",
    "            Y.append(ix)\n",
    "            ctx = list(ctx[1:])\n",
    "            ctx.append(ix)\n",
    "\n",
    "    X = torch.tensor(X, device=device)\n",
    "    Y = torch.tensor(Y, device=device)\n",
    "    return X, Y\n",
    "\n",
    "X, Y = create_ds(names)\n",
    "X.shape, Y.shape"
   ]
  },
  {
   "cell_type": "code",
   "execution_count": 8,
   "id": "590ce610-e218-4237-ac07-9084b26d214e",
   "metadata": {},
   "outputs": [
    {
     "data": {
      "text/plain": [
       "tensor([[ 0,  0,  0],\n",
       "        [ 0,  0,  5],\n",
       "        [ 0,  5, 13],\n",
       "        [ 5, 13, 13],\n",
       "        [13, 13,  1]])"
      ]
     },
     "execution_count": 8,
     "metadata": {},
     "output_type": "execute_result"
    }
   ],
   "source": [
    "X[0:5]"
   ]
  },
  {
   "cell_type": "code",
   "execution_count": 9,
   "id": "4769c5a2-0d86-44ad-9c5c-6dc516235155",
   "metadata": {},
   "outputs": [
    {
     "data": {
      "text/plain": [
       "'emma'"
      ]
     },
     "execution_count": 9,
     "metadata": {},
     "output_type": "execute_result"
    }
   ],
   "source": [
    "names[0]"
   ]
  },
  {
   "cell_type": "code",
   "execution_count": 10,
   "id": "2b53b443-c942-49ec-9f2e-90c8d34134ea",
   "metadata": {},
   "outputs": [
    {
     "data": {
      "text/plain": [
       "[5, 13, 13, 1]"
      ]
     },
     "execution_count": 10,
     "metadata": {},
     "output_type": "execute_result"
    }
   ],
   "source": [
    "[ctoi[c] for c in names[0]]"
   ]
  },
  {
   "cell_type": "code",
   "execution_count": 11,
   "id": "1d4691fb-d2dc-42da-8289-787e46aa51f9",
   "metadata": {},
   "outputs": [],
   "source": [
    "[train, dev, test] = random_split(names, [0.8, 0.1, 0.1])\n",
    "x_train, y_train = create_ds(train)\n",
    "x_dev, y_dev = create_ds(dev)\n",
    "x_test, y_test = create_ds(test)"
   ]
  },
  {
   "cell_type": "code",
   "execution_count": 12,
   "id": "d4fa8e7b-faf9-4b08-a04f-3fde4d6667ec",
   "metadata": {},
   "outputs": [
    {
     "data": {
      "text/plain": [
       "6197"
      ]
     },
     "execution_count": 12,
     "metadata": {},
     "output_type": "execute_result"
    }
   ],
   "source": [
    "g = torch.Generator().manual_seed(2147483647)\n",
    "\n",
    "def init_params(emb_size=10, hidden_size=100):\n",
    "    C  = torch.randn((27, emb_size),                      generator=g)\n",
    "    W1 = torch.randn((emb_size * ctx_size, hidden_size),  generator=g) * ((5/3) / (emb_size * ctx_size)**0.5)\n",
    "    W2 = torch.randn((hidden_size, 27),                   generator=g) * 0.01\n",
    "    b2 = torch.randn((27),                                generator=g) * 0\n",
    "    \n",
    "    bn_gain = torch.ones(1, hidden_size)\n",
    "    bn_bias = torch.zeros(1, hidden_size)\n",
    "    bn_mean = torch.zeros(1, hidden_size)\n",
    "    bn_std = torch.ones(1, hidden_size)\n",
    "    \n",
    "    params = [C, W1, W2, b2, bn_gain, bn_bias]\n",
    "    for p in params:\n",
    "        p.requires_grad = True\n",
    "    \n",
    "    return params, [bn_mean, bn_std]\n",
    "\n",
    "params = init_params()\n",
    "sum([_.nelement() for _ in params[0]])"
   ]
  },
  {
   "cell_type": "code",
   "execution_count": 13,
   "id": "bff722a4-740c-49b3-9698-ceed8ddef89e",
   "metadata": {},
   "outputs": [],
   "source": [
    "def forward(x, y, params, test=False):\n",
    "    C, W1, W2, b2, bn_gain, bn_bias = params[0]\n",
    "    bn_mean, bn_std = params[1]\n",
    "    ctx_size = x.shape[1]\n",
    "    emb_size = C.shape[1]\n",
    "    \n",
    "    emb = C[x].view(-1, emb_size * ctx_size)\n",
    "    \n",
    "    pre = emb @ W1   \n",
    "    # batch norm\n",
    "    mean = pre.mean(0, keepdim=True)\n",
    "    std = pre.std(0, keepdim=True)\n",
    "    pre = (pre - mean) / std\n",
    "    pre = bn_gain * pre + bn_bias\n",
    "    \n",
    "    with torch.no_grad():\n",
    "        bn_mean.data = 0.999 * bn_mean + 0.001 * mean\n",
    "        bn_std.data = 0.999 * bn_std + 0.001 * std\n",
    "    \n",
    "    h = pre.tanh()\n",
    "    \n",
    "    logits = h @ W2 + b2\n",
    "    loss = F.cross_entropy(logits, y)\n",
    "    \n",
    "    return loss"
   ]
  },
  {
   "cell_type": "code",
   "execution_count": 14,
   "id": "ae5a2d10-2ab8-4aab-b1d8-d3e7a0073102",
   "metadata": {},
   "outputs": [],
   "source": [
    "batch_size = 32\n",
    "\n",
    "def fit(params, lr, epoch):\n",
    "    history = []\n",
    "    \n",
    "    for t in range(epoch):\n",
    "        ix = torch.randint(0, x_train.shape[0], (batch_size,), device=device)\n",
    "        x = x_train[ix]\n",
    "        y = y_train[ix]\n",
    "\n",
    "        for p in params[0]:\n",
    "            p.grad = None\n",
    "\n",
    "        loss = forward(x, y, params)\n",
    "        loss.backward()\n",
    "        history.append(loss.item())\n",
    "\n",
    "        for p in params[0]:\n",
    "            p.data -= lr * p.grad\n",
    "        \n",
    "        if t > 10000:\n",
    "            lr = 0.01\n",
    "    \n",
    "    return history"
   ]
  },
  {
   "cell_type": "code",
   "execution_count": 15,
   "id": "f5e20a8a-cef0-4693-b3c0-f5d7b14d3500",
   "metadata": {},
   "outputs": [
    {
     "data": {
      "text/plain": [
       "2.3675777912139893"
      ]
     },
     "execution_count": 15,
     "metadata": {},
     "output_type": "execute_result"
    }
   ],
   "source": [
    "params = init_params()\n",
    "history = fit(params, 0.1, 60000)\n",
    "history[-1]"
   ]
  },
  {
   "cell_type": "code",
   "execution_count": 16,
   "id": "24394643-f4be-4c9a-957c-18dd2e9b8dc1",
   "metadata": {},
   "outputs": [
    {
     "data": {
      "image/png": "[encoded data removed]",
      "text/plain": [
       "<Figure size 640x480 with 1 Axes>"
      ]
     },
     "metadata": {},
     "output_type": "display_data"
    }
   ],
   "source": [
    "plt.plot(history);"
   ]
  },
  {
   "cell_type": "code",
   "execution_count": 17,
   "id": "83190977-465e-4919-b113-2006b36916b3",
   "metadata": {},
   "outputs": [],
   "source": [
    "def eval_dataset(params, x, y):\n",
    "    with torch.no_grad():\n",
    "        C, W1, W2, b2, bn_gain, bn_bias = params[0]\n",
    "        bn_mean, bn_std = params[1]\n",
    "        ctx_size = x.shape[1]\n",
    "        emb_size = C.shape[1]\n",
    "\n",
    "        emb = C[x].view(-1, emb_size * ctx_size)\n",
    "\n",
    "        pre = emb @ W1  \n",
    "        # batch norm\n",
    "        pre = (pre - bn_mean) / bn_std\n",
    "        pre = bn_gain * pre + bn_bias\n",
    "        h = pre.tanh()\n",
    "\n",
    "        logits = h @ W2 + b2\n",
    "        loss = F.cross_entropy(logits, y).item()\n",
    "        return loss"
   ]
  },
  {
   "cell_type": "code",
   "execution_count": 18,
   "id": "ba344847-f92a-4aa6-b9be-31e3ceb1894d",
   "metadata": {},
   "outputs": [
    {
     "data": {
      "text/plain": [
       "2.1981852054595947"
      ]
     },
     "execution_count": 18,
     "metadata": {},
     "output_type": "execute_result"
    }
   ],
   "source": [
    "eval_dataset(params, x_dev, y_dev)"
   ]
  },
  {
   "cell_type": "code",
   "execution_count": 19,
   "id": "657b7d1e-99e2-4284-9495-cc2351032f2e",
   "metadata": {},
   "outputs": [
    {
     "name": "stdout",
     "output_type": "stream",
     "text": [
      "dem\n",
      "kasiien\n",
      "savi\n",
      "adija\n",
      "casty\n",
      "alie\n",
      "wyrolia\n",
      "zavant\n",
      "miusal\n",
      "kiau\n",
      "anakanra\n",
      "xtam\n",
      "maccis\n",
      "idanna\n",
      "corten\n",
      "luleyh\n",
      "bren\n",
      "gleriysharthaneamerisson\n",
      "jaytu\n",
      "nykar\n"
     ]
    }
   ],
   "source": [
    "def sample():\n",
    "    C, W1, W2, b2, bn_gain, bn_bias = params[0]\n",
    "    bn_mean, bn_std = params[1]\n",
    "    ctx_size = 3\n",
    "    emb_size = C.shape[1]\n",
    "    sampl = [0] * ctx_size\n",
    "    \n",
    "    with torch.no_grad():\n",
    "        for _ in range(1000):\n",
    "            x = torch.tensor([sampl[-3:]])\n",
    "            emb = C[x].view(-1, emb_size * ctx_size)\n",
    "\n",
    "            pre = emb @ W1   \n",
    "            # batch norm\n",
    "            pre = (pre - bn_mean) / bn_std\n",
    "            pre = bn_gain * pre + bn_bias\n",
    "            h = pre.tanh()\n",
    "            \n",
    "            logits = h @ W2 + b2\n",
    "            prob = F.softmax(logits, dim=1)\n",
    "            prob = prob[0]\n",
    "            ix = torch.multinomial(prob, 1).item()\n",
    "            sampl.append(ix)\n",
    "\n",
    "            if ix == 0:\n",
    "                break;\n",
    "\n",
    "    return \"\".join([itoc[ix] for ix in sampl[3:-1]])\n",
    "\n",
    "for _ in range(20):\n",
    "    print(sample())"
   ]
  },
  {
   "cell_type": "code",
   "execution_count": null,
   "id": "b67273da-3184-4f6d-b5d5-33d282d1e268",
   "metadata": {},
   "outputs": [],
   "source": []
  }
 ],
 "metadata": {
  "kernelspec": {
   "display_name": "Python 3 (ipykernel)",
   "language": "python",
   "name": "python3"
  },
  "language_info": {
   "codemirror_mode": {
    "name": "ipython",
    "version": 3
   },
   "file_extension": ".py",
   "mimetype": "text/x-python",
   "name": "python",
   "nbconvert_exporter": "python",
   "pygments_lexer": "ipython3",
   "version": "3.10.8"
  }
 },
 "nbformat": 4,
 "nbformat_minor": 5
}
