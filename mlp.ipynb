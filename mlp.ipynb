{
 "cells": [
  {
   "cell_type": "code",
   "execution_count": 1,
   "id": "0667992d-62e4-46bd-a14e-0fcc3589c207",
   "metadata": {},
   "outputs": [],
   "source": [
    "import torch\n",
    "import torch.nn.functional as F\n",
    "from torch.utils.data import random_split\n",
    "from matplotlib import pyplot as plt\n",
    "from tqdm import tqdm"
   ]
  },
  {
   "cell_type": "code",
   "execution_count": 2,
   "id": "f5e9c2ec-8f77-4519-a3de-e91a9d60899e",
   "metadata": {},
   "outputs": [],
   "source": [
    "# NOTE: for some reason mps is much slower than cpu. commented off for now\n",
    "\n",
    "# if torch.backends.mps.is_built() and torch.backends.mps.is_available():\n",
    "#     device = torch.device(\"mps\")\n",
    "# else:\n",
    "#     device = torch.device(\"cpu\")\n",
    "\n",
    "device = torch.device(\"cpu\")"
   ]
  },
  {
   "cell_type": "code",
   "execution_count": 3,
   "id": "60e1a562-8a89-4e53-838c-5e2a83d04587",
   "metadata": {},
   "outputs": [
    {
     "data": {
      "text/plain": [
       "['emma', 'olivia', 'ava', 'isabella', 'sophia']"
      ]
     },
     "execution_count": 3,
     "metadata": {},
     "output_type": "execute_result"
    }
   ],
   "source": [
    "with open(\"names.txt\", \"r\") as f:\n",
    "    names = [_.strip() for _ in f.readlines()]\n",
    "\n",
    "names[0:5]"
   ]
  },
  {
   "cell_type": "code",
   "execution_count": 4,
   "id": "84a2ff83-8736-454f-8c34-c0e8e40f9dd8",
   "metadata": {},
   "outputs": [
    {
     "data": {
      "text/plain": [
       "32033"
      ]
     },
     "execution_count": 4,
     "metadata": {},
     "output_type": "execute_result"
    }
   ],
   "source": [
    "len(names)"
   ]
  },
  {
   "cell_type": "code",
   "execution_count": 5,
   "id": "c9f8eee3-8f4e-4d40-bcfe-4bcd9a249de6",
   "metadata": {},
   "outputs": [
    {
     "data": {
      "text/plain": [
       "['.', 'a', 'b', 'c', 'd']"
      ]
     },
     "execution_count": 5,
     "metadata": {},
     "output_type": "execute_result"
    }
   ],
   "source": [
    "chars = list(set(\"\".join(names)))\n",
    "chars.sort()\n",
    "chars.insert(0, \".\")\n",
    "\n",
    "chars[0:5]"
   ]
  },
  {
   "cell_type": "code",
   "execution_count": 6,
   "id": "fce669b3-837d-4803-8017-26b555995c22",
   "metadata": {},
   "outputs": [
    {
     "data": {
      "text/plain": [
       "{'.': 0,\n",
       " 'a': 1,\n",
       " 'b': 2,\n",
       " 'c': 3,\n",
       " 'd': 4,\n",
       " 'e': 5,\n",
       " 'f': 6,\n",
       " 'g': 7,\n",
       " 'h': 8,\n",
       " 'i': 9,\n",
       " 'j': 10,\n",
       " 'k': 11,\n",
       " 'l': 12,\n",
       " 'm': 13,\n",
       " 'n': 14,\n",
       " 'o': 15,\n",
       " 'p': 16,\n",
       " 'q': 17,\n",
       " 'r': 18,\n",
       " 's': 19,\n",
       " 't': 20,\n",
       " 'u': 21,\n",
       " 'v': 22,\n",
       " 'w': 23,\n",
       " 'x': 24,\n",
       " 'y': 25,\n",
       " 'z': 26}"
      ]
     },
     "execution_count": 6,
     "metadata": {},
     "output_type": "execute_result"
    }
   ],
   "source": [
    "ctoi = {c:i for i, c in enumerate(chars)}\n",
    "itoc = {i:c for i, c in enumerate(chars)}\n",
    "\n",
    "ctoi"
   ]
  },
  {
   "cell_type": "code",
   "execution_count": 7,
   "id": "f9b326b3-6bc8-4834-b755-5f45224fe77a",
   "metadata": {},
   "outputs": [
    {
     "data": {
      "text/plain": [
       "(torch.Size([228146, 3]), torch.Size([228146]))"
      ]
     },
     "execution_count": 7,
     "metadata": {},
     "output_type": "execute_result"
    }
   ],
   "source": [
    "ctx_size=3\n",
    "\n",
    "def create_ds(names):\n",
    "    X = [] # (m, 3)\n",
    "    Y = [] # (m)\n",
    "\n",
    "    for s in names:\n",
    "        s = s + \".\"\n",
    "        ctx = [0] * ctx_size\n",
    "        for c in s:\n",
    "            ix = ctoi[c]\n",
    "            X.append(ctx)\n",
    "            Y.append(ix)\n",
    "            ctx = list(ctx[1:])\n",
    "            ctx.append(ix)\n",
    "\n",
    "    X = torch.tensor(X, device=device)\n",
    "    Y = torch.tensor(Y, device=device)\n",
    "    return X, Y\n",
    "\n",
    "X, Y = create_ds(names)\n",
    "X.shape, Y.shape"
   ]
  },
  {
   "cell_type": "code",
   "execution_count": 8,
   "id": "590ce610-e218-4237-ac07-9084b26d214e",
   "metadata": {},
   "outputs": [
    {
     "data": {
      "text/plain": [
       "tensor([[ 0,  0,  0],\n",
       "        [ 0,  0,  5],\n",
       "        [ 0,  5, 13],\n",
       "        [ 5, 13, 13],\n",
       "        [13, 13,  1]])"
      ]
     },
     "execution_count": 8,
     "metadata": {},
     "output_type": "execute_result"
    }
   ],
   "source": [
    "X[0:5]"
   ]
  },
  {
   "cell_type": "code",
   "execution_count": 9,
   "id": "4769c5a2-0d86-44ad-9c5c-6dc516235155",
   "metadata": {},
   "outputs": [
    {
     "data": {
      "text/plain": [
       "'emma'"
      ]
     },
     "execution_count": 9,
     "metadata": {},
     "output_type": "execute_result"
    }
   ],
   "source": [
    "names[0]"
   ]
  },
  {
   "cell_type": "code",
   "execution_count": 10,
   "id": "2b53b443-c942-49ec-9f2e-90c8d34134ea",
   "metadata": {},
   "outputs": [
    {
     "data": {
      "text/plain": [
       "[5, 13, 13, 1]"
      ]
     },
     "execution_count": 10,
     "metadata": {},
     "output_type": "execute_result"
    }
   ],
   "source": [
    "[ctoi[c] for c in names[0]]"
   ]
  },
  {
   "cell_type": "code",
   "execution_count": 11,
   "id": "1d4691fb-d2dc-42da-8289-787e46aa51f9",
   "metadata": {},
   "outputs": [],
   "source": [
    "[train, dev, test] = random_split(names, [0.8, 0.1, 0.1])\n",
    "x_train, y_train = create_ds(train)\n",
    "x_dev, y_dev = create_ds(dev)\n",
    "x_test, y_test = create_ds(test)"
   ]
  },
  {
   "cell_type": "code",
   "execution_count": 12,
   "id": "d4fa8e7b-faf9-4b08-a04f-3fde4d6667ec",
   "metadata": {},
   "outputs": [
    {
     "data": {
      "text/plain": [
       "6097"
      ]
     },
     "execution_count": 12,
     "metadata": {},
     "output_type": "execute_result"
    }
   ],
   "source": [
    "def init_params(emb_size=10, hidden_size=100):\n",
    "    C = torch.randn(27, emb_size, device=device)\n",
    "    W1 = torch.randn(emb_size * ctx_size, hidden_size, device=device)\n",
    "    b1 = torch.randn(hidden_size, device=device)\n",
    "    W2 = torch.randn(hidden_size, 27, device=device)\n",
    "    b2 = torch.randn(27, device=device)\n",
    "    params = [C, W1, b1, W2, b2]\n",
    "\n",
    "    for p in params:\n",
    "        p.requires_grad = True\n",
    "    \n",
    "    return params\n",
    "\n",
    "params = init_params()\n",
    "sum([_.nelement() for _ in params])"
   ]
  },
  {
   "cell_type": "code",
   "execution_count": 40,
   "id": "bff722a4-740c-49b3-9698-ceed8ddef89e",
   "metadata": {},
   "outputs": [],
   "source": [
    "def forward(x, y, params, weight_decay=0):\n",
    "    C, W1, b1, W2, b2 = params\n",
    "    ctx_size = x.shape[1]\n",
    "    emb_size = C.shape[1]\n",
    "    \n",
    "    emb = C[x].view(-1, emb_size * ctx_size)\n",
    "    h = emb @ W1 + b1\n",
    "    h = h.tanh()\n",
    "    h = h @ W2 + b2\n",
    "    l2 = weight_decay * ((W1**2).mean() + (W2**2).mean())\n",
    "    loss = F.cross_entropy(h, y) + l2\n",
    "    return loss"
   ]
  },
  {
   "cell_type": "code",
   "execution_count": 14,
   "id": "664d10e1-ce2e-47d3-b037-2c057072e137",
   "metadata": {},
   "outputs": [],
   "source": [
    "import math\n",
    "def exp_decay(t, start_lr, lr_decay):\n",
    "    k = 0.00001\n",
    "    lr = start_lr * math.exp(-lr_decay*t)\n",
    "    return lr"
   ]
  },
  {
   "cell_type": "code",
   "execution_count": 41,
   "id": "ae5a2d10-2ab8-4aab-b1d8-d3e7a0073102",
   "metadata": {},
   "outputs": [],
   "source": [
    "batch_size = 32\n",
    "\n",
    "def fit(params, lr, epoch, loss_train=True, loss_dev=True, lr_decay=0, weight_decay=0):\n",
    "    C, W1, b1, W2, b2 = params\n",
    "    start_lr = lr\n",
    "    \n",
    "    for t in range(epoch):\n",
    "        ix = torch.randint(0, x_train.shape[0], (batch_size,), device=device)\n",
    "        x = x_train[ix]\n",
    "        y = y_train[ix]\n",
    "\n",
    "        for p in params:\n",
    "            p.grad = None\n",
    "\n",
    "        loss = forward(x, y, params, weight_decay)\n",
    "        loss.backward()\n",
    "\n",
    "        for p in params:\n",
    "            p.data -= lr * p.grad\n",
    "        \n",
    "        lr = exp_decay(t, start_lr, lr_decay)\n",
    "\n",
    "    with torch.no_grad():\n",
    "        loss_tr = forward(x_train, y_train, params).item() if loss_train else None\n",
    "        loss_d = forward(x_dev, y_dev, params).item() if loss_dev else None\n",
    "    \n",
    "    return loss_tr, loss_d"
   ]
  },
  {
   "cell_type": "code",
   "execution_count": 45,
   "id": "96444bb8-4eb4-4eb4-bd10-1ade1179660d",
   "metadata": {},
   "outputs": [
    {
     "name": "stdout",
     "output_type": "stream",
     "text": [
      "CPU times: user 2.18 s, sys: 350 ms, total: 2.53 s\n",
      "Wall time: 2.15 s\n"
     ]
    },
    {
     "data": {
      "text/plain": [
       "(2.4052846431732178, 2.429896354675293)"
      ]
     },
     "execution_count": 45,
     "metadata": {},
     "output_type": "execute_result"
    }
   ],
   "source": [
    "%%time\n",
    "params = init_params()\n",
    "fit(params, 0.1, 10000, weight_decay=0)"
   ]
  },
  {
   "cell_type": "code",
   "execution_count": 51,
   "id": "f5e20a8a-cef0-4693-b3c0-f5d7b14d3500",
   "metadata": {},
   "outputs": [
    {
     "name": "stdout",
     "output_type": "stream",
     "text": [
      "CPU times: user 2.15 s, sys: 354 ms, total: 2.5 s\n",
      "Wall time: 2.18 s\n"
     ]
    },
    {
     "data": {
      "text/plain": [
       "(2.3903732299804688, 2.397217035293579)"
      ]
     },
     "execution_count": 51,
     "metadata": {},
     "output_type": "execute_result"
    }
   ],
   "source": [
    "%%time\n",
    "params = init_params()\n",
    "fit(params, 0.1, 10000, weight_decay=0.1)"
   ]
  },
  {
   "cell_type": "markdown",
   "id": "1edb991c-9302-40c4-b12c-146b952e1a10",
   "metadata": {
    "tags": []
   },
   "source": [
    "## Learning Rate Search"
   ]
  },
  {
   "cell_type": "code",
   "execution_count": 72,
   "id": "9a9c12f7-18ab-4a1d-89a5-c684d0a1bf06",
   "metadata": {},
   "outputs": [],
   "source": [
    "def try_ls(lr):\n",
    "    params = init_params(emb_size=10, hidden_size=100)\n",
    "    _, loss_d = fit(params, lr, 10000, loss_train=False, loss_dev=True)\n",
    "    return loss_d"
   ]
  },
  {
   "cell_type": "code",
   "execution_count": null,
   "id": "612cd5a9-5905-4eb1-acf7-20a2e83e6fe9",
   "metadata": {},
   "outputs": [],
   "source": [
    "lrs = torch.linspace(-8, 0, steps=100).exp()\n",
    "len(lrs)"
   ]
  },
  {
   "cell_type": "code",
   "execution_count": null,
   "id": "2b86a588-74fa-4a65-8f8f-b1b3213b3dab",
   "metadata": {},
   "outputs": [],
   "source": [
    "loss = [try_ls(lr) for lr in tqdm(lrs)]"
   ]
  },
  {
   "cell_type": "code",
   "execution_count": 76,
   "id": "a3d79a12-9a1e-4d53-b813-09aaa2bc3a8c",
   "metadata": {},
   "outputs": [
    {
     "data": {
      "text/plain": [
       "(tensor(0.1128), 2.3968825340270996)"
      ]
     },
     "execution_count": 76,
     "metadata": {},
     "output_type": "execute_result"
    }
   ],
   "source": [
    "min(zip(lrs, loss), key=lambda k:k[1])"
   ]
  },
  {
   "cell_type": "code",
   "execution_count": 75,
   "id": "928a2108-5449-48b3-9069-442dcae3bceb",
   "metadata": {},
   "outputs": [
    {
     "data": {
      "text/plain": [
       "[<matplotlib.lines.Line2D at 0x11a373d90>]"
      ]
     },
     "execution_count": 75,
     "metadata": {},
     "output_type": "execute_result"
    },
    {
     "data": {
      "image/png": "[encoded data removed]",
      "text/plain": [
       "<Figure size 640x480 with 1 Axes>"
      ]
     },
     "metadata": {},
     "output_type": "display_data"
    }
   ],
   "source": [
    "plt.plot(lrs, loss)"
   ]
  },
  {
   "cell_type": "markdown",
   "id": "c9a65c9e-6ac4-4d47-9fe4-5187c68a591d",
   "metadata": {},
   "source": [
    "Further narrow down the choice"
   ]
  },
  {
   "cell_type": "code",
   "execution_count": 80,
   "id": "29d18832-8611-4d68-b2e4-e53147f08ad2",
   "metadata": {},
   "outputs": [
    {
     "data": {
      "text/plain": [
       "100"
      ]
     },
     "execution_count": 80,
     "metadata": {},
     "output_type": "execute_result"
    }
   ],
   "source": [
    "lrs = torch.linspace(-5, -1.5, steps=100).exp()\n",
    "len(lrs)"
   ]
  },
  {
   "cell_type": "code",
   "execution_count": 97,
   "id": "43210c5a-0c53-4e09-b3cf-cc6be5ebd03a",
   "metadata": {},
   "outputs": [
    {
     "name": "stderr",
     "output_type": "stream",
     "text": [
      "100%|███████████████████████████████████████████████████████████████████████████████████████████████████████████████████████████████████████████| 100/100 [02:26<00:00,  1.46s/it]\n"
     ]
    },
    {
     "data": {
      "text/plain": [
       "(tensor(0.0720), 2.3719685077667236)"
      ]
     },
     "execution_count": 97,
     "metadata": {},
     "output_type": "execute_result"
    }
   ],
   "source": [
    "loss = [try_ls(lr) for lr in tqdm(lrs)]\n",
    "min(zip(lrs, loss), key=lambda k:k[1])"
   ]
  },
  {
   "cell_type": "code",
   "execution_count": 99,
   "id": "ce2b85fe-a5e3-46d0-853a-79f3a0902a0e",
   "metadata": {},
   "outputs": [
    {
     "data": {
      "text/plain": [
       "[<matplotlib.lines.Line2D at 0x11af9b820>]"
      ]
     },
     "execution_count": 99,
     "metadata": {},
     "output_type": "execute_result"
    },
    {
     "data": {
      "image/png": "[encoded data removed]",
      "text/plain": [
       "<Figure size 640x480 with 1 Axes>"
      ]
     },
     "metadata": {},
     "output_type": "display_data"
    }
   ],
   "source": [
    "plt.plot(lrs, loss)"
   ]
  },
  {
   "cell_type": "markdown",
   "id": "a890f2cd-feb6-4baa-843c-3db4f82e2139",
   "metadata": {
    "tags": []
   },
   "source": [
    "## Hyper-Parameter Search"
   ]
  },
  {
   "cell_type": "code",
   "execution_count": null,
   "id": "744b5df7-38f2-49ef-825e-0d86aef9318e",
   "metadata": {},
   "outputs": [],
   "source": [
    "emb_sizes = range(2, 30, 1)\n",
    "hidden_sizes = range(50, 200, 5)\n",
    "\n",
    "def try_param(embed_size, hidden_size):\n",
    "    params = init_params(embed_size, hidden_size)\n",
    "    loss_t, loss_d = fit(params, 0.07, 10000)\n",
    "    return loss_t, loss_d\n",
    "\n",
    "result = []\n",
    "param_set = [(e, h) for e in emb_sizes for h in hidden_sizes]\n",
    "\n",
    "for (e, h) in tqdm(param_set):\n",
    "    loss_t, loss_d = try_param(e, h)\n",
    "    result.append([e, h, loss_t, loss_d])"
   ]
  },
  {
   "cell_type": "code",
   "execution_count": null,
   "id": "e98b030d-0084-4184-bd5c-d30402eab609",
   "metadata": {},
   "outputs": [],
   "source": [
    "min(result, key = lambda k: k[3])"
   ]
  },
  {
   "cell_type": "code",
   "execution_count": null,
   "id": "6268cdc2-8350-4103-bc8f-d15a9eb06a94",
   "metadata": {},
   "outputs": [],
   "source": [
    "xs = [_[0] for _ in result]\n",
    "ys = [_[1] for _ in result]\n",
    "zs = [_[3] for _ in result]\n",
    "\n",
    "fig = plt.figure()\n",
    "ax = fig.add_subplot(projection='3d')\n",
    "ax.scatter(xs, ys, zs)\n",
    "ax.set_xlabel('embed')\n",
    "ax.set_ylabel('hidden')\n",
    "ax.set_zlabel('dev loss')"
   ]
  },
  {
   "cell_type": "markdown",
   "id": "cc203074-4590-48bb-9cec-ce2a926dc594",
   "metadata": {},
   "source": [
    "## Train Final Model"
   ]
  },
  {
   "cell_type": "code",
   "execution_count": 58,
   "id": "d2682a1f-bc44-42dd-9592-6fcb583f232b",
   "metadata": {},
   "outputs": [
    {
     "name": "stdout",
     "output_type": "stream",
     "text": [
      "(2.3165130615234375, 2.3506438732147217)\n",
      "(2.140200138092041, 2.18611741065979)\n",
      "(2.125206708908081, 2.1707088947296143)\n",
      "(2.123655080795288, 2.169198989868164)\n"
     ]
    }
   ],
   "source": [
    "params = init_params(10, 200)\n",
    "print(fit(params, 0.1, 100000))\n",
    "print(fit(params, 0.01, 100000))\n",
    "print(fit(params, 0.001, 100000))\n",
    "print(fit(params, 0.0001, 100000))"
   ]
  },
  {
   "cell_type": "code",
   "execution_count": 52,
   "id": "9f2a04a9-4062-49f7-9c3b-abecb0bfe763",
   "metadata": {},
   "outputs": [
    {
     "name": "stdout",
     "output_type": "stream",
     "text": [
      "(2.246365785598755, 2.279864549636841)\n",
      "(2.0950675010681152, 2.1339190006256104)\n",
      "(2.084526777267456, 2.1259031295776367)\n",
      "(2.0832579135894775, 2.1244590282440186)\n"
     ]
    }
   ],
   "source": [
    "params = init_params(10, 200)\n",
    "print(fit(params, 0.1, 100000, weight_decay=0.1))\n",
    "print(fit(params, 0.01, 100000, weight_decay=0.1))\n",
    "print(fit(params, 0.001, 100000, weight_decay=0.1))\n",
    "print(fit(params, 0.0001, 100000, weight_decay=0.1))"
   ]
  },
  {
   "cell_type": "code",
   "execution_count": 57,
   "id": "657b7d1e-99e2-4284-9495-cc2351032f2e",
   "metadata": {},
   "outputs": [
    {
     "name": "stdout",
     "output_type": "stream",
     "text": [
      "kivahadiai\n",
      "yam\n",
      "elinnelayatasie\n",
      "shayles\n",
      "aleen\n",
      "netvanne\n",
      "jaelino\n",
      "artez\n",
      "ahmie\n",
      "lina\n",
      "nashina\n",
      "kadeya\n",
      "kywbi\n",
      "kemkeston\n",
      "arie\n",
      "tyantira\n",
      "dumi\n",
      "ales\n",
      "jase\n",
      "zny\n"
     ]
    }
   ],
   "source": [
    "def sample():\n",
    "    C, W1, b1, W2, b2 = params\n",
    "    sp = [0] * ctx_size\n",
    "    emb_size = C.shape[1]\n",
    "\n",
    "    for _ in range(1000):\n",
    "        x = torch.tensor([sp[-3:]])\n",
    "        emb = C[x].view(-1, emb_size * ctx_size)\n",
    "        h = emb @ W1 + b1\n",
    "        h = h.tanh()\n",
    "        h = h @ W2 + b2\n",
    "        prob = F.softmax(h, dim=1)\n",
    "        prob = prob[0]\n",
    "        ix = torch.multinomial(prob, 1).item()\n",
    "        sp.append(ix)\n",
    "\n",
    "        if ix == 0:\n",
    "            break;\n",
    "\n",
    "    return \"\".join([itoc[ix] for ix in sp[3:-1]])\n",
    "\n",
    "for _ in range(20):\n",
    "    print(sample())"
   ]
  },
  {
   "cell_type": "code",
   "execution_count": null,
   "id": "a0ae8e04-7e52-43cf-b949-71fbffbe08ee",
   "metadata": {},
   "outputs": [],
   "source": [
    "forward(x_test, y_test, params, weight_decay=0):"
   ]
  }
 ],
 "metadata": {
  "kernelspec": {
   "display_name": "Python 3 (ipykernel)",
   "language": "python",
   "name": "python3"
  },
  "language_info": {
   "codemirror_mode": {
    "name": "ipython",
    "version": 3
   },
   "file_extension": ".py",
   "mimetype": "text/x-python",
   "name": "python",
   "nbconvert_exporter": "python",
   "pygments_lexer": "ipython3",
   "version": "3.10.8"
  }
 },
 "nbformat": 4,
 "nbformat_minor": 5
}
